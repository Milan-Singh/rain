{
 "cells": [
  {
   "cell_type": "code",
   "execution_count": 1,
   "metadata": {
    "collapsed": false
   },
   "outputs": [],
   "source": [
    "from __future__ import absolute_import, division, print_function, unicode_literals\n",
    "import numpy as np\n",
    "import pandas as pd\n",
    "import matplotlib.pyplot as plt\n",
    "import plotly.plotly as py\n",
    "from datetime import datetime\n",
    "%matplotlib inline"
   ]
  },
  {
   "cell_type": "markdown",
   "metadata": {},
   "source": [
    "## This notebook will take the raw file from mwrd on river reversals, parse it, examine it, and write it to a CSV.  The pdf is located [here](http://www.mwrd.org/irj/go/km/docs/documents/MWRD/internet/protecting_the_environment/Combined_Sewer_Overflows/pdfs/Reversals.pdf), which was then copied into a text file, cleaned up, and placed in the file in the next cell."
   ]
  },
  {
   "cell_type": "code",
   "execution_count": 2,
   "metadata": {
    "collapsed": false
   },
   "outputs": [
    {
     "data": {
      "text/plain": [
       "['6/15-16/2015',\n",
       " '0',\n",
       " '997.5 ',\n",
       " '167.2 ',\n",
       " '1164.7',\n",
       " '6/30-7/1/14',\n",
       " '0',\n",
       " '362.0 ',\n",
       " '163.0 ',\n",
       " '525.0',\n",
       " '4/18-19/13 ',\n",
       " '3185.6 ',\n",
       " '6104.7 ',\n",
       " '1429.2 ',\n",
       " '10719.5']"
      ]
     },
     "execution_count": 2,
     "metadata": {},
     "output_type": "execute_result"
    }
   ],
   "source": [
    "rows = open('data/reversals_raw_mwrd.txt', 'r').read().split('\\n');\n",
    "rows[:15]"
   ]
  },
  {
   "cell_type": "code",
   "execution_count": 3,
   "metadata": {
    "collapsed": false
   },
   "outputs": [
    {
     "name": "stdout",
     "output_type": "stream",
     "text": [
      "Number of events found: 29.0\n"
     ]
    }
   ],
   "source": [
    "# We are expecting 29 events, each represented by 5 rows\n",
    "num_events = len(rows)/5\n",
    "print(\"Number of events found: %s\" % str(num_events))"
   ]
  },
  {
   "cell_type": "code",
   "execution_count": 7,
   "metadata": {
    "collapsed": false
   },
   "outputs": [
    {
     "name": "stdout",
     "output_type": "stream",
     "text": [
      "4/18-5/1/13\n"
     ]
    },
    {
     "data": {
      "text/plain": [
       "{'end_date': datetime.datetime(2013, 5, 1, 0, 0),\n",
       " 'start_date': datetime.datetime(2013, 4, 18, 0, 0),\n",
       " 'year': 2013}"
      ]
     },
     "execution_count": 7,
     "metadata": {},
     "output_type": "execute_result"
    }
   ],
   "source": [
    "# MWRD gives us the date in many formats.  Normalize it.\n",
    "def normalize_date(date_str):\n",
    "    date_split = date_str.split('/')\n",
    "    end_month = None    \n",
    "    end_day = None\n",
    "    day = date_split[1]\n",
    "    if '-' in day:\n",
    "        start_day = day.split('-')[0]\n",
    "        if len(date_split) == 3:\n",
    "            end_day = day.split('-')[1]\n",
    "        else:\n",
    "            end_month = day.split('-')[1]\n",
    "            end_day = date_split[2]\n",
    "    else:\n",
    "        start_day = day\n",
    "    year = int(date_split[-1])\n",
    "    if year < 1985:\n",
    "        if year > 20:\n",
    "            year = '19%s' % year\n",
    "        elif year > 9:\n",
    "            year = '20%s' % year\n",
    "        else:\n",
    "            year = '200%s' % year\n",
    "    start_date = datetime(int(year), int(date_split[0]), int(start_day))\n",
    "    end_date = None\n",
    "    if end_day is not None:\n",
    "        if end_month is not None:\n",
    "            end_date = datetime(int(year), int(end_month), int(end_day))\n",
    "        else:\n",
    "            end_date = datetime(int(year), int(date_split[0]), int(end_day))\n",
    "    return{'start_date': start_date, 'end_date': end_date,\n",
    "            'year': int(year)}\n",
    "date_str = '4/18-5/1/13'\n",
    "print(date_str)\n",
    "normalize_date(date_str)"
   ]
  },
  {
   "cell_type": "code",
   "execution_count": 10,
   "metadata": {
    "collapsed": false
   },
   "outputs": [
    {
     "data": {
      "text/plain": [
       "[{'crcw': 997.5,\n",
       "  'date_raw': '6/15-16/2015',\n",
       "  'end_date': datetime.datetime(2015, 6, 16, 0, 0),\n",
       "  'obrien': 0.0,\n",
       "  'start_date': datetime.datetime(2015, 6, 15, 0, 0),\n",
       "  'total': 1164.7,\n",
       "  'wilmette': 167.2,\n",
       "  'year': 2015},\n",
       " {'crcw': 362.0,\n",
       "  'date_raw': '6/30-7/1/14',\n",
       "  'end_date': datetime.datetime(2014, 7, 1, 0, 0),\n",
       "  'obrien': 0.0,\n",
       "  'start_date': datetime.datetime(2014, 6, 30, 0, 0),\n",
       "  'total': 525.0,\n",
       "  'wilmette': 163.0,\n",
       "  'year': 2014},\n",
       " {'crcw': 6104.7,\n",
       "  'date_raw': '4/18-19/13 ',\n",
       "  'end_date': datetime.datetime(2013, 4, 19, 0, 0),\n",
       "  'obrien': 3185.6,\n",
       "  'start_date': datetime.datetime(2013, 4, 18, 0, 0),\n",
       "  'total': 10719.5,\n",
       "  'wilmette': 1429.2,\n",
       "  'year': 2013}]"
      ]
     },
     "execution_count": 10,
     "metadata": {},
     "output_type": "execute_result"
    }
   ],
   "source": [
    "# Build a dict with the attributes in the raw file, which come in 5 row blocks\n",
    "events = []\n",
    "for i in range(int(num_events)):\n",
    "    date_str = rows[(i*5)]\n",
    "    normalized_date = normalize_date(date_str)\n",
    "    events.append({\n",
    "                'date_raw': date_str,\n",
    "                'obrien': float(rows[(i*5) + 1].strip()),\n",
    "                'crcw': float(rows[(i*5) + 2].strip()),\n",
    "                'wilmette': float(rows[(i*5) + 3].strip()),\n",
    "                'total': float(rows[(i*5) + 4].strip()),\n",
    "                'start_date': normalized_date['start_date'],\n",
    "                'end_date': normalized_date['end_date'],\n",
    "                'year': normalized_date['year'],\n",
    "            \n",
    "    })\n",
    "events[:3]"
   ]
  },
  {
   "cell_type": "code",
   "execution_count": 11,
   "metadata": {
    "collapsed": false
   },
   "outputs": [
    {
     "data": {
      "text/html": [
       "<div>\n",
       "<table border=\"1\" class=\"dataframe\">\n",
       "  <thead>\n",
       "    <tr style=\"text-align: right;\">\n",
       "      <th></th>\n",
       "      <th>crcw</th>\n",
       "      <th>date_raw</th>\n",
       "      <th>end_date</th>\n",
       "      <th>obrien</th>\n",
       "      <th>start_date</th>\n",
       "      <th>total</th>\n",
       "      <th>wilmette</th>\n",
       "      <th>year</th>\n",
       "    </tr>\n",
       "  </thead>\n",
       "  <tbody>\n",
       "    <tr>\n",
       "      <th>0</th>\n",
       "      <td>997.5</td>\n",
       "      <td>6/15-16/2015</td>\n",
       "      <td>2015-06-16</td>\n",
       "      <td>0.0</td>\n",
       "      <td>2015-06-15</td>\n",
       "      <td>1164.7</td>\n",
       "      <td>167.2</td>\n",
       "      <td>2015</td>\n",
       "    </tr>\n",
       "    <tr>\n",
       "      <th>1</th>\n",
       "      <td>362.0</td>\n",
       "      <td>6/30-7/1/14</td>\n",
       "      <td>2014-07-01</td>\n",
       "      <td>0.0</td>\n",
       "      <td>2014-06-30</td>\n",
       "      <td>525.0</td>\n",
       "      <td>163.0</td>\n",
       "      <td>2014</td>\n",
       "    </tr>\n",
       "    <tr>\n",
       "      <th>2</th>\n",
       "      <td>6104.7</td>\n",
       "      <td>4/18-19/13</td>\n",
       "      <td>2013-04-19</td>\n",
       "      <td>3185.6</td>\n",
       "      <td>2013-04-18</td>\n",
       "      <td>10719.5</td>\n",
       "      <td>1429.2</td>\n",
       "      <td>2013</td>\n",
       "    </tr>\n",
       "    <tr>\n",
       "      <th>3</th>\n",
       "      <td>1716.2</td>\n",
       "      <td>7/24/2011</td>\n",
       "      <td>NaT</td>\n",
       "      <td>0.0</td>\n",
       "      <td>2011-07-24</td>\n",
       "      <td>2220.5</td>\n",
       "      <td>504.3</td>\n",
       "      <td>2011</td>\n",
       "    </tr>\n",
       "    <tr>\n",
       "      <th>4</th>\n",
       "      <td>0.0</td>\n",
       "      <td>5/29/2011</td>\n",
       "      <td>NaT</td>\n",
       "      <td>0.0</td>\n",
       "      <td>2011-05-29</td>\n",
       "      <td>107.0</td>\n",
       "      <td>107.0</td>\n",
       "      <td>2011</td>\n",
       "    </tr>\n",
       "  </tbody>\n",
       "</table>\n",
       "</div>"
      ],
      "text/plain": [
       "     crcw      date_raw   end_date  obrien start_date    total  wilmette  year\n",
       "0   997.5  6/15-16/2015 2015-06-16     0.0 2015-06-15   1164.7     167.2  2015\n",
       "1   362.0   6/30-7/1/14 2014-07-01     0.0 2014-06-30    525.0     163.0  2014\n",
       "2  6104.7   4/18-19/13  2013-04-19  3185.6 2013-04-18  10719.5    1429.2  2013\n",
       "3  1716.2    7/24/2011         NaT     0.0 2011-07-24   2220.5     504.3  2011\n",
       "4     0.0    5/29/2011         NaT     0.0 2011-05-29    107.0     107.0  2011"
      ]
     },
     "execution_count": 11,
     "metadata": {},
     "output_type": "execute_result"
    }
   ],
   "source": [
    "# Create dataframe with CSOs from river reversal here.  From this point forward, CSO refers to CSOs into the lake only.\n",
    "csos = pd.DataFrame(events)\n",
    "csos.head()"
   ]
  },
  {
   "cell_type": "code",
   "execution_count": 12,
   "metadata": {
    "collapsed": false
   },
   "outputs": [
    {
     "name": "stdout",
     "output_type": "stream",
     "text": [
      "{1985: 2, 1986: 1, 1987: 2, 1989: 1, 1990: 3, 1996: 1, 1997: 2, 1999: 1, 2001: 3, 2002: 1, 2007: 1, 2008: 2, 2009: 3, 2010: 1, 2011: 2, 2013: 1, 2014: 1, 2015: 1}\n"
     ]
    }
   ],
   "source": [
    "# Let's see the number of CSOs by year\n",
    "csos_by_year = dict(csos['year'].value_counts())\n",
    "print(csos_by_year)"
   ]
  },
  {
   "cell_type": "code",
   "execution_count": 8,
   "metadata": {
    "collapsed": false
   },
   "outputs": [
    {
     "data": {
      "text/plain": [
       "{1985: 2,\n",
       " 1986: 1,\n",
       " 1987: 2,\n",
       " 1988: 0,\n",
       " 1989: 1,\n",
       " 1990: 3,\n",
       " 1991: 0,\n",
       " 1992: 0,\n",
       " 1993: 0,\n",
       " 1994: 0,\n",
       " 1995: 0,\n",
       " 1996: 1,\n",
       " 1997: 2,\n",
       " 1998: 0,\n",
       " 1999: 1,\n",
       " 2000: 0,\n",
       " 2001: 3,\n",
       " 2002: 1,\n",
       " 2003: 0,\n",
       " 2004: 0,\n",
       " 2005: 0,\n",
       " 2006: 0,\n",
       " 2007: 1,\n",
       " 2008: 2,\n",
       " 2009: 3,\n",
       " 2010: 1,\n",
       " 2011: 2,\n",
       " 2012: 0,\n",
       " 2013: 1,\n",
       " 2014: 1,\n",
       " 2015: 1}"
      ]
     },
     "execution_count": 8,
     "metadata": {},
     "output_type": "execute_result"
    }
   ],
   "source": [
    "# Add the years that are missing with 0 CSOs\n",
    "for year in range(1985,2016):\n",
    "    if year not in csos_by_year.keys():\n",
    "        csos_by_year[year] = 0\n",
    "csos_by_year"
   ]
  },
  {
   "cell_type": "code",
   "execution_count": 13,
   "metadata": {
    "collapsed": false
   },
   "outputs": [
    {
     "data": {
      "text/plain": [
       "<Container object of 18 artists>"
      ]
     },
     "execution_count": 13,
     "metadata": {},
     "output_type": "execute_result"
    },
    {
     "data": {
      "image/png": "[encoded data removed]",
      "text/plain": [
       "<matplotlib.figure.Figure at 0x852d780>"
      ]
     },
     "metadata": {},
     "output_type": "display_data"
    }
   ],
   "source": [
    "# Plot the number of CSOs per year\n",
    "plt.bar(csos_by_year.keys(), csos_by_year.values(), 1/1.5, color=\"blue\")"
   ]
  },
  {
   "cell_type": "code",
   "execution_count": 14,
   "metadata": {
    "collapsed": false
   },
   "outputs": [
    {
     "data": {
      "text/plain": [
       "total    45920.4\n",
       "dtype: float64"
      ]
     },
     "execution_count": 14,
     "metadata": {},
     "output_type": "execute_result"
    }
   ],
   "source": [
    "# We have dumped 46 billion gallons of sewage into Lake Michigan since 1985\n",
    "csos[['total']].sum()"
   ]
  },
  {
   "cell_type": "code",
   "execution_count": 15,
   "metadata": {
    "collapsed": false
   },
   "outputs": [
    {
     "data": {
      "text/html": [
       "<div>\n",
       "<table border=\"1\" class=\"dataframe\">\n",
       "  <thead>\n",
       "    <tr style=\"text-align: right;\">\n",
       "      <th></th>\n",
       "      <th>sewage_dumped</th>\n",
       "    </tr>\n",
       "  </thead>\n",
       "  <tbody>\n",
       "    <tr>\n",
       "      <th>crcw</th>\n",
       "      <td>26730.7</td>\n",
       "    </tr>\n",
       "    <tr>\n",
       "      <th>obrien</th>\n",
       "      <td>8568.8</td>\n",
       "    </tr>\n",
       "    <tr>\n",
       "      <th>wilmette</th>\n",
       "      <td>10620.9</td>\n",
       "    </tr>\n",
       "  </tbody>\n",
       "</table>\n",
       "</div>"
      ],
      "text/plain": [
       "          sewage_dumped\n",
       "crcw            26730.7\n",
       "obrien           8568.8\n",
       "wilmette        10620.9"
      ]
     },
     "execution_count": 15,
     "metadata": {},
     "output_type": "execute_result"
    }
   ],
   "source": [
    "# Compare the total sewage dumped per outfall point\n",
    "totals_by_lock = pd.DataFrame(csos[['crcw', 'obrien', 'wilmette']].sum(axis=0), columns=['sewage_dumped'])\n",
    "totals_by_lock"
   ]
  },
  {
   "cell_type": "code",
   "execution_count": 16,
   "metadata": {
    "collapsed": false
   },
   "outputs": [
    {
     "data": {
      "text/plain": [
       "([<matplotlib.patches.Wedge at 0xa5dd4a8>,\n",
       "  <matplotlib.patches.Wedge at 0xa5e1da0>,\n",
       "  <matplotlib.patches.Wedge at 0xa5ef6a0>],\n",
       " [<matplotlib.text.Text at 0xa5e12e8>,\n",
       "  <matplotlib.text.Text at 0xa5eaba8>,\n",
       "  <matplotlib.text.Text at 0xa7164a8>],\n",
       " [<matplotlib.text.Text at 0xa5e1860>,\n",
       "  <matplotlib.text.Text at 0xa5ef160>,\n",
       "  <matplotlib.text.Text at 0xa716a20>])"
      ]
     },
     "execution_count": 16,
     "metadata": {},
     "output_type": "execute_result"
    },
    {
     "data": {
      "image/png": "[encoded data removed]",
      "text/plain": [
       "<matplotlib.figure.Figure at 0x852d208>"
      ]
     },
     "metadata": {},
     "output_type": "display_data"
    }
   ],
   "source": [
    "# Plot the percentage of total sewage dumped, per outfall point\n",
    "plt.pie(totals_by_lock.sewage_dumped.values, labels=totals_by_lock.index.values,\n",
    "                autopct='%1.1f%%', shadow=True, startangle=90)"
   ]
  },
  {
   "cell_type": "code",
   "execution_count": 17,
   "metadata": {
    "collapsed": false
   },
   "outputs": [
    {
     "data": {
      "text/html": [
       "<div>\n",
       "<table border=\"1\" class=\"dataframe\">\n",
       "  <thead>\n",
       "    <tr style=\"text-align: right;\">\n",
       "      <th></th>\n",
       "      <th>crcw</th>\n",
       "      <th>obrien</th>\n",
       "      <th>wilmette</th>\n",
       "    </tr>\n",
       "    <tr>\n",
       "      <th>year</th>\n",
       "      <th></th>\n",
       "      <th></th>\n",
       "      <th></th>\n",
       "    </tr>\n",
       "  </thead>\n",
       "  <tbody>\n",
       "    <tr>\n",
       "      <th>1985</th>\n",
       "      <td>0.0</td>\n",
       "      <td>0.0</td>\n",
       "      <td>211.3</td>\n",
       "    </tr>\n",
       "    <tr>\n",
       "      <th>1986</th>\n",
       "      <td>0.0</td>\n",
       "      <td>0.0</td>\n",
       "      <td>53.0</td>\n",
       "    </tr>\n",
       "    <tr>\n",
       "      <th>1987</th>\n",
       "      <td>986.0</td>\n",
       "      <td>0.0</td>\n",
       "      <td>989.0</td>\n",
       "    </tr>\n",
       "    <tr>\n",
       "      <th>1989</th>\n",
       "      <td>0.0</td>\n",
       "      <td>0.0</td>\n",
       "      <td>52.0</td>\n",
       "    </tr>\n",
       "    <tr>\n",
       "      <th>1990</th>\n",
       "      <td>294.0</td>\n",
       "      <td>224.0</td>\n",
       "      <td>452.5</td>\n",
       "    </tr>\n",
       "  </tbody>\n",
       "</table>\n",
       "</div>"
      ],
      "text/plain": [
       "       crcw  obrien  wilmette\n",
       "year                         \n",
       "1985    0.0     0.0     211.3\n",
       "1986    0.0     0.0      53.0\n",
       "1987  986.0     0.0     989.0\n",
       "1989    0.0     0.0      52.0\n",
       "1990  294.0   224.0     452.5"
      ]
     },
     "execution_count": 17,
     "metadata": {},
     "output_type": "execute_result"
    }
   ],
   "source": [
    "# Find the CSOs per year per outfall point\n",
    "csos_by_year_loc = csos.groupby(['year']).sum()[['crcw', 'obrien', 'wilmette']]\n",
    "csos_by_year_loc.head()"
   ]
  },
  {
   "cell_type": "code",
   "execution_count": 18,
   "metadata": {
    "collapsed": false
   },
   "outputs": [
    {
     "data": {
      "text/plain": [
       "<matplotlib.axes._subplots.AxesSubplot at 0xa5a0a58>"
      ]
     },
     "execution_count": 18,
     "metadata": {},
     "output_type": "execute_result"
    },
    {
     "data": {
      "image/png": "[encoded data removed]",
      "text/plain": [
       "<matplotlib.figure.Figure at 0xa5afa58>"
      ]
     },
     "metadata": {},
     "output_type": "display_data"
    }
   ],
   "source": [
    "# Plot outfall volume per outfall point per year\n",
    "csos_by_year_loc.plot(kind='bar')"
   ]
  },
  {
   "cell_type": "code",
   "execution_count": 19,
   "metadata": {
    "collapsed": true
   },
   "outputs": [],
   "source": [
    "# Create a CSV file for reversals into Lake Michigan\n",
    "csos.to_csv('data/lake_michigan_reversals.csv', index=False)"
   ]
  }
 ],
 "metadata": {
  "kernelspec": {
   "display_name": "Python 3",
   "language": "python",
   "name": "python3"
  },
  "language_info": {
   "codemirror_mode": {
    "name": "ipython",
    "version": 3
   },
   "file_extension": ".py",
   "mimetype": "text/x-python",
   "name": "python",
   "nbconvert_exporter": "python",
   "pygments_lexer": "ipython3",
   "version": "3.5.2"
  }
 },
 "nbformat": 4,
 "nbformat_minor": 1
}
