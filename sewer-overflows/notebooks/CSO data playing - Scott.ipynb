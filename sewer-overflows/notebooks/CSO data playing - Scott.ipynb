{
 "cells": [
  {
   "cell_type": "code",
   "execution_count": 2,
   "metadata": {
    "collapsed": true
   },
   "outputs": [],
   "source": [
    "from __future__ import absolute_import, division, print_function, unicode_literals\n",
    "\n",
    "import pandas as pd\n",
    "import matplotlib.pyplot as plt\n",
    "%matplotlib inline"
   ]
  },
  {
   "cell_type": "code",
   "execution_count": 4,
   "metadata": {
    "collapsed": false
   },
   "outputs": [
    {
     "data": {
      "text/html": [
       "<div>\n",
       "<table border=\"1\" class=\"dataframe\">\n",
       "  <thead>\n",
       "    <tr style=\"text-align: right;\">\n",
       "      <th></th>\n",
       "      <th>Outfall Structure</th>\n",
       "      <th>Outfall Location</th>\n",
       "      <th>Tide Gate #</th>\n",
       "      <th>Waterway Reach</th>\n",
       "      <th>Plant</th>\n",
       "      <th>Open date/time</th>\n",
       "      <th>Close date/time</th>\n",
       "      <th>Gate Open Period</th>\n",
       "    </tr>\n",
       "  </thead>\n",
       "  <tbody>\n",
       "    <tr>\n",
       "      <th>0</th>\n",
       "      <td>DS-N05</td>\n",
       "      <td>Forest Glen Ave (S), West of Cicero</td>\n",
       "      <td>TG1</td>\n",
       "      <td>NBCR Upper (NSC Confluence)</td>\n",
       "      <td>Stickney</td>\n",
       "      <td>2016-04-01 17:54:00</td>\n",
       "      <td>2016-04-01 23:07:00</td>\n",
       "      <td>0 days 05:13:48.000000000</td>\n",
       "    </tr>\n",
       "    <tr>\n",
       "      <th>1</th>\n",
       "      <td>DS-N08</td>\n",
       "      <td>Mango Ave ext. (Leonard &amp; Miltmore) (W)</td>\n",
       "      <td>TG1</td>\n",
       "      <td>NBCR Upper (NSC Confluence)</td>\n",
       "      <td>Stickney</td>\n",
       "      <td>2016-04-01 17:53:00</td>\n",
       "      <td>2016-04-01 19:42:00</td>\n",
       "      <td>0 days 01:48:55.000000000</td>\n",
       "    </tr>\n",
       "    <tr>\n",
       "      <th>2</th>\n",
       "      <td>DS-N10B</td>\n",
       "      <td>Imlay St &amp; Milwaukee (W)</td>\n",
       "      <td>TG1</td>\n",
       "      <td>NBCR Upper (NSC Confluence)</td>\n",
       "      <td>Stickney</td>\n",
       "      <td>2016-04-01 18:10:00</td>\n",
       "      <td>2016-04-01 18:26:00</td>\n",
       "      <td>0 days 00:16:08.000000000</td>\n",
       "    </tr>\n",
       "    <tr>\n",
       "      <th>3</th>\n",
       "      <td>DS-N08</td>\n",
       "      <td>Mango Ave ext. (Leonard &amp; Miltmore) (W)</td>\n",
       "      <td>TG1</td>\n",
       "      <td>NBCR Upper (NSC Confluence)</td>\n",
       "      <td>Stickney</td>\n",
       "      <td>2016-04-01 17:53:00</td>\n",
       "      <td>2016-04-01 19:42:00</td>\n",
       "      <td>0 days 01:48:55.000000000</td>\n",
       "    </tr>\n",
       "    <tr>\n",
       "      <th>4</th>\n",
       "      <td>DS-N05</td>\n",
       "      <td>Forest Glen Ave (S), West of Cicero</td>\n",
       "      <td>TG1</td>\n",
       "      <td>NBCR Upper (NSC Confluence)</td>\n",
       "      <td>Stickney</td>\n",
       "      <td>2016-04-01 17:54:00</td>\n",
       "      <td>2016-04-01 23:07:00</td>\n",
       "      <td>0 days 05:13:48.000000000</td>\n",
       "    </tr>\n",
       "  </tbody>\n",
       "</table>\n",
       "</div>"
      ],
      "text/plain": [
       "  Outfall Structure                         Outfall Location Tide Gate #  \\\n",
       "0            DS-N05      Forest Glen Ave (S), West of Cicero         TG1   \n",
       "1            DS-N08  Mango Ave ext. (Leonard & Miltmore) (W)         TG1   \n",
       "2           DS-N10B                 Imlay St & Milwaukee (W)         TG1   \n",
       "3            DS-N08  Mango Ave ext. (Leonard & Miltmore) (W)         TG1   \n",
       "4            DS-N05      Forest Glen Ave (S), West of Cicero         TG1   \n",
       "\n",
       "                Waterway Reach     Plant       Open date/time  \\\n",
       "0  NBCR Upper (NSC Confluence)  Stickney  2016-04-01 17:54:00   \n",
       "1  NBCR Upper (NSC Confluence)  Stickney  2016-04-01 17:53:00   \n",
       "2  NBCR Upper (NSC Confluence)  Stickney  2016-04-01 18:10:00   \n",
       "3  NBCR Upper (NSC Confluence)  Stickney  2016-04-01 17:53:00   \n",
       "4  NBCR Upper (NSC Confluence)  Stickney  2016-04-01 17:54:00   \n",
       "\n",
       "       Close date/time           Gate Open Period  \n",
       "0  2016-04-01 23:07:00  0 days 05:13:48.000000000  \n",
       "1  2016-04-01 19:42:00  0 days 01:48:55.000000000  \n",
       "2  2016-04-01 18:26:00  0 days 00:16:08.000000000  \n",
       "3  2016-04-01 19:42:00  0 days 01:48:55.000000000  \n",
       "4  2016-04-01 23:07:00  0 days 05:13:48.000000000  "
      ]
     },
     "execution_count": 4,
     "metadata": {},
     "output_type": "execute_result"
    }
   ],
   "source": [
    "csos = pd.read_csv('data/merged_cso_data.csv')\n",
    "csos.head()"
   ]
  },
  {
   "cell_type": "code",
   "execution_count": 7,
   "metadata": {
    "collapsed": false
   },
   "outputs": [
    {
     "data": {
      "text/plain": [
       "Outfall Structure            object\n",
       "Outfall Location             object\n",
       "Tide Gate #                  object\n",
       "Waterway Reach               object\n",
       "Plant                        object\n",
       "Open date/time       datetime64[ns]\n",
       "Close date/time      datetime64[ns]\n",
       "Gate Open Period             object\n",
       "dtype: object"
      ]
     },
     "execution_count": 7,
     "metadata": {},
     "output_type": "execute_result"
    }
   ],
   "source": [
    "csos['Open date/time'] = pd.to_datetime(csos['Open date/time'])\n",
    "csos['Close date/time'] = pd.to_datetime(csos['Close date/time'])\n",
    "csos.dtypes"
   ]
  },
  {
   "cell_type": "code",
   "execution_count": 9,
   "metadata": {
    "collapsed": false
   },
   "outputs": [
    {
     "data": {
      "text/html": [
       "<div>\n",
       "<table border=\"1\" class=\"dataframe\">\n",
       "  <thead>\n",
       "    <tr style=\"text-align: right;\">\n",
       "      <th></th>\n",
       "      <th>Outfall Structure</th>\n",
       "      <th>Outfall Location</th>\n",
       "      <th>Tide Gate #</th>\n",
       "      <th>Waterway Reach</th>\n",
       "      <th>Plant</th>\n",
       "      <th>Open date/time</th>\n",
       "      <th>Close date/time</th>\n",
       "      <th>Gate Open Period</th>\n",
       "      <th>Duration</th>\n",
       "    </tr>\n",
       "  </thead>\n",
       "  <tbody>\n",
       "    <tr>\n",
       "      <th>0</th>\n",
       "      <td>DS-N05</td>\n",
       "      <td>Forest Glen Ave (S), West of Cicero</td>\n",
       "      <td>TG1</td>\n",
       "      <td>NBCR Upper (NSC Confluence)</td>\n",
       "      <td>Stickney</td>\n",
       "      <td>2016-04-01 17:54:00</td>\n",
       "      <td>2016-04-01 23:07:00</td>\n",
       "      <td>0 days 05:13:48.000000000</td>\n",
       "      <td>05:13:00</td>\n",
       "    </tr>\n",
       "    <tr>\n",
       "      <th>1</th>\n",
       "      <td>DS-N08</td>\n",
       "      <td>Mango Ave ext. (Leonard &amp; Miltmore) (W)</td>\n",
       "      <td>TG1</td>\n",
       "      <td>NBCR Upper (NSC Confluence)</td>\n",
       "      <td>Stickney</td>\n",
       "      <td>2016-04-01 17:53:00</td>\n",
       "      <td>2016-04-01 19:42:00</td>\n",
       "      <td>0 days 01:48:55.000000000</td>\n",
       "      <td>01:49:00</td>\n",
       "    </tr>\n",
       "    <tr>\n",
       "      <th>2</th>\n",
       "      <td>DS-N10B</td>\n",
       "      <td>Imlay St &amp; Milwaukee (W)</td>\n",
       "      <td>TG1</td>\n",
       "      <td>NBCR Upper (NSC Confluence)</td>\n",
       "      <td>Stickney</td>\n",
       "      <td>2016-04-01 18:10:00</td>\n",
       "      <td>2016-04-01 18:26:00</td>\n",
       "      <td>0 days 00:16:08.000000000</td>\n",
       "      <td>00:16:00</td>\n",
       "    </tr>\n",
       "    <tr>\n",
       "      <th>3</th>\n",
       "      <td>DS-N08</td>\n",
       "      <td>Mango Ave ext. (Leonard &amp; Miltmore) (W)</td>\n",
       "      <td>TG1</td>\n",
       "      <td>NBCR Upper (NSC Confluence)</td>\n",
       "      <td>Stickney</td>\n",
       "      <td>2016-04-01 17:53:00</td>\n",
       "      <td>2016-04-01 19:42:00</td>\n",
       "      <td>0 days 01:48:55.000000000</td>\n",
       "      <td>01:49:00</td>\n",
       "    </tr>\n",
       "    <tr>\n",
       "      <th>4</th>\n",
       "      <td>DS-N05</td>\n",
       "      <td>Forest Glen Ave (S), West of Cicero</td>\n",
       "      <td>TG1</td>\n",
       "      <td>NBCR Upper (NSC Confluence)</td>\n",
       "      <td>Stickney</td>\n",
       "      <td>2016-04-01 17:54:00</td>\n",
       "      <td>2016-04-01 23:07:00</td>\n",
       "      <td>0 days 05:13:48.000000000</td>\n",
       "      <td>05:13:00</td>\n",
       "    </tr>\n",
       "  </tbody>\n",
       "</table>\n",
       "</div>"
      ],
      "text/plain": [
       "  Outfall Structure                         Outfall Location Tide Gate #  \\\n",
       "0            DS-N05      Forest Glen Ave (S), West of Cicero         TG1   \n",
       "1            DS-N08  Mango Ave ext. (Leonard & Miltmore) (W)         TG1   \n",
       "2           DS-N10B                 Imlay St & Milwaukee (W)         TG1   \n",
       "3            DS-N08  Mango Ave ext. (Leonard & Miltmore) (W)         TG1   \n",
       "4            DS-N05      Forest Glen Ave (S), West of Cicero         TG1   \n",
       "\n",
       "                Waterway Reach     Plant      Open date/time  \\\n",
       "0  NBCR Upper (NSC Confluence)  Stickney 2016-04-01 17:54:00   \n",
       "1  NBCR Upper (NSC Confluence)  Stickney 2016-04-01 17:53:00   \n",
       "2  NBCR Upper (NSC Confluence)  Stickney 2016-04-01 18:10:00   \n",
       "3  NBCR Upper (NSC Confluence)  Stickney 2016-04-01 17:53:00   \n",
       "4  NBCR Upper (NSC Confluence)  Stickney 2016-04-01 17:54:00   \n",
       "\n",
       "      Close date/time           Gate Open Period  Duration  \n",
       "0 2016-04-01 23:07:00  0 days 05:13:48.000000000  05:13:00  \n",
       "1 2016-04-01 19:42:00  0 days 01:48:55.000000000  01:49:00  \n",
       "2 2016-04-01 18:26:00  0 days 00:16:08.000000000  00:16:00  \n",
       "3 2016-04-01 19:42:00  0 days 01:48:55.000000000  01:49:00  \n",
       "4 2016-04-01 23:07:00  0 days 05:13:48.000000000  05:13:00  "
      ]
     },
     "execution_count": 9,
     "metadata": {},
     "output_type": "execute_result"
    }
   ],
   "source": [
    "csos['Duration'] = csos['Close date/time'] - csos['Open date/time']\n",
    "csos.head()"
   ]
  },
  {
   "cell_type": "code",
   "execution_count": 29,
   "metadata": {
    "collapsed": false
   },
   "outputs": [
    {
     "data": {
      "text/plain": [
       "Duration    timedelta64[ns]\n",
       "dtype: object"
      ]
     },
     "execution_count": 29,
     "metadata": {},
     "output_type": "execute_result"
    }
   ],
   "source": [
    "outfall_cumulative = pd.DataFrame(csos.groupby(by=['Outfall Structure'])['Duration'].sum().sort_values(ascending=False))\n",
    "outfall_cumulative.dtypes"
   ]
  },
  {
   "cell_type": "code",
   "execution_count": 30,
   "metadata": {
    "collapsed": false
   },
   "outputs": [
    {
     "ename": "AttributeError",
     "evalue": "'Series' object has no attribute 'days'",
     "output_type": "error",
     "traceback": [
      "\u001b[0;31m---------------------------------------------------------------------------\u001b[0m",
      "\u001b[0;31mAttributeError\u001b[0m                            Traceback (most recent call last)",
      "\u001b[0;32m<ipython-input-30-f1f6a3c59c16>\u001b[0m in \u001b[0;36m<module>\u001b[0;34m()\u001b[0m\n\u001b[0;32m----> 1\u001b[0;31m \u001b[0moutfall_cumulative\u001b[0m\u001b[1;33m[\u001b[0m\u001b[1;34m'Duration_mins'\u001b[0m\u001b[1;33m]\u001b[0m \u001b[1;33m=\u001b[0m \u001b[0moutfall_cumulative\u001b[0m\u001b[1;33m[\u001b[0m\u001b[1;34m'Duration'\u001b[0m\u001b[1;33m]\u001b[0m\u001b[1;33m.\u001b[0m\u001b[0mdays\u001b[0m\u001b[1;33m\u001b[0m\u001b[0m\n\u001b[0m\u001b[1;32m      2\u001b[0m \u001b[0moutfall_total_duration\u001b[0m\u001b[1;33m.\u001b[0m\u001b[0mupdate\u001b[0m\u001b[1;33m(\u001b[0m\u001b[0moutfall_total_duration\u001b[0m\u001b[1;33m.\u001b[0m\u001b[0mdays\u001b[0m\u001b[1;33m)\u001b[0m\u001b[1;33m\u001b[0m\u001b[0m\n",
      "\u001b[0;32md:\\data_science_projects\\chicagorain\\virtualenvs\\nyear-venv\\lib\\site-packages\\pandas\\core\\generic.py\u001b[0m in \u001b[0;36m__getattr__\u001b[0;34m(self, name)\u001b[0m\n\u001b[1;32m   2670\u001b[0m             \u001b[1;32mif\u001b[0m \u001b[0mname\u001b[0m \u001b[1;32min\u001b[0m \u001b[0mself\u001b[0m\u001b[1;33m.\u001b[0m\u001b[0m_info_axis\u001b[0m\u001b[1;33m:\u001b[0m\u001b[1;33m\u001b[0m\u001b[0m\n\u001b[1;32m   2671\u001b[0m                 \u001b[1;32mreturn\u001b[0m \u001b[0mself\u001b[0m\u001b[1;33m[\u001b[0m\u001b[0mname\u001b[0m\u001b[1;33m]\u001b[0m\u001b[1;33m\u001b[0m\u001b[0m\n\u001b[0;32m-> 2672\u001b[0;31m             \u001b[1;32mreturn\u001b[0m \u001b[0mobject\u001b[0m\u001b[1;33m.\u001b[0m\u001b[0m__getattribute__\u001b[0m\u001b[1;33m(\u001b[0m\u001b[0mself\u001b[0m\u001b[1;33m,\u001b[0m \u001b[0mname\u001b[0m\u001b[1;33m)\u001b[0m\u001b[1;33m\u001b[0m\u001b[0m\n\u001b[0m\u001b[1;32m   2673\u001b[0m \u001b[1;33m\u001b[0m\u001b[0m\n\u001b[1;32m   2674\u001b[0m     \u001b[1;32mdef\u001b[0m \u001b[0m__setattr__\u001b[0m\u001b[1;33m(\u001b[0m\u001b[0mself\u001b[0m\u001b[1;33m,\u001b[0m \u001b[0mname\u001b[0m\u001b[1;33m,\u001b[0m \u001b[0mvalue\u001b[0m\u001b[1;33m)\u001b[0m\u001b[1;33m:\u001b[0m\u001b[1;33m\u001b[0m\u001b[0m\n",
      "\u001b[0;31mAttributeError\u001b[0m: 'Series' object has no attribute 'days'"
     ]
    }
   ],
   "source": [
    "outfall_cumulative['Duration_mins'] = outfall_cumulative['Duration'].days\n",
    "outfall_total_duration.update(outfall_total_duration.days)"
   ]
  },
  {
   "cell_type": "code",
   "execution_count": 26,
   "metadata": {
    "collapsed": false
   },
   "outputs": [
    {
     "data": {
      "text/plain": [
       "87"
      ]
     },
     "execution_count": 26,
     "metadata": {},
     "output_type": "execute_result"
    }
   ],
   "source": [
    "outfall_total_duration[0].days"
   ]
  },
  {
   "cell_type": "code",
   "execution_count": null,
   "metadata": {
    "collapsed": true
   },
   "outputs": [],
   "source": []
  }
 ],
 "metadata": {
  "kernelspec": {
   "display_name": "Python 3",
   "language": "python",
   "name": "python3"
  },
  "language_info": {
   "codemirror_mode": {
    "name": "ipython",
    "version": 3
   },
   "file_extension": ".py",
   "mimetype": "text/x-python",
   "name": "python",
   "nbconvert_exporter": "python",
   "pygments_lexer": "ipython3",
   "version": "3.5.2"
  }
 },
 "nbformat": 4,
 "nbformat_minor": 1
}
