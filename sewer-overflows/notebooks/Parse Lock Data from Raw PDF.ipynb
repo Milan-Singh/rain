{
 "cells": [
  {
   "cell_type": "code",
   "execution_count": 10,
   "metadata": {
    "collapsed": false
   },
   "outputs": [],
   "source": [
    "from __future__ import absolute_import, division, print_function, unicode_literals\n",
    "import numpy as np\n",
    "import pandas as pd\n",
    "import matplotlib.pyplot as plt\n",
    "import plotly.plotly as py\n",
    "from datetime import datetime\n",
    "%matplotlib inline"
   ]
  },
  {
   "cell_type": "code",
   "execution_count": 2,
   "metadata": {
    "collapsed": false
   },
   "outputs": [
    {
     "data": {
      "text/plain": [
       "['6/15-16/2015',\n",
       " '0',\n",
       " '997.5 ',\n",
       " '167.2 ',\n",
       " '1164.7',\n",
       " '6/30-7/1/14',\n",
       " '0',\n",
       " '362.0 ',\n",
       " '163.0 ',\n",
       " '525.0',\n",
       " '4/18-19/13 ',\n",
       " '3185.6 ',\n",
       " '6104.7 ',\n",
       " '1429.2 ',\n",
       " '10719.5']"
      ]
     },
     "execution_count": 2,
     "metadata": {},
     "output_type": "execute_result"
    }
   ],
   "source": [
    "rows = open('data/reversals_raw_mwrd.txt', 'r').read().split('\\n');\n",
    "rows[:15]"
   ]
  },
  {
   "cell_type": "code",
   "execution_count": 7,
   "metadata": {
    "collapsed": false
   },
   "outputs": [
    {
     "name": "stdout",
     "output_type": "stream",
     "text": [
      "Number of events found: 29.0\n"
     ]
    }
   ],
   "source": [
    "# We are expecting 29 events, each represented by 5 rows\n",
    "print(\"Number of events found: %s\" % str(len(rows)/5))"
   ]
  },
  {
   "cell_type": "code",
   "execution_count": 39,
   "metadata": {
    "collapsed": false
   },
   "outputs": [
    {
     "name": "stdout",
     "output_type": "stream",
     "text": [
      "4/18-19/13\n"
     ]
    },
    {
     "data": {
      "text/plain": [
       "{'start_date': datetime.datetime(2013, 4, 18, 0, 0), 'year': 2013}"
      ]
     },
     "execution_count": 39,
     "metadata": {},
     "output_type": "execute_result"
    }
   ],
   "source": [
    "# MWRD gives us the date in many formats.  year in many random formats\n",
    "def normalize_date(date_str):\n",
    "    date_split = date_str.split('/')\n",
    "    day = date_split[1]\n",
    "    if '-' in day:\n",
    "        day = day.split('-')[0]\n",
    "    year = int(date_split[-1])\n",
    "    if year < 1985:\n",
    "        if year > 20:\n",
    "            year = '19%s' % year\n",
    "        elif year > 9:\n",
    "            year = '20%s' % year\n",
    "        else:\n",
    "            year = '200%s' % year    \n",
    "    return{'start_date': datetime(int(year), int(date_split[0]), int(day)),\n",
    "            'year': int(year)}\n",
    "date_str = '4/18-19/13'\n",
    "print(date_str)\n",
    "normalize_date(date_str)"
   ]
  },
  {
   "cell_type": "code",
   "execution_count": 40,
   "metadata": {
    "collapsed": false
   },
   "outputs": [
    {
     "data": {
      "text/plain": [
       "[{'crcw': 997.5,\n",
       "  'date_raw': '6/15-16/2015',\n",
       "  'obrien': 0.0,\n",
       "  'start_date': datetime.datetime(2015, 6, 15, 0, 0),\n",
       "  'total': 1164.7,\n",
       "  'wilmette': 167.2,\n",
       "  'year': 2015},\n",
       " {'crcw': 362.0,\n",
       "  'date_raw': '6/30-7/1/14',\n",
       "  'obrien': 0.0,\n",
       "  'start_date': datetime.datetime(2014, 6, 30, 0, 0),\n",
       "  'total': 525.0,\n",
       "  'wilmette': 163.0,\n",
       "  'year': 2014},\n",
       " {'crcw': 6104.7,\n",
       "  'date_raw': '4/18-19/13 ',\n",
       "  'obrien': 3185.6,\n",
       "  'start_date': datetime.datetime(2013, 4, 18, 0, 0),\n",
       "  'total': 10719.5,\n",
       "  'wilmette': 1429.2,\n",
       "  'year': 2013}]"
      ]
     },
     "execution_count": 40,
     "metadata": {},
     "output_type": "execute_result"
    }
   ],
   "source": [
    "events = []\n",
    "for i in range(num_rows):\n",
    "    date_str = rows[(i*5)]\n",
    "    normalized_date = normalize_date(date_str)\n",
    "    events.append({\n",
    "                'date_raw': date_str,\n",
    "                'obrien': float(rows[(i*5) + 1].strip()),\n",
    "                'crcw': float(rows[(i*5) + 2].strip()),\n",
    "                'wilmette': float(rows[(i*5) + 3].strip()),\n",
    "                'total': float(rows[(i*5) + 4].strip()),\n",
    "                'start_date': normalized_date['start_date'],\n",
    "                'year': normalized_date['year'],\n",
    "            \n",
    "    })\n",
    "events[:3]"
   ]
  },
  {
   "cell_type": "code",
   "execution_count": 41,
   "metadata": {
    "collapsed": false
   },
   "outputs": [
    {
     "data": {
      "text/html": [
       "<div>\n",
       "<table border=\"1\" class=\"dataframe\">\n",
       "  <thead>\n",
       "    <tr style=\"text-align: right;\">\n",
       "      <th></th>\n",
       "      <th>crcw</th>\n",
       "      <th>date_raw</th>\n",
       "      <th>obrien</th>\n",
       "      <th>start_date</th>\n",
       "      <th>total</th>\n",
       "      <th>wilmette</th>\n",
       "      <th>year</th>\n",
       "    </tr>\n",
       "  </thead>\n",
       "  <tbody>\n",
       "    <tr>\n",
       "      <th>0</th>\n",
       "      <td>997.5</td>\n",
       "      <td>6/15-16/2015</td>\n",
       "      <td>0.0</td>\n",
       "      <td>2015-06-15</td>\n",
       "      <td>1164.7</td>\n",
       "      <td>167.2</td>\n",
       "      <td>2015</td>\n",
       "    </tr>\n",
       "    <tr>\n",
       "      <th>1</th>\n",
       "      <td>362.0</td>\n",
       "      <td>6/30-7/1/14</td>\n",
       "      <td>0.0</td>\n",
       "      <td>2014-06-30</td>\n",
       "      <td>525.0</td>\n",
       "      <td>163.0</td>\n",
       "      <td>2014</td>\n",
       "    </tr>\n",
       "    <tr>\n",
       "      <th>2</th>\n",
       "      <td>6104.7</td>\n",
       "      <td>4/18-19/13</td>\n",
       "      <td>3185.6</td>\n",
       "      <td>2013-04-18</td>\n",
       "      <td>10719.5</td>\n",
       "      <td>1429.2</td>\n",
       "      <td>2013</td>\n",
       "    </tr>\n",
       "    <tr>\n",
       "      <th>3</th>\n",
       "      <td>1716.2</td>\n",
       "      <td>7/24/2011</td>\n",
       "      <td>0.0</td>\n",
       "      <td>2011-07-24</td>\n",
       "      <td>2220.5</td>\n",
       "      <td>504.3</td>\n",
       "      <td>2011</td>\n",
       "    </tr>\n",
       "    <tr>\n",
       "      <th>4</th>\n",
       "      <td>0.0</td>\n",
       "      <td>5/29/2011</td>\n",
       "      <td>0.0</td>\n",
       "      <td>2011-05-29</td>\n",
       "      <td>107.0</td>\n",
       "      <td>107.0</td>\n",
       "      <td>2011</td>\n",
       "    </tr>\n",
       "  </tbody>\n",
       "</table>\n",
       "</div>"
      ],
      "text/plain": [
       "     crcw      date_raw  obrien start_date    total  wilmette  year\n",
       "0   997.5  6/15-16/2015     0.0 2015-06-15   1164.7     167.2  2015\n",
       "1   362.0   6/30-7/1/14     0.0 2014-06-30    525.0     163.0  2014\n",
       "2  6104.7   4/18-19/13   3185.6 2013-04-18  10719.5    1429.2  2013\n",
       "3  1716.2    7/24/2011      0.0 2011-07-24   2220.5     504.3  2011\n",
       "4     0.0    5/29/2011      0.0 2011-05-29    107.0     107.0  2011"
      ]
     },
     "execution_count": 41,
     "metadata": {},
     "output_type": "execute_result"
    }
   ],
   "source": [
    "csos = pd.DataFrame(events)\n",
    "csos.head()"
   ]
  },
  {
   "cell_type": "code",
   "execution_count": 42,
   "metadata": {
    "collapsed": false
   },
   "outputs": [
    {
     "name": "stdout",
     "output_type": "stream",
     "text": [
      "{1985: 2, 1986: 1, 1987: 2, 1989: 1, 1990: 3, 1996: 1, 1997: 2, 1999: 1, 2001: 3, 2002: 1, 2007: 1, 2008: 2, 2009: 3, 2010: 1, 2011: 2, 2013: 1, 2014: 1, 2015: 1}\n"
     ]
    }
   ],
   "source": [
    "csos_by_year = dict(csos['year'].value_counts())\n",
    "print(csos_by_year)"
   ]
  },
  {
   "cell_type": "code",
   "execution_count": 43,
   "metadata": {
    "collapsed": false
   },
   "outputs": [
    {
     "data": {
      "text/plain": [
       "{1985: 2,\n",
       " 1986: 1,\n",
       " 1987: 2,\n",
       " 1988: 0,\n",
       " 1989: 1,\n",
       " 1990: 3,\n",
       " 1991: 0,\n",
       " 1992: 0,\n",
       " 1993: 0,\n",
       " 1994: 0,\n",
       " 1995: 0,\n",
       " 1996: 1,\n",
       " 1997: 2,\n",
       " 1998: 0,\n",
       " 1999: 1,\n",
       " 2000: 0,\n",
       " 2001: 3,\n",
       " 2002: 1,\n",
       " 2003: 0,\n",
       " 2004: 0,\n",
       " 2005: 0,\n",
       " 2006: 0,\n",
       " 2007: 1,\n",
       " 2008: 2,\n",
       " 2009: 3,\n",
       " 2010: 1,\n",
       " 2011: 2,\n",
       " 2012: 0,\n",
       " 2013: 1,\n",
       " 2014: 1,\n",
       " 2015: 1}"
      ]
     },
     "execution_count": 43,
     "metadata": {},
     "output_type": "execute_result"
    }
   ],
   "source": [
    "for year in range(1985,2016):\n",
    "    if year not in csos_by_year.keys():\n",
    "        csos_by_year[year] = 0\n",
    "csos_by_year"
   ]
  },
  {
   "cell_type": "code",
   "execution_count": 45,
   "metadata": {
    "collapsed": false
   },
   "outputs": [
    {
     "data": {
      "text/plain": [
       "29"
      ]
     },
     "execution_count": 45,
     "metadata": {},
     "output_type": "execute_result"
    }
   ],
   "source": [
    "sum(csos_by_year.values())"
   ]
  },
  {
   "cell_type": "code",
   "execution_count": 46,
   "metadata": {
    "collapsed": false
   },
   "outputs": [
    {
     "data": {
      "text/plain": [
       "<Container object of 31 artists>"
      ]
     },
     "execution_count": 46,
     "metadata": {},
     "output_type": "execute_result"
    },
    {
     "data": {
      "image/png": "[encoded data removed]",
      "text/plain": [
       "<matplotlib.figure.Figure at 0x111980278>"
      ]
     },
     "metadata": {},
     "output_type": "display_data"
    }
   ],
   "source": [
    "width = 1/1.5\n",
    "plt.bar(csos_by_year.keys(), csos_by_year.values(), width, color=\"blue\")"
   ]
  },
  {
   "cell_type": "code",
   "execution_count": 47,
   "metadata": {
    "collapsed": false
   },
   "outputs": [
    {
     "data": {
      "text/plain": [
       "crcw        26730.7\n",
       "obrien       8568.8\n",
       "total       45920.4\n",
       "wilmette    10620.9\n",
       "year        58007.0\n",
       "dtype: float64"
      ]
     },
     "execution_count": 47,
     "metadata": {},
     "output_type": "execute_result"
    }
   ],
   "source": [
    "csos.sum(axis=0)"
   ]
  },
  {
   "cell_type": "code",
   "execution_count": 48,
   "metadata": {
    "collapsed": true
   },
   "outputs": [],
   "source": [
    "# We have dumped 46 billion gallons of sewage into Lake Michigan since 1985"
   ]
  },
  {
   "cell_type": "code",
   "execution_count": null,
   "metadata": {
    "collapsed": true
   },
   "outputs": [],
   "source": []
  }
 ],
 "metadata": {
  "kernelspec": {
   "display_name": "Python 3",
   "language": "python",
   "name": "python3"
  },
  "language_info": {
   "codemirror_mode": {
    "name": "ipython",
    "version": 3
   },
   "file_extension": ".py",
   "mimetype": "text/x-python",
   "name": "python",
   "nbconvert_exporter": "python",
   "pygments_lexer": "ipython3",
   "version": "3.5.2"
  }
 },
 "nbformat": 4,
 "nbformat_minor": 1
}
