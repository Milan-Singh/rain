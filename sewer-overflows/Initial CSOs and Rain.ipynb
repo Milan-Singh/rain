{
 "cells": [
  {
   "cell_type": "code",
   "execution_count": 3,
   "metadata": {
    "collapsed": true
   },
   "outputs": [],
   "source": [
    "from __future__ import absolute_import, division, print_function, unicode_literals\n",
    "\n",
    "import numpy as np\n",
    "import pandas as pd\n",
    "import matplotlib.pyplot as plt\n",
    "import seaborn as sns\n",
    "import os\n",
    "%matplotlib inline"
   ]
  },
  {
   "cell_type": "code",
   "execution_count": 6,
   "metadata": {
    "collapsed": false
   },
   "outputs": [
    {
     "name": "stdout",
     "output_type": "stream",
     "text": [
      "(654539, 5)\n",
      "STATION                 object\n",
      "STATION_NAME            object\n",
      "DATE            datetime64[ns]\n",
      "HOURLYPrecip           float64\n",
      "datetime                object\n",
      "dtype: object\n"
     ]
    },
    {
     "data": {
      "text/html": [
       "<div>\n",
       "<table border=\"1\" class=\"dataframe\">\n",
       "  <thead>\n",
       "    <tr style=\"text-align: right;\">\n",
       "      <th></th>\n",
       "      <th>STATION</th>\n",
       "      <th>STATION_NAME</th>\n",
       "      <th>DATE</th>\n",
       "      <th>HOURLYPrecip</th>\n",
       "      <th>datetime</th>\n",
       "    </tr>\n",
       "  </thead>\n",
       "  <tbody>\n",
       "    <tr>\n",
       "      <th>1946-10-01 01:00:00</th>\n",
       "      <td>WBAN:94846</td>\n",
       "      <td>CHICAGO OHARE INTERNATIONAL AIRPORT IL US</td>\n",
       "      <td>1946-10-01 01:00:00</td>\n",
       "      <td>0.0</td>\n",
       "      <td>1946-10-01 01:00:00</td>\n",
       "    </tr>\n",
       "    <tr>\n",
       "      <th>1946-10-01 02:00:00</th>\n",
       "      <td>WBAN:94846</td>\n",
       "      <td>CHICAGO OHARE INTERNATIONAL AIRPORT IL US</td>\n",
       "      <td>1946-10-01 02:00:00</td>\n",
       "      <td>0.0</td>\n",
       "      <td>1946-10-01 02:00:00</td>\n",
       "    </tr>\n",
       "    <tr>\n",
       "      <th>1946-10-01 03:00:00</th>\n",
       "      <td>WBAN:94846</td>\n",
       "      <td>CHICAGO OHARE INTERNATIONAL AIRPORT IL US</td>\n",
       "      <td>1946-10-01 03:00:00</td>\n",
       "      <td>0.0</td>\n",
       "      <td>1946-10-01 03:00:00</td>\n",
       "    </tr>\n",
       "    <tr>\n",
       "      <th>1946-10-01 04:00:00</th>\n",
       "      <td>WBAN:94846</td>\n",
       "      <td>CHICAGO OHARE INTERNATIONAL AIRPORT IL US</td>\n",
       "      <td>1946-10-01 04:00:00</td>\n",
       "      <td>0.0</td>\n",
       "      <td>1946-10-01 04:00:00</td>\n",
       "    </tr>\n",
       "    <tr>\n",
       "      <th>1946-10-01 05:00:00</th>\n",
       "      <td>WBAN:94846</td>\n",
       "      <td>CHICAGO OHARE INTERNATIONAL AIRPORT IL US</td>\n",
       "      <td>1946-10-01 05:00:00</td>\n",
       "      <td>0.0</td>\n",
       "      <td>1946-10-01 05:00:00</td>\n",
       "    </tr>\n",
       "  </tbody>\n",
       "</table>\n",
       "</div>"
      ],
      "text/plain": [
       "                        STATION                               STATION_NAME  \\\n",
       "1946-10-01 01:00:00  WBAN:94846  CHICAGO OHARE INTERNATIONAL AIRPORT IL US   \n",
       "1946-10-01 02:00:00  WBAN:94846  CHICAGO OHARE INTERNATIONAL AIRPORT IL US   \n",
       "1946-10-01 03:00:00  WBAN:94846  CHICAGO OHARE INTERNATIONAL AIRPORT IL US   \n",
       "1946-10-01 04:00:00  WBAN:94846  CHICAGO OHARE INTERNATIONAL AIRPORT IL US   \n",
       "1946-10-01 05:00:00  WBAN:94846  CHICAGO OHARE INTERNATIONAL AIRPORT IL US   \n",
       "\n",
       "                                   DATE  HOURLYPrecip             datetime  \n",
       "1946-10-01 01:00:00 1946-10-01 01:00:00           0.0  1946-10-01 01:00:00  \n",
       "1946-10-01 02:00:00 1946-10-01 02:00:00           0.0  1946-10-01 02:00:00  \n",
       "1946-10-01 03:00:00 1946-10-01 03:00:00           0.0  1946-10-01 03:00:00  \n",
       "1946-10-01 04:00:00 1946-10-01 04:00:00           0.0  1946-10-01 04:00:00  \n",
       "1946-10-01 05:00:00 1946-10-01 05:00:00           0.0  1946-10-01 05:00:00  "
      ]
     },
     "execution_count": 6,
     "metadata": {},
     "output_type": "execute_result"
    }
   ],
   "source": [
    "root_proj_dir = os.path.dirname(os.getcwd())\n",
    "n_year_data_dir = os.path.join(root_proj_dir, 'n-year', 'notebooks', 'data')\n",
    "\n",
    "rain_df = pd.read_csv(os.path.join(n_year_data_dir, 'ohare_full_precip_hourly.csv'))\n",
    "rain_df['DATE'] = pd.to_datetime(rain_df['DATE'])\n",
    "rain_df = rain_df.set_index(pd.DatetimeIndex(rain_df['DATE']))\n",
    "print(rain_df.shape)\n",
    "print(rain_df.dtypes)\n",
    "rain_df.head()"
   ]
  },
  {
   "cell_type": "code",
   "execution_count": 48,
   "metadata": {
    "collapsed": false
   },
   "outputs": [
    {
     "name": "stdout",
     "output_type": "stream",
     "text": [
      "(10879, 9)\n",
      "Outfall Structure               object\n",
      "Outfall Location                object\n",
      "Tide Gate #                     object\n",
      "Waterway Reach                  object\n",
      "Plant                           object\n",
      "Open date/time          datetime64[ns]\n",
      "Close date/time                 object\n",
      "Gate Open Period       timedelta64[ns]\n",
      "Open Period Seconds            float64\n",
      "dtype: object\n"
     ]
    },
    {
     "data": {
      "text/html": [
       "<div>\n",
       "<table border=\"1\" class=\"dataframe\">\n",
       "  <thead>\n",
       "    <tr style=\"text-align: right;\">\n",
       "      <th></th>\n",
       "      <th>Outfall Structure</th>\n",
       "      <th>Outfall Location</th>\n",
       "      <th>Tide Gate #</th>\n",
       "      <th>Waterway Reach</th>\n",
       "      <th>Plant</th>\n",
       "      <th>Open date/time</th>\n",
       "      <th>Close date/time</th>\n",
       "      <th>Gate Open Period</th>\n",
       "      <th>Open Period Seconds</th>\n",
       "    </tr>\n",
       "  </thead>\n",
       "  <tbody>\n",
       "    <tr>\n",
       "      <th>2016-04-01 17:54:00</th>\n",
       "      <td>DS-N05</td>\n",
       "      <td>Forest Glen Ave (S), West of Cicero</td>\n",
       "      <td>TG1</td>\n",
       "      <td>NBCR Upper (NSC Confluence)</td>\n",
       "      <td>Stickney</td>\n",
       "      <td>2016-04-01 17:54:00</td>\n",
       "      <td>2016-04-01 23:07:00</td>\n",
       "      <td>05:13:48</td>\n",
       "      <td>18828.0</td>\n",
       "    </tr>\n",
       "    <tr>\n",
       "      <th>2016-04-01 17:53:00</th>\n",
       "      <td>DS-N08</td>\n",
       "      <td>Mango Ave ext. (Leonard &amp; Miltmore) (W)</td>\n",
       "      <td>TG1</td>\n",
       "      <td>NBCR Upper (NSC Confluence)</td>\n",
       "      <td>Stickney</td>\n",
       "      <td>2016-04-01 17:53:00</td>\n",
       "      <td>2016-04-01 19:42:00</td>\n",
       "      <td>01:48:55</td>\n",
       "      <td>6535.0</td>\n",
       "    </tr>\n",
       "    <tr>\n",
       "      <th>2016-04-01 18:10:00</th>\n",
       "      <td>DS-N10B</td>\n",
       "      <td>Imlay St &amp; Milwaukee (W)</td>\n",
       "      <td>TG1</td>\n",
       "      <td>NBCR Upper (NSC Confluence)</td>\n",
       "      <td>Stickney</td>\n",
       "      <td>2016-04-01 18:10:00</td>\n",
       "      <td>2016-04-01 18:26:00</td>\n",
       "      <td>00:16:08</td>\n",
       "      <td>968.0</td>\n",
       "    </tr>\n",
       "    <tr>\n",
       "      <th>2016-04-01 17:53:00</th>\n",
       "      <td>DS-N08</td>\n",
       "      <td>Mango Ave ext. (Leonard &amp; Miltmore) (W)</td>\n",
       "      <td>TG1</td>\n",
       "      <td>NBCR Upper (NSC Confluence)</td>\n",
       "      <td>Stickney</td>\n",
       "      <td>2016-04-01 17:53:00</td>\n",
       "      <td>2016-04-01 19:42:00</td>\n",
       "      <td>01:48:55</td>\n",
       "      <td>6535.0</td>\n",
       "    </tr>\n",
       "    <tr>\n",
       "      <th>2016-04-01 17:54:00</th>\n",
       "      <td>DS-N05</td>\n",
       "      <td>Forest Glen Ave (S), West of Cicero</td>\n",
       "      <td>TG1</td>\n",
       "      <td>NBCR Upper (NSC Confluence)</td>\n",
       "      <td>Stickney</td>\n",
       "      <td>2016-04-01 17:54:00</td>\n",
       "      <td>2016-04-01 23:07:00</td>\n",
       "      <td>05:13:48</td>\n",
       "      <td>18828.0</td>\n",
       "    </tr>\n",
       "  </tbody>\n",
       "</table>\n",
       "</div>"
      ],
      "text/plain": [
       "                    Outfall Structure  \\\n",
       "2016-04-01 17:54:00            DS-N05   \n",
       "2016-04-01 17:53:00            DS-N08   \n",
       "2016-04-01 18:10:00           DS-N10B   \n",
       "2016-04-01 17:53:00            DS-N08   \n",
       "2016-04-01 17:54:00            DS-N05   \n",
       "\n",
       "                                            Outfall Location Tide Gate #  \\\n",
       "2016-04-01 17:54:00      Forest Glen Ave (S), West of Cicero         TG1   \n",
       "2016-04-01 17:53:00  Mango Ave ext. (Leonard & Miltmore) (W)         TG1   \n",
       "2016-04-01 18:10:00                 Imlay St & Milwaukee (W)         TG1   \n",
       "2016-04-01 17:53:00  Mango Ave ext. (Leonard & Miltmore) (W)         TG1   \n",
       "2016-04-01 17:54:00      Forest Glen Ave (S), West of Cicero         TG1   \n",
       "\n",
       "                                  Waterway Reach     Plant  \\\n",
       "2016-04-01 17:54:00  NBCR Upper (NSC Confluence)  Stickney   \n",
       "2016-04-01 17:53:00  NBCR Upper (NSC Confluence)  Stickney   \n",
       "2016-04-01 18:10:00  NBCR Upper (NSC Confluence)  Stickney   \n",
       "2016-04-01 17:53:00  NBCR Upper (NSC Confluence)  Stickney   \n",
       "2016-04-01 17:54:00  NBCR Upper (NSC Confluence)  Stickney   \n",
       "\n",
       "                         Open date/time      Close date/time  \\\n",
       "2016-04-01 17:54:00 2016-04-01 17:54:00  2016-04-01 23:07:00   \n",
       "2016-04-01 17:53:00 2016-04-01 17:53:00  2016-04-01 19:42:00   \n",
       "2016-04-01 18:10:00 2016-04-01 18:10:00  2016-04-01 18:26:00   \n",
       "2016-04-01 17:53:00 2016-04-01 17:53:00  2016-04-01 19:42:00   \n",
       "2016-04-01 17:54:00 2016-04-01 17:54:00  2016-04-01 23:07:00   \n",
       "\n",
       "                     Gate Open Period  Open Period Seconds  \n",
       "2016-04-01 17:54:00          05:13:48              18828.0  \n",
       "2016-04-01 17:53:00          01:48:55               6535.0  \n",
       "2016-04-01 18:10:00          00:16:08                968.0  \n",
       "2016-04-01 17:53:00          01:48:55               6535.0  \n",
       "2016-04-01 17:54:00          05:13:48              18828.0  "
      ]
     },
     "execution_count": 48,
     "metadata": {},
     "output_type": "execute_result"
    }
   ],
   "source": [
    "cso_df = pd.read_csv('data/merged_cso_data.csv')\n",
    "cso_df['Open date/time'] = pd.to_datetime(cso_df['Open date/time'])\n",
    "cso_df['Gate Open Period'] = pd.to_timedelta(cso_df['Gate Open Period'], unit='m')\n",
    "cso_df['Open Period Seconds'] = cso_df['Gate Open Period'].astype('timedelta64[s]')\n",
    "cso_df = cso_df.set_index(pd.DatetimeIndex(cso_df['Open date/time']))\n",
    "print(cso_df.shape)\n",
    "print(cso_df.dtypes)\n",
    "cso_df.head()"
   ]
  },
  {
   "cell_type": "code",
   "execution_count": 49,
   "metadata": {
    "collapsed": false
   },
   "outputs": [
    {
     "data": {
      "text/html": [
       "<div>\n",
       "<table border=\"1\" class=\"dataframe\">\n",
       "  <thead>\n",
       "    <tr style=\"text-align: right;\">\n",
       "      <th></th>\n",
       "      <th>Outfall Structure</th>\n",
       "      <th>Outfall Location</th>\n",
       "      <th>Tide Gate #</th>\n",
       "      <th>Waterway Reach</th>\n",
       "      <th>Plant</th>\n",
       "      <th>Open date/time</th>\n",
       "      <th>Close date/time</th>\n",
       "      <th>Gate Open Period</th>\n",
       "      <th>Open Period Seconds</th>\n",
       "    </tr>\n",
       "  </thead>\n",
       "  <tbody>\n",
       "    <tr>\n",
       "      <th>2009-08-17 06:04:00</th>\n",
       "      <td>DS-M76</td>\n",
       "      <td>DS-M76</td>\n",
       "      <td>NaN</td>\n",
       "      <td>NBCR Lower (NSC Confluence)</td>\n",
       "      <td>NaN</td>\n",
       "      <td>2009-08-17 06:04:00</td>\n",
       "      <td>2009-08-17 07:11:00</td>\n",
       "      <td>01:07:00</td>\n",
       "      <td>4020.0</td>\n",
       "    </tr>\n",
       "    <tr>\n",
       "      <th>2009-08-17 06:37:00</th>\n",
       "      <td>DS-D27I</td>\n",
       "      <td>DS-D27I</td>\n",
       "      <td>NaN</td>\n",
       "      <td>DesPlaines Middle</td>\n",
       "      <td>NaN</td>\n",
       "      <td>2009-08-17 06:37:00</td>\n",
       "      <td>2009-08-17 10:32:00</td>\n",
       "      <td>03:55:00</td>\n",
       "      <td>14100.0</td>\n",
       "    </tr>\n",
       "    <tr>\n",
       "      <th>2009-08-17 06:45:00</th>\n",
       "      <td>DS-D49</td>\n",
       "      <td>DS-D49</td>\n",
       "      <td>NaN</td>\n",
       "      <td>DesPlaines Lower</td>\n",
       "      <td>NaN</td>\n",
       "      <td>2009-08-17 06:45:00</td>\n",
       "      <td>2009-08-17 07:57:00</td>\n",
       "      <td>01:12:00</td>\n",
       "      <td>4320.0</td>\n",
       "    </tr>\n",
       "    <tr>\n",
       "      <th>2009-08-17 06:46:00</th>\n",
       "      <td>DS-D47,50,51</td>\n",
       "      <td>DS-D47,50,51</td>\n",
       "      <td>NaN</td>\n",
       "      <td>Salt Cr</td>\n",
       "      <td>NaN</td>\n",
       "      <td>2009-08-17 06:46:00</td>\n",
       "      <td>2009-08-17 08:29:00</td>\n",
       "      <td>01:43:00</td>\n",
       "      <td>6180.0</td>\n",
       "    </tr>\n",
       "    <tr>\n",
       "      <th>2009-08-17 07:24:00</th>\n",
       "      <td>DS-D26</td>\n",
       "      <td>DS-D26</td>\n",
       "      <td>NaN</td>\n",
       "      <td>DesPlaines Middle</td>\n",
       "      <td>NaN</td>\n",
       "      <td>2009-08-17 07:24:00</td>\n",
       "      <td>2009-08-17 09:49:00</td>\n",
       "      <td>02:25:00</td>\n",
       "      <td>8700.0</td>\n",
       "    </tr>\n",
       "  </tbody>\n",
       "</table>\n",
       "</div>"
      ],
      "text/plain": [
       "                    Outfall Structure Outfall Location Tide Gate #  \\\n",
       "2009-08-17 06:04:00            DS-M76           DS-M76         NaN   \n",
       "2009-08-17 06:37:00           DS-D27I          DS-D27I         NaN   \n",
       "2009-08-17 06:45:00            DS-D49           DS-D49         NaN   \n",
       "2009-08-17 06:46:00      DS-D47,50,51     DS-D47,50,51         NaN   \n",
       "2009-08-17 07:24:00            DS-D26           DS-D26         NaN   \n",
       "\n",
       "                                  Waterway Reach Plant      Open date/time  \\\n",
       "2009-08-17 06:04:00  NBCR Lower (NSC Confluence)   NaN 2009-08-17 06:04:00   \n",
       "2009-08-17 06:37:00            DesPlaines Middle   NaN 2009-08-17 06:37:00   \n",
       "2009-08-17 06:45:00             DesPlaines Lower   NaN 2009-08-17 06:45:00   \n",
       "2009-08-17 06:46:00                      Salt Cr   NaN 2009-08-17 06:46:00   \n",
       "2009-08-17 07:24:00            DesPlaines Middle   NaN 2009-08-17 07:24:00   \n",
       "\n",
       "                         Close date/time  Gate Open Period  \\\n",
       "2009-08-17 06:04:00  2009-08-17 07:11:00          01:07:00   \n",
       "2009-08-17 06:37:00  2009-08-17 10:32:00          03:55:00   \n",
       "2009-08-17 06:45:00  2009-08-17 07:57:00          01:12:00   \n",
       "2009-08-17 06:46:00  2009-08-17 08:29:00          01:43:00   \n",
       "2009-08-17 07:24:00  2009-08-17 09:49:00          02:25:00   \n",
       "\n",
       "                     Open Period Seconds  \n",
       "2009-08-17 06:04:00               4020.0  \n",
       "2009-08-17 06:37:00              14100.0  \n",
       "2009-08-17 06:45:00               4320.0  \n",
       "2009-08-17 06:46:00               6180.0  \n",
       "2009-08-17 07:24:00               8700.0  "
      ]
     },
     "execution_count": 49,
     "metadata": {},
     "output_type": "execute_result"
    }
   ],
   "source": [
    "# Getting earliest dates to pull weather for\n",
    "cso_df.sort_values(by='Open date/time').head()"
   ]
  },
  {
   "cell_type": "code",
   "execution_count": 50,
   "metadata": {
    "collapsed": false
   },
   "outputs": [
    {
     "data": {
      "text/html": [
       "<div>\n",
       "<table border=\"1\" class=\"dataframe\">\n",
       "  <thead>\n",
       "    <tr style=\"text-align: right;\">\n",
       "      <th></th>\n",
       "      <th>STATION</th>\n",
       "      <th>STATION_NAME</th>\n",
       "      <th>DATE</th>\n",
       "      <th>HOURLYPrecip</th>\n",
       "      <th>datetime</th>\n",
       "    </tr>\n",
       "  </thead>\n",
       "  <tbody>\n",
       "    <tr>\n",
       "      <th>2009-04-01 00:00:00</th>\n",
       "      <td>WBAN:94846</td>\n",
       "      <td>CHICAGO OHARE INTERNATIONAL AIRPORT IL US</td>\n",
       "      <td>2009-04-01 00:00:00</td>\n",
       "      <td>0.0</td>\n",
       "      <td>2009-04-01 00:00:00</td>\n",
       "    </tr>\n",
       "    <tr>\n",
       "      <th>2009-04-01 00:51:00</th>\n",
       "      <td>WBAN:94846</td>\n",
       "      <td>CHICAGO OHARE INTERNATIONAL AIRPORT IL US</td>\n",
       "      <td>2009-04-01 00:51:00</td>\n",
       "      <td>0.0</td>\n",
       "      <td>2009-04-01 00:51:00</td>\n",
       "    </tr>\n",
       "    <tr>\n",
       "      <th>2009-04-01 01:51:00</th>\n",
       "      <td>WBAN:94846</td>\n",
       "      <td>CHICAGO OHARE INTERNATIONAL AIRPORT IL US</td>\n",
       "      <td>2009-04-01 01:51:00</td>\n",
       "      <td>0.0</td>\n",
       "      <td>2009-04-01 01:51:00</td>\n",
       "    </tr>\n",
       "    <tr>\n",
       "      <th>2009-04-01 02:51:00</th>\n",
       "      <td>WBAN:94846</td>\n",
       "      <td>CHICAGO OHARE INTERNATIONAL AIRPORT IL US</td>\n",
       "      <td>2009-04-01 02:51:00</td>\n",
       "      <td>0.0</td>\n",
       "      <td>2009-04-01 02:51:00</td>\n",
       "    </tr>\n",
       "    <tr>\n",
       "      <th>2009-04-01 03:51:00</th>\n",
       "      <td>WBAN:94846</td>\n",
       "      <td>CHICAGO OHARE INTERNATIONAL AIRPORT IL US</td>\n",
       "      <td>2009-04-01 03:51:00</td>\n",
       "      <td>0.0</td>\n",
       "      <td>2009-04-01 03:51:00</td>\n",
       "    </tr>\n",
       "  </tbody>\n",
       "</table>\n",
       "</div>"
      ],
      "text/plain": [
       "                        STATION                               STATION_NAME  \\\n",
       "2009-04-01 00:00:00  WBAN:94846  CHICAGO OHARE INTERNATIONAL AIRPORT IL US   \n",
       "2009-04-01 00:51:00  WBAN:94846  CHICAGO OHARE INTERNATIONAL AIRPORT IL US   \n",
       "2009-04-01 01:51:00  WBAN:94846  CHICAGO OHARE INTERNATIONAL AIRPORT IL US   \n",
       "2009-04-01 02:51:00  WBAN:94846  CHICAGO OHARE INTERNATIONAL AIRPORT IL US   \n",
       "2009-04-01 03:51:00  WBAN:94846  CHICAGO OHARE INTERNATIONAL AIRPORT IL US   \n",
       "\n",
       "                                   DATE  HOURLYPrecip             datetime  \n",
       "2009-04-01 00:00:00 2009-04-01 00:00:00           0.0  2009-04-01 00:00:00  \n",
       "2009-04-01 00:51:00 2009-04-01 00:51:00           0.0  2009-04-01 00:51:00  \n",
       "2009-04-01 01:51:00 2009-04-01 01:51:00           0.0  2009-04-01 01:51:00  \n",
       "2009-04-01 02:51:00 2009-04-01 02:51:00           0.0  2009-04-01 02:51:00  \n",
       "2009-04-01 03:51:00 2009-04-01 03:51:00           0.0  2009-04-01 03:51:00  "
      ]
     },
     "execution_count": 50,
     "metadata": {},
     "output_type": "execute_result"
    }
   ],
   "source": [
    "# Pulling from April of 2009 to get some additional padding before earliest CSO\n",
    "cso_rain_df = rain_df['2009-04-01':]\n",
    "cso_rain_df.head()"
   ]
  },
  {
   "cell_type": "code",
   "execution_count": 51,
   "metadata": {
    "collapsed": false
   },
   "outputs": [
    {
     "data": {
      "text/plain": [
       "<matplotlib.axes._subplots.AxesSubplot at 0xcee1518>"
      ]
     },
     "execution_count": 51,
     "metadata": {},
     "output_type": "execute_result"
    },
    {
     "data": {
      "image/png": "[encoded data removed]",
      "text/plain": [
       "<matplotlib.figure.Figure at 0xe7d63c8>"
      ]
     },
     "metadata": {},
     "output_type": "display_data"
    }
   ],
   "source": [
    "# Get daily precipitation through sum of values, plot daily precipitation\n",
    "cso_rain_series = cso_rain_df['HOURLYPrecip'].resample('1D').sum()\n",
    "cso_rain_series.plot()"
   ]
  },
  {
   "cell_type": "code",
   "execution_count": 52,
   "metadata": {
    "collapsed": false
   },
   "outputs": [
    {
     "name": "stdout",
     "output_type": "stream",
     "text": [
      "Outfall Structure               object\n",
      "Outfall Location                object\n",
      "Tide Gate #                     object\n",
      "Waterway Reach                  object\n",
      "Plant                           object\n",
      "Open date/time          datetime64[ns]\n",
      "Close date/time                 object\n",
      "Gate Open Period       timedelta64[ns]\n",
      "Open Period Seconds            float64\n",
      "Date                            object\n",
      "dtype: object\n"
     ]
    },
    {
     "data": {
      "text/html": [
       "<div>\n",
       "<table border=\"1\" class=\"dataframe\">\n",
       "  <thead>\n",
       "    <tr style=\"text-align: right;\">\n",
       "      <th></th>\n",
       "      <th>Outfall Structure</th>\n",
       "      <th>Outfall Location</th>\n",
       "      <th>Tide Gate #</th>\n",
       "      <th>Waterway Reach</th>\n",
       "      <th>Plant</th>\n",
       "      <th>Open date/time</th>\n",
       "      <th>Close date/time</th>\n",
       "      <th>Gate Open Period</th>\n",
       "      <th>Open Period Seconds</th>\n",
       "      <th>Date</th>\n",
       "    </tr>\n",
       "  </thead>\n",
       "  <tbody>\n",
       "    <tr>\n",
       "      <th>2016-04-01 17:54:00</th>\n",
       "      <td>DS-N05</td>\n",
       "      <td>Forest Glen Ave (S), West of Cicero</td>\n",
       "      <td>TG1</td>\n",
       "      <td>NBCR Upper (NSC Confluence)</td>\n",
       "      <td>Stickney</td>\n",
       "      <td>2016-04-01 17:54:00</td>\n",
       "      <td>2016-04-01 23:07:00</td>\n",
       "      <td>05:13:48</td>\n",
       "      <td>18828.0</td>\n",
       "      <td>2016-04-01</td>\n",
       "    </tr>\n",
       "    <tr>\n",
       "      <th>2016-04-01 17:53:00</th>\n",
       "      <td>DS-N08</td>\n",
       "      <td>Mango Ave ext. (Leonard &amp; Miltmore) (W)</td>\n",
       "      <td>TG1</td>\n",
       "      <td>NBCR Upper (NSC Confluence)</td>\n",
       "      <td>Stickney</td>\n",
       "      <td>2016-04-01 17:53:00</td>\n",
       "      <td>2016-04-01 19:42:00</td>\n",
       "      <td>01:48:55</td>\n",
       "      <td>6535.0</td>\n",
       "      <td>2016-04-01</td>\n",
       "    </tr>\n",
       "    <tr>\n",
       "      <th>2016-04-01 18:10:00</th>\n",
       "      <td>DS-N10B</td>\n",
       "      <td>Imlay St &amp; Milwaukee (W)</td>\n",
       "      <td>TG1</td>\n",
       "      <td>NBCR Upper (NSC Confluence)</td>\n",
       "      <td>Stickney</td>\n",
       "      <td>2016-04-01 18:10:00</td>\n",
       "      <td>2016-04-01 18:26:00</td>\n",
       "      <td>00:16:08</td>\n",
       "      <td>968.0</td>\n",
       "      <td>2016-04-01</td>\n",
       "    </tr>\n",
       "    <tr>\n",
       "      <th>2016-04-01 17:53:00</th>\n",
       "      <td>DS-N08</td>\n",
       "      <td>Mango Ave ext. (Leonard &amp; Miltmore) (W)</td>\n",
       "      <td>TG1</td>\n",
       "      <td>NBCR Upper (NSC Confluence)</td>\n",
       "      <td>Stickney</td>\n",
       "      <td>2016-04-01 17:53:00</td>\n",
       "      <td>2016-04-01 19:42:00</td>\n",
       "      <td>01:48:55</td>\n",
       "      <td>6535.0</td>\n",
       "      <td>2016-04-01</td>\n",
       "    </tr>\n",
       "    <tr>\n",
       "      <th>2016-04-01 17:54:00</th>\n",
       "      <td>DS-N05</td>\n",
       "      <td>Forest Glen Ave (S), West of Cicero</td>\n",
       "      <td>TG1</td>\n",
       "      <td>NBCR Upper (NSC Confluence)</td>\n",
       "      <td>Stickney</td>\n",
       "      <td>2016-04-01 17:54:00</td>\n",
       "      <td>2016-04-01 23:07:00</td>\n",
       "      <td>05:13:48</td>\n",
       "      <td>18828.0</td>\n",
       "      <td>2016-04-01</td>\n",
       "    </tr>\n",
       "  </tbody>\n",
       "</table>\n",
       "</div>"
      ],
      "text/plain": [
       "                    Outfall Structure  \\\n",
       "2016-04-01 17:54:00            DS-N05   \n",
       "2016-04-01 17:53:00            DS-N08   \n",
       "2016-04-01 18:10:00           DS-N10B   \n",
       "2016-04-01 17:53:00            DS-N08   \n",
       "2016-04-01 17:54:00            DS-N05   \n",
       "\n",
       "                                            Outfall Location Tide Gate #  \\\n",
       "2016-04-01 17:54:00      Forest Glen Ave (S), West of Cicero         TG1   \n",
       "2016-04-01 17:53:00  Mango Ave ext. (Leonard & Miltmore) (W)         TG1   \n",
       "2016-04-01 18:10:00                 Imlay St & Milwaukee (W)         TG1   \n",
       "2016-04-01 17:53:00  Mango Ave ext. (Leonard & Miltmore) (W)         TG1   \n",
       "2016-04-01 17:54:00      Forest Glen Ave (S), West of Cicero         TG1   \n",
       "\n",
       "                                  Waterway Reach     Plant  \\\n",
       "2016-04-01 17:54:00  NBCR Upper (NSC Confluence)  Stickney   \n",
       "2016-04-01 17:53:00  NBCR Upper (NSC Confluence)  Stickney   \n",
       "2016-04-01 18:10:00  NBCR Upper (NSC Confluence)  Stickney   \n",
       "2016-04-01 17:53:00  NBCR Upper (NSC Confluence)  Stickney   \n",
       "2016-04-01 17:54:00  NBCR Upper (NSC Confluence)  Stickney   \n",
       "\n",
       "                         Open date/time      Close date/time  \\\n",
       "2016-04-01 17:54:00 2016-04-01 17:54:00  2016-04-01 23:07:00   \n",
       "2016-04-01 17:53:00 2016-04-01 17:53:00  2016-04-01 19:42:00   \n",
       "2016-04-01 18:10:00 2016-04-01 18:10:00  2016-04-01 18:26:00   \n",
       "2016-04-01 17:53:00 2016-04-01 17:53:00  2016-04-01 19:42:00   \n",
       "2016-04-01 17:54:00 2016-04-01 17:54:00  2016-04-01 23:07:00   \n",
       "\n",
       "                     Gate Open Period  Open Period Seconds        Date  \n",
       "2016-04-01 17:54:00          05:13:48              18828.0  2016-04-01  \n",
       "2016-04-01 17:53:00          01:48:55               6535.0  2016-04-01  \n",
       "2016-04-01 18:10:00          00:16:08                968.0  2016-04-01  \n",
       "2016-04-01 17:53:00          01:48:55               6535.0  2016-04-01  \n",
       "2016-04-01 17:54:00          05:13:48              18828.0  2016-04-01  "
      ]
     },
     "execution_count": 52,
     "metadata": {},
     "output_type": "execute_result"
    }
   ],
   "source": [
    "cso_df['Date'] = cso_df.index.date\n",
    "print(cso_df.dtypes)\n",
    "cso_df.head()"
   ]
  },
  {
   "cell_type": "code",
   "execution_count": 54,
   "metadata": {
    "collapsed": false
   },
   "outputs": [
    {
     "data": {
      "text/plain": [
       "<matplotlib.axes._subplots.AxesSubplot at 0xfeb38d0>"
      ]
     },
     "execution_count": 54,
     "metadata": {},
     "output_type": "execute_result"
    },
    {
     "data": {
      "image/png": "[encoded data removed]",
      "text/plain": [
       "<matplotlib.figure.Figure at 0xfeb3080>"
      ]
     },
     "metadata": {},
     "output_type": "display_data"
    }
   ],
   "source": [
    "# Group CSO events by date, plot top 10\n",
    "# Looking just for number of events, \n",
    "cso_by_date = cso_df.groupby(['Date'])['Open Period Seconds'].sum()\n",
    "cso_date_sub = cso_by_date.sort_values(ascending=False)\n",
    "cso_date_sub[:10].plot(kind='bar')"
   ]
  },
  {
   "cell_type": "code",
   "execution_count": 59,
   "metadata": {
    "collapsed": false
   },
   "outputs": [
    {
     "data": {
      "text/html": [
       "<div>\n",
       "<table border=\"1\" class=\"dataframe\">\n",
       "  <thead>\n",
       "    <tr style=\"text-align: right;\">\n",
       "      <th></th>\n",
       "      <th>Outfall Structure</th>\n",
       "      <th>Outfall Location</th>\n",
       "      <th>Tide Gate #</th>\n",
       "      <th>Waterway Reach</th>\n",
       "      <th>Plant</th>\n",
       "      <th>Open date/time</th>\n",
       "      <th>Close date/time</th>\n",
       "      <th>Gate Open Period</th>\n",
       "      <th>Open Period Seconds</th>\n",
       "      <th>Date</th>\n",
       "    </tr>\n",
       "  </thead>\n",
       "  <tbody>\n",
       "    <tr>\n",
       "      <th>2015-06-15 09:38:00</th>\n",
       "      <td>CDS-51</td>\n",
       "      <td>CDS-51</td>\n",
       "      <td>NaN</td>\n",
       "      <td>Little Cal R (South)</td>\n",
       "      <td>NaN</td>\n",
       "      <td>2015-06-15 09:38:00</td>\n",
       "      <td>2015-06-15 23:59:00</td>\n",
       "      <td>14:21:00</td>\n",
       "      <td>51660.0</td>\n",
       "      <td>2015-06-15</td>\n",
       "    </tr>\n",
       "    <tr>\n",
       "      <th>2015-06-15 15:35:00</th>\n",
       "      <td>CDS-2</td>\n",
       "      <td>CDS-2</td>\n",
       "      <td>NaN</td>\n",
       "      <td>Cal Sag Ch</td>\n",
       "      <td>NaN</td>\n",
       "      <td>2015-06-15 15:35:00</td>\n",
       "      <td>2015-06-15 23:59:00</td>\n",
       "      <td>08:24:00</td>\n",
       "      <td>30240.0</td>\n",
       "      <td>2015-06-15</td>\n",
       "    </tr>\n",
       "    <tr>\n",
       "      <th>2015-06-15 19:20:00</th>\n",
       "      <td>CDS-15-2</td>\n",
       "      <td>CDS-15-2</td>\n",
       "      <td>NaN</td>\n",
       "      <td>Little Cal R (North)</td>\n",
       "      <td>NaN</td>\n",
       "      <td>2015-06-15 19:20:00</td>\n",
       "      <td>2015-06-15 23:59:00</td>\n",
       "      <td>04:39:00</td>\n",
       "      <td>16740.0</td>\n",
       "      <td>2015-06-15</td>\n",
       "    </tr>\n",
       "    <tr>\n",
       "      <th>2015-06-15 19:40:00</th>\n",
       "      <td>125TH ST PS (CDS-13)</td>\n",
       "      <td>125TH ST PS (CDS-13)</td>\n",
       "      <td>NaN</td>\n",
       "      <td>Little Cal R (North)</td>\n",
       "      <td>NaN</td>\n",
       "      <td>2015-06-15 19:40:00</td>\n",
       "      <td>2015-06-15 23:59:00</td>\n",
       "      <td>04:19:00</td>\n",
       "      <td>15540.0</td>\n",
       "      <td>2015-06-15</td>\n",
       "    </tr>\n",
       "    <tr>\n",
       "      <th>2015-06-15 11:52:00</th>\n",
       "      <td>CDS-45</td>\n",
       "      <td>CDS-45</td>\n",
       "      <td>NaN</td>\n",
       "      <td>Little Cal R (South)</td>\n",
       "      <td>NaN</td>\n",
       "      <td>2015-06-15 11:52:00</td>\n",
       "      <td>2015-06-15 23:59:00</td>\n",
       "      <td>12:07:00</td>\n",
       "      <td>43620.0</td>\n",
       "      <td>2015-06-15</td>\n",
       "    </tr>\n",
       "  </tbody>\n",
       "</table>\n",
       "</div>"
      ],
      "text/plain": [
       "                        Outfall Structure      Outfall Location Tide Gate #  \\\n",
       "2015-06-15 09:38:00                CDS-51                CDS-51         NaN   \n",
       "2015-06-15 15:35:00                 CDS-2                 CDS-2         NaN   \n",
       "2015-06-15 19:20:00              CDS-15-2              CDS-15-2         NaN   \n",
       "2015-06-15 19:40:00  125TH ST PS (CDS-13)  125TH ST PS (CDS-13)         NaN   \n",
       "2015-06-15 11:52:00                CDS-45                CDS-45         NaN   \n",
       "\n",
       "                           Waterway Reach Plant      Open date/time  \\\n",
       "2015-06-15 09:38:00  Little Cal R (South)   NaN 2015-06-15 09:38:00   \n",
       "2015-06-15 15:35:00            Cal Sag Ch   NaN 2015-06-15 15:35:00   \n",
       "2015-06-15 19:20:00  Little Cal R (North)   NaN 2015-06-15 19:20:00   \n",
       "2015-06-15 19:40:00  Little Cal R (North)   NaN 2015-06-15 19:40:00   \n",
       "2015-06-15 11:52:00  Little Cal R (South)   NaN 2015-06-15 11:52:00   \n",
       "\n",
       "                         Close date/time  Gate Open Period  \\\n",
       "2015-06-15 09:38:00  2015-06-15 23:59:00          14:21:00   \n",
       "2015-06-15 15:35:00  2015-06-15 23:59:00          08:24:00   \n",
       "2015-06-15 19:20:00  2015-06-15 23:59:00          04:39:00   \n",
       "2015-06-15 19:40:00  2015-06-15 23:59:00          04:19:00   \n",
       "2015-06-15 11:52:00  2015-06-15 23:59:00          12:07:00   \n",
       "\n",
       "                     Open Period Seconds        Date  \n",
       "2015-06-15 09:38:00              51660.0  2015-06-15  \n",
       "2015-06-15 15:35:00              30240.0  2015-06-15  \n",
       "2015-06-15 19:20:00              16740.0  2015-06-15  \n",
       "2015-06-15 19:40:00              15540.0  2015-06-15  \n",
       "2015-06-15 11:52:00              43620.0  2015-06-15  "
      ]
     },
     "execution_count": 59,
     "metadata": {},
     "output_type": "execute_result"
    }
   ],
   "source": [
    "# June 15 of 2015 seems to have been the most severe CSO event, looking at what it consisted of\n",
    "june_15_cso = cso_df['2015-06-15']\n",
    "june_15_cso.head()"
   ]
  },
  {
   "cell_type": "code",
   "execution_count": 63,
   "metadata": {
    "collapsed": false
   },
   "outputs": [
    {
     "data": {
      "text/plain": [
       "<matplotlib.axes._subplots.AxesSubplot at 0xf1e9048>"
      ]
     },
     "execution_count": 63,
     "metadata": {},
     "output_type": "execute_result"
    },
    {
     "data": {
      "image/png": "[encoded data removed]",
      "text/plain": [
       "<matplotlib.figure.Figure at 0xfea89b0>"
      ]
     },
     "metadata": {},
     "output_type": "display_data"
    }
   ],
   "source": [
    "longest_june_15 = june_15_cso.sort_values(by='Open Period Seconds', ascending=False)\n",
    "longest_june_15[:10].plot(kind='bar', x='Outfall Structure', y='Open Period Seconds')"
   ]
  },
  {
   "cell_type": "code",
   "execution_count": 100,
   "metadata": {
    "collapsed": false
   },
   "outputs": [
    {
     "data": {
      "text/plain": [
       "<matplotlib.axes._subplots.AxesSubplot at 0x18cdd4e0>"
      ]
     },
     "execution_count": 100,
     "metadata": {},
     "output_type": "execute_result"
    },
    {
     "data": {
      "image/png": "[encoded data removed]",
      "text/plain": [
       "<matplotlib.figure.Figure at 0x18cdfac8>"
      ]
     },
     "metadata": {},
     "output_type": "display_data"
    }
   ],
   "source": [
    "# Looking at Outfall Structures ranked by total length of CSOs\n",
    "cso_by_structure = cso_df.groupby(['Outfall Structure'])['Open Period Seconds'].sum()\n",
    "cso_by_structure = cso_by_structure.sort_values(ascending=False)\n",
    "cso_by_structure[:10].plot(kind='bar')"
   ]
  },
  {
   "cell_type": "code",
   "execution_count": 84,
   "metadata": {
    "collapsed": false
   },
   "outputs": [
    {
     "name": "stdout",
     "output_type": "stream",
     "text": [
      "(429, 3)\n",
      "Date                   datetime64[ns]\n",
      "Open Period Seconds           float64\n",
      "Precipitation                 float64\n",
      "dtype: object\n"
     ]
    },
    {
     "data": {
      "text/html": [
       "<div>\n",
       "<table border=\"1\" class=\"dataframe\">\n",
       "  <thead>\n",
       "    <tr style=\"text-align: right;\">\n",
       "      <th></th>\n",
       "      <th>Date</th>\n",
       "      <th>Open Period Seconds</th>\n",
       "      <th>Precipitation</th>\n",
       "    </tr>\n",
       "  </thead>\n",
       "  <tbody>\n",
       "    <tr>\n",
       "      <th>2009-08-17</th>\n",
       "      <td>2009-08-17</td>\n",
       "      <td>39780.0</td>\n",
       "      <td>1.23</td>\n",
       "    </tr>\n",
       "    <tr>\n",
       "      <th>2009-08-18</th>\n",
       "      <td>2009-08-18</td>\n",
       "      <td>120.0</td>\n",
       "      <td>0.00</td>\n",
       "    </tr>\n",
       "    <tr>\n",
       "      <th>2009-08-19</th>\n",
       "      <td>2009-08-19</td>\n",
       "      <td>11820.0</td>\n",
       "      <td>0.56</td>\n",
       "    </tr>\n",
       "    <tr>\n",
       "      <th>2009-08-20</th>\n",
       "      <td>2009-08-20</td>\n",
       "      <td>9300.0</td>\n",
       "      <td>0.12</td>\n",
       "    </tr>\n",
       "    <tr>\n",
       "      <th>2009-08-21</th>\n",
       "      <td>2009-08-21</td>\n",
       "      <td>4260.0</td>\n",
       "      <td>0.21</td>\n",
       "    </tr>\n",
       "  </tbody>\n",
       "</table>\n",
       "</div>"
      ],
      "text/plain": [
       "                 Date  Open Period Seconds  Precipitation\n",
       "2009-08-17 2009-08-17              39780.0           1.23\n",
       "2009-08-18 2009-08-18                120.0           0.00\n",
       "2009-08-19 2009-08-19              11820.0           0.56\n",
       "2009-08-20 2009-08-20               9300.0           0.12\n",
       "2009-08-21 2009-08-21               4260.0           0.21"
      ]
     },
     "execution_count": 84,
     "metadata": {},
     "output_type": "execute_result"
    }
   ],
   "source": [
    "# Merge top CSO days by length of open gates in CSOs with total precipitation on that day\n",
    "cso_date_df = pd.DataFrame(cso_by_date).reset_index()\n",
    "cso_date_df['Date'] = pd.to_datetime(cso_date_df['Date'])\n",
    "cso_date_df = cso_date_df.set_index(pd.DatetimeIndex(cso_date_df['Date']))\n",
    "cso_date_df['Precipitation'] = cso_rain_series\n",
    "print(cso_date_df.shape)\n",
    "print(cso_date_df.dtypes)\n",
    "cso_date_df.head()"
   ]
  },
  {
   "cell_type": "code",
   "execution_count": 85,
   "metadata": {
    "collapsed": false
   },
   "outputs": [
    {
     "data": {
      "text/plain": [
       "<matplotlib.axes._subplots.AxesSubplot at 0x16dfba90>"
      ]
     },
     "execution_count": 85,
     "metadata": {},
     "output_type": "execute_result"
    },
    {
     "data": {
      "image/png": "[encoded data removed]",
      "text/plain": [
       "<matplotlib.figure.Figure at 0x16db1198>"
      ]
     },
     "metadata": {},
     "output_type": "display_data"
    }
   ],
   "source": [
    "# Plotting all event open period length by precipitation, need to reduce to just top events\n",
    "cso_date_df.plot(kind='scatter', x='Precipitation', y='Open Period Seconds')"
   ]
  },
  {
   "cell_type": "code",
   "execution_count": 86,
   "metadata": {
    "collapsed": false
   },
   "outputs": [
    {
     "data": {
      "text/plain": [
       "<matplotlib.axes._subplots.AxesSubplot at 0x188ac9e8>"
      ]
     },
     "execution_count": 86,
     "metadata": {},
     "output_type": "execute_result"
    },
    {
     "data": {
      "image/png": "[encoded data removed]",
      "text/plain": [
       "<matplotlib.figure.Figure at 0x188a6518>"
      ]
     },
     "metadata": {},
     "output_type": "display_data"
    }
   ],
   "source": [
    "cso_date_df = cso_date_df.sort_values(by='Open Period Seconds', ascending=False)\n",
    "# Plot top 100 CSO dates in terms of gate open period by precipitation on that date\n",
    "cso_date_df[:100].plot(kind='scatter', x='Precipitation', y='Open Period Seconds')"
   ]
  },
  {
   "cell_type": "code",
   "execution_count": 87,
   "metadata": {
    "collapsed": false
   },
   "outputs": [
    {
     "data": {
      "text/plain": [
       "<matplotlib.axes._subplots.AxesSubplot at 0x1890f4a8>"
      ]
     },
     "execution_count": 87,
     "metadata": {},
     "output_type": "execute_result"
    },
    {
     "data": {
      "image/png": "[encoded data removed]",
      "text/plain": [
       "<matplotlib.figure.Figure at 0x1891ba90>"
      ]
     },
     "metadata": {},
     "output_type": "display_data"
    }
   ],
   "source": [
    "# Ignoring top event because skews the results significantly\n",
    "cso_date_df[1:100].plot(kind='scatter', x='Precipitation', y='Open Period Seconds')"
   ]
  },
  {
   "cell_type": "markdown",
   "metadata": {},
   "source": [
    "### Notes on CSOs and Rain \n",
    "\n",
    "Might be some relationship in CSOs on a given date and rainfall on that date, but it seems like relationship might be stronger given that they could be caused by rain accumulated over time.\n",
    "\n",
    "#### Outlier Event\n",
    "\n",
    "The top event was substantially more intense than all the others, so it makes sense to ignore it in some of the plots to get a clearer sense of the relationship\n",
    "\n",
    "#### Additional Time Periods \n",
    "\n",
    "Plotting accumulated rain through rolling windows over a month and 2 weeks vs CSO length below"
   ]
  },
  {
   "cell_type": "code",
   "execution_count": 89,
   "metadata": {
    "collapsed": false
   },
   "outputs": [
    {
     "name": "stdout",
     "output_type": "stream",
     "text": [
      "(429, 3)\n",
      "Date                   datetime64[ns]\n",
      "Open Period Seconds           float64\n",
      "TwoWeekPrecip                 float64\n",
      "dtype: object\n"
     ]
    },
    {
     "data": {
      "text/html": [
       "<div>\n",
       "<table border=\"1\" class=\"dataframe\">\n",
       "  <thead>\n",
       "    <tr style=\"text-align: right;\">\n",
       "      <th></th>\n",
       "      <th>Date</th>\n",
       "      <th>Open Period Seconds</th>\n",
       "      <th>TwoWeekPrecip</th>\n",
       "    </tr>\n",
       "  </thead>\n",
       "  <tbody>\n",
       "    <tr>\n",
       "      <th>2009-08-17</th>\n",
       "      <td>2009-08-17</td>\n",
       "      <td>39780.0</td>\n",
       "      <td>4.11</td>\n",
       "    </tr>\n",
       "    <tr>\n",
       "      <th>2009-08-18</th>\n",
       "      <td>2009-08-18</td>\n",
       "      <td>120.0</td>\n",
       "      <td>4.11</td>\n",
       "    </tr>\n",
       "    <tr>\n",
       "      <th>2009-08-19</th>\n",
       "      <td>2009-08-19</td>\n",
       "      <td>11820.0</td>\n",
       "      <td>4.67</td>\n",
       "    </tr>\n",
       "    <tr>\n",
       "      <th>2009-08-20</th>\n",
       "      <td>2009-08-20</td>\n",
       "      <td>9300.0</td>\n",
       "      <td>4.79</td>\n",
       "    </tr>\n",
       "    <tr>\n",
       "      <th>2009-08-21</th>\n",
       "      <td>2009-08-21</td>\n",
       "      <td>4260.0</td>\n",
       "      <td>4.58</td>\n",
       "    </tr>\n",
       "  </tbody>\n",
       "</table>\n",
       "</div>"
      ],
      "text/plain": [
       "                 Date  Open Period Seconds  TwoWeekPrecip\n",
       "2009-08-17 2009-08-17              39780.0           4.11\n",
       "2009-08-18 2009-08-18                120.0           4.11\n",
       "2009-08-19 2009-08-19              11820.0           4.67\n",
       "2009-08-20 2009-08-20               9300.0           4.79\n",
       "2009-08-21 2009-08-21               4260.0           4.58"
      ]
     },
     "execution_count": 89,
     "metadata": {},
     "output_type": "execute_result"
    }
   ],
   "source": [
    "cso_rain_2wk = cso_rain_series.rolling(window=14).sum()\n",
    "\n",
    "cso_date_2wk = pd.DataFrame(cso_by_date).reset_index()\n",
    "cso_date_2wk['Date'] = pd.to_datetime(cso_date_2wk['Date'])\n",
    "cso_date_2wk = cso_date_2wk.set_index(pd.DatetimeIndex(cso_date_2wk['Date']))\n",
    "cso_date_2wk['TwoWeekPrecip'] = cso_rain_2wk\n",
    "\n",
    "print(cso_date_2wk.shape)\n",
    "print(cso_date_2wk.dtypes)\n",
    "cso_date_2wk.head()"
   ]
  },
  {
   "cell_type": "code",
   "execution_count": 90,
   "metadata": {
    "collapsed": false
   },
   "outputs": [
    {
     "data": {
      "text/plain": [
       "<matplotlib.axes._subplots.AxesSubplot at 0x189446a0>"
      ]
     },
     "execution_count": 90,
     "metadata": {},
     "output_type": "execute_result"
    },
    {
     "data": {
      "image/png": "[encoded data removed]",
      "text/plain": [
       "<matplotlib.figure.Figure at 0x188c4048>"
      ]
     },
     "metadata": {},
     "output_type": "display_data"
    }
   ],
   "source": [
    "cso_date_2wk.plot(kind='scatter', x='TwoWeekPrecip', y='Open Period Seconds')"
   ]
  },
  {
   "cell_type": "code",
   "execution_count": 91,
   "metadata": {
    "collapsed": false
   },
   "outputs": [
    {
     "data": {
      "text/plain": [
       "<matplotlib.axes._subplots.AxesSubplot at 0x1899e160>"
      ]
     },
     "execution_count": 91,
     "metadata": {},
     "output_type": "execute_result"
    },
    {
     "data": {
      "image/png": "[encoded data removed]",
      "text/plain": [
       "<matplotlib.figure.Figure at 0x189a8f28>"
      ]
     },
     "metadata": {},
     "output_type": "display_data"
    }
   ],
   "source": [
    "cso_date_2wk = cso_date_2wk.sort_values(by='Open Period Seconds', ascending=False)\n",
    "# Plot top 100 CSO dates in terms of gate open period by accumulated 2 week precipitation at that date\n",
    "cso_date_2wk[:100].plot(kind='scatter', x='TwoWeekPrecip', y='Open Period Seconds')"
   ]
  },
  {
   "cell_type": "code",
   "execution_count": 92,
   "metadata": {
    "collapsed": false
   },
   "outputs": [
    {
     "data": {
      "text/plain": [
       "<matplotlib.axes._subplots.AxesSubplot at 0x18a109b0>"
      ]
     },
     "execution_count": 92,
     "metadata": {},
     "output_type": "execute_result"
    },
    {
     "data": {
      "image/png": "[encoded data removed]",
      "text/plain": [
       "<matplotlib.figure.Figure at 0x18a1e320>"
      ]
     },
     "metadata": {},
     "output_type": "display_data"
    }
   ],
   "source": [
    "# Ignore outlier\n",
    "cso_date_2wk[1:100].plot(kind='scatter', x='TwoWeekPrecip', y='Open Period Seconds')"
   ]
  },
  {
   "cell_type": "code",
   "execution_count": 93,
   "metadata": {
    "collapsed": false
   },
   "outputs": [
    {
     "name": "stdout",
     "output_type": "stream",
     "text": [
      "(429, 3)\n",
      "Date                   datetime64[ns]\n",
      "Open Period Seconds           float64\n",
      "MonthPrecip                   float64\n",
      "dtype: object\n"
     ]
    },
    {
     "data": {
      "text/html": [
       "<div>\n",
       "<table border=\"1\" class=\"dataframe\">\n",
       "  <thead>\n",
       "    <tr style=\"text-align: right;\">\n",
       "      <th></th>\n",
       "      <th>Date</th>\n",
       "      <th>Open Period Seconds</th>\n",
       "      <th>MonthPrecip</th>\n",
       "    </tr>\n",
       "  </thead>\n",
       "  <tbody>\n",
       "    <tr>\n",
       "      <th>2009-08-17</th>\n",
       "      <td>2009-08-17</td>\n",
       "      <td>39780.0</td>\n",
       "      <td>4.54</td>\n",
       "    </tr>\n",
       "    <tr>\n",
       "      <th>2009-08-18</th>\n",
       "      <td>2009-08-18</td>\n",
       "      <td>120.0</td>\n",
       "      <td>4.54</td>\n",
       "    </tr>\n",
       "    <tr>\n",
       "      <th>2009-08-19</th>\n",
       "      <td>2009-08-19</td>\n",
       "      <td>11820.0</td>\n",
       "      <td>5.10</td>\n",
       "    </tr>\n",
       "    <tr>\n",
       "      <th>2009-08-20</th>\n",
       "      <td>2009-08-20</td>\n",
       "      <td>9300.0</td>\n",
       "      <td>5.18</td>\n",
       "    </tr>\n",
       "    <tr>\n",
       "      <th>2009-08-21</th>\n",
       "      <td>2009-08-21</td>\n",
       "      <td>4260.0</td>\n",
       "      <td>5.39</td>\n",
       "    </tr>\n",
       "  </tbody>\n",
       "</table>\n",
       "</div>"
      ],
      "text/plain": [
       "                 Date  Open Period Seconds  MonthPrecip\n",
       "2009-08-17 2009-08-17              39780.0         4.54\n",
       "2009-08-18 2009-08-18                120.0         4.54\n",
       "2009-08-19 2009-08-19              11820.0         5.10\n",
       "2009-08-20 2009-08-20               9300.0         5.18\n",
       "2009-08-21 2009-08-21               4260.0         5.39"
      ]
     },
     "execution_count": 93,
     "metadata": {},
     "output_type": "execute_result"
    }
   ],
   "source": [
    "# May be more of a relationship in the two week window, moving to a month\n",
    "cso_rain_month = cso_rain_series.rolling(window=30).sum()\n",
    "\n",
    "cso_date_month = pd.DataFrame(cso_by_date).reset_index()\n",
    "cso_date_month['Date'] = pd.to_datetime(cso_date_month['Date'])\n",
    "cso_date_month = cso_date_month.set_index(pd.DatetimeIndex(cso_date_month['Date']))\n",
    "cso_date_month['MonthPrecip'] = cso_rain_month\n",
    "\n",
    "print(cso_date_month.shape)\n",
    "print(cso_date_month.dtypes)\n",
    "cso_date_month.head()"
   ]
  },
  {
   "cell_type": "code",
   "execution_count": 94,
   "metadata": {
    "collapsed": false
   },
   "outputs": [
    {
     "data": {
      "text/plain": [
       "<matplotlib.axes._subplots.AxesSubplot at 0x18a71ac8>"
      ]
     },
     "execution_count": 94,
     "metadata": {},
     "output_type": "execute_result"
    },
    {
     "data": {
      "image/png": "[encoded data removed]",
      "text/plain": [
       "<matplotlib.figure.Figure at 0x189a8f98>"
      ]
     },
     "metadata": {},
     "output_type": "display_data"
    }
   ],
   "source": [
    "cso_date_month.plot(kind='scatter', x='MonthPrecip', y='Open Period Seconds')"
   ]
  },
  {
   "cell_type": "code",
   "execution_count": 95,
   "metadata": {
    "collapsed": false
   },
   "outputs": [
    {
     "data": {
      "text/plain": [
       "<matplotlib.axes._subplots.AxesSubplot at 0x18b1ec50>"
      ]
     },
     "execution_count": 95,
     "metadata": {},
     "output_type": "execute_result"
    },
    {
     "data": {
      "image/png": "[encoded data removed]",
      "text/plain": [
       "<matplotlib.figure.Figure at 0x18b24a58>"
      ]
     },
     "metadata": {},
     "output_type": "display_data"
    }
   ],
   "source": [
    "cso_date_month = cso_date_month.sort_values(by='Open Period Seconds', ascending=False)\n",
    "# Plot top 100 CSO dates in terms of gate open period by accumulated monthly precipitation at that date\n",
    "cso_date_month[:100].plot(kind='scatter', x='MonthPrecip', y='Open Period Seconds')"
   ]
  },
  {
   "cell_type": "code",
   "execution_count": 96,
   "metadata": {
    "collapsed": false
   },
   "outputs": [
    {
     "data": {
      "text/plain": [
       "<matplotlib.axes._subplots.AxesSubplot at 0x18b36d68>"
      ]
     },
     "execution_count": 96,
     "metadata": {},
     "output_type": "execute_result"
    },
    {
     "data": {
      "image/png": "[encoded data removed]",
      "text/plain": [
       "<matplotlib.figure.Figure at 0x18b5a470>"
      ]
     },
     "metadata": {},
     "output_type": "display_data"
    }
   ],
   "source": [
    "# Outlier removed\n",
    "cso_date_month[1:100].plot(kind='scatter', x='MonthPrecip', y='Open Period Seconds')"
   ]
  },
  {
   "cell_type": "code",
   "execution_count": 99,
   "metadata": {
    "collapsed": false
   },
   "outputs": [
    {
     "data": {
      "text/plain": [
       "<matplotlib.axes._subplots.AxesSubplot at 0x18c7af28>"
      ]
     },
     "execution_count": 99,
     "metadata": {},
     "output_type": "execute_result"
    },
    {
     "data": {
      "image/png": "[encoded data removed]",
      "text/plain": [
       "<matplotlib.figure.Figure at 0x18c905c0>"
      ]
     },
     "metadata": {},
     "output_type": "display_data"
    }
   ],
   "source": [
    "# Multiple outliers factor in here, see what plot looks like without top 5\n",
    "cso_date_month[5:100].plot(kind='scatter', x='MonthPrecip', y='Open Period Seconds')"
   ]
  },
  {
   "cell_type": "markdown",
   "metadata": {},
   "source": [
    "## Notes from Initial Pass\n",
    "\n",
    "* Just from looking at the plots after ignoring the main outlier event, and additionally when ignoring some additional events, it may be worth looking more into details of some of the extreme events, and other ways of relating precipitation and events\n",
    "* While it's important to take accumulated rainfall into account, daily precipitation will still need to be factored in, because even if the month has been heavy, if there are multiple events in one heavy period they still may not be the same, could be worsened by a downpour on a given day"
   ]
  },
  {
   "cell_type": "code",
   "execution_count": null,
   "metadata": {
    "collapsed": true
   },
   "outputs": [],
   "source": []
  }
 ],
 "metadata": {
  "kernelspec": {
   "display_name": "Python 3",
   "language": "python",
   "name": "python3"
  },
  "language_info": {
   "codemirror_mode": {
    "name": "ipython",
    "version": 3
   },
   "file_extension": ".py",
   "mimetype": "text/x-python",
   "name": "python",
   "nbconvert_exporter": "python",
   "pygments_lexer": "ipython3",
   "version": "3.5.1"
  }
 },
 "nbformat": 4,
 "nbformat_minor": 1
}
