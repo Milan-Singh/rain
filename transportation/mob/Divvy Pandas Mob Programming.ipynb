{
 "cells": [
  {
   "cell_type": "code",
   "execution_count": 3,
   "metadata": {
    "collapsed": false
   },
   "outputs": [],
   "source": [
    "from __future__ import absolute_import, division, print_function, unicode_literals\n",
    "import numpy as np\n",
    "import pandas as pd\n",
    "import matplotlib.pyplot as plt\n",
    "import seaborn as sns\n",
    "%matplotlib inline"
   ]
  },
  {
   "cell_type": "code",
   "execution_count": 4,
   "metadata": {
    "collapsed": false
   },
   "outputs": [
    {
     "data": {
      "text/html": [
       "<div>\n",
       "<table border=\"1\" class=\"dataframe\">\n",
       "  <thead>\n",
       "    <tr style=\"text-align: right;\">\n",
       "      <th></th>\n",
       "      <th>trip_id</th>\n",
       "      <th>start_time</th>\n",
       "      <th>stop_time</th>\n",
       "      <th>user_type</th>\n",
       "      <th>from_lat</th>\n",
       "      <th>from_lon</th>\n",
       "      <th>to_lat</th>\n",
       "      <th>to_lon</th>\n",
       "      <th>zip</th>\n",
       "    </tr>\n",
       "  </thead>\n",
       "  <tbody>\n",
       "    <tr>\n",
       "      <th>0</th>\n",
       "      <td>7221407</td>\n",
       "      <td>2015-08-31 23:59:00</td>\n",
       "      <td>2015-09-01 00:03:00</td>\n",
       "      <td>Subscriber</td>\n",
       "      <td>41.871737</td>\n",
       "      <td>-87.651030</td>\n",
       "      <td>41.877726</td>\n",
       "      <td>-87.654787</td>\n",
       "      <td>60607</td>\n",
       "    </tr>\n",
       "    <tr>\n",
       "      <th>1</th>\n",
       "      <td>7221406</td>\n",
       "      <td>2015-08-31 23:58:00</td>\n",
       "      <td>2015-09-01 00:26:00</td>\n",
       "      <td>Customer</td>\n",
       "      <td>41.914027</td>\n",
       "      <td>-87.705126</td>\n",
       "      <td>41.916017</td>\n",
       "      <td>-87.668879</td>\n",
       "      <td>60647</td>\n",
       "    </tr>\n",
       "    <tr>\n",
       "      <th>2</th>\n",
       "      <td>7221404</td>\n",
       "      <td>2015-08-31 23:57:00</td>\n",
       "      <td>2015-09-01 00:05:00</td>\n",
       "      <td>Subscriber</td>\n",
       "      <td>41.885464</td>\n",
       "      <td>-87.641253</td>\n",
       "      <td>41.893992</td>\n",
       "      <td>-87.629318</td>\n",
       "      <td>60661</td>\n",
       "    </tr>\n",
       "    <tr>\n",
       "      <th>3</th>\n",
       "      <td>7221405</td>\n",
       "      <td>2015-08-31 23:57:00</td>\n",
       "      <td>2015-09-01 00:06:00</td>\n",
       "      <td>Customer</td>\n",
       "      <td>41.952833</td>\n",
       "      <td>-87.649993</td>\n",
       "      <td>41.939743</td>\n",
       "      <td>-87.658865</td>\n",
       "      <td>60613</td>\n",
       "    </tr>\n",
       "    <tr>\n",
       "      <th>4</th>\n",
       "      <td>7221403</td>\n",
       "      <td>2015-08-31 23:56:00</td>\n",
       "      <td>2015-09-01 00:08:00</td>\n",
       "      <td>Subscriber</td>\n",
       "      <td>41.933666</td>\n",
       "      <td>-87.648959</td>\n",
       "      <td>41.932595</td>\n",
       "      <td>-87.665939</td>\n",
       "      <td>60657</td>\n",
       "    </tr>\n",
       "  </tbody>\n",
       "</table>\n",
       "</div>"
      ],
      "text/plain": [
       "   trip_id           start_time            stop_time   user_type   from_lat  \\\n",
       "0  7221407  2015-08-31 23:59:00  2015-09-01 00:03:00  Subscriber  41.871737   \n",
       "1  7221406  2015-08-31 23:58:00  2015-09-01 00:26:00    Customer  41.914027   \n",
       "2  7221404  2015-08-31 23:57:00  2015-09-01 00:05:00  Subscriber  41.885464   \n",
       "3  7221405  2015-08-31 23:57:00  2015-09-01 00:06:00    Customer  41.952833   \n",
       "4  7221403  2015-08-31 23:56:00  2015-09-01 00:08:00  Subscriber  41.933666   \n",
       "\n",
       "    from_lon     to_lat     to_lon    zip  \n",
       "0 -87.651030  41.877726 -87.654787  60607  \n",
       "1 -87.705126  41.916017 -87.668879  60647  \n",
       "2 -87.641253  41.893992 -87.629318  60661  \n",
       "3 -87.649993  41.939743 -87.658865  60613  \n",
       "4 -87.648959  41.932595 -87.665939  60657  "
      ]
     },
     "execution_count": 4,
     "metadata": {},
     "output_type": "execute_result"
    }
   ],
   "source": [
    "divvy_data = pd.read_csv('data/divvy_zip_summer_15.csv')\n",
    "divvy_data.head()"
   ]
  },
  {
   "cell_type": "code",
   "execution_count": 7,
   "metadata": {
    "collapsed": false
   },
   "outputs": [],
   "source": [
    "divvy_data['start_time']=pd.to_datetime(divvy_data['start_time'],format='%Y-%m-%d %H:%M:%S')"
   ]
  },
  {
   "cell_type": "code",
   "execution_count": 8,
   "metadata": {
    "collapsed": false
   },
   "outputs": [
    {
     "data": {
      "text/plain": [
       "0        2015-08-31 23:59:00\n",
       "1        2015-08-31 23:58:00\n",
       "2        2015-08-31 23:57:00\n",
       "3        2015-08-31 23:57:00\n",
       "4        2015-08-31 23:56:00\n",
       "5        2015-08-31 23:55:00\n",
       "6        2015-08-31 23:55:00\n",
       "7        2015-08-31 23:55:00\n",
       "8        2015-08-31 23:55:00\n",
       "9        2015-08-31 23:54:00\n",
       "10       2015-08-31 23:53:00\n",
       "11       2015-08-31 23:53:00\n",
       "12       2015-08-31 23:53:00\n",
       "13       2015-08-31 23:52:00\n",
       "14       2015-08-31 23:51:00\n",
       "15       2015-08-31 23:51:00\n",
       "16       2015-08-31 23:51:00\n",
       "17       2015-08-31 23:50:00\n",
       "18       2015-08-31 23:50:00\n",
       "19       2015-08-31 23:50:00\n",
       "20       2015-08-31 23:50:00\n",
       "21       2015-08-31 23:48:00\n",
       "22       2015-08-31 23:47:00\n",
       "23       2015-08-31 23:47:00\n",
       "24       2015-08-31 23:46:00\n",
       "25       2015-08-31 23:45:00\n",
       "26       2015-08-31 23:45:00\n",
       "27       2015-08-31 23:43:00\n",
       "28       2015-08-31 23:43:00\n",
       "29       2015-08-31 23:42:00\n",
       "                 ...        \n",
       "999970   2015-07-02 18:44:00\n",
       "999971   2015-07-02 18:44:00\n",
       "999972   2015-07-02 18:44:00\n",
       "999973   2015-07-02 18:44:00\n",
       "999974   2015-07-02 18:44:00\n",
       "999975   2015-07-02 18:44:00\n",
       "999976   2015-07-02 18:44:00\n",
       "999977   2015-07-02 18:44:00\n",
       "999978   2015-07-02 18:44:00\n",
       "999979   2015-07-02 18:44:00\n",
       "999980   2015-07-02 18:44:00\n",
       "999981   2015-07-02 18:44:00\n",
       "999982   2015-07-02 18:44:00\n",
       "999983   2015-07-02 18:44:00\n",
       "999984   2015-07-02 18:44:00\n",
       "999985   2015-07-02 18:44:00\n",
       "999986   2015-07-02 18:43:00\n",
       "999987   2015-07-02 18:43:00\n",
       "999988   2015-07-02 18:43:00\n",
       "999989   2015-07-02 18:43:00\n",
       "999990   2015-07-02 18:43:00\n",
       "999991   2015-07-02 18:43:00\n",
       "999992   2015-07-02 18:43:00\n",
       "999993   2015-07-02 18:43:00\n",
       "999994   2015-07-02 18:43:00\n",
       "999995   2015-07-02 18:43:00\n",
       "999996   2015-07-02 18:43:00\n",
       "999997   2015-07-02 18:43:00\n",
       "999998   2015-07-02 18:43:00\n",
       "999999   2015-07-02 18:43:00\n",
       "Name: start_time, dtype: datetime64[ns]"
      ]
     },
     "execution_count": 8,
     "metadata": {},
     "output_type": "execute_result"
    }
   ],
   "source": [
    "divvy_data.start_time"
   ]
  },
  {
   "cell_type": "code",
   "execution_count": 9,
   "metadata": {
    "collapsed": true
   },
   "outputs": [],
   "source": [
    "divvy_data['stop_time']=pd.to_datetime(divvy_data['stop_time'],format='%Y-%m-%d %H:%M:%S')"
   ]
  },
  {
   "cell_type": "code",
   "execution_count": 10,
   "metadata": {
    "collapsed": false
   },
   "outputs": [
    {
     "data": {
      "text/plain": [
       "0        2015-09-01 00:03:00\n",
       "1        2015-09-01 00:26:00\n",
       "2        2015-09-01 00:05:00\n",
       "3        2015-09-01 00:06:00\n",
       "4        2015-09-01 00:08:00\n",
       "5        2015-09-01 00:14:00\n",
       "6        2015-09-01 00:16:00\n",
       "7        2015-09-01 00:00:00\n",
       "8        2015-09-01 00:14:00\n",
       "9        2015-09-01 00:07:00\n",
       "10       2015-09-01 00:05:00\n",
       "11       2015-09-01 00:04:00\n",
       "12       2015-09-01 00:05:00\n",
       "13       2015-08-31 23:55:00\n",
       "14       2015-08-31 23:59:00\n",
       "15       2015-09-01 00:18:00\n",
       "16       2015-09-01 00:03:00\n",
       "17       2015-09-01 00:00:00\n",
       "18       2015-09-01 00:09:00\n",
       "19       2015-08-31 23:55:00\n",
       "20       2015-09-01 00:09:00\n",
       "21       2015-09-01 00:11:00\n",
       "22       2015-09-01 00:22:00\n",
       "23       2015-08-31 23:55:00\n",
       "24       2015-08-31 23:54:00\n",
       "25       2015-09-01 00:02:00\n",
       "26       2015-08-31 23:56:00\n",
       "27       2015-08-31 23:57:00\n",
       "28       2015-08-31 23:48:00\n",
       "29       2015-08-31 23:52:00\n",
       "                 ...        \n",
       "999970   2015-07-02 19:16:00\n",
       "999971   2015-07-02 18:50:00\n",
       "999972   2015-07-02 18:53:00\n",
       "999973   2015-07-02 18:50:00\n",
       "999974   2015-07-02 18:47:00\n",
       "999975   2015-07-02 19:08:00\n",
       "999976   2015-07-02 18:48:00\n",
       "999977   2015-07-02 18:52:00\n",
       "999978   2015-07-02 18:50:00\n",
       "999979   2015-07-02 18:55:00\n",
       "999980   2015-07-02 18:56:00\n",
       "999981   2015-07-02 18:50:00\n",
       "999982   2015-07-02 19:06:00\n",
       "999983   2015-07-02 18:55:00\n",
       "999984   2015-07-02 19:04:00\n",
       "999985   2015-07-02 19:05:00\n",
       "999986   2015-07-02 19:05:00\n",
       "999987   2015-07-02 18:51:00\n",
       "999988   2015-07-02 19:05:00\n",
       "999989   2015-07-02 18:50:00\n",
       "999990   2015-07-02 18:49:00\n",
       "999991   2015-07-02 19:06:00\n",
       "999992   2015-07-02 19:00:00\n",
       "999993   2015-07-02 18:46:00\n",
       "999994   2015-07-02 18:51:00\n",
       "999995   2015-07-02 18:51:00\n",
       "999996   2015-07-02 18:53:00\n",
       "999997   2015-07-02 18:47:00\n",
       "999998   2015-07-02 19:59:00\n",
       "999999   2015-07-02 18:52:00\n",
       "Name: stop_time, dtype: datetime64[ns]"
      ]
     },
     "execution_count": 10,
     "metadata": {},
     "output_type": "execute_result"
    }
   ],
   "source": [
    "divvy_data.stop_time"
   ]
  },
  {
   "cell_type": "code",
   "execution_count": 11,
   "metadata": {
    "collapsed": true
   },
   "outputs": [],
   "source": [
    "divvy_data['trip_time'] = divvy_data['stop_time']- divvy_data['start_time']"
   ]
  },
  {
   "cell_type": "code",
   "execution_count": 13,
   "metadata": {
    "collapsed": false
   },
   "outputs": [
    {
     "data": {
      "text/html": [
       "<div>\n",
       "<table border=\"1\" class=\"dataframe\">\n",
       "  <thead>\n",
       "    <tr style=\"text-align: right;\">\n",
       "      <th></th>\n",
       "      <th>trip_id</th>\n",
       "      <th>start_time</th>\n",
       "      <th>stop_time</th>\n",
       "      <th>user_type</th>\n",
       "      <th>from_lat</th>\n",
       "      <th>from_lon</th>\n",
       "      <th>to_lat</th>\n",
       "      <th>to_lon</th>\n",
       "      <th>zip</th>\n",
       "      <th>trip_time</th>\n",
       "    </tr>\n",
       "  </thead>\n",
       "  <tbody>\n",
       "    <tr>\n",
       "      <th>0</th>\n",
       "      <td>7221407</td>\n",
       "      <td>2015-08-31 23:59:00</td>\n",
       "      <td>2015-09-01 00:03:00</td>\n",
       "      <td>Subscriber</td>\n",
       "      <td>41.871737</td>\n",
       "      <td>-87.651030</td>\n",
       "      <td>41.877726</td>\n",
       "      <td>-87.654787</td>\n",
       "      <td>60607</td>\n",
       "      <td>00:04:00</td>\n",
       "    </tr>\n",
       "    <tr>\n",
       "      <th>1</th>\n",
       "      <td>7221406</td>\n",
       "      <td>2015-08-31 23:58:00</td>\n",
       "      <td>2015-09-01 00:26:00</td>\n",
       "      <td>Customer</td>\n",
       "      <td>41.914027</td>\n",
       "      <td>-87.705126</td>\n",
       "      <td>41.916017</td>\n",
       "      <td>-87.668879</td>\n",
       "      <td>60647</td>\n",
       "      <td>00:28:00</td>\n",
       "    </tr>\n",
       "    <tr>\n",
       "      <th>2</th>\n",
       "      <td>7221404</td>\n",
       "      <td>2015-08-31 23:57:00</td>\n",
       "      <td>2015-09-01 00:05:00</td>\n",
       "      <td>Subscriber</td>\n",
       "      <td>41.885464</td>\n",
       "      <td>-87.641253</td>\n",
       "      <td>41.893992</td>\n",
       "      <td>-87.629318</td>\n",
       "      <td>60661</td>\n",
       "      <td>00:08:00</td>\n",
       "    </tr>\n",
       "    <tr>\n",
       "      <th>3</th>\n",
       "      <td>7221405</td>\n",
       "      <td>2015-08-31 23:57:00</td>\n",
       "      <td>2015-09-01 00:06:00</td>\n",
       "      <td>Customer</td>\n",
       "      <td>41.952833</td>\n",
       "      <td>-87.649993</td>\n",
       "      <td>41.939743</td>\n",
       "      <td>-87.658865</td>\n",
       "      <td>60613</td>\n",
       "      <td>00:09:00</td>\n",
       "    </tr>\n",
       "    <tr>\n",
       "      <th>4</th>\n",
       "      <td>7221403</td>\n",
       "      <td>2015-08-31 23:56:00</td>\n",
       "      <td>2015-09-01 00:08:00</td>\n",
       "      <td>Subscriber</td>\n",
       "      <td>41.933666</td>\n",
       "      <td>-87.648959</td>\n",
       "      <td>41.932595</td>\n",
       "      <td>-87.665939</td>\n",
       "      <td>60657</td>\n",
       "      <td>00:12:00</td>\n",
       "    </tr>\n",
       "  </tbody>\n",
       "</table>\n",
       "</div>"
      ],
      "text/plain": [
       "   trip_id          start_time           stop_time   user_type   from_lat  \\\n",
       "0  7221407 2015-08-31 23:59:00 2015-09-01 00:03:00  Subscriber  41.871737   \n",
       "1  7221406 2015-08-31 23:58:00 2015-09-01 00:26:00    Customer  41.914027   \n",
       "2  7221404 2015-08-31 23:57:00 2015-09-01 00:05:00  Subscriber  41.885464   \n",
       "3  7221405 2015-08-31 23:57:00 2015-09-01 00:06:00    Customer  41.952833   \n",
       "4  7221403 2015-08-31 23:56:00 2015-09-01 00:08:00  Subscriber  41.933666   \n",
       "\n",
       "    from_lon     to_lat     to_lon    zip  trip_time  \n",
       "0 -87.651030  41.877726 -87.654787  60607   00:04:00  \n",
       "1 -87.705126  41.916017 -87.668879  60647   00:28:00  \n",
       "2 -87.641253  41.893992 -87.629318  60661   00:08:00  \n",
       "3 -87.649993  41.939743 -87.658865  60613   00:09:00  \n",
       "4 -87.648959  41.932595 -87.665939  60657   00:12:00  "
      ]
     },
     "execution_count": 13,
     "metadata": {},
     "output_type": "execute_result"
    }
   ],
   "source": [
    "divvy_data.head()"
   ]
  },
  {
   "cell_type": "code",
   "execution_count": 16,
   "metadata": {
    "collapsed": false
   },
   "outputs": [
    {
     "data": {
      "text/plain": [
       "count                   1000000\n",
       "mean     0 days 00:19:03.077700\n",
       "std      0 days 00:34:06.328294\n",
       "min             0 days 00:01:00\n",
       "25%             0 days 00:08:00\n",
       "50%             0 days 00:14:00\n",
       "75%             0 days 00:22:00\n",
       "max             0 days 23:59:00\n",
       "Name: trip_time, dtype: object"
      ]
     },
     "execution_count": 16,
     "metadata": {},
     "output_type": "execute_result"
    }
   ],
   "source": [
    "divvy_data.trip_time.describe()"
   ]
  },
  {
   "cell_type": "code",
   "execution_count": 17,
   "metadata": {
    "collapsed": false
   },
   "outputs": [
    {
     "ename": "ValueError",
     "evalue": "num must be 1 <= num <= 0, not 1",
     "output_type": "error",
     "traceback": [
      "\u001b[0;31m---------------------------------------------------------------------------\u001b[0m",
      "\u001b[0;31mValueError\u001b[0m                                Traceback (most recent call last)",
      "\u001b[0;32m<ipython-input-17-4b6881dda46d>\u001b[0m in \u001b[0;36m<module>\u001b[0;34m()\u001b[0m\n\u001b[0;32m----> 1\u001b[0;31m \u001b[0mdivvy_data\u001b[0m\u001b[1;33m.\u001b[0m\u001b[0mhist\u001b[0m\u001b[1;33m(\u001b[0m\u001b[0mcolumn\u001b[0m \u001b[1;33m=\u001b[0m \u001b[1;34m'trip_time'\u001b[0m\u001b[1;33m)\u001b[0m\u001b[1;33m\u001b[0m\u001b[0m\n\u001b[0m",
      "\u001b[0;32mC:\\Python35\\lib\\site-packages\\pandas\\tools\\plotting.py\u001b[0m in \u001b[0;36mhist_frame\u001b[0;34m(data, column, by, grid, xlabelsize, xrot, ylabelsize, yrot, ax, sharex, sharey, figsize, layout, bins, **kwds)\u001b[0m\n\u001b[1;32m   2891\u001b[0m     fig, axes = _subplots(naxes=naxes, ax=ax, squeeze=False,\n\u001b[1;32m   2892\u001b[0m                           \u001b[0msharex\u001b[0m\u001b[1;33m=\u001b[0m\u001b[0msharex\u001b[0m\u001b[1;33m,\u001b[0m \u001b[0msharey\u001b[0m\u001b[1;33m=\u001b[0m\u001b[0msharey\u001b[0m\u001b[1;33m,\u001b[0m \u001b[0mfigsize\u001b[0m\u001b[1;33m=\u001b[0m\u001b[0mfigsize\u001b[0m\u001b[1;33m,\u001b[0m\u001b[1;33m\u001b[0m\u001b[0m\n\u001b[0;32m-> 2893\u001b[0;31m                           layout=layout)\n\u001b[0m\u001b[1;32m   2894\u001b[0m     \u001b[0m_axes\u001b[0m \u001b[1;33m=\u001b[0m \u001b[0m_flatten\u001b[0m\u001b[1;33m(\u001b[0m\u001b[0maxes\u001b[0m\u001b[1;33m)\u001b[0m\u001b[1;33m\u001b[0m\u001b[0m\n\u001b[1;32m   2895\u001b[0m \u001b[1;33m\u001b[0m\u001b[0m\n",
      "\u001b[0;32mC:\\Python35\\lib\\site-packages\\pandas\\tools\\plotting.py\u001b[0m in \u001b[0;36m_subplots\u001b[0;34m(naxes, sharex, sharey, squeeze, subplot_kw, ax, layout, layout_type, **fig_kw)\u001b[0m\n\u001b[1;32m   3378\u001b[0m \u001b[1;33m\u001b[0m\u001b[0m\n\u001b[1;32m   3379\u001b[0m     \u001b[1;31m# Create first subplot separately, so we can share it if requested\u001b[0m\u001b[1;33m\u001b[0m\u001b[1;33m\u001b[0m\u001b[0m\n\u001b[0;32m-> 3380\u001b[0;31m     \u001b[0max0\u001b[0m \u001b[1;33m=\u001b[0m \u001b[0mfig\u001b[0m\u001b[1;33m.\u001b[0m\u001b[0madd_subplot\u001b[0m\u001b[1;33m(\u001b[0m\u001b[0mnrows\u001b[0m\u001b[1;33m,\u001b[0m \u001b[0mncols\u001b[0m\u001b[1;33m,\u001b[0m \u001b[1;36m1\u001b[0m\u001b[1;33m,\u001b[0m \u001b[1;33m**\u001b[0m\u001b[0msubplot_kw\u001b[0m\u001b[1;33m)\u001b[0m\u001b[1;33m\u001b[0m\u001b[0m\n\u001b[0m\u001b[1;32m   3381\u001b[0m \u001b[1;33m\u001b[0m\u001b[0m\n\u001b[1;32m   3382\u001b[0m     \u001b[1;32mif\u001b[0m \u001b[0msharex\u001b[0m\u001b[1;33m:\u001b[0m\u001b[1;33m\u001b[0m\u001b[0m\n",
      "\u001b[0;32mc:\\users\\sier-patrick\\.virtualenvs\\mine\\lib\\site-packages\\matplotlib\\figure.py\u001b[0m in \u001b[0;36madd_subplot\u001b[0;34m(self, *args, **kwargs)\u001b[0m\n\u001b[1;32m   1003\u001b[0m                     \u001b[0mself\u001b[0m\u001b[1;33m.\u001b[0m\u001b[0m_axstack\u001b[0m\u001b[1;33m.\u001b[0m\u001b[0mremove\u001b[0m\u001b[1;33m(\u001b[0m\u001b[0max\u001b[0m\u001b[1;33m)\u001b[0m\u001b[1;33m\u001b[0m\u001b[0m\n\u001b[1;32m   1004\u001b[0m \u001b[1;33m\u001b[0m\u001b[0m\n\u001b[0;32m-> 1005\u001b[0;31m             \u001b[0ma\u001b[0m \u001b[1;33m=\u001b[0m \u001b[0msubplot_class_factory\u001b[0m\u001b[1;33m(\u001b[0m\u001b[0mprojection_class\u001b[0m\u001b[1;33m)\u001b[0m\u001b[1;33m(\u001b[0m\u001b[0mself\u001b[0m\u001b[1;33m,\u001b[0m \u001b[1;33m*\u001b[0m\u001b[0margs\u001b[0m\u001b[1;33m,\u001b[0m \u001b[1;33m**\u001b[0m\u001b[0mkwargs\u001b[0m\u001b[1;33m)\u001b[0m\u001b[1;33m\u001b[0m\u001b[0m\n\u001b[0m\u001b[1;32m   1006\u001b[0m \u001b[1;33m\u001b[0m\u001b[0m\n\u001b[1;32m   1007\u001b[0m         \u001b[0mself\u001b[0m\u001b[1;33m.\u001b[0m\u001b[0m_axstack\u001b[0m\u001b[1;33m.\u001b[0m\u001b[0madd\u001b[0m\u001b[1;33m(\u001b[0m\u001b[0mkey\u001b[0m\u001b[1;33m,\u001b[0m \u001b[0ma\u001b[0m\u001b[1;33m)\u001b[0m\u001b[1;33m\u001b[0m\u001b[0m\n",
      "\u001b[0;32mc:\\users\\sier-patrick\\.virtualenvs\\mine\\lib\\site-packages\\matplotlib\\axes\\_subplots.py\u001b[0m in \u001b[0;36m__init__\u001b[0;34m(self, fig, *args, **kwargs)\u001b[0m\n\u001b[1;32m     62\u001b[0m                     raise ValueError(\n\u001b[1;32m     63\u001b[0m                         \"num must be 1 <= num <= {maxn}, not {num}\".format(\n\u001b[0;32m---> 64\u001b[0;31m                             maxn=rows*cols, num=num))\n\u001b[0m\u001b[1;32m     65\u001b[0m                 \u001b[0mself\u001b[0m\u001b[1;33m.\u001b[0m\u001b[0m_subplotspec\u001b[0m \u001b[1;33m=\u001b[0m \u001b[0mGridSpec\u001b[0m\u001b[1;33m(\u001b[0m\u001b[0mrows\u001b[0m\u001b[1;33m,\u001b[0m \u001b[0mcols\u001b[0m\u001b[1;33m)\u001b[0m\u001b[1;33m[\u001b[0m\u001b[0mint\u001b[0m\u001b[1;33m(\u001b[0m\u001b[0mnum\u001b[0m\u001b[1;33m)\u001b[0m \u001b[1;33m-\u001b[0m \u001b[1;36m1\u001b[0m\u001b[1;33m]\u001b[0m\u001b[1;33m\u001b[0m\u001b[0m\n\u001b[1;32m     66\u001b[0m                 \u001b[1;31m# num - 1 for converting from MATLAB to python indexing\u001b[0m\u001b[1;33m\u001b[0m\u001b[1;33m\u001b[0m\u001b[0m\n",
      "\u001b[0;31mValueError\u001b[0m: num must be 1 <= num <= 0, not 1"
     ]
    },
    {
     "data": {
      "text/plain": [
       "<matplotlib.figure.Figure at 0xa277160>"
      ]
     },
     "metadata": {},
     "output_type": "display_data"
    }
   ],
   "source": [
    "divvy_data.hist(column = 'trip_time')"
   ]
  },
  {
   "cell_type": "code",
   "execution_count": 18,
   "metadata": {
    "collapsed": false
   },
   "outputs": [
    {
     "data": {
      "text/plain": [
       "0         0\n",
       "1         0\n",
       "2         0\n",
       "3         0\n",
       "4         0\n",
       "5         0\n",
       "6         0\n",
       "7         0\n",
       "8         0\n",
       "9         0\n",
       "10        0\n",
       "11        0\n",
       "12        0\n",
       "13        0\n",
       "14        0\n",
       "15        0\n",
       "16        0\n",
       "17        0\n",
       "18        0\n",
       "19        0\n",
       "20        0\n",
       "21        0\n",
       "22        0\n",
       "23        0\n",
       "24        0\n",
       "25        0\n",
       "26        0\n",
       "27        0\n",
       "28        0\n",
       "29        0\n",
       "         ..\n",
       "999970    0\n",
       "999971    0\n",
       "999972    0\n",
       "999973    0\n",
       "999974    0\n",
       "999975    0\n",
       "999976    0\n",
       "999977    0\n",
       "999978    0\n",
       "999979    0\n",
       "999980    0\n",
       "999981    0\n",
       "999982    0\n",
       "999983    0\n",
       "999984    0\n",
       "999985    0\n",
       "999986    0\n",
       "999987    0\n",
       "999988    0\n",
       "999989    0\n",
       "999990    0\n",
       "999991    0\n",
       "999992    0\n",
       "999993    0\n",
       "999994    0\n",
       "999995    0\n",
       "999996    0\n",
       "999997    0\n",
       "999998    0\n",
       "999999    0\n",
       "Name: trip_time, dtype: int32"
      ]
     },
     "execution_count": 18,
     "metadata": {},
     "output_type": "execute_result"
    }
   ],
   "source": [
    "(divvy_data['trip_time'] / np.timedelta64(1, 'M')).astype(int)"
   ]
  },
  {
   "cell_type": "code",
   "execution_count": 19,
   "metadata": {
    "collapsed": false
   },
   "outputs": [
    {
     "data": {
      "text/plain": [
       "0          4.0\n",
       "1         28.0\n",
       "2          8.0\n",
       "3          9.0\n",
       "4         12.0\n",
       "5         19.0\n",
       "6         21.0\n",
       "7          5.0\n",
       "8         19.0\n",
       "9         13.0\n",
       "10        12.0\n",
       "11        11.0\n",
       "12        12.0\n",
       "13         3.0\n",
       "14         8.0\n",
       "15        27.0\n",
       "16        12.0\n",
       "17        10.0\n",
       "18        19.0\n",
       "19         5.0\n",
       "20        19.0\n",
       "21        23.0\n",
       "22        35.0\n",
       "23         8.0\n",
       "24         8.0\n",
       "25        17.0\n",
       "26        11.0\n",
       "27        14.0\n",
       "28         5.0\n",
       "29        10.0\n",
       "          ... \n",
       "999970    32.0\n",
       "999971     6.0\n",
       "999972     9.0\n",
       "999973     6.0\n",
       "999974     3.0\n",
       "999975    24.0\n",
       "999976     4.0\n",
       "999977     8.0\n",
       "999978     6.0\n",
       "999979    11.0\n",
       "999980    12.0\n",
       "999981     6.0\n",
       "999982    22.0\n",
       "999983    11.0\n",
       "999984    20.0\n",
       "999985    21.0\n",
       "999986    22.0\n",
       "999987     8.0\n",
       "999988    22.0\n",
       "999989     7.0\n",
       "999990     6.0\n",
       "999991    23.0\n",
       "999992    17.0\n",
       "999993     3.0\n",
       "999994     8.0\n",
       "999995     8.0\n",
       "999996    10.0\n",
       "999997     4.0\n",
       "999998    76.0\n",
       "999999     9.0\n",
       "Name: trip_time, dtype: float64"
      ]
     },
     "execution_count": 19,
     "metadata": {},
     "output_type": "execute_result"
    }
   ],
   "source": [
    "divvy_data['trip_time'].astype('timedelta64[m]')"
   ]
  },
  {
   "cell_type": "code",
   "execution_count": 20,
   "metadata": {
    "collapsed": true
   },
   "outputs": [],
   "source": [
    "divvy_data['trip_time_mins'] = divvy_data['trip_time'].astype('timedelta64[m]')"
   ]
  },
  {
   "cell_type": "code",
   "execution_count": 21,
   "metadata": {
    "collapsed": false
   },
   "outputs": [
    {
     "data": {
      "text/html": [
       "<div>\n",
       "<table border=\"1\" class=\"dataframe\">\n",
       "  <thead>\n",
       "    <tr style=\"text-align: right;\">\n",
       "      <th></th>\n",
       "      <th>trip_id</th>\n",
       "      <th>start_time</th>\n",
       "      <th>stop_time</th>\n",
       "      <th>user_type</th>\n",
       "      <th>from_lat</th>\n",
       "      <th>from_lon</th>\n",
       "      <th>to_lat</th>\n",
       "      <th>to_lon</th>\n",
       "      <th>zip</th>\n",
       "      <th>trip_time</th>\n",
       "      <th>trip_time_mins</th>\n",
       "    </tr>\n",
       "  </thead>\n",
       "  <tbody>\n",
       "    <tr>\n",
       "      <th>0</th>\n",
       "      <td>7221407</td>\n",
       "      <td>2015-08-31 23:59:00</td>\n",
       "      <td>2015-09-01 00:03:00</td>\n",
       "      <td>Subscriber</td>\n",
       "      <td>41.871737</td>\n",
       "      <td>-87.651030</td>\n",
       "      <td>41.877726</td>\n",
       "      <td>-87.654787</td>\n",
       "      <td>60607</td>\n",
       "      <td>00:04:00</td>\n",
       "      <td>4.0</td>\n",
       "    </tr>\n",
       "    <tr>\n",
       "      <th>1</th>\n",
       "      <td>7221406</td>\n",
       "      <td>2015-08-31 23:58:00</td>\n",
       "      <td>2015-09-01 00:26:00</td>\n",
       "      <td>Customer</td>\n",
       "      <td>41.914027</td>\n",
       "      <td>-87.705126</td>\n",
       "      <td>41.916017</td>\n",
       "      <td>-87.668879</td>\n",
       "      <td>60647</td>\n",
       "      <td>00:28:00</td>\n",
       "      <td>28.0</td>\n",
       "    </tr>\n",
       "    <tr>\n",
       "      <th>2</th>\n",
       "      <td>7221404</td>\n",
       "      <td>2015-08-31 23:57:00</td>\n",
       "      <td>2015-09-01 00:05:00</td>\n",
       "      <td>Subscriber</td>\n",
       "      <td>41.885464</td>\n",
       "      <td>-87.641253</td>\n",
       "      <td>41.893992</td>\n",
       "      <td>-87.629318</td>\n",
       "      <td>60661</td>\n",
       "      <td>00:08:00</td>\n",
       "      <td>8.0</td>\n",
       "    </tr>\n",
       "    <tr>\n",
       "      <th>3</th>\n",
       "      <td>7221405</td>\n",
       "      <td>2015-08-31 23:57:00</td>\n",
       "      <td>2015-09-01 00:06:00</td>\n",
       "      <td>Customer</td>\n",
       "      <td>41.952833</td>\n",
       "      <td>-87.649993</td>\n",
       "      <td>41.939743</td>\n",
       "      <td>-87.658865</td>\n",
       "      <td>60613</td>\n",
       "      <td>00:09:00</td>\n",
       "      <td>9.0</td>\n",
       "    </tr>\n",
       "    <tr>\n",
       "      <th>4</th>\n",
       "      <td>7221403</td>\n",
       "      <td>2015-08-31 23:56:00</td>\n",
       "      <td>2015-09-01 00:08:00</td>\n",
       "      <td>Subscriber</td>\n",
       "      <td>41.933666</td>\n",
       "      <td>-87.648959</td>\n",
       "      <td>41.932595</td>\n",
       "      <td>-87.665939</td>\n",
       "      <td>60657</td>\n",
       "      <td>00:12:00</td>\n",
       "      <td>12.0</td>\n",
       "    </tr>\n",
       "  </tbody>\n",
       "</table>\n",
       "</div>"
      ],
      "text/plain": [
       "   trip_id          start_time           stop_time   user_type   from_lat  \\\n",
       "0  7221407 2015-08-31 23:59:00 2015-09-01 00:03:00  Subscriber  41.871737   \n",
       "1  7221406 2015-08-31 23:58:00 2015-09-01 00:26:00    Customer  41.914027   \n",
       "2  7221404 2015-08-31 23:57:00 2015-09-01 00:05:00  Subscriber  41.885464   \n",
       "3  7221405 2015-08-31 23:57:00 2015-09-01 00:06:00    Customer  41.952833   \n",
       "4  7221403 2015-08-31 23:56:00 2015-09-01 00:08:00  Subscriber  41.933666   \n",
       "\n",
       "    from_lon     to_lat     to_lon    zip  trip_time  trip_time_mins  \n",
       "0 -87.651030  41.877726 -87.654787  60607   00:04:00             4.0  \n",
       "1 -87.705126  41.916017 -87.668879  60647   00:28:00            28.0  \n",
       "2 -87.641253  41.893992 -87.629318  60661   00:08:00             8.0  \n",
       "3 -87.649993  41.939743 -87.658865  60613   00:09:00             9.0  \n",
       "4 -87.648959  41.932595 -87.665939  60657   00:12:00            12.0  "
      ]
     },
     "execution_count": 21,
     "metadata": {},
     "output_type": "execute_result"
    }
   ],
   "source": [
    "divvy_data.head()"
   ]
  },
  {
   "cell_type": "code",
   "execution_count": 23,
   "metadata": {
    "collapsed": false
   },
   "outputs": [
    {
     "data": {
      "text/plain": [
       "<matplotlib.axes._subplots.AxesSubplot at 0xa8daeb8>"
      ]
     },
     "execution_count": 23,
     "metadata": {},
     "output_type": "execute_result"
    },
    {
     "data": {
      "image/png": "[encoded data removed]",
      "text/plain": [
       "<matplotlib.figure.Figure at 0xa8b5d68>"
      ]
     },
     "metadata": {},
     "output_type": "display_data"
    }
   ],
   "source": [
    "divvy_data[divvy_data['trip_time_mins'] < 60].trip_time_mins.hist()"
   ]
  },
  {
   "cell_type": "code",
   "execution_count": 26,
   "metadata": {
    "collapsed": false
   },
   "outputs": [
    {
     "data": {
      "text/plain": [
       "3183"
      ]
     },
     "execution_count": 26,
     "metadata": {},
     "output_type": "execute_result"
    }
   ],
   "source": [
    "divvy_data[divvy_data['trip_time_mins'] < 2]['trip_time_mins'].count()"
   ]
  },
  {
   "cell_type": "code",
   "execution_count": 27,
   "metadata": {
    "collapsed": false
   },
   "outputs": [
    {
     "data": {
      "text/plain": [
       "<matplotlib.axes._subplots.AxesSubplot at 0xa93fa58>"
      ]
     },
     "execution_count": 27,
     "metadata": {},
     "output_type": "execute_result"
    },
    {
     "data": {
      "image/png": "[encoded data removed]",
      "text/plain": [
       "<matplotlib.figure.Figure at 0xa943780>"
      ]
     },
     "metadata": {},
     "output_type": "display_data"
    }
   ],
   "source": [
    "divvy_data[divvy_data['trip_time_mins'] < 10]['trip_time_mins'].hist()"
   ]
  },
  {
   "cell_type": "code",
   "execution_count": 30,
   "metadata": {
    "collapsed": false
   },
   "outputs": [
    {
     "data": {
      "text/plain": [
       "6760"
      ]
     },
     "execution_count": 30,
     "metadata": {},
     "output_type": "execute_result"
    }
   ],
   "source": [
    "divvy_data[(divvy_data['from_lat'] == divvy_data['to_lat']) & (divvy_data['trip_time_mins'] < 4)].trip_time_mins.count()"
   ]
  },
  {
   "cell_type": "code",
   "execution_count": 31,
   "metadata": {
    "collapsed": false
   },
   "outputs": [
    {
     "data": {
      "text/plain": [
       "36496"
      ]
     },
     "execution_count": 31,
     "metadata": {},
     "output_type": "execute_result"
    }
   ],
   "source": [
    "divvy_data[(divvy_data['from_lat'] != divvy_data['to_lat']) & (divvy_data['trip_time_mins'] < 4)].trip_time_mins.count()"
   ]
  },
  {
   "cell_type": "code",
   "execution_count": 32,
   "metadata": {
    "collapsed": false
   },
   "outputs": [
    {
     "data": {
      "text/plain": [
       "109883"
      ]
     },
     "execution_count": 32,
     "metadata": {},
     "output_type": "execute_result"
    }
   ],
   "source": [
    "divvy_data[divvy_data['trip_time_mins'] >30].trip_time_mins.count()"
   ]
  },
  {
   "cell_type": "code",
   "execution_count": 33,
   "metadata": {
    "collapsed": false
   },
   "outputs": [
    {
     "data": {
      "text/html": [
       "<div>\n",
       "<table border=\"1\" class=\"dataframe\">\n",
       "  <thead>\n",
       "    <tr style=\"text-align: right;\">\n",
       "      <th></th>\n",
       "      <th>trip_id</th>\n",
       "      <th>start_time</th>\n",
       "      <th>stop_time</th>\n",
       "      <th>user_type</th>\n",
       "      <th>from_lat</th>\n",
       "      <th>from_lon</th>\n",
       "      <th>to_lat</th>\n",
       "      <th>to_lon</th>\n",
       "      <th>zip</th>\n",
       "      <th>trip_time</th>\n",
       "      <th>trip_time_mins</th>\n",
       "    </tr>\n",
       "  </thead>\n",
       "  <tbody>\n",
       "    <tr>\n",
       "      <th>0</th>\n",
       "      <td>7221407</td>\n",
       "      <td>2015-08-31 23:59:00</td>\n",
       "      <td>2015-09-01 00:03:00</td>\n",
       "      <td>Subscriber</td>\n",
       "      <td>41.871737</td>\n",
       "      <td>-87.651030</td>\n",
       "      <td>41.877726</td>\n",
       "      <td>-87.654787</td>\n",
       "      <td>60607</td>\n",
       "      <td>00:04:00</td>\n",
       "      <td>4.0</td>\n",
       "    </tr>\n",
       "    <tr>\n",
       "      <th>1</th>\n",
       "      <td>7221406</td>\n",
       "      <td>2015-08-31 23:58:00</td>\n",
       "      <td>2015-09-01 00:26:00</td>\n",
       "      <td>Customer</td>\n",
       "      <td>41.914027</td>\n",
       "      <td>-87.705126</td>\n",
       "      <td>41.916017</td>\n",
       "      <td>-87.668879</td>\n",
       "      <td>60647</td>\n",
       "      <td>00:28:00</td>\n",
       "      <td>28.0</td>\n",
       "    </tr>\n",
       "    <tr>\n",
       "      <th>2</th>\n",
       "      <td>7221404</td>\n",
       "      <td>2015-08-31 23:57:00</td>\n",
       "      <td>2015-09-01 00:05:00</td>\n",
       "      <td>Subscriber</td>\n",
       "      <td>41.885464</td>\n",
       "      <td>-87.641253</td>\n",
       "      <td>41.893992</td>\n",
       "      <td>-87.629318</td>\n",
       "      <td>60661</td>\n",
       "      <td>00:08:00</td>\n",
       "      <td>8.0</td>\n",
       "    </tr>\n",
       "    <tr>\n",
       "      <th>3</th>\n",
       "      <td>7221405</td>\n",
       "      <td>2015-08-31 23:57:00</td>\n",
       "      <td>2015-09-01 00:06:00</td>\n",
       "      <td>Customer</td>\n",
       "      <td>41.952833</td>\n",
       "      <td>-87.649993</td>\n",
       "      <td>41.939743</td>\n",
       "      <td>-87.658865</td>\n",
       "      <td>60613</td>\n",
       "      <td>00:09:00</td>\n",
       "      <td>9.0</td>\n",
       "    </tr>\n",
       "    <tr>\n",
       "      <th>4</th>\n",
       "      <td>7221403</td>\n",
       "      <td>2015-08-31 23:56:00</td>\n",
       "      <td>2015-09-01 00:08:00</td>\n",
       "      <td>Subscriber</td>\n",
       "      <td>41.933666</td>\n",
       "      <td>-87.648959</td>\n",
       "      <td>41.932595</td>\n",
       "      <td>-87.665939</td>\n",
       "      <td>60657</td>\n",
       "      <td>00:12:00</td>\n",
       "      <td>12.0</td>\n",
       "    </tr>\n",
       "  </tbody>\n",
       "</table>\n",
       "</div>"
      ],
      "text/plain": [
       "   trip_id          start_time           stop_time   user_type   from_lat  \\\n",
       "0  7221407 2015-08-31 23:59:00 2015-09-01 00:03:00  Subscriber  41.871737   \n",
       "1  7221406 2015-08-31 23:58:00 2015-09-01 00:26:00    Customer  41.914027   \n",
       "2  7221404 2015-08-31 23:57:00 2015-09-01 00:05:00  Subscriber  41.885464   \n",
       "3  7221405 2015-08-31 23:57:00 2015-09-01 00:06:00    Customer  41.952833   \n",
       "4  7221403 2015-08-31 23:56:00 2015-09-01 00:08:00  Subscriber  41.933666   \n",
       "\n",
       "    from_lon     to_lat     to_lon    zip  trip_time  trip_time_mins  \n",
       "0 -87.651030  41.877726 -87.654787  60607   00:04:00             4.0  \n",
       "1 -87.705126  41.916017 -87.668879  60647   00:28:00            28.0  \n",
       "2 -87.641253  41.893992 -87.629318  60661   00:08:00             8.0  \n",
       "3 -87.649993  41.939743 -87.658865  60613   00:09:00             9.0  \n",
       "4 -87.648959  41.932595 -87.665939  60657   00:12:00            12.0  "
      ]
     },
     "execution_count": 33,
     "metadata": {},
     "output_type": "execute_result"
    }
   ],
   "source": [
    "divvy_data.head()"
   ]
  },
  {
   "cell_type": "code",
   "execution_count": 35,
   "metadata": {
    "collapsed": false
   },
   "outputs": [
    {
     "data": {
      "text/plain": [
       "array(['Subscriber', 'Customer', 'Dependent'], dtype=object)"
      ]
     },
     "execution_count": 35,
     "metadata": {},
     "output_type": "execute_result"
    }
   ],
   "source": [
    "divvy_data.user_type.unique()"
   ]
  },
  {
   "cell_type": "code",
   "execution_count": 37,
   "metadata": {
    "collapsed": false
   },
   "outputs": [
    {
     "data": {
      "text/html": [
       "<div>\n",
       "<table border=\"1\" class=\"dataframe\">\n",
       "  <thead>\n",
       "    <tr style=\"text-align: right;\">\n",
       "      <th></th>\n",
       "      <th>trip_id</th>\n",
       "      <th>start_time</th>\n",
       "      <th>stop_time</th>\n",
       "      <th>from_lat</th>\n",
       "      <th>from_lon</th>\n",
       "      <th>to_lat</th>\n",
       "      <th>to_lon</th>\n",
       "      <th>zip</th>\n",
       "      <th>trip_time</th>\n",
       "      <th>trip_time_mins</th>\n",
       "    </tr>\n",
       "    <tr>\n",
       "      <th>user_type</th>\n",
       "      <th></th>\n",
       "      <th></th>\n",
       "      <th></th>\n",
       "      <th></th>\n",
       "      <th></th>\n",
       "      <th></th>\n",
       "      <th></th>\n",
       "      <th></th>\n",
       "      <th></th>\n",
       "      <th></th>\n",
       "    </tr>\n",
       "  </thead>\n",
       "  <tbody>\n",
       "    <tr>\n",
       "      <th>Customer</th>\n",
       "      <td>375105</td>\n",
       "      <td>375105</td>\n",
       "      <td>375105</td>\n",
       "      <td>375105</td>\n",
       "      <td>375105</td>\n",
       "      <td>375105</td>\n",
       "      <td>375105</td>\n",
       "      <td>375105</td>\n",
       "      <td>375105</td>\n",
       "      <td>375105</td>\n",
       "    </tr>\n",
       "    <tr>\n",
       "      <th>Dependent</th>\n",
       "      <td>45</td>\n",
       "      <td>45</td>\n",
       "      <td>45</td>\n",
       "      <td>45</td>\n",
       "      <td>45</td>\n",
       "      <td>45</td>\n",
       "      <td>45</td>\n",
       "      <td>45</td>\n",
       "      <td>45</td>\n",
       "      <td>45</td>\n",
       "    </tr>\n",
       "    <tr>\n",
       "      <th>Subscriber</th>\n",
       "      <td>624850</td>\n",
       "      <td>624850</td>\n",
       "      <td>624850</td>\n",
       "      <td>624850</td>\n",
       "      <td>624850</td>\n",
       "      <td>624850</td>\n",
       "      <td>624850</td>\n",
       "      <td>624850</td>\n",
       "      <td>624850</td>\n",
       "      <td>624850</td>\n",
       "    </tr>\n",
       "  </tbody>\n",
       "</table>\n",
       "</div>"
      ],
      "text/plain": [
       "            trip_id  start_time  stop_time  from_lat  from_lon  to_lat  \\\n",
       "user_type                                                                \n",
       "Customer     375105      375105     375105    375105    375105  375105   \n",
       "Dependent        45          45         45        45        45      45   \n",
       "Subscriber   624850      624850     624850    624850    624850  624850   \n",
       "\n",
       "            to_lon     zip  trip_time  trip_time_mins  \n",
       "user_type                                              \n",
       "Customer    375105  375105     375105          375105  \n",
       "Dependent       45      45         45              45  \n",
       "Subscriber  624850  624850     624850          624850  "
      ]
     },
     "execution_count": 37,
     "metadata": {},
     "output_type": "execute_result"
    }
   ],
   "source": [
    "divvy_data.groupby(\"user_type\").count()"
   ]
  },
  {
   "cell_type": "code",
   "execution_count": null,
   "metadata": {
    "collapsed": true
   },
   "outputs": [],
   "source": []
  }
 ],
 "metadata": {
  "kernelspec": {
   "display_name": "Python 3",
   "language": "python",
   "name": "python3"
  },
  "language_info": {
   "codemirror_mode": {
    "name": "ipython",
    "version": 3
   },
   "file_extension": ".py",
   "mimetype": "text/x-python",
   "name": "python",
   "nbconvert_exporter": "python",
   "pygments_lexer": "ipython3",
   "version": "3.5.1"
  }
 },
 "nbformat": 4,
 "nbformat_minor": 1
}
