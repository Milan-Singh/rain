{
 "cells": [
  {
   "cell_type": "code",
   "execution_count": 1,
   "metadata": {
    "collapsed": false
   },
   "outputs": [],
   "source": [
    "import numpy as np\n",
    "from numpy import ma\n",
    "from pyproj import Geod\n",
    "from metpy.io.nexrad import Level3File\n",
    "from metpy.plots import ctables\n",
    "import pandas as pd\n",
    "import geopandas as gpd\n",
    "from shapely.geometry import Point\n",
    "import os, tarfile, wget, re"
   ]
  },
  {
   "cell_type": "code",
   "execution_count": 2,
   "metadata": {
    "collapsed": false
   },
   "outputs": [
    {
     "name": "stdout",
     "output_type": "stream",
     "text": [
      "100% [......................................................................] 252090873 / 252090873"
     ]
    }
   ],
   "source": [
    "# Using wget module to make long-running downloads easier\n",
    "file_path = wget.download('http://www1.ncdc.noaa.gov/pub/has/HAS010805581/NWS_NEXRAD_NXL3_KLOT_20160901000000_20160901235959.tar.gz',\n",
    "                          out='nexrad_data')"
   ]
  },
  {
   "cell_type": "markdown",
   "metadata": {},
   "source": [
    "### NEXRAD ETL\n",
    "\n",
    "NEXRAD data has location as well as precipitation at a high level of detail. Planning on using the One Hour Precipitation DAA Level III file, but other options are listed here: [NEXRAD Data Products](http://www.ncdc.noaa.gov/data-access/radar-data/nexrad-products). Currently working on an ETL process:\n",
    "\n",
    "* Download data from pre-processed NEXRAD Level III data on precipitation through the [NOAA Climate Data Online Search](http://www.ncdc.noaa.gov/cdo-web/search?datasetid=NEXRAD3)\n",
    "* Pull batch downloads from FTP or HTTPS location similar to this `http://www1.ncdc.noaa.gov/pub/has/{DOWNLOAD_ID}`\n",
    "* Because files are large gzipped tar files, extract just the files for the desired data product (DAA in this case)\n",
    "* Read NEXRAD data in directly with [MetPy](https://github.com/metpy/MetPy)\n",
    "* Reduce detail on precipitation into DataFrame with `x`, `y`, `lat`, `lon`, and `precip` columns (and also handle files that have no precipitation\n",
    "* Use [GeoPandas](https://github.com/geopandas/geopandas) to perform a spatial join on the data onto a larger polygon dataset, and setting the polygon `precip` value to the mean `precip` value from all the points within it\n",
    "* Combine the many NEXRAD DataFrames produced by this together\n",
    "\n",
    "#### Additional Details\n",
    "\n",
    "* Units seem to be in millimeters, judged by the description in this paper using Quantitative Precipitation Estimates from NEXRAD: [DuPage County Modeling](https://pubs.usgs.gov/fs/2015/3076/fs20153076.pdf)"
   ]
  },
  {
   "cell_type": "code",
   "execution_count": 6,
   "metadata": {
    "collapsed": false
   },
   "outputs": [
    {
     "name": "stdout",
     "output_type": "stream",
     "text": [
      "['KLOT_SDUS83_DAALOT_201609010322', 'KLOT_SDUS83_DAALOT_201609010331', 'KLOT_SDUS83_DAALOT_201609010341', 'KLOT_SDUS83_DAALOT_201609010351', 'KLOT_SDUS83_DAALOT_201609010401', 'KLOT_SDUS83_DAALOT_201609010410', 'KLOT_SDUS83_DAALOT_201609010420', 'KLOT_SDUS83_DAALOT_201609010430', 'KLOT_SDUS83_DAALOT_201609010440', 'KLOT_SDUS83_DAALOT_201609010449']\n",
      "KLOT_SDUS83_DAALOT_201609010459\n"
     ]
    }
   ],
   "source": [
    "# We don't need most of the files in the tar file, use the tarfile module to only pull ones necessary\n",
    "# \n",
    "# Once DAA files are downloaded, delete the rest of the archive\n",
    "daa_files = list()\n",
    "\n",
    "tar = tarfile.open('nexrad_data/NWS_NEXRAD_NXL3_KLOT_20160901000000_20160901235959.tar.gz',\"r:gz\")\n",
    "for t in tar.getnames():\n",
    "    if re.match(r'.*DAALOT.*', t):\n",
    "        daa_files.append(t)\n",
    "        \n",
    "print(daa_files[20:30])\n",
    "print(daa_files[29])"
   ]
  },
  {
   "cell_type": "code",
   "execution_count": 7,
   "metadata": {
    "collapsed": false
   },
   "outputs": [],
   "source": [
    "# Random DAA file that happens to have data\n",
    "rand_daa = tar.extractfile(daa_files[29])\n",
    "f = Level3File(rand_daa)\n",
    "\n",
    "# Pull the data out of the file object\n",
    "datadict = f.sym_block[0][0]\n",
    "data = ma.array(datadict['data'])\n",
    "data[data==0] = ma.masked\n",
    "\n",
    "az = np.array(datadict['start_az'] + [datadict['end_az'][-1]])\n",
    "rng = np.linspace(0, f.max_range, data.shape[-1] + 1)\n",
    "\n",
    "# Data from MetPy needs to be converted to latitude and longitude coordinates\n",
    "g = Geod(ellps='clrk66')\n",
    "center_lat = np.ones([len(az),len(rng)])*f.lat\n",
    "center_lon = np.ones([len(az),len(rng)])*f.lon\n",
    "\n",
    "az2D = np.ones_like(center_lat)*az[:,None]\n",
    "rng2D = np.ones_like(center_lat)*np.transpose(rng[:,None])*1000\n",
    "lon,lat,back = g.fwd(center_lon,center_lat,az2D,rng2D)"
   ]
  },
  {
   "cell_type": "code",
   "execution_count": 8,
   "metadata": {
    "collapsed": false
   },
   "outputs": [
    {
     "name": "stdout",
     "output_type": "stream",
     "text": [
      "(361, 921)\n"
     ]
    },
    {
     "data": {
      "text/html": [
       "<div>\n",
       "<table border=\"1\" class=\"dataframe\">\n",
       "  <thead>\n",
       "    <tr style=\"text-align: right;\">\n",
       "      <th></th>\n",
       "      <th>0</th>\n",
       "      <th>1</th>\n",
       "      <th>2</th>\n",
       "      <th>3</th>\n",
       "      <th>4</th>\n",
       "      <th>5</th>\n",
       "      <th>6</th>\n",
       "      <th>7</th>\n",
       "      <th>8</th>\n",
       "      <th>9</th>\n",
       "      <th>...</th>\n",
       "      <th>911</th>\n",
       "      <th>912</th>\n",
       "      <th>913</th>\n",
       "      <th>914</th>\n",
       "      <th>915</th>\n",
       "      <th>916</th>\n",
       "      <th>917</th>\n",
       "      <th>918</th>\n",
       "      <th>919</th>\n",
       "      <th>920</th>\n",
       "    </tr>\n",
       "  </thead>\n",
       "  <tbody>\n",
       "    <tr>\n",
       "      <th>0</th>\n",
       "      <td>41.604</td>\n",
       "      <td>41.606251</td>\n",
       "      <td>41.608502</td>\n",
       "      <td>41.610753</td>\n",
       "      <td>41.613004</td>\n",
       "      <td>41.615255</td>\n",
       "      <td>41.617506</td>\n",
       "      <td>41.619757</td>\n",
       "      <td>41.622008</td>\n",
       "      <td>41.624259</td>\n",
       "      <td>...</td>\n",
       "      <td>43.654248</td>\n",
       "      <td>43.656498</td>\n",
       "      <td>43.658748</td>\n",
       "      <td>43.660998</td>\n",
       "      <td>43.663249</td>\n",
       "      <td>43.665499</td>\n",
       "      <td>43.667749</td>\n",
       "      <td>43.669999</td>\n",
       "      <td>43.672249</td>\n",
       "      <td>43.674499</td>\n",
       "    </tr>\n",
       "    <tr>\n",
       "      <th>1</th>\n",
       "      <td>41.604</td>\n",
       "      <td>41.606251</td>\n",
       "      <td>41.608501</td>\n",
       "      <td>41.610752</td>\n",
       "      <td>41.613002</td>\n",
       "      <td>41.615253</td>\n",
       "      <td>41.617504</td>\n",
       "      <td>41.619754</td>\n",
       "      <td>41.622005</td>\n",
       "      <td>41.624255</td>\n",
       "      <td>...</td>\n",
       "      <td>43.653925</td>\n",
       "      <td>43.656175</td>\n",
       "      <td>43.658425</td>\n",
       "      <td>43.660675</td>\n",
       "      <td>43.662925</td>\n",
       "      <td>43.665174</td>\n",
       "      <td>43.667424</td>\n",
       "      <td>43.669674</td>\n",
       "      <td>43.671924</td>\n",
       "      <td>43.674173</td>\n",
       "    </tr>\n",
       "    <tr>\n",
       "      <th>2</th>\n",
       "      <td>41.604</td>\n",
       "      <td>41.606250</td>\n",
       "      <td>41.608499</td>\n",
       "      <td>41.610749</td>\n",
       "      <td>41.612998</td>\n",
       "      <td>41.615248</td>\n",
       "      <td>41.617497</td>\n",
       "      <td>41.619747</td>\n",
       "      <td>41.621997</td>\n",
       "      <td>41.624246</td>\n",
       "      <td>...</td>\n",
       "      <td>43.652958</td>\n",
       "      <td>43.655207</td>\n",
       "      <td>43.657455</td>\n",
       "      <td>43.659704</td>\n",
       "      <td>43.661953</td>\n",
       "      <td>43.664201</td>\n",
       "      <td>43.666450</td>\n",
       "      <td>43.668699</td>\n",
       "      <td>43.670947</td>\n",
       "      <td>43.673196</td>\n",
       "    </tr>\n",
       "    <tr>\n",
       "      <th>3</th>\n",
       "      <td>41.604</td>\n",
       "      <td>41.606248</td>\n",
       "      <td>41.608496</td>\n",
       "      <td>41.610744</td>\n",
       "      <td>41.612991</td>\n",
       "      <td>41.615239</td>\n",
       "      <td>41.617487</td>\n",
       "      <td>41.619735</td>\n",
       "      <td>41.621983</td>\n",
       "      <td>41.624231</td>\n",
       "      <td>...</td>\n",
       "      <td>43.651346</td>\n",
       "      <td>43.653593</td>\n",
       "      <td>43.655839</td>\n",
       "      <td>43.658086</td>\n",
       "      <td>43.660333</td>\n",
       "      <td>43.662580</td>\n",
       "      <td>43.664827</td>\n",
       "      <td>43.667074</td>\n",
       "      <td>43.669320</td>\n",
       "      <td>43.671567</td>\n",
       "    </tr>\n",
       "    <tr>\n",
       "      <th>4</th>\n",
       "      <td>41.604</td>\n",
       "      <td>41.606245</td>\n",
       "      <td>41.608491</td>\n",
       "      <td>41.610736</td>\n",
       "      <td>41.612982</td>\n",
       "      <td>41.615227</td>\n",
       "      <td>41.617473</td>\n",
       "      <td>41.619718</td>\n",
       "      <td>41.621964</td>\n",
       "      <td>41.624209</td>\n",
       "      <td>...</td>\n",
       "      <td>43.649089</td>\n",
       "      <td>43.651334</td>\n",
       "      <td>43.653578</td>\n",
       "      <td>43.655822</td>\n",
       "      <td>43.658066</td>\n",
       "      <td>43.660311</td>\n",
       "      <td>43.662555</td>\n",
       "      <td>43.664799</td>\n",
       "      <td>43.667044</td>\n",
       "      <td>43.669288</td>\n",
       "    </tr>\n",
       "  </tbody>\n",
       "</table>\n",
       "<p>5 rows × 921 columns</p>\n",
       "</div>"
      ],
      "text/plain": [
       "      0          1          2          3          4          5          6    \\\n",
       "0  41.604  41.606251  41.608502  41.610753  41.613004  41.615255  41.617506   \n",
       "1  41.604  41.606251  41.608501  41.610752  41.613002  41.615253  41.617504   \n",
       "2  41.604  41.606250  41.608499  41.610749  41.612998  41.615248  41.617497   \n",
       "3  41.604  41.606248  41.608496  41.610744  41.612991  41.615239  41.617487   \n",
       "4  41.604  41.606245  41.608491  41.610736  41.612982  41.615227  41.617473   \n",
       "\n",
       "         7          8          9      ...            911        912  \\\n",
       "0  41.619757  41.622008  41.624259    ...      43.654248  43.656498   \n",
       "1  41.619754  41.622005  41.624255    ...      43.653925  43.656175   \n",
       "2  41.619747  41.621997  41.624246    ...      43.652958  43.655207   \n",
       "3  41.619735  41.621983  41.624231    ...      43.651346  43.653593   \n",
       "4  41.619718  41.621964  41.624209    ...      43.649089  43.651334   \n",
       "\n",
       "         913        914        915        916        917        918  \\\n",
       "0  43.658748  43.660998  43.663249  43.665499  43.667749  43.669999   \n",
       "1  43.658425  43.660675  43.662925  43.665174  43.667424  43.669674   \n",
       "2  43.657455  43.659704  43.661953  43.664201  43.666450  43.668699   \n",
       "3  43.655839  43.658086  43.660333  43.662580  43.664827  43.667074   \n",
       "4  43.653578  43.655822  43.658066  43.660311  43.662555  43.664799   \n",
       "\n",
       "         919        920  \n",
       "0  43.672249  43.674499  \n",
       "1  43.671924  43.674173  \n",
       "2  43.670947  43.673196  \n",
       "3  43.669320  43.671567  \n",
       "4  43.667044  43.669288  \n",
       "\n",
       "[5 rows x 921 columns]"
      ]
     },
     "execution_count": 8,
     "metadata": {},
     "output_type": "execute_result"
    }
   ],
   "source": [
    "# Once the data is returned, it can be converted into DataFrames for easier manipulation\n",
    "lat_df = pd.DataFrame(lat)\n",
    "lon_df = pd.DataFrame(lon)\n",
    "data_df = pd.DataFrame(data)\n",
    "print(lat_df.shape)\n",
    "lat_df.head()"
   ]
  },
  {
   "cell_type": "code",
   "execution_count": 9,
   "metadata": {
    "collapsed": false
   },
   "outputs": [
    {
     "name": "stdout",
     "output_type": "stream",
     "text": [
      "(332481, 3)\n"
     ]
    },
    {
     "data": {
      "text/html": [
       "<div>\n",
       "<table border=\"1\" class=\"dataframe\">\n",
       "  <thead>\n",
       "    <tr style=\"text-align: right;\">\n",
       "      <th></th>\n",
       "      <th>x</th>\n",
       "      <th>y</th>\n",
       "      <th>lon</th>\n",
       "    </tr>\n",
       "  </thead>\n",
       "  <tbody>\n",
       "    <tr>\n",
       "      <th>0</th>\n",
       "      <td>0</td>\n",
       "      <td>0</td>\n",
       "      <td>-88.085</td>\n",
       "    </tr>\n",
       "    <tr>\n",
       "      <th>1</th>\n",
       "      <td>0</td>\n",
       "      <td>1</td>\n",
       "      <td>-88.085</td>\n",
       "    </tr>\n",
       "    <tr>\n",
       "      <th>2</th>\n",
       "      <td>0</td>\n",
       "      <td>2</td>\n",
       "      <td>-88.085</td>\n",
       "    </tr>\n",
       "    <tr>\n",
       "      <th>3</th>\n",
       "      <td>0</td>\n",
       "      <td>3</td>\n",
       "      <td>-88.085</td>\n",
       "    </tr>\n",
       "    <tr>\n",
       "      <th>4</th>\n",
       "      <td>0</td>\n",
       "      <td>4</td>\n",
       "      <td>-88.085</td>\n",
       "    </tr>\n",
       "  </tbody>\n",
       "</table>\n",
       "</div>"
      ],
      "text/plain": [
       "   x  y     lon\n",
       "0  0  0 -88.085\n",
       "1  0  1 -88.085\n",
       "2  0  2 -88.085\n",
       "3  0  3 -88.085\n",
       "4  0  4 -88.085"
      ]
     },
     "execution_count": 9,
     "metadata": {},
     "output_type": "execute_result"
    }
   ],
   "source": [
    "# Stack DataFrames so dealing with more rows than columns\n",
    "lon_stack = lon_df.stack().reset_index()\n",
    "lon_stack = lon_stack.rename(columns={'level_0': 'x', 'level_1': 'y', 0: 'lon'})\n",
    "lat_stack = lat_df.stack().reset_index()\n",
    "lat_stack = lat_stack.rename(columns={'level_0': 'x', 'level_1': 'y', 0: 'lat'})\n",
    "print(lon_stack.shape)\n",
    "lon_stack.head()"
   ]
  },
  {
   "cell_type": "code",
   "execution_count": 10,
   "metadata": {
    "collapsed": false
   },
   "outputs": [
    {
     "name": "stdout",
     "output_type": "stream",
     "text": [
      "(332481, 4)\n"
     ]
    },
    {
     "data": {
      "text/html": [
       "<div>\n",
       "<table border=\"1\" class=\"dataframe\">\n",
       "  <thead>\n",
       "    <tr style=\"text-align: right;\">\n",
       "      <th></th>\n",
       "      <th>x</th>\n",
       "      <th>y</th>\n",
       "      <th>lat</th>\n",
       "      <th>lon</th>\n",
       "    </tr>\n",
       "  </thead>\n",
       "  <tbody>\n",
       "    <tr>\n",
       "      <th>0</th>\n",
       "      <td>0</td>\n",
       "      <td>0</td>\n",
       "      <td>41.604000</td>\n",
       "      <td>-88.085</td>\n",
       "    </tr>\n",
       "    <tr>\n",
       "      <th>1</th>\n",
       "      <td>0</td>\n",
       "      <td>1</td>\n",
       "      <td>41.606251</td>\n",
       "      <td>-88.085</td>\n",
       "    </tr>\n",
       "    <tr>\n",
       "      <th>2</th>\n",
       "      <td>0</td>\n",
       "      <td>2</td>\n",
       "      <td>41.608502</td>\n",
       "      <td>-88.085</td>\n",
       "    </tr>\n",
       "    <tr>\n",
       "      <th>3</th>\n",
       "      <td>0</td>\n",
       "      <td>3</td>\n",
       "      <td>41.610753</td>\n",
       "      <td>-88.085</td>\n",
       "    </tr>\n",
       "    <tr>\n",
       "      <th>4</th>\n",
       "      <td>0</td>\n",
       "      <td>4</td>\n",
       "      <td>41.613004</td>\n",
       "      <td>-88.085</td>\n",
       "    </tr>\n",
       "  </tbody>\n",
       "</table>\n",
       "</div>"
      ],
      "text/plain": [
       "   x  y        lat     lon\n",
       "0  0  0  41.604000 -88.085\n",
       "1  0  1  41.606251 -88.085\n",
       "2  0  2  41.608502 -88.085\n",
       "3  0  3  41.610753 -88.085\n",
       "4  0  4  41.613004 -88.085"
      ]
     },
     "execution_count": 10,
     "metadata": {},
     "output_type": "execute_result"
    }
   ],
   "source": [
    "# Merge lat and lon DataFrames on x and y indices from original matrix to join data_df\n",
    "coord_merge = pd.merge(lat_stack, lon_stack, on=['x', 'y'])\n",
    "print(coord_merge.shape)\n",
    "coord_merge.head()"
   ]
  },
  {
   "cell_type": "code",
   "execution_count": 11,
   "metadata": {
    "collapsed": false
   },
   "outputs": [
    {
     "name": "stdout",
     "output_type": "stream",
     "text": [
      "(21802, 3)\n"
     ]
    },
    {
     "data": {
      "text/html": [
       "<div>\n",
       "<table border=\"1\" class=\"dataframe\">\n",
       "  <thead>\n",
       "    <tr style=\"text-align: right;\">\n",
       "      <th></th>\n",
       "      <th>x</th>\n",
       "      <th>y</th>\n",
       "      <th>precip</th>\n",
       "    </tr>\n",
       "  </thead>\n",
       "  <tbody>\n",
       "    <tr>\n",
       "      <th>0</th>\n",
       "      <td>0</td>\n",
       "      <td>26</td>\n",
       "      <td>1.0</td>\n",
       "    </tr>\n",
       "    <tr>\n",
       "      <th>1</th>\n",
       "      <td>0</td>\n",
       "      <td>27</td>\n",
       "      <td>1.0</td>\n",
       "    </tr>\n",
       "    <tr>\n",
       "      <th>2</th>\n",
       "      <td>0</td>\n",
       "      <td>67</td>\n",
       "      <td>1.0</td>\n",
       "    </tr>\n",
       "    <tr>\n",
       "      <th>3</th>\n",
       "      <td>0</td>\n",
       "      <td>68</td>\n",
       "      <td>1.0</td>\n",
       "    </tr>\n",
       "    <tr>\n",
       "      <th>4</th>\n",
       "      <td>0</td>\n",
       "      <td>69</td>\n",
       "      <td>1.0</td>\n",
       "    </tr>\n",
       "  </tbody>\n",
       "</table>\n",
       "</div>"
      ],
      "text/plain": [
       "   x   y  precip\n",
       "0  0  26     1.0\n",
       "1  0  27     1.0\n",
       "2  0  67     1.0\n",
       "3  0  68     1.0\n",
       "4  0  69     1.0"
      ]
     },
     "execution_count": 11,
     "metadata": {},
     "output_type": "execute_result"
    }
   ],
   "source": [
    "# Do the same with the precipitation DataFrame, and then merge it back onto \n",
    "data_stack = data_df.stack().reset_index()\n",
    "data_stack = data_stack.rename(columns={'level_0': 'x', 'level_1': 'y', 0: 'precip'})\n",
    "print(data_stack.shape)\n",
    "data_stack.head()"
   ]
  },
  {
   "cell_type": "code",
   "execution_count": 12,
   "metadata": {
    "collapsed": false
   },
   "outputs": [
    {
     "data": {
      "text/plain": [
       "array([   1.,    2.,    3.,    7.,    4.,    5.,    6.,   31.,   27.,\n",
       "         14.,   61.,   66.,   67.,   82.,   91.,  106.,  146.,    8.,\n",
       "          9.,   12.,  150.,   49.,   20.,   38.,   24.,   19.,   16.,\n",
       "         30.,   48.,   45.,   10.,   21.,   22.,   43.,   47.,   53.,\n",
       "         15.,   17.,   11.,   35.,   60.,   33.,   13.,   23.,   78.,\n",
       "        255.,  178.,  103.,   54.,   18.,   25.,   29.,   46.,   62.,\n",
       "         26.,  142.,  176.,  202.,  217.,  193.,  111.,   28.,   39.,\n",
       "         41.,   56.,   86.,   69.,   63.,   34.,   52.,   71.,   32.])"
      ]
     },
     "execution_count": 12,
     "metadata": {},
     "output_type": "execute_result"
    }
   ],
   "source": [
    "# This file had more information for precipitation, so the values are all on a scale of 0 to 255\n",
    "data_stack['precip'].unique()"
   ]
  },
  {
   "cell_type": "code",
   "execution_count": 13,
   "metadata": {
    "collapsed": false
   },
   "outputs": [
    {
     "name": "stdout",
     "output_type": "stream",
     "text": [
      "(332481, 5)\n"
     ]
    },
    {
     "data": {
      "text/html": [
       "<div>\n",
       "<table border=\"1\" class=\"dataframe\">\n",
       "  <thead>\n",
       "    <tr style=\"text-align: right;\">\n",
       "      <th></th>\n",
       "      <th>x</th>\n",
       "      <th>y</th>\n",
       "      <th>lat</th>\n",
       "      <th>lon</th>\n",
       "      <th>precip</th>\n",
       "    </tr>\n",
       "  </thead>\n",
       "  <tbody>\n",
       "    <tr>\n",
       "      <th>0</th>\n",
       "      <td>0</td>\n",
       "      <td>0</td>\n",
       "      <td>41.604000</td>\n",
       "      <td>-88.085</td>\n",
       "      <td>NaN</td>\n",
       "    </tr>\n",
       "    <tr>\n",
       "      <th>1</th>\n",
       "      <td>0</td>\n",
       "      <td>1</td>\n",
       "      <td>41.606251</td>\n",
       "      <td>-88.085</td>\n",
       "      <td>NaN</td>\n",
       "    </tr>\n",
       "    <tr>\n",
       "      <th>2</th>\n",
       "      <td>0</td>\n",
       "      <td>2</td>\n",
       "      <td>41.608502</td>\n",
       "      <td>-88.085</td>\n",
       "      <td>NaN</td>\n",
       "    </tr>\n",
       "    <tr>\n",
       "      <th>3</th>\n",
       "      <td>0</td>\n",
       "      <td>3</td>\n",
       "      <td>41.610753</td>\n",
       "      <td>-88.085</td>\n",
       "      <td>NaN</td>\n",
       "    </tr>\n",
       "    <tr>\n",
       "      <th>4</th>\n",
       "      <td>0</td>\n",
       "      <td>4</td>\n",
       "      <td>41.613004</td>\n",
       "      <td>-88.085</td>\n",
       "      <td>NaN</td>\n",
       "    </tr>\n",
       "  </tbody>\n",
       "</table>\n",
       "</div>"
      ],
      "text/plain": [
       "   x  y        lat     lon  precip\n",
       "0  0  0  41.604000 -88.085     NaN\n",
       "1  0  1  41.606251 -88.085     NaN\n",
       "2  0  2  41.608502 -88.085     NaN\n",
       "3  0  3  41.610753 -88.085     NaN\n",
       "4  0  4  41.613004 -88.085     NaN"
      ]
     },
     "execution_count": 13,
     "metadata": {},
     "output_type": "execute_result"
    }
   ],
   "source": [
    "# Merge coordinates and precipitation data together\n",
    "merged_data = pd.merge(coord_merge, data_stack, on=['x', 'y'], how='left')\n",
    "print(merged_data.shape)\n",
    "merged_data.head()"
   ]
  },
  {
   "cell_type": "code",
   "execution_count": 14,
   "metadata": {
    "collapsed": false
   },
   "outputs": [
    {
     "name": "stdout",
     "output_type": "stream",
     "text": [
      "(21802, 5)\n"
     ]
    },
    {
     "data": {
      "text/html": [
       "<div>\n",
       "<table border=\"1\" class=\"dataframe\">\n",
       "  <thead>\n",
       "    <tr style=\"text-align: right;\">\n",
       "      <th></th>\n",
       "      <th>x</th>\n",
       "      <th>y</th>\n",
       "      <th>lat</th>\n",
       "      <th>lon</th>\n",
       "      <th>precip</th>\n",
       "    </tr>\n",
       "  </thead>\n",
       "  <tbody>\n",
       "    <tr>\n",
       "      <th>26</th>\n",
       "      <td>0</td>\n",
       "      <td>26</td>\n",
       "      <td>41.662525</td>\n",
       "      <td>-88.085</td>\n",
       "      <td>1.0</td>\n",
       "    </tr>\n",
       "    <tr>\n",
       "      <th>27</th>\n",
       "      <td>0</td>\n",
       "      <td>27</td>\n",
       "      <td>41.664775</td>\n",
       "      <td>-88.085</td>\n",
       "      <td>1.0</td>\n",
       "    </tr>\n",
       "    <tr>\n",
       "      <th>67</th>\n",
       "      <td>0</td>\n",
       "      <td>67</td>\n",
       "      <td>41.754812</td>\n",
       "      <td>-88.085</td>\n",
       "      <td>1.0</td>\n",
       "    </tr>\n",
       "    <tr>\n",
       "      <th>68</th>\n",
       "      <td>0</td>\n",
       "      <td>68</td>\n",
       "      <td>41.757063</td>\n",
       "      <td>-88.085</td>\n",
       "      <td>1.0</td>\n",
       "    </tr>\n",
       "    <tr>\n",
       "      <th>69</th>\n",
       "      <td>0</td>\n",
       "      <td>69</td>\n",
       "      <td>41.759314</td>\n",
       "      <td>-88.085</td>\n",
       "      <td>1.0</td>\n",
       "    </tr>\n",
       "  </tbody>\n",
       "</table>\n",
       "</div>"
      ],
      "text/plain": [
       "    x   y        lat     lon  precip\n",
       "26  0  26  41.662525 -88.085     1.0\n",
       "27  0  27  41.664775 -88.085     1.0\n",
       "67  0  67  41.754812 -88.085     1.0\n",
       "68  0  68  41.757063 -88.085     1.0\n",
       "69  0  69  41.759314 -88.085     1.0"
      ]
     },
     "execution_count": 14,
     "metadata": {},
     "output_type": "execute_result"
    }
   ],
   "source": [
    "# To reduce data size and ignore unnecessary data, we can drop the many NaN rows\n",
    "daa_df = merged_data.dropna()\n",
    "print(daa_df.shape)\n",
    "daa_df.head()"
   ]
  },
  {
   "cell_type": "code",
   "execution_count": 15,
   "metadata": {
    "collapsed": false
   },
   "outputs": [
    {
     "name": "stdout",
     "output_type": "stream",
     "text": [
      "<class 'geopandas.geodataframe.GeoDataFrame'>\n"
     ]
    },
    {
     "data": {
      "text/html": [
       "<div>\n",
       "<table border=\"1\" class=\"dataframe\">\n",
       "  <thead>\n",
       "    <tr style=\"text-align: right;\">\n",
       "      <th></th>\n",
       "      <th>geometry</th>\n",
       "      <th>ward</th>\n",
       "    </tr>\n",
       "  </thead>\n",
       "  <tbody>\n",
       "    <tr>\n",
       "      <th>0</th>\n",
       "      <td>(POLYGON ((-87.69623470134458 41.8575549523838...</td>\n",
       "      <td>12</td>\n",
       "    </tr>\n",
       "    <tr>\n",
       "      <th>1</th>\n",
       "      <td>(POLYGON ((-87.66288923669032 41.7988380986824...</td>\n",
       "      <td>16</td>\n",
       "    </tr>\n",
       "    <tr>\n",
       "      <th>2</th>\n",
       "      <td>(POLYGON ((-87.69817510963803 41.8172944075599...</td>\n",
       "      <td>15</td>\n",
       "    </tr>\n",
       "    <tr>\n",
       "      <th>3</th>\n",
       "      <td>(POLYGON ((-87.65524133440029 41.8088331618279...</td>\n",
       "      <td>20</td>\n",
       "    </tr>\n",
       "    <tr>\n",
       "      <th>4</th>\n",
       "      <td>(POLYGON ((-87.66420403810295 42.0212615805274...</td>\n",
       "      <td>49</td>\n",
       "    </tr>\n",
       "  </tbody>\n",
       "</table>\n",
       "</div>"
      ],
      "text/plain": [
       "                                            geometry ward\n",
       "0  (POLYGON ((-87.69623470134458 41.8575549523838...   12\n",
       "1  (POLYGON ((-87.66288923669032 41.7988380986824...   16\n",
       "2  (POLYGON ((-87.69817510963803 41.8172944075599...   15\n",
       "3  (POLYGON ((-87.65524133440029 41.8088331618279...   20\n",
       "4  (POLYGON ((-87.66420403810295 42.0212615805274...   49"
      ]
     },
     "execution_count": 15,
     "metadata": {},
     "output_type": "execute_result"
    }
   ],
   "source": [
    "chi_wards = gpd.read_file('data/chicago_wards.geojson')\n",
    "print(type(chi_wards))\n",
    "chi_wards.head()"
   ]
  },
  {
   "cell_type": "code",
   "execution_count": 16,
   "metadata": {
    "collapsed": false
   },
   "outputs": [
    {
     "data": {
      "text/html": [
       "<div>\n",
       "<table border=\"1\" class=\"dataframe\">\n",
       "  <thead>\n",
       "    <tr style=\"text-align: right;\">\n",
       "      <th></th>\n",
       "      <th>x</th>\n",
       "      <th>y</th>\n",
       "      <th>lat</th>\n",
       "      <th>lon</th>\n",
       "      <th>precip</th>\n",
       "      <th>geometry</th>\n",
       "    </tr>\n",
       "  </thead>\n",
       "  <tbody>\n",
       "    <tr>\n",
       "      <th>26</th>\n",
       "      <td>0</td>\n",
       "      <td>26</td>\n",
       "      <td>41.662525</td>\n",
       "      <td>-88.085</td>\n",
       "      <td>1.0</td>\n",
       "      <td>POINT (-88.08500000000001 41.6625245254508)</td>\n",
       "    </tr>\n",
       "    <tr>\n",
       "      <th>27</th>\n",
       "      <td>0</td>\n",
       "      <td>27</td>\n",
       "      <td>41.664775</td>\n",
       "      <td>-88.085</td>\n",
       "      <td>1.0</td>\n",
       "      <td>POINT (-88.08500000000001 41.66477545666353)</td>\n",
       "    </tr>\n",
       "    <tr>\n",
       "      <th>67</th>\n",
       "      <td>0</td>\n",
       "      <td>67</td>\n",
       "      <td>41.754812</td>\n",
       "      <td>-88.085</td>\n",
       "      <td>1.0</td>\n",
       "      <td>POINT (-88.08500000000001 41.75481197165804)</td>\n",
       "    </tr>\n",
       "    <tr>\n",
       "      <th>68</th>\n",
       "      <td>0</td>\n",
       "      <td>68</td>\n",
       "      <td>41.757063</td>\n",
       "      <td>-88.085</td>\n",
       "      <td>1.0</td>\n",
       "      <td>POINT (-88.08500000000001 41.75706286619285)</td>\n",
       "    </tr>\n",
       "    <tr>\n",
       "      <th>69</th>\n",
       "      <td>0</td>\n",
       "      <td>69</td>\n",
       "      <td>41.759314</td>\n",
       "      <td>-88.085</td>\n",
       "      <td>1.0</td>\n",
       "      <td>POINT (-88.08500000000001 41.75931375983289)</td>\n",
       "    </tr>\n",
       "  </tbody>\n",
       "</table>\n",
       "</div>"
      ],
      "text/plain": [
       "    x   y        lat     lon  precip  \\\n",
       "26  0  26  41.662525 -88.085     1.0   \n",
       "27  0  27  41.664775 -88.085     1.0   \n",
       "67  0  67  41.754812 -88.085     1.0   \n",
       "68  0  68  41.757063 -88.085     1.0   \n",
       "69  0  69  41.759314 -88.085     1.0   \n",
       "\n",
       "                                        geometry  \n",
       "26   POINT (-88.08500000000001 41.6625245254508)  \n",
       "27  POINT (-88.08500000000001 41.66477545666353)  \n",
       "67  POINT (-88.08500000000001 41.75481197165804)  \n",
       "68  POINT (-88.08500000000001 41.75706286619285)  \n",
       "69  POINT (-88.08500000000001 41.75931375983289)  "
      ]
     },
     "execution_count": 16,
     "metadata": {},
     "output_type": "execute_result"
    }
   ],
   "source": [
    "# Convert lat and lon into shapely Point objects and make into GeoDataFrame\n",
    "# Important that the crs values are the same\n",
    "crs = {'init':'epsg:4326'}\n",
    "geometry = [Point(xy) for xy in zip(daa_df.lon, daa_df.lat)]\n",
    "daa_geo = gpd.GeoDataFrame(daa_df, crs=crs, geometry=geometry)\n",
    "daa_geo.head()"
   ]
  },
  {
   "cell_type": "code",
   "execution_count": 18,
   "metadata": {
    "collapsed": false
   },
   "outputs": [
    {
     "data": {
      "text/html": [
       "<div>\n",
       "<table border=\"1\" class=\"dataframe\">\n",
       "  <thead>\n",
       "    <tr style=\"text-align: right;\">\n",
       "      <th></th>\n",
       "      <th>x</th>\n",
       "      <th>y</th>\n",
       "      <th>lat</th>\n",
       "      <th>lon</th>\n",
       "      <th>precip</th>\n",
       "      <th>index_left</th>\n",
       "      <th>geometry</th>\n",
       "      <th>ward</th>\n",
       "    </tr>\n",
       "    <tr>\n",
       "      <th>index_right</th>\n",
       "      <th></th>\n",
       "      <th></th>\n",
       "      <th></th>\n",
       "      <th></th>\n",
       "      <th></th>\n",
       "      <th></th>\n",
       "      <th></th>\n",
       "      <th></th>\n",
       "    </tr>\n",
       "  </thead>\n",
       "  <tbody>\n",
       "    <tr>\n",
       "      <th>0.0</th>\n",
       "      <td>49.0</td>\n",
       "      <td>167.0</td>\n",
       "      <td>41.849989</td>\n",
       "      <td>-87.705588</td>\n",
       "      <td>1.0</td>\n",
       "      <td>45296.0</td>\n",
       "      <td>(POLYGON ((-87.69623470134458 41.8575549523838...</td>\n",
       "      <td>12</td>\n",
       "    </tr>\n",
       "    <tr>\n",
       "      <th>0.0</th>\n",
       "      <td>50.0</td>\n",
       "      <td>165.0</td>\n",
       "      <td>41.842103</td>\n",
       "      <td>-87.704549</td>\n",
       "      <td>1.0</td>\n",
       "      <td>46215.0</td>\n",
       "      <td>(POLYGON ((-87.69623470134458 41.8575549523838...</td>\n",
       "      <td>12</td>\n",
       "    </tr>\n",
       "    <tr>\n",
       "      <th>0.0</th>\n",
       "      <td>49.0</td>\n",
       "      <td>168.0</td>\n",
       "      <td>41.851458</td>\n",
       "      <td>-87.703308</td>\n",
       "      <td>1.0</td>\n",
       "      <td>45297.0</td>\n",
       "      <td>(POLYGON ((-87.69623470134458 41.8575549523838...</td>\n",
       "      <td>12</td>\n",
       "    </tr>\n",
       "    <tr>\n",
       "      <th>0.0</th>\n",
       "      <td>50.0</td>\n",
       "      <td>166.0</td>\n",
       "      <td>41.843542</td>\n",
       "      <td>-87.702234</td>\n",
       "      <td>1.0</td>\n",
       "      <td>46216.0</td>\n",
       "      <td>(POLYGON ((-87.69623470134458 41.8575549523838...</td>\n",
       "      <td>12</td>\n",
       "    </tr>\n",
       "    <tr>\n",
       "      <th>0.0</th>\n",
       "      <td>50.0</td>\n",
       "      <td>168.0</td>\n",
       "      <td>41.846420</td>\n",
       "      <td>-87.697605</td>\n",
       "      <td>1.0</td>\n",
       "      <td>46218.0</td>\n",
       "      <td>(POLYGON ((-87.69623470134458 41.8575549523838...</td>\n",
       "      <td>12</td>\n",
       "    </tr>\n",
       "  </tbody>\n",
       "</table>\n",
       "</div>"
      ],
      "text/plain": [
       "                x      y        lat        lon  precip  index_left  \\\n",
       "index_right                                                          \n",
       "0.0          49.0  167.0  41.849989 -87.705588     1.0     45296.0   \n",
       "0.0          50.0  165.0  41.842103 -87.704549     1.0     46215.0   \n",
       "0.0          49.0  168.0  41.851458 -87.703308     1.0     45297.0   \n",
       "0.0          50.0  166.0  41.843542 -87.702234     1.0     46216.0   \n",
       "0.0          50.0  168.0  41.846420 -87.697605     1.0     46218.0   \n",
       "\n",
       "                                                      geometry ward  \n",
       "index_right                                                          \n",
       "0.0          (POLYGON ((-87.69623470134458 41.8575549523838...   12  \n",
       "0.0          (POLYGON ((-87.69623470134458 41.8575549523838...   12  \n",
       "0.0          (POLYGON ((-87.69623470134458 41.8575549523838...   12  \n",
       "0.0          (POLYGON ((-87.69623470134458 41.8575549523838...   12  \n",
       "0.0          (POLYGON ((-87.69623470134458 41.8575549523838...   12  "
      ]
     },
     "execution_count": 18,
     "metadata": {},
     "output_type": "execute_result"
    }
   ],
   "source": [
    "# Spatial join, important for speed that op is 'within', and retain all boundary keys with right join\n",
    "ward_daa = gpd.tools.sjoin(daa_geo, chi_wards, how='right', op='within')\n",
    "ward_daa.head()"
   ]
  },
  {
   "cell_type": "code",
   "execution_count": 19,
   "metadata": {
    "collapsed": false
   },
   "outputs": [
    {
     "data": {
      "text/html": [
       "<div>\n",
       "<table border=\"1\" class=\"dataframe\">\n",
       "  <thead>\n",
       "    <tr style=\"text-align: right;\">\n",
       "      <th></th>\n",
       "      <th>index_right</th>\n",
       "      <th>x</th>\n",
       "      <th>y</th>\n",
       "      <th>lat</th>\n",
       "      <th>lon</th>\n",
       "      <th>precip</th>\n",
       "      <th>index_left</th>\n",
       "      <th>geometry</th>\n",
       "      <th>ward</th>\n",
       "    </tr>\n",
       "  </thead>\n",
       "  <tbody>\n",
       "    <tr>\n",
       "      <th>0</th>\n",
       "      <td>0.0</td>\n",
       "      <td>49.0</td>\n",
       "      <td>167.0</td>\n",
       "      <td>41.849989</td>\n",
       "      <td>-87.705588</td>\n",
       "      <td>1.0</td>\n",
       "      <td>45296.0</td>\n",
       "      <td>(POLYGON ((-87.69623470134458 41.8575549523838...</td>\n",
       "      <td>12</td>\n",
       "    </tr>\n",
       "    <tr>\n",
       "      <th>1</th>\n",
       "      <td>0.0</td>\n",
       "      <td>50.0</td>\n",
       "      <td>165.0</td>\n",
       "      <td>41.842103</td>\n",
       "      <td>-87.704549</td>\n",
       "      <td>1.0</td>\n",
       "      <td>46215.0</td>\n",
       "      <td>(POLYGON ((-87.69623470134458 41.8575549523838...</td>\n",
       "      <td>12</td>\n",
       "    </tr>\n",
       "    <tr>\n",
       "      <th>2</th>\n",
       "      <td>0.0</td>\n",
       "      <td>49.0</td>\n",
       "      <td>168.0</td>\n",
       "      <td>41.851458</td>\n",
       "      <td>-87.703308</td>\n",
       "      <td>1.0</td>\n",
       "      <td>45297.0</td>\n",
       "      <td>(POLYGON ((-87.69623470134458 41.8575549523838...</td>\n",
       "      <td>12</td>\n",
       "    </tr>\n",
       "    <tr>\n",
       "      <th>3</th>\n",
       "      <td>0.0</td>\n",
       "      <td>50.0</td>\n",
       "      <td>166.0</td>\n",
       "      <td>41.843542</td>\n",
       "      <td>-87.702234</td>\n",
       "      <td>1.0</td>\n",
       "      <td>46216.0</td>\n",
       "      <td>(POLYGON ((-87.69623470134458 41.8575549523838...</td>\n",
       "      <td>12</td>\n",
       "    </tr>\n",
       "    <tr>\n",
       "      <th>4</th>\n",
       "      <td>0.0</td>\n",
       "      <td>50.0</td>\n",
       "      <td>168.0</td>\n",
       "      <td>41.846420</td>\n",
       "      <td>-87.697605</td>\n",
       "      <td>1.0</td>\n",
       "      <td>46218.0</td>\n",
       "      <td>(POLYGON ((-87.69623470134458 41.8575549523838...</td>\n",
       "      <td>12</td>\n",
       "    </tr>\n",
       "  </tbody>\n",
       "</table>\n",
       "</div>"
      ],
      "text/plain": [
       "   index_right     x      y        lat        lon  precip  index_left  \\\n",
       "0          0.0  49.0  167.0  41.849989 -87.705588     1.0     45296.0   \n",
       "1          0.0  50.0  165.0  41.842103 -87.704549     1.0     46215.0   \n",
       "2          0.0  49.0  168.0  41.851458 -87.703308     1.0     45297.0   \n",
       "3          0.0  50.0  166.0  41.843542 -87.702234     1.0     46216.0   \n",
       "4          0.0  50.0  168.0  41.846420 -87.697605     1.0     46218.0   \n",
       "\n",
       "                                            geometry ward  \n",
       "0  (POLYGON ((-87.69623470134458 41.8575549523838...   12  \n",
       "1  (POLYGON ((-87.69623470134458 41.8575549523838...   12  \n",
       "2  (POLYGON ((-87.69623470134458 41.8575549523838...   12  \n",
       "3  (POLYGON ((-87.69623470134458 41.8575549523838...   12  \n",
       "4  (POLYGON ((-87.69623470134458 41.8575549523838...   12  "
      ]
     },
     "execution_count": 19,
     "metadata": {},
     "output_type": "execute_result"
    }
   ],
   "source": [
    "ward_daa_df = ward_daa.reset_index()\n",
    "ward_daa_df.head()"
   ]
  },
  {
   "cell_type": "code",
   "execution_count": 20,
   "metadata": {
    "collapsed": false
   },
   "outputs": [
    {
     "data": {
      "text/html": [
       "<div>\n",
       "<table border=\"1\" class=\"dataframe\">\n",
       "  <thead>\n",
       "    <tr style=\"text-align: right;\">\n",
       "      <th></th>\n",
       "      <th>ward</th>\n",
       "      <th>precip</th>\n",
       "    </tr>\n",
       "  </thead>\n",
       "  <tbody>\n",
       "    <tr>\n",
       "      <th>0</th>\n",
       "      <td>1</td>\n",
       "      <td>1.280000</td>\n",
       "    </tr>\n",
       "    <tr>\n",
       "      <th>11</th>\n",
       "      <td>2</td>\n",
       "      <td>1.277778</td>\n",
       "    </tr>\n",
       "    <tr>\n",
       "      <th>22</th>\n",
       "      <td>3</td>\n",
       "      <td>0.000000</td>\n",
       "    </tr>\n",
       "    <tr>\n",
       "      <th>33</th>\n",
       "      <td>4</td>\n",
       "      <td>1.000000</td>\n",
       "    </tr>\n",
       "    <tr>\n",
       "      <th>44</th>\n",
       "      <td>5</td>\n",
       "      <td>0.000000</td>\n",
       "    </tr>\n",
       "  </tbody>\n",
       "</table>\n",
       "</div>"
      ],
      "text/plain": [
       "    ward    precip\n",
       "0      1  1.280000\n",
       "11     2  1.277778\n",
       "22     3  0.000000\n",
       "33     4  1.000000\n",
       "44     5  0.000000"
      ]
     },
     "execution_count": 20,
     "metadata": {},
     "output_type": "execute_result"
    }
   ],
   "source": [
    "daa_by_ward = ward_daa_df.groupby(['ward'])['precip'].mean().reset_index()\n",
    "daa_by_ward['ward'] = daa_by_ward['ward'].astype(int)\n",
    "daa_by_ward.fillna(value=0, inplace=True)\n",
    "daa_by_ward.sort_values(by='ward', inplace=True)\n",
    "daa_by_ward.head()"
   ]
  },
  {
   "cell_type": "code",
   "execution_count": 29,
   "metadata": {
    "collapsed": false
   },
   "outputs": [
    {
     "name": "stdout",
     "output_type": "stream",
     "text": [
      "geometry     object\n",
      "ward          int32\n",
      "precip      float64\n",
      "dtype: object\n",
      "(50, 3)\n"
     ]
    },
    {
     "data": {
      "text/html": [
       "<div>\n",
       "<table border=\"1\" class=\"dataframe\">\n",
       "  <thead>\n",
       "    <tr style=\"text-align: right;\">\n",
       "      <th></th>\n",
       "      <th>geometry</th>\n",
       "      <th>ward</th>\n",
       "      <th>precip</th>\n",
       "    </tr>\n",
       "  </thead>\n",
       "  <tbody>\n",
       "    <tr>\n",
       "      <th>0</th>\n",
       "      <td>(POLYGON ((-87.69623470134458 41.8575549523838...</td>\n",
       "      <td>12</td>\n",
       "      <td>1.25</td>\n",
       "    </tr>\n",
       "    <tr>\n",
       "      <th>1</th>\n",
       "      <td>(POLYGON ((-87.66288923669032 41.7988380986824...</td>\n",
       "      <td>16</td>\n",
       "      <td>0.00</td>\n",
       "    </tr>\n",
       "    <tr>\n",
       "      <th>2</th>\n",
       "      <td>(POLYGON ((-87.69817510963803 41.8172944075599...</td>\n",
       "      <td>15</td>\n",
       "      <td>0.00</td>\n",
       "    </tr>\n",
       "    <tr>\n",
       "      <th>3</th>\n",
       "      <td>(POLYGON ((-87.65524133440029 41.8088331618279...</td>\n",
       "      <td>20</td>\n",
       "      <td>0.00</td>\n",
       "    </tr>\n",
       "    <tr>\n",
       "      <th>4</th>\n",
       "      <td>(POLYGON ((-87.66420403810295 42.0212615805274...</td>\n",
       "      <td>49</td>\n",
       "      <td>1.00</td>\n",
       "    </tr>\n",
       "  </tbody>\n",
       "</table>\n",
       "</div>"
      ],
      "text/plain": [
       "                                            geometry  ward  precip\n",
       "0  (POLYGON ((-87.69623470134458 41.8575549523838...    12    1.25\n",
       "1  (POLYGON ((-87.66288923669032 41.7988380986824...    16    0.00\n",
       "2  (POLYGON ((-87.69817510963803 41.8172944075599...    15    0.00\n",
       "3  (POLYGON ((-87.65524133440029 41.8088331618279...    20    0.00\n",
       "4  (POLYGON ((-87.66420403810295 42.0212615805274...    49    1.00"
      ]
     },
     "execution_count": 29,
     "metadata": {},
     "output_type": "execute_result"
    }
   ],
   "source": [
    "chi_wards['ward'] = chi_wards['ward'].astype(int)\n",
    "chi_ward_precip = chi_wards.merge(daa_by_ward, on='ward')\n",
    "print(chi_ward_precip.dtypes)\n",
    "print(chi_ward_precip.shape)\n",
    "chi_ward_precip.head()"
   ]
  },
  {
   "cell_type": "code",
   "execution_count": 31,
   "metadata": {
    "collapsed": false
   },
   "outputs": [],
   "source": [
    "# Save to inches with units as millimeters\n",
    "chi_ward_precip.to_file('data/chi_ward_precip_millim.geojson', driver='GeoJSON')\n",
    "\n",
    "# Converting precip to inches, saving to file\n",
    "chi_ward_in = chi_ward_precip.copy()\n",
    "chi_ward_in['precip'] = chi_ward_in['precip'].apply(lambda x: x / 25.4)\n",
    "chi_ward_in.to_file('data/chi_ward_precip_in.geojson', driver='GeoJSON')"
   ]
  },
  {
   "cell_type": "code",
   "execution_count": null,
   "metadata": {
    "collapsed": true
   },
   "outputs": [],
   "source": [
    "# When doing actual ETL for multiple files, will want to delete tar archives, keeping for now\n",
    "# os.remove(file_path)"
   ]
  }
 ],
 "metadata": {
  "kernelspec": {
   "display_name": "Python 3",
   "language": "python",
   "name": "python3"
  },
  "language_info": {
   "codemirror_mode": {
    "name": "ipython",
    "version": 3
   },
   "file_extension": ".py",
   "mimetype": "text/x-python",
   "name": "python",
   "nbconvert_exporter": "python",
   "pygments_lexer": "ipython3",
   "version": "3.5.1"
  }
 },
 "nbformat": 4,
 "nbformat_minor": 0
}
