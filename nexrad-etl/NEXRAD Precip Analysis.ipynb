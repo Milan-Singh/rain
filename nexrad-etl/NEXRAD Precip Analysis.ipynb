{
 "cells": [
  {
   "cell_type": "code",
   "execution_count": 1,
   "metadata": {
    "collapsed": true
   },
   "outputs": [],
   "source": [
    "import numpy as np\n",
    "import pandas as pd\n",
    "import os, re\n",
    "import matplotlib.pyplot as plt\n",
    "%matplotlib inline"
   ]
  },
  {
   "cell_type": "code",
   "execution_count": 2,
   "metadata": {
    "collapsed": false
   },
   "outputs": [
    {
     "name": "stdout",
     "output_type": "stream",
     "text": [
      "timestamp    datetime64[ns]\n",
      "60601               float64\n",
      "60655               float64\n",
      "60651               float64\n",
      "60609               float64\n",
      "60625               float64\n",
      "60624               float64\n",
      "60631               float64\n",
      "60626               float64\n",
      "60613               float64\n",
      "60640               float64\n",
      "60641               float64\n",
      "60616               float64\n",
      "60643               float64\n",
      "60605               float64\n",
      "60707               float64\n",
      "60652               float64\n",
      "60622               float64\n",
      "60637               float64\n",
      "60608               float64\n",
      "60827               float64\n",
      "60615               float64\n",
      "60645               float64\n",
      "60649               float64\n",
      "60633               float64\n",
      "60603               float64\n",
      "60666               float64\n",
      "60628               float64\n",
      "60611               float64\n",
      "60618               float64\n",
      "                  ...      \n",
      "60606               float64\n",
      "60647               float64\n",
      "60629               float64\n",
      "60620               float64\n",
      "60639               float64\n",
      "60656               float64\n",
      "60612               float64\n",
      "60619               float64\n",
      "60602               float64\n",
      "60638               float64\n",
      "60632               float64\n",
      "60621               float64\n",
      "60604               float64\n",
      "60644               float64\n",
      "60610               float64\n",
      "60630               float64\n",
      "60642               float64\n",
      "60660               float64\n",
      "60653               float64\n",
      "60614               float64\n",
      "60646               float64\n",
      "60617               float64\n",
      "60623               float64\n",
      "60636               float64\n",
      "60634               float64\n",
      "60659               float64\n",
      "60607               float64\n",
      "60654               float64\n",
      "60657               float64\n",
      "diff                float64\n",
      "dtype: object\n"
     ]
    },
    {
     "data": {
      "text/html": [
       "<div>\n",
       "<table border=\"1\" class=\"dataframe\">\n",
       "  <thead>\n",
       "    <tr style=\"text-align: right;\">\n",
       "      <th></th>\n",
       "      <th>timestamp</th>\n",
       "      <th>60601</th>\n",
       "      <th>60655</th>\n",
       "      <th>60651</th>\n",
       "      <th>60609</th>\n",
       "      <th>60625</th>\n",
       "      <th>60624</th>\n",
       "      <th>60631</th>\n",
       "      <th>60626</th>\n",
       "      <th>60613</th>\n",
       "      <th>...</th>\n",
       "      <th>60646</th>\n",
       "      <th>60617</th>\n",
       "      <th>60623</th>\n",
       "      <th>60636</th>\n",
       "      <th>60634</th>\n",
       "      <th>60659</th>\n",
       "      <th>60607</th>\n",
       "      <th>60654</th>\n",
       "      <th>60657</th>\n",
       "      <th>diff</th>\n",
       "    </tr>\n",
       "  </thead>\n",
       "  <tbody>\n",
       "    <tr>\n",
       "      <th>2016-08-04 21:09:06</th>\n",
       "      <td>2016-08-04 21:09:06</td>\n",
       "      <td>0.000000</td>\n",
       "      <td>0.0</td>\n",
       "      <td>0.0</td>\n",
       "      <td>0.0</td>\n",
       "      <td>0.0</td>\n",
       "      <td>0.0</td>\n",
       "      <td>0.0</td>\n",
       "      <td>0.0</td>\n",
       "      <td>0.0</td>\n",
       "      <td>...</td>\n",
       "      <td>0.0</td>\n",
       "      <td>0.0</td>\n",
       "      <td>0.0</td>\n",
       "      <td>0.0</td>\n",
       "      <td>0.0</td>\n",
       "      <td>0.0</td>\n",
       "      <td>0.000000</td>\n",
       "      <td>0.003342</td>\n",
       "      <td>0.000000</td>\n",
       "      <td>0.073611</td>\n",
       "    </tr>\n",
       "    <tr>\n",
       "      <th>2016-08-04 21:13:51</th>\n",
       "      <td>2016-08-04 21:13:51</td>\n",
       "      <td>0.004265</td>\n",
       "      <td>0.0</td>\n",
       "      <td>0.0</td>\n",
       "      <td>0.0</td>\n",
       "      <td>0.0</td>\n",
       "      <td>0.0</td>\n",
       "      <td>0.0</td>\n",
       "      <td>0.0</td>\n",
       "      <td>0.0</td>\n",
       "      <td>...</td>\n",
       "      <td>0.0</td>\n",
       "      <td>0.0</td>\n",
       "      <td>0.0</td>\n",
       "      <td>0.0</td>\n",
       "      <td>0.0</td>\n",
       "      <td>0.0</td>\n",
       "      <td>0.000000</td>\n",
       "      <td>0.003594</td>\n",
       "      <td>0.000000</td>\n",
       "      <td>0.079167</td>\n",
       "    </tr>\n",
       "    <tr>\n",
       "      <th>2016-08-04 21:18:15</th>\n",
       "      <td>2016-08-04 21:18:15</td>\n",
       "      <td>0.003230</td>\n",
       "      <td>0.0</td>\n",
       "      <td>0.0</td>\n",
       "      <td>0.0</td>\n",
       "      <td>0.0</td>\n",
       "      <td>0.0</td>\n",
       "      <td>0.0</td>\n",
       "      <td>0.0</td>\n",
       "      <td>0.0</td>\n",
       "      <td>...</td>\n",
       "      <td>0.0</td>\n",
       "      <td>0.0</td>\n",
       "      <td>0.0</td>\n",
       "      <td>0.0</td>\n",
       "      <td>0.0</td>\n",
       "      <td>0.0</td>\n",
       "      <td>0.000000</td>\n",
       "      <td>0.006362</td>\n",
       "      <td>0.000000</td>\n",
       "      <td>0.073333</td>\n",
       "    </tr>\n",
       "    <tr>\n",
       "      <th>2016-08-04 21:23:00</th>\n",
       "      <td>2016-08-04 21:23:00</td>\n",
       "      <td>0.027401</td>\n",
       "      <td>0.0</td>\n",
       "      <td>0.0</td>\n",
       "      <td>0.0</td>\n",
       "      <td>0.0</td>\n",
       "      <td>0.0</td>\n",
       "      <td>0.0</td>\n",
       "      <td>0.0</td>\n",
       "      <td>0.0</td>\n",
       "      <td>...</td>\n",
       "      <td>0.0</td>\n",
       "      <td>0.0</td>\n",
       "      <td>0.0</td>\n",
       "      <td>0.0</td>\n",
       "      <td>0.0</td>\n",
       "      <td>0.0</td>\n",
       "      <td>0.003353</td>\n",
       "      <td>0.003907</td>\n",
       "      <td>0.000000</td>\n",
       "      <td>0.079167</td>\n",
       "    </tr>\n",
       "    <tr>\n",
       "      <th>2016-08-04 21:27:45</th>\n",
       "      <td>2016-08-04 21:27:45</td>\n",
       "      <td>0.003423</td>\n",
       "      <td>0.0</td>\n",
       "      <td>0.0</td>\n",
       "      <td>0.0</td>\n",
       "      <td>0.0</td>\n",
       "      <td>0.0</td>\n",
       "      <td>0.0</td>\n",
       "      <td>0.0</td>\n",
       "      <td>0.0</td>\n",
       "      <td>...</td>\n",
       "      <td>0.0</td>\n",
       "      <td>0.0</td>\n",
       "      <td>0.0</td>\n",
       "      <td>0.0</td>\n",
       "      <td>0.0</td>\n",
       "      <td>0.0</td>\n",
       "      <td>0.000000</td>\n",
       "      <td>0.000000</td>\n",
       "      <td>0.007075</td>\n",
       "      <td>0.079167</td>\n",
       "    </tr>\n",
       "  </tbody>\n",
       "</table>\n",
       "<p>5 rows × 61 columns</p>\n",
       "</div>"
      ],
      "text/plain": [
       "                              timestamp     60601  60655  60651  60609  60625  \\\n",
       "2016-08-04 21:09:06 2016-08-04 21:09:06  0.000000    0.0    0.0    0.0    0.0   \n",
       "2016-08-04 21:13:51 2016-08-04 21:13:51  0.004265    0.0    0.0    0.0    0.0   \n",
       "2016-08-04 21:18:15 2016-08-04 21:18:15  0.003230    0.0    0.0    0.0    0.0   \n",
       "2016-08-04 21:23:00 2016-08-04 21:23:00  0.027401    0.0    0.0    0.0    0.0   \n",
       "2016-08-04 21:27:45 2016-08-04 21:27:45  0.003423    0.0    0.0    0.0    0.0   \n",
       "\n",
       "                     60624  60631  60626  60613    ...     60646  60617  \\\n",
       "2016-08-04 21:09:06    0.0    0.0    0.0    0.0    ...       0.0    0.0   \n",
       "2016-08-04 21:13:51    0.0    0.0    0.0    0.0    ...       0.0    0.0   \n",
       "2016-08-04 21:18:15    0.0    0.0    0.0    0.0    ...       0.0    0.0   \n",
       "2016-08-04 21:23:00    0.0    0.0    0.0    0.0    ...       0.0    0.0   \n",
       "2016-08-04 21:27:45    0.0    0.0    0.0    0.0    ...       0.0    0.0   \n",
       "\n",
       "                     60623  60636  60634  60659     60607     60654     60657  \\\n",
       "2016-08-04 21:09:06    0.0    0.0    0.0    0.0  0.000000  0.003342  0.000000   \n",
       "2016-08-04 21:13:51    0.0    0.0    0.0    0.0  0.000000  0.003594  0.000000   \n",
       "2016-08-04 21:18:15    0.0    0.0    0.0    0.0  0.000000  0.006362  0.000000   \n",
       "2016-08-04 21:23:00    0.0    0.0    0.0    0.0  0.003353  0.003907  0.000000   \n",
       "2016-08-04 21:27:45    0.0    0.0    0.0    0.0  0.000000  0.000000  0.007075   \n",
       "\n",
       "                         diff  \n",
       "2016-08-04 21:09:06  0.073611  \n",
       "2016-08-04 21:13:51  0.079167  \n",
       "2016-08-04 21:18:15  0.073333  \n",
       "2016-08-04 21:23:00  0.079167  \n",
       "2016-08-04 21:27:45  0.079167  \n",
       "\n",
       "[5 rows x 61 columns]"
      ]
     },
     "execution_count": 2,
     "metadata": {},
     "output_type": "execute_result"
    }
   ],
   "source": [
    "nex_df = pd.read_csv('data/nexrad_testing_10k.csv')\n",
    "nex_df['timestamp'] = pd.to_datetime(nex_df['timestamp'])\n",
    "nex_df = nex_df.set_index(pd.DatetimeIndex(nex_df['timestamp']))\n",
    "nex_df = nex_df.dropna()\n",
    "print(nex_df.dtypes)\n",
    "nex_df.head()"
   ]
  },
  {
   "cell_type": "code",
   "execution_count": 3,
   "metadata": {
    "collapsed": false
   },
   "outputs": [
    {
     "data": {
      "text/plain": [
       "<matplotlib.axes._subplots.AxesSubplot at 0x80e3518>"
      ]
     },
     "execution_count": 3,
     "metadata": {},
     "output_type": "execute_result"
    },
    {
     "data": {
      "image/png": "[encoded data removed]",
      "text/plain": [
       "<matplotlib.figure.Figure at 0x80e3f60>"
      ]
     },
     "metadata": {},
     "output_type": "display_data"
    }
   ],
   "source": [
    "zip_cols = nex_df.columns.values[1:len(nex_df.columns.values)-1]\n",
    "zip_precip = nex_df[zip_cols].sum()\n",
    "zip_precip = zip_precip.sort_values(ascending=False)\n",
    "zip_precip.plot(kind='bar')"
   ]
  },
  {
   "cell_type": "code",
   "execution_count": 4,
   "metadata": {
    "collapsed": false
   },
   "outputs": [
    {
     "name": "stdout",
     "output_type": "stream",
     "text": [
      "zip             int64\n",
      "shape_area    float64\n",
      "dtype: object\n"
     ]
    },
    {
     "data": {
      "text/html": [
       "<div>\n",
       "<table border=\"1\" class=\"dataframe\">\n",
       "  <thead>\n",
       "    <tr style=\"text-align: right;\">\n",
       "      <th></th>\n",
       "      <th>zip</th>\n",
       "      <th>shape_area</th>\n",
       "    </tr>\n",
       "  </thead>\n",
       "  <tbody>\n",
       "    <tr>\n",
       "      <th>0</th>\n",
       "      <td>60647</td>\n",
       "      <td>1.060523e+08</td>\n",
       "    </tr>\n",
       "    <tr>\n",
       "      <th>1</th>\n",
       "      <td>60639</td>\n",
       "      <td>1.274761e+08</td>\n",
       "    </tr>\n",
       "    <tr>\n",
       "      <th>2</th>\n",
       "      <td>60707</td>\n",
       "      <td>4.506904e+07</td>\n",
       "    </tr>\n",
       "    <tr>\n",
       "      <th>3</th>\n",
       "      <td>60622</td>\n",
       "      <td>7.085383e+07</td>\n",
       "    </tr>\n",
       "    <tr>\n",
       "      <th>4</th>\n",
       "      <td>60651</td>\n",
       "      <td>9.903962e+07</td>\n",
       "    </tr>\n",
       "  </tbody>\n",
       "</table>\n",
       "</div>"
      ],
      "text/plain": [
       "     zip    shape_area\n",
       "0  60647  1.060523e+08\n",
       "1  60639  1.274761e+08\n",
       "2  60707  4.506904e+07\n",
       "3  60622  7.085383e+07\n",
       "4  60651  9.903962e+07"
      ]
     },
     "execution_count": 4,
     "metadata": {},
     "output_type": "execute_result"
    }
   ],
   "source": [
    "zip_area = pd.read_csv('data/zip_code_area.csv')\n",
    "print(zip_area.dtypes)\n",
    "zip_area.head()"
   ]
  },
  {
   "cell_type": "code",
   "execution_count": 8,
   "metadata": {
    "collapsed": false
   },
   "outputs": [
    {
     "data": {
      "text/plain": [
       "60605    69.449973\n",
       "60606    36.871363\n",
       "60611    29.912579\n",
       "60604    29.075238\n",
       "60661    23.094579\n",
       "dtype: float64"
      ]
     },
     "execution_count": 8,
     "metadata": {},
     "output_type": "execute_result"
    }
   ],
   "source": [
    "zip_precip.head()"
   ]
  },
  {
   "cell_type": "markdown",
   "metadata": {},
   "source": [
    "### Difference in Zip Code Precipitation\n",
    "\n",
    "The differences in the top zip codes for precipitation seem pretty extreme, and could possibly be a result of the top zip code (60605) being much smaller. Plotting versus zip code areas (obtained from the city data portal) to see if this makes sense. Doesn't seem like there's a relationship though"
   ]
  },
  {
   "cell_type": "code",
   "execution_count": 7,
   "metadata": {
    "collapsed": false
   },
   "outputs": [
    {
     "data": {
      "text/html": [
       "<div>\n",
       "<table border=\"1\" class=\"dataframe\">\n",
       "  <thead>\n",
       "    <tr style=\"text-align: right;\">\n",
       "      <th></th>\n",
       "      <th>zip</th>\n",
       "      <th>precip</th>\n",
       "    </tr>\n",
       "  </thead>\n",
       "  <tbody>\n",
       "    <tr>\n",
       "      <th>0</th>\n",
       "      <td>60605</td>\n",
       "      <td>69.449973</td>\n",
       "    </tr>\n",
       "    <tr>\n",
       "      <th>1</th>\n",
       "      <td>60606</td>\n",
       "      <td>36.871363</td>\n",
       "    </tr>\n",
       "    <tr>\n",
       "      <th>2</th>\n",
       "      <td>60611</td>\n",
       "      <td>29.912579</td>\n",
       "    </tr>\n",
       "    <tr>\n",
       "      <th>3</th>\n",
       "      <td>60604</td>\n",
       "      <td>29.075238</td>\n",
       "    </tr>\n",
       "    <tr>\n",
       "      <th>4</th>\n",
       "      <td>60661</td>\n",
       "      <td>23.094579</td>\n",
       "    </tr>\n",
       "  </tbody>\n",
       "</table>\n",
       "</div>"
      ],
      "text/plain": [
       "     zip     precip\n",
       "0  60605  69.449973\n",
       "1  60606  36.871363\n",
       "2  60611  29.912579\n",
       "3  60604  29.075238\n",
       "4  60661  23.094579"
      ]
     },
     "execution_count": 7,
     "metadata": {},
     "output_type": "execute_result"
    }
   ],
   "source": [
    "zip_precip_sum = pd.DataFrame(zip_precip).reset_index()\n",
    "zip_precip_sum = zip_precip_sum.rename(columns={'index':'zip',0:'precip'})\n",
    "zip_precip_sum.head()"
   ]
  },
  {
   "cell_type": "code",
   "execution_count": 8,
   "metadata": {
    "collapsed": false
   },
   "outputs": [
    {
     "data": {
      "text/html": [
       "<div>\n",
       "<table border=\"1\" class=\"dataframe\">\n",
       "  <thead>\n",
       "    <tr style=\"text-align: right;\">\n",
       "      <th></th>\n",
       "      <th>zip</th>\n",
       "      <th>precip</th>\n",
       "      <th>shape_area</th>\n",
       "    </tr>\n",
       "  </thead>\n",
       "  <tbody>\n",
       "    <tr>\n",
       "      <th>0</th>\n",
       "      <td>60605</td>\n",
       "      <td>69.449973</td>\n",
       "      <td>3.630128e+07</td>\n",
       "    </tr>\n",
       "    <tr>\n",
       "      <th>1</th>\n",
       "      <td>60606</td>\n",
       "      <td>36.871363</td>\n",
       "      <td>6.766411e+06</td>\n",
       "    </tr>\n",
       "    <tr>\n",
       "      <th>2</th>\n",
       "      <td>60611</td>\n",
       "      <td>29.912579</td>\n",
       "      <td>2.350606e+07</td>\n",
       "    </tr>\n",
       "    <tr>\n",
       "      <th>3</th>\n",
       "      <td>60604</td>\n",
       "      <td>29.075238</td>\n",
       "      <td>4.294902e+06</td>\n",
       "    </tr>\n",
       "    <tr>\n",
       "      <th>4</th>\n",
       "      <td>60661</td>\n",
       "      <td>23.094579</td>\n",
       "      <td>9.357756e+06</td>\n",
       "    </tr>\n",
       "  </tbody>\n",
       "</table>\n",
       "</div>"
      ],
      "text/plain": [
       "     zip     precip    shape_area\n",
       "0  60605  69.449973  3.630128e+07\n",
       "1  60606  36.871363  6.766411e+06\n",
       "2  60611  29.912579  2.350606e+07\n",
       "3  60604  29.075238  4.294902e+06\n",
       "4  60661  23.094579  9.357756e+06"
      ]
     },
     "execution_count": 8,
     "metadata": {},
     "output_type": "execute_result"
    }
   ],
   "source": [
    "zip_precip_sum['zip'] = zip_precip_sum['zip'].astype(int)\n",
    "zip_precip_area = zip_precip_sum.merge(zip_area, on='zip')\n",
    "zip_precip_area.head()"
   ]
  },
  {
   "cell_type": "code",
   "execution_count": 9,
   "metadata": {
    "collapsed": false
   },
   "outputs": [
    {
     "data": {
      "text/plain": [
       "<matplotlib.axes._subplots.AxesSubplot at 0x41a34a8>"
      ]
     },
     "execution_count": 9,
     "metadata": {},
     "output_type": "execute_result"
    },
    {
     "data": {
      "image/png": "[encoded data removed]",
      "text/plain": [
       "<matplotlib.figure.Figure at 0x8168128>"
      ]
     },
     "metadata": {},
     "output_type": "display_data"
    }
   ],
   "source": [
    "zip_precip_area.plot(x='precip',y='shape_area')"
   ]
  },
  {
   "cell_type": "code",
   "execution_count": null,
   "metadata": {
    "collapsed": true
   },
   "outputs": [],
   "source": []
  }
 ],
 "metadata": {
  "kernelspec": {
   "display_name": "Python 3",
   "language": "python",
   "name": "python3"
  },
  "language_info": {
   "codemirror_mode": {
    "name": "ipython",
    "version": 3
   },
   "file_extension": ".py",
   "mimetype": "text/x-python",
   "name": "python",
   "nbconvert_exporter": "python",
   "pygments_lexer": "ipython3",
   "version": "3.5.1"
  }
 },
 "nbformat": 4,
 "nbformat_minor": 0
}
