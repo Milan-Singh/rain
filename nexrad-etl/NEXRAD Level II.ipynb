{
 "cells": [
  {
   "cell_type": "code",
   "execution_count": 5,
   "metadata": {
    "collapsed": false
   },
   "outputs": [],
   "source": [
    "import numpy as np\n",
    "from numpy import ma\n",
    "from pyproj import Geod\n",
    "from metpy.io.nexrad import Level2File\n",
    "from metpy.plots import ctables\n",
    "import pandas as pd\n",
    "import geopandas as gpd\n",
    "from shapely.geometry import Point\n",
    "import os, tarfile, wget, re\n",
    "import boto3\n",
    "from botocore.handlers import disable_signing\n",
    "import matplotlib.pyplot as plt\n",
    "%matplotlib inline"
   ]
  },
  {
   "cell_type": "markdown",
   "metadata": {},
   "source": [
    "## NEXRAD Level II Data\n",
    "\n",
    "* Using NEXRAD Level II data directly from hosting on AWS S3: [NEXRAD Level II Data](https://s3.amazonaws.com/noaa-nexrad-level2/index.html)\n",
    "* Using [Marshall-Palmer equation](https://en.wikipedia.org/wiki/DBZ_(meteorology)) to turn reflectivity data into precipitation rate (in mm/hr) which will need to be converted into the actual precipitation later"
   ]
  },
  {
   "cell_type": "code",
   "execution_count": 24,
   "metadata": {
    "collapsed": false
   },
   "outputs": [
    {
     "ename": "SyntaxError",
     "evalue": "unexpected EOF while parsing (<ipython-input-24-3fb9f32b49a4>, line 15)",
     "output_type": "error",
     "traceback": [
      "\u001b[0;36m  File \u001b[0;32m\"<ipython-input-24-3fb9f32b49a4>\"\u001b[0;36m, line \u001b[0;32m15\u001b[0m\n\u001b[0;31m    # print(klot_95[:5])\u001b[0m\n\u001b[0m                        ^\u001b[0m\n\u001b[0;31mSyntaxError\u001b[0m\u001b[0;31m:\u001b[0m unexpected EOF while parsing\n"
     ]
    }
   ],
   "source": [
    "s3_client = boto3.client('s3')\n",
    "resource = boto3.resource('s3')\n",
    "# Disable signing for anonymous requests to public bucket\n",
    "resource.meta.client.meta.events.register('choose-signer.s3.*', disable_signing)\n",
    "\n",
    "nexrad_bucket = resource.Bucket('noaa-nexrad-level2')\n",
    "paginator = s3_client.get_paginator('list_objects')\n",
    "klot_95 = list()\n",
    "for result in s3_client.list_objects(Bucket='noaa-nexrad-level2', Prefix='1995')['Contents']:\n",
    "    #print(result)\n",
    "    #print(type(result['Key']))\n",
    "#     if (result['Key'].find('KLOT') != -1) and (result['Key'].endswith('.gz')):\n",
    "#     #if (result['Key'].endswith('.gz')):\n",
    "#         klot_95.append(result['Key'])\n",
    "# print(klot_95[:5])"
   ]
  },
  {
   "cell_type": "code",
   "execution_count": 14,
   "metadata": {
    "collapsed": false
   },
   "outputs": [
    {
     "data": {
      "text/plain": [
       "(Msg31DataHdr(stid=b'KLOT', time_ms=28131423, date=15179, az_num=1, az_angle=59.2108154296875, compression=0, rad_length=2004, az_spacing=1, rad_status=5, el_num=1, sector_num=1, el_angle=0.4833984375, spot_blanking=None, az_index_mode=0.25, num_data_blks=4, vol_const_ptr=68, el_const_ptr=112, rad_const_ptr=124),\n",
       " VolConsts(type=b'R', name=b'VOL', size=44, major=1, minor=0, lat=41.60444259643555, lon=-88.08416748046875, site_amsl=202, feedhorn_agl=25, calib_dbz=-45.297325134277344, txpower_h=670.0525512695312, txpower_v=0.0, sys_zdr=0.0, phidp0=0.0, vcp=212, processing_status=None),\n",
       " ElConsts(type=b'R', name=b'ELV', size=12, atmos_atten=-0.012, calib_dbz0=-44.4375),\n",
       " RadConstsV1(type=b'R', name=b'RAD', size=20, unamb_range=466.0, noise_h=-80.24567413330078, noise_v=0.0, nyq_vel=8.34),\n",
       " {b'REF': (DataBlockHdr(type=b'D', name=b'REF', reserved=0, num_gates=1832, first_gate=2.125, gate_width=0.25, tover=5.0, snr_thresh=1.6, recombined=None, data_size='B', scale=2.0, offset=66.0),\n",
       "   array([ 47. ,  45.5,  48. , ...,   nan,   nan,   nan]))})"
      ]
     },
     "execution_count": 14,
     "metadata": {},
     "output_type": "execute_result"
    }
   ],
   "source": [
    "s3_client = boto3.client('s3')\n",
    "resource = boto3.resource('s3')\n",
    "# Disable signing for anonymous requests to public bucket\n",
    "resource.meta.client.meta.events.register('choose-signer.s3.*', disable_signing)\n",
    "\n",
    "nexrad_bucket = resource.Bucket('noaa-nexrad-level2')\n",
    "local_filepath = 'nexrad_data/KLOT20110723_074851_V03.gz'\n",
    "nexrad_bucket.download_file('2011/07/23/KLOT/KLOT20110723_074851_V03.gz', local_filepath)\n",
    "\n",
    "f = Level2File(local_filepath)\n",
    "f.sweeps[0][0]"
   ]
  },
  {
   "cell_type": "code",
   "execution_count": 4,
   "metadata": {
    "collapsed": false
   },
   "outputs": [],
   "source": [
    "local_filepath = 'nexrad_data/KLOT20110723_074851_V03.gz'\n",
    "f = Level2File(local_filepath)\n",
    "# Pull data out of the file\n",
    "sweep = 0\n",
    "\n",
    "# First item in ray is header, which has azimuth angle\n",
    "az = np.array([ray[0].az_angle for ray in f.sweeps[sweep]])\n",
    "\n",
    "# 5th item is a dict mapping a var name (byte string) to a tuple\n",
    "# of (header, data array)\n",
    "ref_hdr = f.sweeps[sweep][0][4][b'REF'][0]\n",
    "ref_range = np.arange(ref_hdr.num_gates) * ref_hdr.gate_width + ref_hdr.first_gate\n",
    "ref = np.array([ray[4][b'REF'][1] for ray in f.sweeps[sweep]])"
   ]
  },
  {
   "cell_type": "code",
   "execution_count": 5,
   "metadata": {
    "collapsed": false
   },
   "outputs": [
    {
     "data": {
      "image/png": "[encoded data removed]",
      "text/plain": [
       "<matplotlib.figure.Figure at 0x9064438>"
      ]
     },
     "metadata": {},
     "output_type": "display_data"
    }
   ],
   "source": [
    "# fig, axes = plt.subplots(1, 2, figsize=(15, 8))\n",
    "# for var_data, var_range, ax in zip((ref, rho), (ref_range, rho_range), axes):\n",
    "# Turn into an array, then mask\n",
    "data = ma.array(ref)\n",
    "data[np.isnan(data)] = ma.masked\n",
    "\n",
    "# Convert az,range to x,y\n",
    "xlocs = ref_range * np.sin(np.deg2rad(az[:, np.newaxis]))\n",
    "ylocs = ref_range * np.cos(np.deg2rad(az[:, np.newaxis]))\n",
    "\n",
    "# Plot the data\n",
    "cmap = ctables.registry.get_colortable('viridis')\n",
    "plt.pcolormesh(xlocs, ylocs, data, cmap=cmap)\n",
    "#plt.set_aspect('equal', 'datalim')\n",
    "\n",
    "plt.show()"
   ]
  },
  {
   "cell_type": "code",
   "execution_count": 54,
   "metadata": {
    "collapsed": false
   },
   "outputs": [],
   "source": [
    "def extract_data(filepath):\n",
    "    f = Level2File(filepath)\n",
    "    # Pull data out of the file\n",
    "    sweep = 0\n",
    "\n",
    "    # First item in ray is header, which has azimuth angle\n",
    "    az = np.array([ray[0].az_angle for ray in f.sweeps[sweep]])\n",
    "\n",
    "    # 5th item is a dict mapping a var name (byte string) to a tuple\n",
    "    # of (header, data array)\n",
    "    ref_hdr = f.sweeps[sweep][0][4][b'REF'][0]\n",
    "    ref_range = np.arange(ref_hdr.num_gates) * ref_hdr.gate_width + ref_hdr.first_gate\n",
    "    ref = np.array([ray[4][b'REF'][1] for ray in f.sweeps[sweep]])\n",
    "    \n",
    "    data_hdr = f.sweeps[sweep][0][1]\n",
    "    \n",
    "    data = ma.array(ref)\n",
    "    data[data==0] = ma.masked\n",
    "\n",
    "    # Data from MetPy needs to be converted to latitude and longitude coordinates\n",
    "    g = Geod(ellps='clrk66')\n",
    "    center_lat = np.ones([len(az),len(ref_range)])*data_hdr.lat\n",
    "    center_lon = np.ones([len(az),len(ref_range)])*data_hdr.lon\n",
    "\n",
    "    az2D = np.ones_like(center_lat)*az[:,None]\n",
    "    rng2D = np.ones_like(center_lat)*np.transpose(ref_range[:,None])*1000\n",
    "    lon,lat,back = g.fwd(center_lon,center_lat,az2D,rng2D)\n",
    "    \n",
    "    return lon, lat, data\n",
    "\n",
    "def unstack_process(lon, lat, data):\n",
    "    lat_df = pd.DataFrame(lat)\n",
    "    lon_df = pd.DataFrame(lon)\n",
    "    data_df = pd.DataFrame(data)\n",
    "    \n",
    "    lon_stack = lon_df.stack().reset_index()\n",
    "    lon_stack = lon_stack.rename(columns={'level_0': 'x', 'level_1': 'y', 0: 'lon'})\n",
    "    lat_stack = lat_df.stack().reset_index()\n",
    "    lat_stack = lat_stack.rename(columns={'level_0': 'x', 'level_1': 'y', 0: 'lat'})\n",
    "    coord_merge = pd.merge(lat_stack, lon_stack, on=['x', 'y']).reset_index()\n",
    "    # Reducing to bounding box through selection rather than geospatial operation\n",
    "    coord_merge = coord_merge.loc[(coord_merge['lat'] <= 42.0231311) &\n",
    "                                  (coord_merge['lat'] >= 41.644335) &\n",
    "                                  (coord_merge['lon'] <= -87.524044) &\n",
    "                                  (coord_merge['lon'] >= -87.940267)]\n",
    "    data_stack = data_df.stack().reset_index()\n",
    "    data_stack = data_stack.rename(columns={'level_0': 'x', 'level_1': 'y', 0: 'precip'})\n",
    "    merged_data = pd.merge(coord_merge, data_stack, on=['x', 'y'], how='left')[['lat','lon','precip']]\n",
    "    nexrad_df = merged_data.dropna().copy()\n",
    "    # Convert precip in dBZ into mm/hr using Marshall-Palmer https://en.wikipedia.org/wiki/DBZ_(meteorology)\n",
    "    nexrad_df.loc['precip'] = pow(pow(10, nexrad_df['precip']/10)/200, 0.625)\n",
    "    return nexrad_df.dropna()\n",
    "    \n",
    "def spatial_join(nexrad_df, gpd_file, group_col, file_time):\n",
    "    geo_df = gpd.read_file(gpd_file)\n",
    "    crs = {'init':'epsg:4326'}\n",
    "    geo_df.crs = crs\n",
    "    geometry = nexrad_df.apply(lambda z: Point(z['lon'], z['lat']), axis=1).dropna()\n",
    "    #geometry = [Point(xy) for xy in zip(nexrad_df.lon, nexrad_df.lat)]\n",
    "    nexrad_geo = gpd.GeoDataFrame(nexrad_df, crs=crs, geometry=geometry)\n",
    "    nexrad_geo.crs = geo_df.crs\n",
    "    merged_nexrad = gpd.tools.sjoin(nexrad_geo, geo_df, how='right', op='within') #.reset_index()\n",
    "    nexrad_grouped = merged_nexrad.groupby([group_col])['precip'].mean().reset_index()\n",
    "    nexrad_grouped[group_col] = nexrad_grouped[group_col].astype(int)\n",
    "    nexrad_grouped.fillna(value=0, inplace=True)\n",
    "    nexrad_grouped.sort_values(by=group_col, inplace=True)\n",
    "    nexrad_grouped.to_csv('data/nexrad_processed/{}_{}.csv'.format(group_col, file_time), index=False)"
   ]
  },
  {
   "cell_type": "code",
   "execution_count": 57,
   "metadata": {
    "collapsed": false
   },
   "outputs": [
    {
     "name": "stdout",
     "output_type": "stream",
     "text": [
      "(720, 1832)\n",
      "    index  x   y        lat        lon\n",
      "48     48  0  48  41.669450 -87.938465\n",
      "49     49  0  49  41.670599 -87.935883\n",
      "50     50  0  50  41.671748 -87.933302\n",
      "51     51  0  51  41.672897 -87.930720\n",
      "52     52  0  52  41.674046 -87.928139\n"
     ]
    }
   ],
   "source": [
    "file_time = re.search(r'\\d{8}_\\d{6}',local_filepath).group()\n",
    "lon, lat, data = extract_data(local_filepath)\n",
    "print(data.shape)\n",
    "nexrad_df = unstack_process(lon, lat, data)\n",
    "spatial_join(nexrad_df, 'data/chicago_wards.geojson', 'ward', file_time)"
   ]
  },
  {
   "cell_type": "code",
   "execution_count": 52,
   "metadata": {
    "collapsed": false
   },
   "outputs": [
    {
     "name": "stdout",
     "output_type": "stream",
     "text": [
      "<class 'geopandas.geodataframe.GeoDataFrame'>\n",
      "RangeIndex: 50 entries, 0 to 49\n",
      "Data columns (total 2 columns):\n",
      "geometry    50 non-null object\n",
      "ward        50 non-null object\n",
      "dtypes: object(2)\n",
      "memory usage: 880.0+ bytes\n"
     ]
    }
   ],
   "source": [
    "geo_df.info(verbose=True)"
   ]
  },
  {
   "cell_type": "code",
   "execution_count": 53,
   "metadata": {
    "collapsed": false
   },
   "outputs": [
    {
     "name": "stdout",
     "output_type": "stream",
     "text": [
      "<class 'pandas.core.frame.DataFrame'>\n",
      "Index: 18083 entries, 0 to precip\n",
      "Data columns (total 4 columns):\n",
      "lat         18082 non-null float64\n",
      "lon         18082 non-null float64\n",
      "precip      18082 non-null float64\n",
      "geometry    18083 non-null object\n",
      "dtypes: float64(3), object(1)\n",
      "memory usage: 706.4+ KB\n"
     ]
    }
   ],
   "source": [
    "nexrad_df.info(verbose=True)"
   ]
  },
  {
   "cell_type": "code",
   "execution_count": null,
   "metadata": {
    "collapsed": true
   },
   "outputs": [],
   "source": []
  }
 ],
 "metadata": {
  "kernelspec": {
   "display_name": "Python 3",
   "language": "python",
   "name": "python3"
  },
  "language_info": {
   "codemirror_mode": {
    "name": "ipython",
    "version": 3
   },
   "file_extension": ".py",
   "mimetype": "text/x-python",
   "name": "python",
   "nbconvert_exporter": "python",
   "pygments_lexer": "ipython3",
   "version": "3.5.1"
  }
 },
 "nbformat": 4,
 "nbformat_minor": 0
}
