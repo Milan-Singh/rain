{
 "cells": [
  {
   "cell_type": "code",
   "execution_count": 1,
   "metadata": {
    "collapsed": true
   },
   "outputs": [],
   "source": [
    "from __future__ import division, print_function, unicode_literals\n",
    "\n",
    "import numpy as np\n",
    "import pandas as pd\n",
    "import matplotlib.pyplot as plt\n",
    "import seaborn as sns\n",
    "%matplotlib inline"
   ]
  },
  {
   "cell_type": "code",
   "execution_count": 2,
   "metadata": {
    "collapsed": false
   },
   "outputs": [
    {
     "data": {
      "text/html": [
       "<div>\n",
       "<table border=\"1\" class=\"dataframe\">\n",
       "  <thead>\n",
       "    <tr style=\"text-align: right;\">\n",
       "      <th></th>\n",
       "      <th>disasterNumber</th>\n",
       "      <th>incidentType</th>\n",
       "      <th>state</th>\n",
       "      <th>county</th>\n",
       "      <th>city</th>\n",
       "      <th>zipCode</th>\n",
       "      <th>validRegistrations</th>\n",
       "      <th>totalInspected</th>\n",
       "      <th>totalInspectedWithNoDamage</th>\n",
       "      <th>totalWithModerateDamage</th>\n",
       "      <th>...</th>\n",
       "      <th>approvedBetween1And10000</th>\n",
       "      <th>approvedBetween10001And25000</th>\n",
       "      <th>approvedBetween25001AndMax</th>\n",
       "      <th>totalMaxGrants</th>\n",
       "      <th>hash</th>\n",
       "      <th>lastRefresh</th>\n",
       "      <th>declarationDate</th>\n",
       "      <th>title</th>\n",
       "      <th>incidentBeginDate</th>\n",
       "      <th>incidentEndDate</th>\n",
       "    </tr>\n",
       "  </thead>\n",
       "  <tbody>\n",
       "    <tr>\n",
       "      <th>0</th>\n",
       "      <td>1935.0</td>\n",
       "      <td>Severe Storm(s)</td>\n",
       "      <td>IL</td>\n",
       "      <td>Cook (County)</td>\n",
       "      <td>Chicago</td>\n",
       "      <td>60651</td>\n",
       "      <td>1.0</td>\n",
       "      <td>1.0</td>\n",
       "      <td>1.0</td>\n",
       "      <td>0.0</td>\n",
       "      <td>...</td>\n",
       "      <td>1.0</td>\n",
       "      <td>0.0</td>\n",
       "      <td>0.0</td>\n",
       "      <td>0.0</td>\n",
       "      <td>0c2848a1b3d37ca216e40d7266d70007</td>\n",
       "      <td>2014-11-20T15:20:38 +00:00</td>\n",
       "      <td>2010-08-19T14:00:00 +00:00</td>\n",
       "      <td>SEVERE STORMS AND FLOODING</td>\n",
       "      <td>2010-07-19 14:36:00</td>\n",
       "      <td>2010-08-07T11:00:00 +00:00</td>\n",
       "    </tr>\n",
       "    <tr>\n",
       "      <th>1</th>\n",
       "      <td>1935.0</td>\n",
       "      <td>Severe Storm(s)</td>\n",
       "      <td>IL</td>\n",
       "      <td>Cook (County)</td>\n",
       "      <td>Chicago</td>\n",
       "      <td>60641</td>\n",
       "      <td>124.0</td>\n",
       "      <td>121.0</td>\n",
       "      <td>121.0</td>\n",
       "      <td>0.0</td>\n",
       "      <td>...</td>\n",
       "      <td>60.0</td>\n",
       "      <td>9.0</td>\n",
       "      <td>1.0</td>\n",
       "      <td>1.0</td>\n",
       "      <td>2c28933c6fcfbd4a651ce9948460ccfd</td>\n",
       "      <td>2014-11-20T15:20:38 +00:00</td>\n",
       "      <td>2010-08-19T14:00:00 +00:00</td>\n",
       "      <td>SEVERE STORMS AND FLOODING</td>\n",
       "      <td>2010-07-19 14:36:00</td>\n",
       "      <td>2010-08-07T11:00:00 +00:00</td>\n",
       "    </tr>\n",
       "    <tr>\n",
       "      <th>2</th>\n",
       "      <td>1935.0</td>\n",
       "      <td>Severe Storm(s)</td>\n",
       "      <td>IL</td>\n",
       "      <td>Cook (County)</td>\n",
       "      <td>Chicago</td>\n",
       "      <td>60609</td>\n",
       "      <td>939.0</td>\n",
       "      <td>903.0</td>\n",
       "      <td>903.0</td>\n",
       "      <td>0.0</td>\n",
       "      <td>...</td>\n",
       "      <td>514.0</td>\n",
       "      <td>32.0</td>\n",
       "      <td>5.0</td>\n",
       "      <td>1.0</td>\n",
       "      <td>45fd7be16116532bcb712b0196adfbd2</td>\n",
       "      <td>2014-11-20T15:20:38 +00:00</td>\n",
       "      <td>2010-08-19T14:00:00 +00:00</td>\n",
       "      <td>SEVERE STORMS AND FLOODING</td>\n",
       "      <td>2010-07-19 14:36:00</td>\n",
       "      <td>2010-08-07T11:00:00 +00:00</td>\n",
       "    </tr>\n",
       "    <tr>\n",
       "      <th>3</th>\n",
       "      <td>1935.0</td>\n",
       "      <td>Severe Storm(s)</td>\n",
       "      <td>IL</td>\n",
       "      <td>Cook (County)</td>\n",
       "      <td>Chicago</td>\n",
       "      <td>60827</td>\n",
       "      <td>148.0</td>\n",
       "      <td>141.0</td>\n",
       "      <td>141.0</td>\n",
       "      <td>0.0</td>\n",
       "      <td>...</td>\n",
       "      <td>57.0</td>\n",
       "      <td>2.0</td>\n",
       "      <td>0.0</td>\n",
       "      <td>0.0</td>\n",
       "      <td>7001b15646afa6bc79214521253ef5c5</td>\n",
       "      <td>2014-11-20T15:20:38 +00:00</td>\n",
       "      <td>2010-08-19T14:00:00 +00:00</td>\n",
       "      <td>SEVERE STORMS AND FLOODING</td>\n",
       "      <td>2010-07-19 14:36:00</td>\n",
       "      <td>2010-08-07T11:00:00 +00:00</td>\n",
       "    </tr>\n",
       "    <tr>\n",
       "      <th>4</th>\n",
       "      <td>1935.0</td>\n",
       "      <td>Severe Storm(s)</td>\n",
       "      <td>IL</td>\n",
       "      <td>Cook (County)</td>\n",
       "      <td>Chicago</td>\n",
       "      <td>60630</td>\n",
       "      <td>11.0</td>\n",
       "      <td>11.0</td>\n",
       "      <td>11.0</td>\n",
       "      <td>0.0</td>\n",
       "      <td>...</td>\n",
       "      <td>1.0</td>\n",
       "      <td>0.0</td>\n",
       "      <td>0.0</td>\n",
       "      <td>0.0</td>\n",
       "      <td>23567187d20f65ae2ba4bb0849a91e0a</td>\n",
       "      <td>2014-11-20T15:20:38 +00:00</td>\n",
       "      <td>2010-08-19T14:00:00 +00:00</td>\n",
       "      <td>SEVERE STORMS AND FLOODING</td>\n",
       "      <td>2010-07-19 14:36:00</td>\n",
       "      <td>2010-08-07T11:00:00 +00:00</td>\n",
       "    </tr>\n",
       "  </tbody>\n",
       "</table>\n",
       "<p>5 rows × 27 columns</p>\n",
       "</div>"
      ],
      "text/plain": [
       "   disasterNumber     incidentType state         county     city zipCode  \\\n",
       "0          1935.0  Severe Storm(s)    IL  Cook (County)  Chicago   60651   \n",
       "1          1935.0  Severe Storm(s)    IL  Cook (County)  Chicago   60641   \n",
       "2          1935.0  Severe Storm(s)    IL  Cook (County)  Chicago   60609   \n",
       "3          1935.0  Severe Storm(s)    IL  Cook (County)  Chicago   60827   \n",
       "4          1935.0  Severe Storm(s)    IL  Cook (County)  Chicago   60630   \n",
       "\n",
       "   validRegistrations  totalInspected  totalInspectedWithNoDamage  \\\n",
       "0                 1.0             1.0                         1.0   \n",
       "1               124.0           121.0                       121.0   \n",
       "2               939.0           903.0                       903.0   \n",
       "3               148.0           141.0                       141.0   \n",
       "4                11.0            11.0                        11.0   \n",
       "\n",
       "   totalWithModerateDamage             ...              \\\n",
       "0                      0.0             ...               \n",
       "1                      0.0             ...               \n",
       "2                      0.0             ...               \n",
       "3                      0.0             ...               \n",
       "4                      0.0             ...               \n",
       "\n",
       "   approvedBetween1And10000  approvedBetween10001And25000  \\\n",
       "0                       1.0                           0.0   \n",
       "1                      60.0                           9.0   \n",
       "2                     514.0                          32.0   \n",
       "3                      57.0                           2.0   \n",
       "4                       1.0                           0.0   \n",
       "\n",
       "   approvedBetween25001AndMax  totalMaxGrants  \\\n",
       "0                         0.0             0.0   \n",
       "1                         1.0             1.0   \n",
       "2                         5.0             1.0   \n",
       "3                         0.0             0.0   \n",
       "4                         0.0             0.0   \n",
       "\n",
       "                               hash                 lastRefresh  \\\n",
       "0  0c2848a1b3d37ca216e40d7266d70007  2014-11-20T15:20:38 +00:00   \n",
       "1  2c28933c6fcfbd4a651ce9948460ccfd  2014-11-20T15:20:38 +00:00   \n",
       "2  45fd7be16116532bcb712b0196adfbd2  2014-11-20T15:20:38 +00:00   \n",
       "3  7001b15646afa6bc79214521253ef5c5  2014-11-20T15:20:38 +00:00   \n",
       "4  23567187d20f65ae2ba4bb0849a91e0a  2014-11-20T15:20:38 +00:00   \n",
       "\n",
       "              declarationDate                       title  \\\n",
       "0  2010-08-19T14:00:00 +00:00  SEVERE STORMS AND FLOODING   \n",
       "1  2010-08-19T14:00:00 +00:00  SEVERE STORMS AND FLOODING   \n",
       "2  2010-08-19T14:00:00 +00:00  SEVERE STORMS AND FLOODING   \n",
       "3  2010-08-19T14:00:00 +00:00  SEVERE STORMS AND FLOODING   \n",
       "4  2010-08-19T14:00:00 +00:00  SEVERE STORMS AND FLOODING   \n",
       "\n",
       "     incidentBeginDate             incidentEndDate  \n",
       "0  2010-07-19 14:36:00  2010-08-07T11:00:00 +00:00  \n",
       "1  2010-07-19 14:36:00  2010-08-07T11:00:00 +00:00  \n",
       "2  2010-07-19 14:36:00  2010-08-07T11:00:00 +00:00  \n",
       "3  2010-07-19 14:36:00  2010-08-07T11:00:00 +00:00  \n",
       "4  2010-07-19 14:36:00  2010-08-07T11:00:00 +00:00  \n",
       "\n",
       "[5 rows x 27 columns]"
      ]
     },
     "execution_count": 2,
     "metadata": {},
     "output_type": "execute_result"
    }
   ],
   "source": [
    "housing_owners = pd.read_csv('fema_data/chi_housing_assistance_owners.csv')\n",
    "housing_owners['zipCode'] = housing_owners['zipCode'].fillna(0).astype(int).astype(str)\n",
    "housing_renters = pd.read_csv('fema_data/chi_housing_assistance_renters.csv')\n",
    "housing_renters['zipCode'] = housing_renters['zipCode'].fillna(0).astype(int).astype(str)\n",
    "housing_renters.head()"
   ]
  },
  {
   "cell_type": "code",
   "execution_count": 3,
   "metadata": {
    "collapsed": false
   },
   "outputs": [
    {
     "data": {
      "text/plain": [
       "(231, 30)"
      ]
     },
     "execution_count": 3,
     "metadata": {},
     "output_type": "execute_result"
    }
   ],
   "source": [
    "housing_owners.shape"
   ]
  },
  {
   "cell_type": "code",
   "execution_count": 4,
   "metadata": {
    "collapsed": false
   },
   "outputs": [
    {
     "data": {
      "text/plain": [
       "(179, 27)"
      ]
     },
     "execution_count": 4,
     "metadata": {},
     "output_type": "execute_result"
    }
   ],
   "source": [
    "housing_renters.shape"
   ]
  },
  {
   "cell_type": "code",
   "execution_count": 5,
   "metadata": {
    "collapsed": false
   },
   "outputs": [
    {
     "data": {
      "text/plain": [
       "disasterNumber                             float64\n",
       "incidentType                                object\n",
       "state                                       object\n",
       "county                                      object\n",
       "city                                        object\n",
       "zipCode                                     object\n",
       "validRegistrations                         float64\n",
       "averageFemaInspectedDamage                 float64\n",
       "totalInspected                             float64\n",
       "totalDamage                                float64\n",
       "noFemaInspectedDamage                      float64\n",
       "femaInspectedDamageBetween1And10000        float64\n",
       "femaInspectedDamageBetween10001And20000    float64\n",
       "femaInspectedDamageBetween20001And30000    float64\n",
       "femaInspectedDamageGreaterThan30000        float64\n",
       "approvedForFemaAssistance                  float64\n",
       "totalApprovedIhpAmount                     float64\n",
       "repairReplaceAmount                        float64\n",
       "rentalAmount                               float64\n",
       "otherNeedsAmount                           float64\n",
       "approvedBetween1And10000                   float64\n",
       "approvedBetween10001And25000               float64\n",
       "approvedBetween25001AndMax                 float64\n",
       "totalMaxGrants                             float64\n",
       "hash                                        object\n",
       "lastRefresh                                 object\n",
       "declarationDate                             object\n",
       "title                                       object\n",
       "incidentBeginDate                           object\n",
       "incidentEndDate                             object\n",
       "dtype: object"
      ]
     },
     "execution_count": 5,
     "metadata": {},
     "output_type": "execute_result"
    }
   ],
   "source": [
    "housing_owners.dtypes"
   ]
  },
  {
   "cell_type": "code",
   "execution_count": 6,
   "metadata": {
    "collapsed": false
   },
   "outputs": [
    {
     "data": {
      "text/plain": [
       "disasterNumber                  float64\n",
       "incidentType                     object\n",
       "state                            object\n",
       "county                           object\n",
       "city                             object\n",
       "zipCode                          object\n",
       "validRegistrations              float64\n",
       "totalInspected                  float64\n",
       "totalInspectedWithNoDamage      float64\n",
       "totalWithModerateDamage         float64\n",
       "totalWithMajorDamage            float64\n",
       "totalWithSubstantialDamage      float64\n",
       "approvedForFemaAssistance       float64\n",
       "totalApprovedIhpAmount          float64\n",
       "repairReplaceAmount             float64\n",
       "rentalAmount                    float64\n",
       "otherNeedsAmount                float64\n",
       "approvedBetween1And10000        float64\n",
       "approvedBetween10001And25000    float64\n",
       "approvedBetween25001AndMax      float64\n",
       "totalMaxGrants                  float64\n",
       "hash                             object\n",
       "lastRefresh                      object\n",
       "declarationDate                  object\n",
       "title                            object\n",
       "incidentBeginDate                object\n",
       "incidentEndDate                  object\n",
       "dtype: object"
      ]
     },
     "execution_count": 6,
     "metadata": {},
     "output_type": "execute_result"
    }
   ],
   "source": [
    "housing_renters.dtypes"
   ]
  },
  {
   "cell_type": "code",
   "execution_count": 7,
   "metadata": {
    "collapsed": false
   },
   "outputs": [
    {
     "data": {
      "text/html": [
       "<div>\n",
       "<table border=\"1\" class=\"dataframe\">\n",
       "  <thead>\n",
       "    <tr style=\"text-align: right;\">\n",
       "      <th></th>\n",
       "      <th>zipCode</th>\n",
       "      <th>approvedForFemaAssistance</th>\n",
       "    </tr>\n",
       "  </thead>\n",
       "  <tbody>\n",
       "    <tr>\n",
       "      <th>32</th>\n",
       "      <td>60628</td>\n",
       "      <td>7769.0</td>\n",
       "    </tr>\n",
       "    <tr>\n",
       "      <th>24</th>\n",
       "      <td>60619</td>\n",
       "      <td>7464.0</td>\n",
       "    </tr>\n",
       "    <tr>\n",
       "      <th>25</th>\n",
       "      <td>60620</td>\n",
       "      <td>6950.0</td>\n",
       "    </tr>\n",
       "    <tr>\n",
       "      <th>22</th>\n",
       "      <td>60617</td>\n",
       "      <td>6574.0</td>\n",
       "    </tr>\n",
       "    <tr>\n",
       "      <th>33</th>\n",
       "      <td>60629</td>\n",
       "      <td>6533.0</td>\n",
       "    </tr>\n",
       "  </tbody>\n",
       "</table>\n",
       "</div>"
      ],
      "text/plain": [
       "   zipCode  approvedForFemaAssistance\n",
       "32   60628                     7769.0\n",
       "24   60619                     7464.0\n",
       "25   60620                     6950.0\n",
       "22   60617                     6574.0\n",
       "33   60629                     6533.0"
      ]
     },
     "execution_count": 7,
     "metadata": {},
     "output_type": "execute_result"
    }
   ],
   "source": [
    "owner_approved_zip = housing_owners.groupby(['zipCode'])['approvedForFemaAssistance'].sum()\n",
    "owner_approved_df = pd.DataFrame(owner_approved_zip).reset_index()\n",
    "owner_approved_df = owner_approved_df.dropna()\n",
    "owner_approved_df = owner_approved_df.sort_values(by='approvedForFemaAssistance',ascending=False)\n",
    "owner_approved_df.head()"
   ]
  },
  {
   "cell_type": "code",
   "execution_count": 8,
   "metadata": {
    "collapsed": false
   },
   "outputs": [
    {
     "data": {
      "text/html": [
       "<div>\n",
       "<table border=\"1\" class=\"dataframe\">\n",
       "  <thead>\n",
       "    <tr style=\"text-align: right;\">\n",
       "      <th></th>\n",
       "      <th>zipCode</th>\n",
       "      <th>approvedForFemaAssistance</th>\n",
       "    </tr>\n",
       "  </thead>\n",
       "  <tbody>\n",
       "    <tr>\n",
       "      <th>29</th>\n",
       "      <td>60628</td>\n",
       "      <td>2827.0</td>\n",
       "    </tr>\n",
       "    <tr>\n",
       "      <th>21</th>\n",
       "      <td>60620</td>\n",
       "      <td>2307.0</td>\n",
       "    </tr>\n",
       "    <tr>\n",
       "      <th>20</th>\n",
       "      <td>60619</td>\n",
       "      <td>2173.0</td>\n",
       "    </tr>\n",
       "    <tr>\n",
       "      <th>49</th>\n",
       "      <td>60651</td>\n",
       "      <td>2135.0</td>\n",
       "    </tr>\n",
       "    <tr>\n",
       "      <th>36</th>\n",
       "      <td>60636</td>\n",
       "      <td>2032.0</td>\n",
       "    </tr>\n",
       "  </tbody>\n",
       "</table>\n",
       "</div>"
      ],
      "text/plain": [
       "   zipCode  approvedForFemaAssistance\n",
       "29   60628                     2827.0\n",
       "21   60620                     2307.0\n",
       "20   60619                     2173.0\n",
       "49   60651                     2135.0\n",
       "36   60636                     2032.0"
      ]
     },
     "execution_count": 8,
     "metadata": {},
     "output_type": "execute_result"
    }
   ],
   "source": [
    "renter_approved_zip = housing_renters.groupby(['zipCode'])['approvedForFemaAssistance'].sum()\n",
    "renter_approved_df = pd.DataFrame(renter_approved_zip).reset_index()\n",
    "renter_approved_df = renter_approved_df.dropna()\n",
    "renter_approved_df = renter_approved_df.sort_values(by='approvedForFemaAssistance',ascending=False)\n",
    "renter_approved_df.head()"
   ]
  },
  {
   "cell_type": "code",
   "execution_count": 9,
   "metadata": {
    "collapsed": false
   },
   "outputs": [
    {
     "data": {
      "text/html": [
       "<div>\n",
       "<table border=\"1\" class=\"dataframe\">\n",
       "  <thead>\n",
       "    <tr style=\"text-align: right;\">\n",
       "      <th></th>\n",
       "      <th>zipCode</th>\n",
       "      <th>approvedForFemaAssistance</th>\n",
       "    </tr>\n",
       "  </thead>\n",
       "  <tbody>\n",
       "    <tr>\n",
       "      <th>0</th>\n",
       "      <td>60628</td>\n",
       "      <td>10596.0</td>\n",
       "    </tr>\n",
       "    <tr>\n",
       "      <th>1</th>\n",
       "      <td>60619</td>\n",
       "      <td>9637.0</td>\n",
       "    </tr>\n",
       "    <tr>\n",
       "      <th>2</th>\n",
       "      <td>60620</td>\n",
       "      <td>9257.0</td>\n",
       "    </tr>\n",
       "    <tr>\n",
       "      <th>4</th>\n",
       "      <td>60629</td>\n",
       "      <td>8299.0</td>\n",
       "    </tr>\n",
       "    <tr>\n",
       "      <th>3</th>\n",
       "      <td>60617</td>\n",
       "      <td>7961.0</td>\n",
       "    </tr>\n",
       "  </tbody>\n",
       "</table>\n",
       "</div>"
      ],
      "text/plain": [
       "  zipCode  approvedForFemaAssistance\n",
       "0   60628                    10596.0\n",
       "1   60619                     9637.0\n",
       "2   60620                     9257.0\n",
       "4   60629                     8299.0\n",
       "3   60617                     7961.0"
      ]
     },
     "execution_count": 9,
     "metadata": {},
     "output_type": "execute_result"
    }
   ],
   "source": [
    "both_approved_df = owner_approved_df.merge(renter_approved_df, on='zipCode')\n",
    "both_approved_df['approvedForFemaAssistance'] = both_approved_df['approvedForFemaAssistance_x'] + both_approved_df['approvedForFemaAssistance_y']\n",
    "both_approved_df = both_approved_df[['zipCode', 'approvedForFemaAssistance']]\n",
    "both_approved_df = both_approved_df.sort_values(by='approvedForFemaAssistance', ascending=False)\n",
    "both_approved_df.head()"
   ]
  },
  {
   "cell_type": "code",
   "execution_count": 10,
   "metadata": {
    "collapsed": false
   },
   "outputs": [
    {
     "data": {
      "text/html": [
       "<div>\n",
       "<table border=\"1\" class=\"dataframe\">\n",
       "  <thead>\n",
       "    <tr style=\"text-align: right;\">\n",
       "      <th></th>\n",
       "      <th>Zip Code</th>\n",
       "      <th>Count Calls</th>\n",
       "    </tr>\n",
       "  </thead>\n",
       "  <tbody>\n",
       "    <tr>\n",
       "      <th>27</th>\n",
       "      <td>60628</td>\n",
       "      <td>11671.0</td>\n",
       "    </tr>\n",
       "    <tr>\n",
       "      <th>19</th>\n",
       "      <td>60619</td>\n",
       "      <td>10758.0</td>\n",
       "    </tr>\n",
       "    <tr>\n",
       "      <th>28</th>\n",
       "      <td>60629</td>\n",
       "      <td>9902.0</td>\n",
       "    </tr>\n",
       "    <tr>\n",
       "      <th>17</th>\n",
       "      <td>60617</td>\n",
       "      <td>9526.0</td>\n",
       "    </tr>\n",
       "    <tr>\n",
       "      <th>20</th>\n",
       "      <td>60620</td>\n",
       "      <td>9362.0</td>\n",
       "    </tr>\n",
       "  </tbody>\n",
       "</table>\n",
       "</div>"
      ],
      "text/plain": [
       "   Zip Code  Count Calls\n",
       "27    60628      11671.0\n",
       "19    60619      10758.0\n",
       "28    60629       9902.0\n",
       "17    60617       9526.0\n",
       "20    60620       9362.0"
      ]
     },
     "execution_count": 10,
     "metadata": {},
     "output_type": "execute_result"
    }
   ],
   "source": [
    "flood_zip_df = pd.read_csv('311_data/wib_calls_311_zip.csv')\n",
    "flood_zip_df = flood_zip_df[flood_zip_df.columns.values[1:]]\n",
    "flood_zip_stack = pd.DataFrame(flood_zip_df.stack()).reset_index()\n",
    "flood_zip_stack = flood_zip_stack.rename(columns={'level_0':'Created Date','level_1':'Zip Code',0:'Count Calls'})\n",
    "flood_zip_sum = flood_zip_stack.groupby(['Zip Code'])['Count Calls'].sum()\n",
    "flood_zip_sum = flood_zip_sum.reset_index()\n",
    "flood_zip_sum = flood_zip_sum.sort_values(by='Count Calls',ascending=False)\n",
    "flood_zip_sum.head()"
   ]
  },
  {
   "cell_type": "code",
   "execution_count": 11,
   "metadata": {
    "collapsed": false
   },
   "outputs": [
    {
     "data": {
      "text/plain": [
       "(52, 2)"
      ]
     },
     "execution_count": 11,
     "metadata": {},
     "output_type": "execute_result"
    }
   ],
   "source": [
    "flood_zips = flood_zip_sum['Zip Code'].unique()\n",
    "fema_approved_zip_df = both_approved_df.loc[both_approved_df['zipCode'].isin(flood_zips)].copy()\n",
    "fema_approved_zip_df.shape"
   ]
  },
  {
   "cell_type": "markdown",
   "metadata": {},
   "source": [
    "## FEMA Approved and 311 Comparison\n",
    "\n",
    "Using all approvedistrations earlier didn't work, but there is a much clearer relationship when looking at approved claims rather than all valid approved registrations."
   ]
  },
  {
   "cell_type": "code",
   "execution_count": 13,
   "metadata": {
    "collapsed": false
   },
   "outputs": [
    {
     "data": {
      "text/plain": [
       "<matplotlib.axes._subplots.AxesSubplot at 0xa6eebe0>"
      ]
     },
     "execution_count": 13,
     "metadata": {},
     "output_type": "execute_result"
    },
    {
     "data": {
      "image/png": "[encoded data removed]",
      "text/plain": [
       "<matplotlib.figure.Figure at 0x9ea6a58>"
      ]
     },
     "metadata": {},
     "output_type": "display_data"
    }
   ],
   "source": [
    "fig, axs = plt.subplots(1,2)\n",
    "plt.rcParams[\"figure.figsize\"] = [15, 5]\n",
    "fema_approved_zip_df[:20].plot(title='FEMA Data', ax=axs[0], kind='bar',x='zipCode',y='approvedForFemaAssistance')\n",
    "flood_zip_sum[:20].plot(title='FOIA Data', ax=axs[1], kind='bar',x='Zip Code',y='Count Calls')"
   ]
  },
  {
   "cell_type": "code",
   "execution_count": 14,
   "metadata": {
    "collapsed": false
   },
   "outputs": [
    {
     "data": {
      "text/plain": [
       "<matplotlib.axes._subplots.AxesSubplot at 0xaa4ada0>"
      ]
     },
     "execution_count": 14,
     "metadata": {},
     "output_type": "execute_result"
    },
    {
     "data": {
      "image/png": "[encoded data removed]",
      "text/plain": [
       "<matplotlib.figure.Figure at 0x43d4a20>"
      ]
     },
     "metadata": {},
     "output_type": "display_data"
    }
   ],
   "source": [
    "fema_flood_zip = pd.DataFrame()\n",
    "fema_flood_zip[['Zip Code', 'FEMA Approved']] = fema_approved_zip_df.copy()\n",
    "fema_flood_zip = fema_flood_zip.merge(flood_zip_sum, on='Zip Code')\n",
    "fema_flood_zip.plot(title='FEMA and FOIA Data', x='Zip Code', y=['FEMA Approved', 'Count Calls'], kind='bar')"
   ]
  },
  {
   "cell_type": "markdown",
   "metadata": {},
   "source": [
    "### FEMA Events\n",
    "\n",
    "The WIB call data covers all calls from 2000 through the present, but the earliest event in the FEMA data is in 2007. Looking at the same information, but with calls starting in 2007."
   ]
  },
  {
   "cell_type": "code",
   "execution_count": 15,
   "metadata": {
    "collapsed": false
   },
   "outputs": [
    {
     "data": {
      "text/html": [
       "<div>\n",
       "<table border=\"1\" class=\"dataframe\">\n",
       "  <thead>\n",
       "    <tr style=\"text-align: right;\">\n",
       "      <th></th>\n",
       "      <th>60601</th>\n",
       "      <th>60602</th>\n",
       "      <th>60603</th>\n",
       "      <th>60604</th>\n",
       "      <th>60605</th>\n",
       "      <th>60606</th>\n",
       "      <th>60607</th>\n",
       "      <th>60608</th>\n",
       "      <th>60609</th>\n",
       "      <th>60610</th>\n",
       "      <th>...</th>\n",
       "      <th>60654</th>\n",
       "      <th>60655</th>\n",
       "      <th>60656</th>\n",
       "      <th>60657</th>\n",
       "      <th>60659</th>\n",
       "      <th>60660</th>\n",
       "      <th>60661</th>\n",
       "      <th>60666</th>\n",
       "      <th>60707</th>\n",
       "      <th>60827</th>\n",
       "    </tr>\n",
       "    <tr>\n",
       "      <th>Created Date</th>\n",
       "      <th></th>\n",
       "      <th></th>\n",
       "      <th></th>\n",
       "      <th></th>\n",
       "      <th></th>\n",
       "      <th></th>\n",
       "      <th></th>\n",
       "      <th></th>\n",
       "      <th></th>\n",
       "      <th></th>\n",
       "      <th></th>\n",
       "      <th></th>\n",
       "      <th></th>\n",
       "      <th></th>\n",
       "      <th></th>\n",
       "      <th></th>\n",
       "      <th></th>\n",
       "      <th></th>\n",
       "      <th></th>\n",
       "      <th></th>\n",
       "      <th></th>\n",
       "    </tr>\n",
       "  </thead>\n",
       "  <tbody>\n",
       "    <tr>\n",
       "      <th>2007-01-01</th>\n",
       "      <td>0</td>\n",
       "      <td>0</td>\n",
       "      <td>0</td>\n",
       "      <td>0</td>\n",
       "      <td>0</td>\n",
       "      <td>0</td>\n",
       "      <td>0</td>\n",
       "      <td>0</td>\n",
       "      <td>0</td>\n",
       "      <td>0</td>\n",
       "      <td>...</td>\n",
       "      <td>0</td>\n",
       "      <td>0</td>\n",
       "      <td>0</td>\n",
       "      <td>0</td>\n",
       "      <td>0</td>\n",
       "      <td>0</td>\n",
       "      <td>0</td>\n",
       "      <td>0</td>\n",
       "      <td>0</td>\n",
       "      <td>0</td>\n",
       "    </tr>\n",
       "    <tr>\n",
       "      <th>2007-01-02</th>\n",
       "      <td>0</td>\n",
       "      <td>0</td>\n",
       "      <td>0</td>\n",
       "      <td>0</td>\n",
       "      <td>0</td>\n",
       "      <td>0</td>\n",
       "      <td>0</td>\n",
       "      <td>1</td>\n",
       "      <td>0</td>\n",
       "      <td>0</td>\n",
       "      <td>...</td>\n",
       "      <td>0</td>\n",
       "      <td>0</td>\n",
       "      <td>0</td>\n",
       "      <td>0</td>\n",
       "      <td>0</td>\n",
       "      <td>0</td>\n",
       "      <td>0</td>\n",
       "      <td>0</td>\n",
       "      <td>3</td>\n",
       "      <td>0</td>\n",
       "    </tr>\n",
       "    <tr>\n",
       "      <th>2007-01-03</th>\n",
       "      <td>0</td>\n",
       "      <td>0</td>\n",
       "      <td>0</td>\n",
       "      <td>0</td>\n",
       "      <td>0</td>\n",
       "      <td>0</td>\n",
       "      <td>0</td>\n",
       "      <td>0</td>\n",
       "      <td>0</td>\n",
       "      <td>0</td>\n",
       "      <td>...</td>\n",
       "      <td>0</td>\n",
       "      <td>0</td>\n",
       "      <td>0</td>\n",
       "      <td>0</td>\n",
       "      <td>0</td>\n",
       "      <td>0</td>\n",
       "      <td>0</td>\n",
       "      <td>0</td>\n",
       "      <td>0</td>\n",
       "      <td>1</td>\n",
       "    </tr>\n",
       "    <tr>\n",
       "      <th>2007-01-04</th>\n",
       "      <td>0</td>\n",
       "      <td>0</td>\n",
       "      <td>0</td>\n",
       "      <td>0</td>\n",
       "      <td>0</td>\n",
       "      <td>0</td>\n",
       "      <td>0</td>\n",
       "      <td>0</td>\n",
       "      <td>3</td>\n",
       "      <td>0</td>\n",
       "      <td>...</td>\n",
       "      <td>1</td>\n",
       "      <td>3</td>\n",
       "      <td>0</td>\n",
       "      <td>0</td>\n",
       "      <td>0</td>\n",
       "      <td>0</td>\n",
       "      <td>0</td>\n",
       "      <td>0</td>\n",
       "      <td>1</td>\n",
       "      <td>0</td>\n",
       "    </tr>\n",
       "    <tr>\n",
       "      <th>2007-01-05</th>\n",
       "      <td>0</td>\n",
       "      <td>0</td>\n",
       "      <td>0</td>\n",
       "      <td>0</td>\n",
       "      <td>0</td>\n",
       "      <td>0</td>\n",
       "      <td>1</td>\n",
       "      <td>1</td>\n",
       "      <td>1</td>\n",
       "      <td>0</td>\n",
       "      <td>...</td>\n",
       "      <td>0</td>\n",
       "      <td>1</td>\n",
       "      <td>1</td>\n",
       "      <td>0</td>\n",
       "      <td>0</td>\n",
       "      <td>0</td>\n",
       "      <td>0</td>\n",
       "      <td>0</td>\n",
       "      <td>0</td>\n",
       "      <td>0</td>\n",
       "    </tr>\n",
       "  </tbody>\n",
       "</table>\n",
       "<p>5 rows × 59 columns</p>\n",
       "</div>"
      ],
      "text/plain": [
       "              60601  60602  60603  60604  60605  60606  60607  60608  60609  \\\n",
       "Created Date                                                                  \n",
       "2007-01-01        0      0      0      0      0      0      0      0      0   \n",
       "2007-01-02        0      0      0      0      0      0      0      1      0   \n",
       "2007-01-03        0      0      0      0      0      0      0      0      0   \n",
       "2007-01-04        0      0      0      0      0      0      0      0      3   \n",
       "2007-01-05        0      0      0      0      0      0      1      1      1   \n",
       "\n",
       "              60610  ...    60654  60655  60656  60657  60659  60660  60661  \\\n",
       "Created Date         ...                                                      \n",
       "2007-01-01        0  ...        0      0      0      0      0      0      0   \n",
       "2007-01-02        0  ...        0      0      0      0      0      0      0   \n",
       "2007-01-03        0  ...        0      0      0      0      0      0      0   \n",
       "2007-01-04        0  ...        1      3      0      0      0      0      0   \n",
       "2007-01-05        0  ...        0      1      1      0      0      0      0   \n",
       "\n",
       "              60666  60707  60827  \n",
       "Created Date                       \n",
       "2007-01-01        0      0      0  \n",
       "2007-01-02        0      3      0  \n",
       "2007-01-03        0      0      1  \n",
       "2007-01-04        0      1      0  \n",
       "2007-01-05        0      0      0  \n",
       "\n",
       "[5 rows x 59 columns]"
      ]
     },
     "execution_count": 15,
     "metadata": {},
     "output_type": "execute_result"
    }
   ],
   "source": [
    "wib_07_df = pd.read_csv('311_data/wib_calls_311_zip.csv')\n",
    "wib_07_df['Created Date'] = pd.to_datetime(wib_07_df['Created Date'])\n",
    "wib_07_df = wib_07_df.set_index(wib_07_df['Created Date'])\n",
    "wib_07_df = wib_07_df['2007-01-01':][wib_07_df.columns.values[2:]]\n",
    "wib_07_df.head()"
   ]
  },
  {
   "cell_type": "code",
   "execution_count": 16,
   "metadata": {
    "collapsed": false
   },
   "outputs": [
    {
     "data": {
      "text/html": [
       "<div>\n",
       "<table border=\"1\" class=\"dataframe\">\n",
       "  <thead>\n",
       "    <tr style=\"text-align: right;\">\n",
       "      <th></th>\n",
       "      <th>Zip Code</th>\n",
       "      <th>Count Calls</th>\n",
       "    </tr>\n",
       "  </thead>\n",
       "  <tbody>\n",
       "    <tr>\n",
       "      <th>26</th>\n",
       "      <td>60628</td>\n",
       "      <td>6893</td>\n",
       "    </tr>\n",
       "    <tr>\n",
       "      <th>18</th>\n",
       "      <td>60619</td>\n",
       "      <td>6575</td>\n",
       "    </tr>\n",
       "    <tr>\n",
       "      <th>27</th>\n",
       "      <td>60629</td>\n",
       "      <td>6215</td>\n",
       "    </tr>\n",
       "    <tr>\n",
       "      <th>16</th>\n",
       "      <td>60617</td>\n",
       "      <td>5771</td>\n",
       "    </tr>\n",
       "    <tr>\n",
       "      <th>19</th>\n",
       "      <td>60620</td>\n",
       "      <td>5518</td>\n",
       "    </tr>\n",
       "  </tbody>\n",
       "</table>\n",
       "</div>"
      ],
      "text/plain": [
       "   Zip Code  Count Calls\n",
       "26    60628         6893\n",
       "18    60619         6575\n",
       "27    60629         6215\n",
       "16    60617         5771\n",
       "19    60620         5518"
      ]
     },
     "execution_count": 16,
     "metadata": {},
     "output_type": "execute_result"
    }
   ],
   "source": [
    "wib_07_stack = pd.DataFrame(wib_07_df.stack()).reset_index()\n",
    "wib_07_stack = wib_07_stack.rename(columns={'level_0':'Created Date','level_1':'Zip Code',0:'Count Calls'})\n",
    "wib_07_sum = wib_07_stack.groupby(['Zip Code'])['Count Calls'].sum()\n",
    "wib_07_sum = wib_07_sum.reset_index()\n",
    "wib_07_sum = wib_07_sum.sort_values(by='Count Calls',ascending=False)\n",
    "wib_07_sum.head()"
   ]
  },
  {
   "cell_type": "code",
   "execution_count": 17,
   "metadata": {
    "collapsed": false
   },
   "outputs": [],
   "source": [
    "wib_07_zips = wib_07_sum['Zip Code'].unique()\n",
    "fema_approved_wib_df = both_approved_df.loc[both_approved_df['zipCode'].isin(wib_07_zips)].copy()"
   ]
  },
  {
   "cell_type": "code",
   "execution_count": 18,
   "metadata": {
    "collapsed": false
   },
   "outputs": [
    {
     "data": {
      "text/plain": [
       "<matplotlib.axes._subplots.AxesSubplot at 0xb42d400>"
      ]
     },
     "execution_count": 18,
     "metadata": {},
     "output_type": "execute_result"
    },
    {
     "data": {
      "image/png": "[encoded data removed]",
      "text/plain": [
       "<matplotlib.figure.Figure at 0xb203ef0>"
      ]
     },
     "metadata": {},
     "output_type": "display_data"
    }
   ],
   "source": [
    "fig, axs = plt.subplots(1,2)\n",
    "plt.rcParams[\"figure.figsize\"] = [15, 5]\n",
    "fema_approved_wib_df[:20].plot(title='FEMA Data', ax=axs[0], kind='bar',x='zipCode',y='approvedForFemaAssistance')\n",
    "wib_07_sum[:20].plot(title='FOIA Data', ax=axs[1], kind='bar',x='Zip Code',y='Count Calls')"
   ]
  },
  {
   "cell_type": "code",
   "execution_count": 20,
   "metadata": {
    "collapsed": false
   },
   "outputs": [
    {
     "data": {
      "text/plain": [
       "<matplotlib.axes._subplots.AxesSubplot at 0xb533eb8>"
      ]
     },
     "execution_count": 20,
     "metadata": {},
     "output_type": "execute_result"
    },
    {
     "data": {
      "image/png": "[encoded data removed]",
      "text/plain": [
       "<matplotlib.figure.Figure at 0x9deee48>"
      ]
     },
     "metadata": {},
     "output_type": "display_data"
    }
   ],
   "source": [
    "fema_wib_zip = pd.DataFrame()\n",
    "fema_wib_zip[['Zip Code', 'FEMA Approved']] = fema_approved_wib_df.copy()\n",
    "fema_wib_zip = fema_wib_zip.merge(wib_07_sum, on='Zip Code')\n",
    "fema_wib_zip.plot(title='FEMA and FOIA Data since 2007', x='Zip Code', y=['FEMA Approved', 'Count Calls'], kind='bar')"
   ]
  },
  {
   "cell_type": "code",
   "execution_count": 21,
   "metadata": {
    "collapsed": false
   },
   "outputs": [
    {
     "data": {
      "text/plain": [
       "<matplotlib.axes._subplots.AxesSubplot at 0xc42ab38>"
      ]
     },
     "execution_count": 21,
     "metadata": {},
     "output_type": "execute_result"
    },
    {
     "data": {
      "image/png": "[encoded data removed]",
      "text/plain": [
       "<matplotlib.figure.Figure at 0xb822f98>"
      ]
     },
     "metadata": {},
     "output_type": "display_data"
    }
   ],
   "source": [
    "fema_wib_zip.plot(title='FEMA and FOIA Data Scatter Plot', x='Count Calls', y=['FEMA Approved'], kind='scatter')"
   ]
  },
  {
   "cell_type": "code",
   "execution_count": 22,
   "metadata": {
    "collapsed": false
   },
   "outputs": [
    {
     "data": {
      "text/plain": [
       "<matplotlib.axes._subplots.AxesSubplot at 0xc4448d0>"
      ]
     },
     "execution_count": 22,
     "metadata": {},
     "output_type": "execute_result"
    },
    {
     "data": {
      "image/png": "[encoded data removed]",
      "text/plain": [
       "<matplotlib.figure.Figure at 0xc44a358>"
      ]
     },
     "metadata": {},
     "output_type": "display_data"
    }
   ],
   "source": [
    "fema_flood_zip.plot(title='FEMA and FOIA Data Scatter Plot', x='Count Calls', y=['FEMA Approved'], kind='scatter')"
   ]
  },
  {
   "cell_type": "code",
   "execution_count": 28,
   "metadata": {
    "collapsed": false
   },
   "outputs": [
    {
     "data": {
      "image/png": "[encoded data removed]",
      "text/plain": [
       "<matplotlib.figure.Figure at 0xd2d1240>"
      ]
     },
     "metadata": {},
     "output_type": "display_data"
    },
    {
     "name": "stdout",
     "output_type": "stream",
     "text": [
      "Variance score: 0.93\n"
     ]
    }
   ],
   "source": [
    "from sklearn.linear_model import LinearRegression\n",
    "\n",
    "lm = LinearRegression()\n",
    "fema_lr = fema_flood_zip[[\"FEMA Approved\", \"Count Calls\"]]\n",
    "\n",
    "x_data = [[x] for x in fema_lr[\"Count Calls\"].values]\n",
    "y_data = [[y] for y in fema_lr[\"FEMA Approved\"].values]\n",
    "lm.fit(x_data, y_data)\n",
    "y_lr = lm.predict(x_data)\n",
    "\n",
    "plt.plot(x_data, y_lr, 'g')\n",
    "plt.scatter(fema_lr['Count Calls'].values, fema_lr['FEMA Approved'].values)\n",
    "plt.title(\"FEMA Approved and FOIA Calls Linear Regression\")\n",
    "plt.show()\n",
    "\n",
    "# Explained variance score: 1 is perfect prediction\n",
    "print('Variance score: %.2f' % lm.score(x_data, y_data))"
   ]
  },
  {
   "cell_type": "code",
   "execution_count": null,
   "metadata": {
    "collapsed": true
   },
   "outputs": [],
   "source": []
  }
 ],
 "metadata": {
  "kernelspec": {
   "display_name": "Python 3",
   "language": "python",
   "name": "python3"
  },
  "language_info": {
   "codemirror_mode": {
    "name": "ipython",
    "version": 3
   },
   "file_extension": ".py",
   "mimetype": "text/x-python",
   "name": "python",
   "nbconvert_exporter": "python",
   "pygments_lexer": "ipython3",
   "version": "3.5.1"
  }
 },
 "nbformat": 4,
 "nbformat_minor": 0
}
