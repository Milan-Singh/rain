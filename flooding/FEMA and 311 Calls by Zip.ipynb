{
 "cells": [
  {
   "cell_type": "code",
   "execution_count": 1,
   "metadata": {
    "collapsed": true
   },
   "outputs": [],
   "source": [
    "from __future__ import division, print_function, unicode_literals\n",
    "\n",
    "import numpy as np\n",
    "import pandas as pd\n",
    "import matplotlib.pyplot as plt\n",
    "import seaborn as sns\n",
    "%matplotlib inline"
   ]
  },
  {
   "cell_type": "code",
   "execution_count": 5,
   "metadata": {
    "collapsed": false
   },
   "outputs": [
    {
     "data": {
      "text/html": [
       "<div>\n",
       "<table border=\"1\" class=\"dataframe\">\n",
       "  <thead>\n",
       "    <tr style=\"text-align: right;\">\n",
       "      <th></th>\n",
       "      <th>disasterNumber</th>\n",
       "      <th>incidentType</th>\n",
       "      <th>state</th>\n",
       "      <th>county</th>\n",
       "      <th>city</th>\n",
       "      <th>zipCode</th>\n",
       "      <th>validRegistrations</th>\n",
       "      <th>totalInspected</th>\n",
       "      <th>totalInspectedWithNoDamage</th>\n",
       "      <th>totalWithModerateDamage</th>\n",
       "      <th>...</th>\n",
       "      <th>approvedBetween1And10000</th>\n",
       "      <th>approvedBetween10001And25000</th>\n",
       "      <th>approvedBetween25001AndMax</th>\n",
       "      <th>totalMaxGrants</th>\n",
       "      <th>hash</th>\n",
       "      <th>lastRefresh</th>\n",
       "      <th>declarationDate</th>\n",
       "      <th>title</th>\n",
       "      <th>incidentBeginDate</th>\n",
       "      <th>incidentEndDate</th>\n",
       "    </tr>\n",
       "  </thead>\n",
       "  <tbody>\n",
       "    <tr>\n",
       "      <th>0</th>\n",
       "      <td>1935.0</td>\n",
       "      <td>Severe Storm(s)</td>\n",
       "      <td>IL</td>\n",
       "      <td>Cook (County)</td>\n",
       "      <td>Chicago</td>\n",
       "      <td>60651</td>\n",
       "      <td>1.0</td>\n",
       "      <td>1.0</td>\n",
       "      <td>1.0</td>\n",
       "      <td>0.0</td>\n",
       "      <td>...</td>\n",
       "      <td>1.0</td>\n",
       "      <td>0.0</td>\n",
       "      <td>0.0</td>\n",
       "      <td>0.0</td>\n",
       "      <td>0c2848a1b3d37ca216e40d7266d70007</td>\n",
       "      <td>2014-11-20T15:20:38 +00:00</td>\n",
       "      <td>2010-08-19T14:00:00 +00:00</td>\n",
       "      <td>SEVERE STORMS AND FLOODING</td>\n",
       "      <td>2010-07-19 14:36:00</td>\n",
       "      <td>2010-08-07T11:00:00 +00:00</td>\n",
       "    </tr>\n",
       "    <tr>\n",
       "      <th>1</th>\n",
       "      <td>1935.0</td>\n",
       "      <td>Severe Storm(s)</td>\n",
       "      <td>IL</td>\n",
       "      <td>Cook (County)</td>\n",
       "      <td>Chicago</td>\n",
       "      <td>60641</td>\n",
       "      <td>124.0</td>\n",
       "      <td>121.0</td>\n",
       "      <td>121.0</td>\n",
       "      <td>0.0</td>\n",
       "      <td>...</td>\n",
       "      <td>60.0</td>\n",
       "      <td>9.0</td>\n",
       "      <td>1.0</td>\n",
       "      <td>1.0</td>\n",
       "      <td>2c28933c6fcfbd4a651ce9948460ccfd</td>\n",
       "      <td>2014-11-20T15:20:38 +00:00</td>\n",
       "      <td>2010-08-19T14:00:00 +00:00</td>\n",
       "      <td>SEVERE STORMS AND FLOODING</td>\n",
       "      <td>2010-07-19 14:36:00</td>\n",
       "      <td>2010-08-07T11:00:00 +00:00</td>\n",
       "    </tr>\n",
       "    <tr>\n",
       "      <th>2</th>\n",
       "      <td>1935.0</td>\n",
       "      <td>Severe Storm(s)</td>\n",
       "      <td>IL</td>\n",
       "      <td>Cook (County)</td>\n",
       "      <td>Chicago</td>\n",
       "      <td>60609</td>\n",
       "      <td>939.0</td>\n",
       "      <td>903.0</td>\n",
       "      <td>903.0</td>\n",
       "      <td>0.0</td>\n",
       "      <td>...</td>\n",
       "      <td>514.0</td>\n",
       "      <td>32.0</td>\n",
       "      <td>5.0</td>\n",
       "      <td>1.0</td>\n",
       "      <td>45fd7be16116532bcb712b0196adfbd2</td>\n",
       "      <td>2014-11-20T15:20:38 +00:00</td>\n",
       "      <td>2010-08-19T14:00:00 +00:00</td>\n",
       "      <td>SEVERE STORMS AND FLOODING</td>\n",
       "      <td>2010-07-19 14:36:00</td>\n",
       "      <td>2010-08-07T11:00:00 +00:00</td>\n",
       "    </tr>\n",
       "    <tr>\n",
       "      <th>3</th>\n",
       "      <td>1935.0</td>\n",
       "      <td>Severe Storm(s)</td>\n",
       "      <td>IL</td>\n",
       "      <td>Cook (County)</td>\n",
       "      <td>Chicago</td>\n",
       "      <td>60827</td>\n",
       "      <td>148.0</td>\n",
       "      <td>141.0</td>\n",
       "      <td>141.0</td>\n",
       "      <td>0.0</td>\n",
       "      <td>...</td>\n",
       "      <td>57.0</td>\n",
       "      <td>2.0</td>\n",
       "      <td>0.0</td>\n",
       "      <td>0.0</td>\n",
       "      <td>7001b15646afa6bc79214521253ef5c5</td>\n",
       "      <td>2014-11-20T15:20:38 +00:00</td>\n",
       "      <td>2010-08-19T14:00:00 +00:00</td>\n",
       "      <td>SEVERE STORMS AND FLOODING</td>\n",
       "      <td>2010-07-19 14:36:00</td>\n",
       "      <td>2010-08-07T11:00:00 +00:00</td>\n",
       "    </tr>\n",
       "    <tr>\n",
       "      <th>4</th>\n",
       "      <td>1935.0</td>\n",
       "      <td>Severe Storm(s)</td>\n",
       "      <td>IL</td>\n",
       "      <td>Cook (County)</td>\n",
       "      <td>Chicago</td>\n",
       "      <td>60630</td>\n",
       "      <td>11.0</td>\n",
       "      <td>11.0</td>\n",
       "      <td>11.0</td>\n",
       "      <td>0.0</td>\n",
       "      <td>...</td>\n",
       "      <td>1.0</td>\n",
       "      <td>0.0</td>\n",
       "      <td>0.0</td>\n",
       "      <td>0.0</td>\n",
       "      <td>23567187d20f65ae2ba4bb0849a91e0a</td>\n",
       "      <td>2014-11-20T15:20:38 +00:00</td>\n",
       "      <td>2010-08-19T14:00:00 +00:00</td>\n",
       "      <td>SEVERE STORMS AND FLOODING</td>\n",
       "      <td>2010-07-19 14:36:00</td>\n",
       "      <td>2010-08-07T11:00:00 +00:00</td>\n",
       "    </tr>\n",
       "  </tbody>\n",
       "</table>\n",
       "<p>5 rows × 27 columns</p>\n",
       "</div>"
      ],
      "text/plain": [
       "   disasterNumber     incidentType state         county     city zipCode  \\\n",
       "0          1935.0  Severe Storm(s)    IL  Cook (County)  Chicago   60651   \n",
       "1          1935.0  Severe Storm(s)    IL  Cook (County)  Chicago   60641   \n",
       "2          1935.0  Severe Storm(s)    IL  Cook (County)  Chicago   60609   \n",
       "3          1935.0  Severe Storm(s)    IL  Cook (County)  Chicago   60827   \n",
       "4          1935.0  Severe Storm(s)    IL  Cook (County)  Chicago   60630   \n",
       "\n",
       "   validRegistrations  totalInspected  totalInspectedWithNoDamage  \\\n",
       "0                 1.0             1.0                         1.0   \n",
       "1               124.0           121.0                       121.0   \n",
       "2               939.0           903.0                       903.0   \n",
       "3               148.0           141.0                       141.0   \n",
       "4                11.0            11.0                        11.0   \n",
       "\n",
       "   totalWithModerateDamage             ...              \\\n",
       "0                      0.0             ...               \n",
       "1                      0.0             ...               \n",
       "2                      0.0             ...               \n",
       "3                      0.0             ...               \n",
       "4                      0.0             ...               \n",
       "\n",
       "   approvedBetween1And10000  approvedBetween10001And25000  \\\n",
       "0                       1.0                           0.0   \n",
       "1                      60.0                           9.0   \n",
       "2                     514.0                          32.0   \n",
       "3                      57.0                           2.0   \n",
       "4                       1.0                           0.0   \n",
       "\n",
       "   approvedBetween25001AndMax  totalMaxGrants  \\\n",
       "0                         0.0             0.0   \n",
       "1                         1.0             1.0   \n",
       "2                         5.0             1.0   \n",
       "3                         0.0             0.0   \n",
       "4                         0.0             0.0   \n",
       "\n",
       "                               hash                 lastRefresh  \\\n",
       "0  0c2848a1b3d37ca216e40d7266d70007  2014-11-20T15:20:38 +00:00   \n",
       "1  2c28933c6fcfbd4a651ce9948460ccfd  2014-11-20T15:20:38 +00:00   \n",
       "2  45fd7be16116532bcb712b0196adfbd2  2014-11-20T15:20:38 +00:00   \n",
       "3  7001b15646afa6bc79214521253ef5c5  2014-11-20T15:20:38 +00:00   \n",
       "4  23567187d20f65ae2ba4bb0849a91e0a  2014-11-20T15:20:38 +00:00   \n",
       "\n",
       "              declarationDate                       title  \\\n",
       "0  2010-08-19T14:00:00 +00:00  SEVERE STORMS AND FLOODING   \n",
       "1  2010-08-19T14:00:00 +00:00  SEVERE STORMS AND FLOODING   \n",
       "2  2010-08-19T14:00:00 +00:00  SEVERE STORMS AND FLOODING   \n",
       "3  2010-08-19T14:00:00 +00:00  SEVERE STORMS AND FLOODING   \n",
       "4  2010-08-19T14:00:00 +00:00  SEVERE STORMS AND FLOODING   \n",
       "\n",
       "     incidentBeginDate             incidentEndDate  \n",
       "0  2010-07-19 14:36:00  2010-08-07T11:00:00 +00:00  \n",
       "1  2010-07-19 14:36:00  2010-08-07T11:00:00 +00:00  \n",
       "2  2010-07-19 14:36:00  2010-08-07T11:00:00 +00:00  \n",
       "3  2010-07-19 14:36:00  2010-08-07T11:00:00 +00:00  \n",
       "4  2010-07-19 14:36:00  2010-08-07T11:00:00 +00:00  \n",
       "\n",
       "[5 rows x 27 columns]"
      ]
     },
     "execution_count": 5,
     "metadata": {},
     "output_type": "execute_result"
    }
   ],
   "source": [
    "housing_owners = pd.read_csv('fema_data/chi_housing_assistance_owners.csv')\n",
    "housing_owners['zipCode'] = housing_owners['zipCode'].fillna(0).astype(int).astype(str)\n",
    "housing_renters = pd.read_csv('fema_data/chi_housing_assistance_renters.csv')\n",
    "housing_renters['zipCode'] = housing_renters['zipCode'].fillna(0).astype(int).astype(str)\n",
    "housing_renters.head()"
   ]
  },
  {
   "cell_type": "code",
   "execution_count": 6,
   "metadata": {
    "collapsed": false
   },
   "outputs": [
    {
     "data": {
      "text/plain": [
       "(231, 30)"
      ]
     },
     "execution_count": 6,
     "metadata": {},
     "output_type": "execute_result"
    }
   ],
   "source": [
    "housing_owners.shape"
   ]
  },
  {
   "cell_type": "code",
   "execution_count": 7,
   "metadata": {
    "collapsed": false
   },
   "outputs": [
    {
     "data": {
      "text/plain": [
       "(179, 27)"
      ]
     },
     "execution_count": 7,
     "metadata": {},
     "output_type": "execute_result"
    }
   ],
   "source": [
    "housing_renters.shape"
   ]
  },
  {
   "cell_type": "code",
   "execution_count": 8,
   "metadata": {
    "collapsed": false
   },
   "outputs": [
    {
     "data": {
      "text/plain": [
       "disasterNumber                             float64\n",
       "incidentType                                object\n",
       "state                                       object\n",
       "county                                      object\n",
       "city                                        object\n",
       "zipCode                                     object\n",
       "validRegistrations                         float64\n",
       "averageFemaInspectedDamage                 float64\n",
       "totalInspected                             float64\n",
       "totalDamage                                float64\n",
       "noFemaInspectedDamage                      float64\n",
       "femaInspectedDamageBetween1And10000        float64\n",
       "femaInspectedDamageBetween10001And20000    float64\n",
       "femaInspectedDamageBetween20001And30000    float64\n",
       "femaInspectedDamageGreaterThan30000        float64\n",
       "approvedForFemaAssistance                  float64\n",
       "totalApprovedIhpAmount                     float64\n",
       "repairReplaceAmount                        float64\n",
       "rentalAmount                               float64\n",
       "otherNeedsAmount                           float64\n",
       "approvedBetween1And10000                   float64\n",
       "approvedBetween10001And25000               float64\n",
       "approvedBetween25001AndMax                 float64\n",
       "totalMaxGrants                             float64\n",
       "hash                                        object\n",
       "lastRefresh                                 object\n",
       "declarationDate                             object\n",
       "title                                       object\n",
       "incidentBeginDate                           object\n",
       "incidentEndDate                             object\n",
       "dtype: object"
      ]
     },
     "execution_count": 8,
     "metadata": {},
     "output_type": "execute_result"
    }
   ],
   "source": [
    "housing_owners.dtypes"
   ]
  },
  {
   "cell_type": "code",
   "execution_count": 14,
   "metadata": {
    "collapsed": false
   },
   "outputs": [
    {
     "data": {
      "text/html": [
       "<div>\n",
       "<table border=\"1\" class=\"dataframe\">\n",
       "  <thead>\n",
       "    <tr style=\"text-align: right;\">\n",
       "      <th></th>\n",
       "      <th>zipCode</th>\n",
       "      <th>validRegistrations</th>\n",
       "    </tr>\n",
       "  </thead>\n",
       "  <tbody>\n",
       "    <tr>\n",
       "      <th>38</th>\n",
       "      <td>60634</td>\n",
       "      <td>1318.0</td>\n",
       "    </tr>\n",
       "    <tr>\n",
       "      <th>40</th>\n",
       "      <td>60637</td>\n",
       "      <td>1227.0</td>\n",
       "    </tr>\n",
       "    <tr>\n",
       "      <th>47</th>\n",
       "      <td>60644</td>\n",
       "      <td>1020.0</td>\n",
       "    </tr>\n",
       "    <tr>\n",
       "      <th>46</th>\n",
       "      <td>60643</td>\n",
       "      <td>986.0</td>\n",
       "    </tr>\n",
       "    <tr>\n",
       "      <th>51</th>\n",
       "      <td>60649</td>\n",
       "      <td>965.0</td>\n",
       "    </tr>\n",
       "  </tbody>\n",
       "</table>\n",
       "</div>"
      ],
      "text/plain": [
       "   zipCode  validRegistrations\n",
       "38   60634              1318.0\n",
       "40   60637              1227.0\n",
       "47   60644              1020.0\n",
       "46   60643               986.0\n",
       "51   60649               965.0"
      ]
     },
     "execution_count": 14,
     "metadata": {},
     "output_type": "execute_result"
    }
   ],
   "source": [
    "owner_reg_zip = housing_owners.groupby(['zipCode'])['validRegistrations'].sum()\n",
    "owner_reg_df = pd.DataFrame(owner_reg_zip).reset_index()\n",
    "owner_reg_df = owner_reg_df.dropna()\n",
    "owner_reg_df = owner_reg_df.sort_values(by='validRegistrations',ascending=False)\n",
    "owner_reg_df.head()"
   ]
  },
  {
   "cell_type": "code",
   "execution_count": 24,
   "metadata": {
    "collapsed": false
   },
   "outputs": [
    {
     "data": {
      "text/html": [
       "<div>\n",
       "<table border=\"1\" class=\"dataframe\">\n",
       "  <thead>\n",
       "    <tr style=\"text-align: right;\">\n",
       "      <th></th>\n",
       "      <th>zipCode</th>\n",
       "      <th>validRegistrations</th>\n",
       "    </tr>\n",
       "  </thead>\n",
       "  <tbody>\n",
       "    <tr>\n",
       "      <th>37</th>\n",
       "      <td>60637</td>\n",
       "      <td>1562.0</td>\n",
       "    </tr>\n",
       "    <tr>\n",
       "      <th>11</th>\n",
       "      <td>60609</td>\n",
       "      <td>1554.0</td>\n",
       "    </tr>\n",
       "    <tr>\n",
       "      <th>18</th>\n",
       "      <td>60617</td>\n",
       "      <td>1442.0</td>\n",
       "    </tr>\n",
       "    <tr>\n",
       "      <th>48</th>\n",
       "      <td>60649</td>\n",
       "      <td>1289.0</td>\n",
       "    </tr>\n",
       "    <tr>\n",
       "      <th>43</th>\n",
       "      <td>60643</td>\n",
       "      <td>1157.0</td>\n",
       "    </tr>\n",
       "  </tbody>\n",
       "</table>\n",
       "</div>"
      ],
      "text/plain": [
       "   zipCode  validRegistrations\n",
       "37   60637              1562.0\n",
       "11   60609              1554.0\n",
       "18   60617              1442.0\n",
       "48   60649              1289.0\n",
       "43   60643              1157.0"
      ]
     },
     "execution_count": 24,
     "metadata": {},
     "output_type": "execute_result"
    }
   ],
   "source": [
    "renter_reg_zip = housing_renters.groupby(['zipCode'])['validRegistrations'].sum()\n",
    "renter_reg_df = pd.DataFrame(renter_reg_zip).reset_index()\n",
    "renter_reg_df = renter_reg_df.dropna()\n",
    "renter_reg_df = renter_reg_df.sort_values(by='validRegistrations',ascending=False)\n",
    "renter_reg_df.head()"
   ]
  },
  {
   "cell_type": "code",
   "execution_count": 31,
   "metadata": {
    "collapsed": false
   },
   "outputs": [
    {
     "data": {
      "text/html": [
       "<div>\n",
       "<table border=\"1\" class=\"dataframe\">\n",
       "  <thead>\n",
       "    <tr style=\"text-align: right;\">\n",
       "      <th></th>\n",
       "      <th>zipCode</th>\n",
       "      <th>validRegistrations</th>\n",
       "    </tr>\n",
       "  </thead>\n",
       "  <tbody>\n",
       "    <tr>\n",
       "      <th>1</th>\n",
       "      <td>60637</td>\n",
       "      <td>2789.0</td>\n",
       "    </tr>\n",
       "    <tr>\n",
       "      <th>4</th>\n",
       "      <td>60649</td>\n",
       "      <td>2254.0</td>\n",
       "    </tr>\n",
       "    <tr>\n",
       "      <th>3</th>\n",
       "      <td>60643</td>\n",
       "      <td>2143.0</td>\n",
       "    </tr>\n",
       "    <tr>\n",
       "      <th>14</th>\n",
       "      <td>60609</td>\n",
       "      <td>2098.0</td>\n",
       "    </tr>\n",
       "    <tr>\n",
       "      <th>6</th>\n",
       "      <td>60621</td>\n",
       "      <td>1990.0</td>\n",
       "    </tr>\n",
       "  </tbody>\n",
       "</table>\n",
       "</div>"
      ],
      "text/plain": [
       "   zipCode  validRegistrations\n",
       "1    60637              2789.0\n",
       "4    60649              2254.0\n",
       "3    60643              2143.0\n",
       "14   60609              2098.0\n",
       "6    60621              1990.0"
      ]
     },
     "execution_count": 31,
     "metadata": {},
     "output_type": "execute_result"
    }
   ],
   "source": [
    "both_reg_df = owner_reg_df.merge(renter_reg_df, on='zipCode')\n",
    "both_reg_df['validRegistrations'] = both_reg_df['validRegistrations_x'] + both_reg_df['validRegistrations_y']\n",
    "both_reg_df = both_reg_df[['zipCode', 'validRegistrations']]\n",
    "both_reg_df = both_reg_df.sort_values(by='validRegistrations', ascending=False)\n",
    "both_reg_df.head()"
   ]
  },
  {
   "cell_type": "code",
   "execution_count": 22,
   "metadata": {
    "collapsed": false
   },
   "outputs": [
    {
     "data": {
      "text/html": [
       "<div>\n",
       "<table border=\"1\" class=\"dataframe\">\n",
       "  <thead>\n",
       "    <tr style=\"text-align: right;\">\n",
       "      <th></th>\n",
       "      <th>Zip Code</th>\n",
       "      <th>Count Calls</th>\n",
       "    </tr>\n",
       "  </thead>\n",
       "  <tbody>\n",
       "    <tr>\n",
       "      <th>27</th>\n",
       "      <td>60628</td>\n",
       "      <td>11671.0</td>\n",
       "    </tr>\n",
       "    <tr>\n",
       "      <th>19</th>\n",
       "      <td>60619</td>\n",
       "      <td>10758.0</td>\n",
       "    </tr>\n",
       "    <tr>\n",
       "      <th>28</th>\n",
       "      <td>60629</td>\n",
       "      <td>9902.0</td>\n",
       "    </tr>\n",
       "    <tr>\n",
       "      <th>17</th>\n",
       "      <td>60617</td>\n",
       "      <td>9526.0</td>\n",
       "    </tr>\n",
       "    <tr>\n",
       "      <th>20</th>\n",
       "      <td>60620</td>\n",
       "      <td>9362.0</td>\n",
       "    </tr>\n",
       "  </tbody>\n",
       "</table>\n",
       "</div>"
      ],
      "text/plain": [
       "   Zip Code  Count Calls\n",
       "27    60628      11671.0\n",
       "19    60619      10758.0\n",
       "28    60629       9902.0\n",
       "17    60617       9526.0\n",
       "20    60620       9362.0"
      ]
     },
     "execution_count": 22,
     "metadata": {},
     "output_type": "execute_result"
    }
   ],
   "source": [
    "flood_zip_df = pd.read_csv('311_data/wib_calls_311_zip.csv')\n",
    "flood_zip_df = flood_zip_df[flood_zip_df.columns.values[1:]]\n",
    "flood_zip_stack = pd.DataFrame(flood_zip_df.stack()).reset_index()\n",
    "flood_zip_stack = flood_zip_stack.rename(columns={'level_0':'Created Date','level_1':'Zip Code',0:'Count Calls'})\n",
    "flood_zip_sum = flood_zip_stack.groupby(['Zip Code'])['Count Calls'].sum()\n",
    "flood_zip_sum = flood_zip_sum.reset_index()\n",
    "flood_zip_sum = flood_zip_sum.sort_values(by='Count Calls',ascending=False)\n",
    "flood_zip_sum.head()"
   ]
  },
  {
   "cell_type": "markdown",
   "metadata": {},
   "source": [
    "## FEMA and 311 Comparison\n",
    "\n",
    "Data doesn't seem to match up cleanly at all in terms of housing assistance registrations for owners and renters vs. 311 calls by zip code. Not sure what the reason for this is"
   ]
  },
  {
   "cell_type": "code",
   "execution_count": 32,
   "metadata": {
    "collapsed": false
   },
   "outputs": [
    {
     "data": {
      "text/plain": [
       "<matplotlib.axes._subplots.AxesSubplot at 0xb734748>"
      ]
     },
     "execution_count": 32,
     "metadata": {},
     "output_type": "execute_result"
    },
    {
     "data": {
      "image/png": "[encoded data removed]",
      "text/plain": [
       "<matplotlib.figure.Figure at 0xaeb2160>"
      ]
     },
     "metadata": {},
     "output_type": "display_data"
    }
   ],
   "source": [
    "fig, axs = plt.subplots(1,2)\n",
    "plt.rcParams[\"figure.figsize\"] = [15, 5]\n",
    "both_reg_df[:20].plot(title='FEMA Data', ax=axs[0], kind='bar',x='zipCode',y='validRegistrations')\n",
    "flood_zip_sum[:20].plot(title='FOIA Data', ax=axs[1], kind='bar',x='Zip Code',y='Count Calls')"
   ]
  },
  {
   "cell_type": "code",
   "execution_count": null,
   "metadata": {
    "collapsed": true
   },
   "outputs": [],
   "source": []
  }
 ],
 "metadata": {
  "kernelspec": {
   "display_name": "Python 3",
   "language": "python",
   "name": "python3"
  },
  "language_info": {
   "codemirror_mode": {
    "name": "ipython",
    "version": 3
   },
   "file_extension": ".py",
   "mimetype": "text/x-python",
   "name": "python",
   "nbconvert_exporter": "python",
   "pygments_lexer": "ipython3",
   "version": "3.5.1"
  }
 },
 "nbformat": 4,
 "nbformat_minor": 0
}
