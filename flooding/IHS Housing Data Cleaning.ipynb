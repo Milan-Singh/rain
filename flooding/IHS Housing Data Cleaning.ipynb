{
 "cells": [
  {
   "cell_type": "code",
   "execution_count": 1,
   "metadata": {
    "collapsed": true
   },
   "outputs": [],
   "source": [
    "from __future__ import division, print_function, unicode_literals\n",
    "\n",
    "import numpy as np\n",
    "import pandas as pd\n",
    "import matplotlib.pyplot as plt\n",
    "import seaborn as sns\n",
    "%matplotlib inline"
   ]
  },
  {
   "cell_type": "code",
   "execution_count": 4,
   "metadata": {
    "collapsed": false
   },
   "outputs": [
    {
     "data": {
      "text/html": [
       "<div>\n",
       "<table border=\"1\" class=\"dataframe\">\n",
       "  <thead>\n",
       "    <tr style=\"text-align: right;\">\n",
       "      <th></th>\n",
       "      <th>Community_Area</th>\n",
       "      <th>Percentage_Foreclosed_Parcels</th>\n",
       "    </tr>\n",
       "  </thead>\n",
       "  <tbody>\n",
       "    <tr>\n",
       "      <th>0</th>\n",
       "      <td>City of Chicago Total</td>\n",
       "      <td>19.6</td>\n",
       "    </tr>\n",
       "    <tr>\n",
       "      <th>1</th>\n",
       "      <td>Albany Park</td>\n",
       "      <td>20.1</td>\n",
       "    </tr>\n",
       "    <tr>\n",
       "      <th>2</th>\n",
       "      <td>Archer Heights</td>\n",
       "      <td>20.7</td>\n",
       "    </tr>\n",
       "    <tr>\n",
       "      <th>3</th>\n",
       "      <td>Armour Square</td>\n",
       "      <td>3.5</td>\n",
       "    </tr>\n",
       "    <tr>\n",
       "      <th>4</th>\n",
       "      <td>Ashburn</td>\n",
       "      <td>27.2</td>\n",
       "    </tr>\n",
       "  </tbody>\n",
       "</table>\n",
       "</div>"
      ],
      "text/plain": [
       "          Community_Area  Percentage_Foreclosed_Parcels\n",
       "0  City of Chicago Total                           19.6\n",
       "1            Albany Park                           20.1\n",
       "2         Archer Heights                           20.7\n",
       "3          Armour Square                            3.5\n",
       "4                Ashburn                           27.2"
      ]
     },
     "execution_count": 4,
     "metadata": {},
     "output_type": "execute_result"
    }
   ],
   "source": [
    "foreclosure_accum_df = pd.read_csv('ihs_data/IHS_Foreclosure_Accumulation_chicago-community-areas.csv')\n",
    "foreclosure_accum_df['Percentage_Foreclosed_Parcels'] = foreclosure_accum_df['Percentage_Foreclosed_Parcels'].str[:-1].astype(float)\n",
    "foreclosure_accum_df.head()"
   ]
  },
  {
   "cell_type": "code",
   "execution_count": 10,
   "metadata": {
    "collapsed": false
   },
   "outputs": [
    {
     "data": {
      "text/html": [
       "<div>\n",
       "<table border=\"1\" class=\"dataframe\">\n",
       "  <thead>\n",
       "    <tr style=\"text-align: right;\">\n",
       "      <th></th>\n",
       "      <th>Community_Area</th>\n",
       "      <th>Foreclosure_Filings_05_15</th>\n",
       "    </tr>\n",
       "  </thead>\n",
       "  <tbody>\n",
       "    <tr>\n",
       "      <th>0</th>\n",
       "      <td>Albany Park</td>\n",
       "      <td>1679</td>\n",
       "    </tr>\n",
       "    <tr>\n",
       "      <th>1</th>\n",
       "      <td>Archer Heights</td>\n",
       "      <td>623</td>\n",
       "    </tr>\n",
       "    <tr>\n",
       "      <th>2</th>\n",
       "      <td>Armour Square</td>\n",
       "      <td>106</td>\n",
       "    </tr>\n",
       "    <tr>\n",
       "      <th>3</th>\n",
       "      <td>Ashburn</td>\n",
       "      <td>4028</td>\n",
       "    </tr>\n",
       "    <tr>\n",
       "      <th>4</th>\n",
       "      <td>Auburn Gresham</td>\n",
       "      <td>4115</td>\n",
       "    </tr>\n",
       "  </tbody>\n",
       "</table>\n",
       "</div>"
      ],
      "text/plain": [
       "   Community_Area  Foreclosure_Filings_05_15\n",
       "0     Albany Park                       1679\n",
       "1  Archer Heights                        623\n",
       "2   Armour Square                        106\n",
       "3         Ashburn                       4028\n",
       "4  Auburn Gresham                       4115"
      ]
     },
     "execution_count": 10,
     "metadata": {},
     "output_type": "execute_result"
    }
   ],
   "source": [
    "foreclosure_filings_df = pd.read_csv('ihs_data/IHS_Foreclosure_Filings_chicago-community-areas.csv')\n",
    "foreclosure_filings_df = foreclosure_filings_df.fillna(0)\n",
    "foreclosure_filings_df['Foreclosure_Filings_05_15'] = foreclosure_filings_df[['All_Res_2005', 'All_Res_2006', 'All_Res_2007',\n",
    "                                                                              'All_Res_2008', 'All_Res_2009', 'All_Res_2010',\n",
    "                                                                              'All_Res_2011', 'All_Res_2012', 'All_Res_2013',\n",
    "                                                                              'All_Res_2014', 'All_Res_2015']].sum(axis=1)\n",
    "foreclosure_filings_df = foreclosure_filings_df[['Community_Area', 'Foreclosure_Filings_05_15']]\n",
    "foreclosure_filings_df.head()"
   ]
  },
  {
   "cell_type": "code",
   "execution_count": 14,
   "metadata": {
    "collapsed": false
   },
   "outputs": [
    {
     "data": {
      "text/html": [
       "<div>\n",
       "<table border=\"1\" class=\"dataframe\">\n",
       "  <thead>\n",
       "    <tr style=\"text-align: right;\">\n",
       "      <th></th>\n",
       "      <th>Community_Area</th>\n",
       "      <th>Foreclosures_per_Parcel_Mean_05_15</th>\n",
       "    </tr>\n",
       "  </thead>\n",
       "  <tbody>\n",
       "    <tr>\n",
       "      <th>0</th>\n",
       "      <td>Albany Park</td>\n",
       "      <td>2.045455</td>\n",
       "    </tr>\n",
       "    <tr>\n",
       "      <th>1</th>\n",
       "      <td>Archer Heights</td>\n",
       "      <td>2.318182</td>\n",
       "    </tr>\n",
       "    <tr>\n",
       "      <th>2</th>\n",
       "      <td>Armour Square</td>\n",
       "      <td>0.345455</td>\n",
       "    </tr>\n",
       "    <tr>\n",
       "      <th>3</th>\n",
       "      <td>Ashburn</td>\n",
       "      <td>3.300000</td>\n",
       "    </tr>\n",
       "    <tr>\n",
       "      <th>4</th>\n",
       "      <td>Auburn Gresham</td>\n",
       "      <td>3.727273</td>\n",
       "    </tr>\n",
       "  </tbody>\n",
       "</table>\n",
       "</div>"
      ],
      "text/plain": [
       "   Community_Area  Foreclosures_per_Parcel_Mean_05_15\n",
       "0     Albany Park                            2.045455\n",
       "1  Archer Heights                            2.318182\n",
       "2   Armour Square                            0.345455\n",
       "3         Ashburn                            3.300000\n",
       "4  Auburn Gresham                            3.727273"
      ]
     },
     "execution_count": 14,
     "metadata": {},
     "output_type": "execute_result"
    }
   ],
   "source": [
    "foreclosure_parcels_df = pd.read_csv('ihs_data/IHS_Foreclosures_per_Parcel_chicago-community-areas.csv')\n",
    "foreclosure_parcels_df['Foreclosures_per_Parcel_Mean_05_15'] = foreclosure_parcels_df[foreclosure_parcels_df.columns.values[1:]].mean(axis=1)\n",
    "foreclosure_parcels_df = foreclosure_parcels_df[['Community_Area', 'Foreclosures_per_Parcel_Mean_05_15']]\n",
    "foreclosure_parcels_df.head()"
   ]
  },
  {
   "cell_type": "code",
   "execution_count": 25,
   "metadata": {
    "collapsed": false
   },
   "outputs": [
    {
     "data": {
      "text/html": [
       "<div>\n",
       "<table border=\"1\" class=\"dataframe\">\n",
       "  <thead>\n",
       "    <tr style=\"text-align: right;\">\n",
       "      <th></th>\n",
       "      <th>Community_Area</th>\n",
       "      <th>Share_Low_Value_Mean_05_15</th>\n",
       "    </tr>\n",
       "  </thead>\n",
       "  <tbody>\n",
       "    <tr>\n",
       "      <th>0</th>\n",
       "      <td>Albany Park</td>\n",
       "      <td>0.463636</td>\n",
       "    </tr>\n",
       "    <tr>\n",
       "      <th>1</th>\n",
       "      <td>Archer Heights</td>\n",
       "      <td>0.400000</td>\n",
       "    </tr>\n",
       "    <tr>\n",
       "      <th>2</th>\n",
       "      <td>Armour Square</td>\n",
       "      <td>0.700000</td>\n",
       "    </tr>\n",
       "    <tr>\n",
       "      <th>3</th>\n",
       "      <td>Ashburn</td>\n",
       "      <td>0.527273</td>\n",
       "    </tr>\n",
       "    <tr>\n",
       "      <th>4</th>\n",
       "      <td>Auburn Gresham</td>\n",
       "      <td>8.109091</td>\n",
       "    </tr>\n",
       "  </tbody>\n",
       "</table>\n",
       "</div>"
      ],
      "text/plain": [
       "   Community_Area  Share_Low_Value_Mean_05_15\n",
       "0     Albany Park                    0.463636\n",
       "1  Archer Heights                    0.400000\n",
       "2   Armour Square                    0.700000\n",
       "3         Ashburn                    0.527273\n",
       "4  Auburn Gresham                    8.109091"
      ]
     },
     "execution_count": 25,
     "metadata": {},
     "output_type": "execute_result"
    }
   ],
   "source": [
    "low_value_df = pd.read_csv('ihs_data/IHS_Share_Low_Value_chicago-community-areas.csv')\n",
    "low_value_df = low_value_df.fillna(0)\n",
    "res_columns_05_15 = ['All_Res_2005', 'All_Res_2006', 'All_Res_2007',\n",
    "                     'All_Res_2008', 'All_Res_2009', 'All_Res_2010',\n",
    "                     'All_Res_2011', 'All_Res_2012', 'All_Res_2013',\n",
    "                     'All_Res_2014', 'All_Res_2015']\n",
    "low_value_df[res_columns_05_15] = low_value_df[res_columns_05_15].applymap(lambda x: x[:-1]).astype(float)\n",
    "low_value_df['Share_Low_Value_Mean_05_15'] = low_value_df[res_columns_05_15].mean(axis=1)\n",
    "low_value_df = low_value_df[['Community_Area', 'Share_Low_Value_Mean_05_15']]\n",
    "low_value_df.head()"
   ]
  },
  {
   "cell_type": "code",
   "execution_count": 30,
   "metadata": {
    "collapsed": false
   },
   "outputs": [
    {
     "data": {
      "text/html": [
       "<div>\n",
       "<table border=\"1\" class=\"dataframe\">\n",
       "  <thead>\n",
       "    <tr style=\"text-align: right;\">\n",
       "      <th></th>\n",
       "      <th>Community_Area</th>\n",
       "      <th>Vacant_Percent_Mean_10_15</th>\n",
       "    </tr>\n",
       "  </thead>\n",
       "  <tbody>\n",
       "    <tr>\n",
       "      <th>0</th>\n",
       "      <td>Albany Park</td>\n",
       "      <td>1.810</td>\n",
       "    </tr>\n",
       "    <tr>\n",
       "      <th>1</th>\n",
       "      <td>Archer Heights</td>\n",
       "      <td>1.245</td>\n",
       "    </tr>\n",
       "    <tr>\n",
       "      <th>2</th>\n",
       "      <td>Armour Square</td>\n",
       "      <td>0.780</td>\n",
       "    </tr>\n",
       "    <tr>\n",
       "      <th>3</th>\n",
       "      <td>Ashburn</td>\n",
       "      <td>0.990</td>\n",
       "    </tr>\n",
       "    <tr>\n",
       "      <th>4</th>\n",
       "      <td>Auburn Gresham</td>\n",
       "      <td>3.235</td>\n",
       "    </tr>\n",
       "  </tbody>\n",
       "</table>\n",
       "</div>"
      ],
      "text/plain": [
       "   Community_Area  Vacant_Percent_Mean_10_15\n",
       "0     Albany Park                      1.810\n",
       "1  Archer Heights                      1.245\n",
       "2   Armour Square                      0.780\n",
       "3         Ashburn                      0.990\n",
       "4  Auburn Gresham                      3.235"
      ]
     },
     "execution_count": 30,
     "metadata": {},
     "output_type": "execute_result"
    }
   ],
   "source": [
    "vacant_df = pd.read_csv('ihs_data/IHS_Share_Vacant_chicago-community-areas.csv')\n",
    "vacant_df[vacant_df.columns.values[1:]] = vacant_df[vacant_df.columns.values[1:]].applymap(lambda x: x[:-1]).astype(float)\n",
    "vacant_df['Vacant_Percent_Mean_10_15'] = vacant_df[vacant_df.columns.values[1:]].mean(axis=1)\n",
    "vacant_df = vacant_df[['Community_Area', 'Vacant_Percent_Mean_10_15']]\n",
    "vacant_df.head()"
   ]
  },
  {
   "cell_type": "code",
   "execution_count": 32,
   "metadata": {
    "collapsed": false
   },
   "outputs": [
    {
     "data": {
      "text/html": [
       "<div>\n",
       "<table border=\"1\" class=\"dataframe\">\n",
       "  <thead>\n",
       "    <tr style=\"text-align: right;\">\n",
       "      <th></th>\n",
       "      <th>Community_Area</th>\n",
       "      <th>Percentage_Foreclosed_Parcels</th>\n",
       "      <th>Foreclosure_Filings_05_15</th>\n",
       "      <th>Foreclosures_per_Parcel_Mean_05_15</th>\n",
       "      <th>Share_Low_Value_Mean_05_15</th>\n",
       "      <th>Vacant_Percent_Mean_10_15</th>\n",
       "    </tr>\n",
       "  </thead>\n",
       "  <tbody>\n",
       "    <tr>\n",
       "      <th>0</th>\n",
       "      <td>Albany Park</td>\n",
       "      <td>20.1</td>\n",
       "      <td>1679</td>\n",
       "      <td>2.045455</td>\n",
       "      <td>0.463636</td>\n",
       "      <td>1.810</td>\n",
       "    </tr>\n",
       "    <tr>\n",
       "      <th>1</th>\n",
       "      <td>Archer Heights</td>\n",
       "      <td>20.7</td>\n",
       "      <td>623</td>\n",
       "      <td>2.318182</td>\n",
       "      <td>0.400000</td>\n",
       "      <td>1.245</td>\n",
       "    </tr>\n",
       "    <tr>\n",
       "      <th>2</th>\n",
       "      <td>Armour Square</td>\n",
       "      <td>3.5</td>\n",
       "      <td>106</td>\n",
       "      <td>0.345455</td>\n",
       "      <td>0.700000</td>\n",
       "      <td>0.780</td>\n",
       "    </tr>\n",
       "    <tr>\n",
       "      <th>3</th>\n",
       "      <td>Ashburn</td>\n",
       "      <td>27.2</td>\n",
       "      <td>4028</td>\n",
       "      <td>3.300000</td>\n",
       "      <td>0.527273</td>\n",
       "      <td>0.990</td>\n",
       "    </tr>\n",
       "    <tr>\n",
       "      <th>4</th>\n",
       "      <td>Auburn Gresham</td>\n",
       "      <td>30.7</td>\n",
       "      <td>4115</td>\n",
       "      <td>3.727273</td>\n",
       "      <td>8.109091</td>\n",
       "      <td>3.235</td>\n",
       "    </tr>\n",
       "  </tbody>\n",
       "</table>\n",
       "</div>"
      ],
      "text/plain": [
       "   Community_Area  Percentage_Foreclosed_Parcels  Foreclosure_Filings_05_15  \\\n",
       "0     Albany Park                           20.1                       1679   \n",
       "1  Archer Heights                           20.7                        623   \n",
       "2   Armour Square                            3.5                        106   \n",
       "3         Ashburn                           27.2                       4028   \n",
       "4  Auburn Gresham                           30.7                       4115   \n",
       "\n",
       "   Foreclosures_per_Parcel_Mean_05_15  Share_Low_Value_Mean_05_15  \\\n",
       "0                            2.045455                    0.463636   \n",
       "1                            2.318182                    0.400000   \n",
       "2                            0.345455                    0.700000   \n",
       "3                            3.300000                    0.527273   \n",
       "4                            3.727273                    8.109091   \n",
       "\n",
       "   Vacant_Percent_Mean_10_15  \n",
       "0                      1.810  \n",
       "1                      1.245  \n",
       "2                      0.780  \n",
       "3                      0.990  \n",
       "4                      3.235  "
      ]
     },
     "execution_count": 32,
     "metadata": {},
     "output_type": "execute_result"
    }
   ],
   "source": [
    "combined_ihs_df = pd.merge(foreclosure_accum_df, foreclosure_filings_df, on='Community_Area'\n",
    "                          ).merge(foreclosure_parcels_df, on='Community_Area').merge(low_value_df, on='Community_Area'\n",
    "                          ).merge(vacant_df, on='Community_Area')\n",
    "combined_ihs_df.head()"
   ]
  },
  {
   "cell_type": "code",
   "execution_count": 33,
   "metadata": {
    "collapsed": false
   },
   "outputs": [
    {
     "data": {
      "text/html": [
       "<div>\n",
       "<table border=\"1\" class=\"dataframe\">\n",
       "  <thead>\n",
       "    <tr style=\"text-align: right;\">\n",
       "      <th></th>\n",
       "      <th>Community Area</th>\n",
       "      <th>Percentage_Foreclosed_Parcels</th>\n",
       "      <th>Foreclosure_Filings_05_15</th>\n",
       "      <th>Foreclosures_per_Parcel_Mean_05_15</th>\n",
       "      <th>Share_Low_Value_Mean_05_15</th>\n",
       "      <th>Vacant_Percent_Mean_10_15</th>\n",
       "    </tr>\n",
       "  </thead>\n",
       "  <tbody>\n",
       "    <tr>\n",
       "      <th>0</th>\n",
       "      <td>Albany Park</td>\n",
       "      <td>20.1</td>\n",
       "      <td>1679</td>\n",
       "      <td>2.045455</td>\n",
       "      <td>0.463636</td>\n",
       "      <td>1.810</td>\n",
       "    </tr>\n",
       "    <tr>\n",
       "      <th>1</th>\n",
       "      <td>Archer Heights</td>\n",
       "      <td>20.7</td>\n",
       "      <td>623</td>\n",
       "      <td>2.318182</td>\n",
       "      <td>0.400000</td>\n",
       "      <td>1.245</td>\n",
       "    </tr>\n",
       "    <tr>\n",
       "      <th>2</th>\n",
       "      <td>Armour Square</td>\n",
       "      <td>3.5</td>\n",
       "      <td>106</td>\n",
       "      <td>0.345455</td>\n",
       "      <td>0.700000</td>\n",
       "      <td>0.780</td>\n",
       "    </tr>\n",
       "    <tr>\n",
       "      <th>3</th>\n",
       "      <td>Ashburn</td>\n",
       "      <td>27.2</td>\n",
       "      <td>4028</td>\n",
       "      <td>3.300000</td>\n",
       "      <td>0.527273</td>\n",
       "      <td>0.990</td>\n",
       "    </tr>\n",
       "    <tr>\n",
       "      <th>4</th>\n",
       "      <td>Auburn Gresham</td>\n",
       "      <td>30.7</td>\n",
       "      <td>4115</td>\n",
       "      <td>3.727273</td>\n",
       "      <td>8.109091</td>\n",
       "      <td>3.235</td>\n",
       "    </tr>\n",
       "  </tbody>\n",
       "</table>\n",
       "</div>"
      ],
      "text/plain": [
       "   Community Area  Percentage_Foreclosed_Parcels  Foreclosure_Filings_05_15  \\\n",
       "0     Albany Park                           20.1                       1679   \n",
       "1  Archer Heights                           20.7                        623   \n",
       "2   Armour Square                            3.5                        106   \n",
       "3         Ashburn                           27.2                       4028   \n",
       "4  Auburn Gresham                           30.7                       4115   \n",
       "\n",
       "   Foreclosures_per_Parcel_Mean_05_15  Share_Low_Value_Mean_05_15  \\\n",
       "0                            2.045455                    0.463636   \n",
       "1                            2.318182                    0.400000   \n",
       "2                            0.345455                    0.700000   \n",
       "3                            3.300000                    0.527273   \n",
       "4                            3.727273                    8.109091   \n",
       "\n",
       "   Vacant_Percent_Mean_10_15  \n",
       "0                      1.810  \n",
       "1                      1.245  \n",
       "2                      0.780  \n",
       "3                      0.990  \n",
       "4                      3.235  "
      ]
     },
     "execution_count": 33,
     "metadata": {},
     "output_type": "execute_result"
    }
   ],
   "source": [
    "combined_ihs_df = combined_ihs_df.rename(columns={'Community_Area':'Community Area'})\n",
    "combined_ihs_df.head()"
   ]
  },
  {
   "cell_type": "code",
   "execution_count": 34,
   "metadata": {
    "collapsed": true
   },
   "outputs": [],
   "source": [
    "combined_ihs_df.to_csv('ihs_data/combined_ihs_data.csv',index=False)"
   ]
  },
  {
   "cell_type": "code",
   "execution_count": null,
   "metadata": {
    "collapsed": true
   },
   "outputs": [],
   "source": []
  }
 ],
 "metadata": {
  "kernelspec": {
   "display_name": "Python 3",
   "language": "python",
   "name": "python3"
  },
  "language_info": {
   "codemirror_mode": {
    "name": "ipython",
    "version": 3
   },
   "file_extension": ".py",
   "mimetype": "text/x-python",
   "name": "python",
   "nbconvert_exporter": "python",
   "pygments_lexer": "ipython3",
   "version": "3.5.1"
  }
 },
 "nbformat": 4,
 "nbformat_minor": 1
}
