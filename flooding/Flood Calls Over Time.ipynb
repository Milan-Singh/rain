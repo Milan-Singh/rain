{
 "cells": [
  {
   "cell_type": "code",
   "execution_count": 1,
   "metadata": {
    "collapsed": true
   },
   "outputs": [],
   "source": [
    "from __future__ import division, print_function, unicode_literals\n",
    "\n",
    "import numpy as np\n",
    "import pandas as pd\n",
    "import matplotlib.pyplot as plt\n",
    "import seaborn as sns\n",
    "%matplotlib inline"
   ]
  },
  {
   "cell_type": "code",
   "execution_count": 2,
   "metadata": {
    "collapsed": false
   },
   "outputs": [
    {
     "data": {
      "text/html": [
       "<div>\n",
       "<table border=\"1\" class=\"dataframe\">\n",
       "  <thead>\n",
       "    <tr style=\"text-align: right;\">\n",
       "      <th></th>\n",
       "      <th>Created Date</th>\n",
       "      <th>ALBANY PARK</th>\n",
       "      <th>ARCHER HEIGHTS</th>\n",
       "      <th>ARMOUR SQUARE</th>\n",
       "      <th>ASHBURN</th>\n",
       "      <th>AUBURN GRESHAM</th>\n",
       "      <th>AUSTIN</th>\n",
       "      <th>AVALON PARK</th>\n",
       "      <th>AVONDALE</th>\n",
       "      <th>BELMONT CRAGIN</th>\n",
       "      <th>...</th>\n",
       "      <th>WASHINGTON HEIGHTS</th>\n",
       "      <th>WASHINGTON PARK</th>\n",
       "      <th>WEST ELSDON</th>\n",
       "      <th>WEST ENGLEWOOD</th>\n",
       "      <th>WEST GARFIELD PARK</th>\n",
       "      <th>WEST LAWN</th>\n",
       "      <th>WEST PULLMAN</th>\n",
       "      <th>WEST RIDGE</th>\n",
       "      <th>WEST TOWN</th>\n",
       "      <th>WOODLAWN</th>\n",
       "    </tr>\n",
       "  </thead>\n",
       "  <tbody>\n",
       "    <tr>\n",
       "      <th>0</th>\n",
       "      <td>2000-01-01</td>\n",
       "      <td>0</td>\n",
       "      <td>0</td>\n",
       "      <td>0</td>\n",
       "      <td>0</td>\n",
       "      <td>0</td>\n",
       "      <td>1</td>\n",
       "      <td>0</td>\n",
       "      <td>0</td>\n",
       "      <td>0</td>\n",
       "      <td>...</td>\n",
       "      <td>0</td>\n",
       "      <td>0</td>\n",
       "      <td>0</td>\n",
       "      <td>0</td>\n",
       "      <td>0</td>\n",
       "      <td>0</td>\n",
       "      <td>0</td>\n",
       "      <td>0</td>\n",
       "      <td>0</td>\n",
       "      <td>0</td>\n",
       "    </tr>\n",
       "    <tr>\n",
       "      <th>1</th>\n",
       "      <td>2000-01-02</td>\n",
       "      <td>0</td>\n",
       "      <td>0</td>\n",
       "      <td>0</td>\n",
       "      <td>0</td>\n",
       "      <td>0</td>\n",
       "      <td>0</td>\n",
       "      <td>0</td>\n",
       "      <td>0</td>\n",
       "      <td>0</td>\n",
       "      <td>...</td>\n",
       "      <td>0</td>\n",
       "      <td>0</td>\n",
       "      <td>0</td>\n",
       "      <td>0</td>\n",
       "      <td>0</td>\n",
       "      <td>0</td>\n",
       "      <td>0</td>\n",
       "      <td>1</td>\n",
       "      <td>0</td>\n",
       "      <td>0</td>\n",
       "    </tr>\n",
       "    <tr>\n",
       "      <th>2</th>\n",
       "      <td>2000-01-03</td>\n",
       "      <td>0</td>\n",
       "      <td>0</td>\n",
       "      <td>0</td>\n",
       "      <td>4</td>\n",
       "      <td>1</td>\n",
       "      <td>4</td>\n",
       "      <td>1</td>\n",
       "      <td>1</td>\n",
       "      <td>1</td>\n",
       "      <td>...</td>\n",
       "      <td>1</td>\n",
       "      <td>0</td>\n",
       "      <td>0</td>\n",
       "      <td>0</td>\n",
       "      <td>0</td>\n",
       "      <td>0</td>\n",
       "      <td>2</td>\n",
       "      <td>1</td>\n",
       "      <td>2</td>\n",
       "      <td>2</td>\n",
       "    </tr>\n",
       "    <tr>\n",
       "      <th>3</th>\n",
       "      <td>2000-01-04</td>\n",
       "      <td>0</td>\n",
       "      <td>0</td>\n",
       "      <td>0</td>\n",
       "      <td>0</td>\n",
       "      <td>1</td>\n",
       "      <td>4</td>\n",
       "      <td>1</td>\n",
       "      <td>0</td>\n",
       "      <td>0</td>\n",
       "      <td>...</td>\n",
       "      <td>3</td>\n",
       "      <td>0</td>\n",
       "      <td>0</td>\n",
       "      <td>1</td>\n",
       "      <td>0</td>\n",
       "      <td>0</td>\n",
       "      <td>0</td>\n",
       "      <td>0</td>\n",
       "      <td>1</td>\n",
       "      <td>1</td>\n",
       "    </tr>\n",
       "    <tr>\n",
       "      <th>4</th>\n",
       "      <td>2000-01-05</td>\n",
       "      <td>0</td>\n",
       "      <td>0</td>\n",
       "      <td>0</td>\n",
       "      <td>1</td>\n",
       "      <td>1</td>\n",
       "      <td>3</td>\n",
       "      <td>0</td>\n",
       "      <td>0</td>\n",
       "      <td>0</td>\n",
       "      <td>...</td>\n",
       "      <td>1</td>\n",
       "      <td>0</td>\n",
       "      <td>1</td>\n",
       "      <td>1</td>\n",
       "      <td>0</td>\n",
       "      <td>0</td>\n",
       "      <td>1</td>\n",
       "      <td>0</td>\n",
       "      <td>1</td>\n",
       "      <td>1</td>\n",
       "    </tr>\n",
       "  </tbody>\n",
       "</table>\n",
       "<p>5 rows × 78 columns</p>\n",
       "</div>"
      ],
      "text/plain": [
       "  Created Date  ALBANY PARK  ARCHER HEIGHTS  ARMOUR SQUARE  ASHBURN  \\\n",
       "0   2000-01-01            0               0              0        0   \n",
       "1   2000-01-02            0               0              0        0   \n",
       "2   2000-01-03            0               0              0        4   \n",
       "3   2000-01-04            0               0              0        0   \n",
       "4   2000-01-05            0               0              0        1   \n",
       "\n",
       "   AUBURN GRESHAM  AUSTIN  AVALON PARK  AVONDALE  BELMONT CRAGIN    ...     \\\n",
       "0               0       1            0         0               0    ...      \n",
       "1               0       0            0         0               0    ...      \n",
       "2               1       4            1         1               1    ...      \n",
       "3               1       4            1         0               0    ...      \n",
       "4               1       3            0         0               0    ...      \n",
       "\n",
       "   WASHINGTON HEIGHTS  WASHINGTON PARK  WEST ELSDON  WEST ENGLEWOOD  \\\n",
       "0                   0                0            0               0   \n",
       "1                   0                0            0               0   \n",
       "2                   1                0            0               0   \n",
       "3                   3                0            0               1   \n",
       "4                   1                0            1               1   \n",
       "\n",
       "   WEST GARFIELD PARK  WEST LAWN  WEST PULLMAN  WEST RIDGE  WEST TOWN  \\\n",
       "0                   0          0             0           0          0   \n",
       "1                   0          0             0           1          0   \n",
       "2                   0          0             2           1          2   \n",
       "3                   0          0             0           0          1   \n",
       "4                   0          0             1           0          1   \n",
       "\n",
       "   WOODLAWN  \n",
       "0         0  \n",
       "1         0  \n",
       "2         2  \n",
       "3         1  \n",
       "4         1  \n",
       "\n",
       "[5 rows x 78 columns]"
      ]
     },
     "execution_count": 2,
     "metadata": {},
     "output_type": "execute_result"
    }
   ],
   "source": [
    "flood_comm_df = pd.read_csv('311_data/flood_calls_311_comm.csv')\n",
    "flood_comm_df.head()"
   ]
  },
  {
   "cell_type": "code",
   "execution_count": 3,
   "metadata": {
    "collapsed": false
   },
   "outputs": [
    {
     "data": {
      "text/html": [
       "<div>\n",
       "<table border=\"1\" class=\"dataframe\">\n",
       "  <thead>\n",
       "    <tr style=\"text-align: right;\">\n",
       "      <th></th>\n",
       "      <th>ALBANY PARK</th>\n",
       "      <th>ARCHER HEIGHTS</th>\n",
       "      <th>ARMOUR SQUARE</th>\n",
       "      <th>ASHBURN</th>\n",
       "      <th>AUBURN GRESHAM</th>\n",
       "      <th>AUSTIN</th>\n",
       "      <th>AVALON PARK</th>\n",
       "      <th>AVONDALE</th>\n",
       "      <th>BELMONT CRAGIN</th>\n",
       "      <th>BEVERLY</th>\n",
       "      <th>...</th>\n",
       "      <th>WASHINGTON HEIGHTS</th>\n",
       "      <th>WASHINGTON PARK</th>\n",
       "      <th>WEST ELSDON</th>\n",
       "      <th>WEST ENGLEWOOD</th>\n",
       "      <th>WEST GARFIELD PARK</th>\n",
       "      <th>WEST LAWN</th>\n",
       "      <th>WEST PULLMAN</th>\n",
       "      <th>WEST RIDGE</th>\n",
       "      <th>WEST TOWN</th>\n",
       "      <th>WOODLAWN</th>\n",
       "    </tr>\n",
       "  </thead>\n",
       "  <tbody>\n",
       "    <tr>\n",
       "      <th>2000-01-01</th>\n",
       "      <td>0</td>\n",
       "      <td>0</td>\n",
       "      <td>0</td>\n",
       "      <td>0</td>\n",
       "      <td>0</td>\n",
       "      <td>1</td>\n",
       "      <td>0</td>\n",
       "      <td>0</td>\n",
       "      <td>0</td>\n",
       "      <td>0</td>\n",
       "      <td>...</td>\n",
       "      <td>0</td>\n",
       "      <td>0</td>\n",
       "      <td>0</td>\n",
       "      <td>0</td>\n",
       "      <td>0</td>\n",
       "      <td>0</td>\n",
       "      <td>0</td>\n",
       "      <td>0</td>\n",
       "      <td>0</td>\n",
       "      <td>0</td>\n",
       "    </tr>\n",
       "    <tr>\n",
       "      <th>2000-01-02</th>\n",
       "      <td>0</td>\n",
       "      <td>0</td>\n",
       "      <td>0</td>\n",
       "      <td>0</td>\n",
       "      <td>0</td>\n",
       "      <td>0</td>\n",
       "      <td>0</td>\n",
       "      <td>0</td>\n",
       "      <td>0</td>\n",
       "      <td>2</td>\n",
       "      <td>...</td>\n",
       "      <td>0</td>\n",
       "      <td>0</td>\n",
       "      <td>0</td>\n",
       "      <td>0</td>\n",
       "      <td>0</td>\n",
       "      <td>0</td>\n",
       "      <td>0</td>\n",
       "      <td>1</td>\n",
       "      <td>0</td>\n",
       "      <td>0</td>\n",
       "    </tr>\n",
       "    <tr>\n",
       "      <th>2000-01-03</th>\n",
       "      <td>0</td>\n",
       "      <td>0</td>\n",
       "      <td>0</td>\n",
       "      <td>4</td>\n",
       "      <td>1</td>\n",
       "      <td>4</td>\n",
       "      <td>1</td>\n",
       "      <td>1</td>\n",
       "      <td>1</td>\n",
       "      <td>0</td>\n",
       "      <td>...</td>\n",
       "      <td>1</td>\n",
       "      <td>0</td>\n",
       "      <td>0</td>\n",
       "      <td>0</td>\n",
       "      <td>0</td>\n",
       "      <td>0</td>\n",
       "      <td>2</td>\n",
       "      <td>1</td>\n",
       "      <td>2</td>\n",
       "      <td>2</td>\n",
       "    </tr>\n",
       "    <tr>\n",
       "      <th>2000-01-04</th>\n",
       "      <td>0</td>\n",
       "      <td>0</td>\n",
       "      <td>0</td>\n",
       "      <td>0</td>\n",
       "      <td>1</td>\n",
       "      <td>4</td>\n",
       "      <td>1</td>\n",
       "      <td>0</td>\n",
       "      <td>0</td>\n",
       "      <td>0</td>\n",
       "      <td>...</td>\n",
       "      <td>3</td>\n",
       "      <td>0</td>\n",
       "      <td>0</td>\n",
       "      <td>1</td>\n",
       "      <td>0</td>\n",
       "      <td>0</td>\n",
       "      <td>0</td>\n",
       "      <td>0</td>\n",
       "      <td>1</td>\n",
       "      <td>1</td>\n",
       "    </tr>\n",
       "    <tr>\n",
       "      <th>2000-01-05</th>\n",
       "      <td>0</td>\n",
       "      <td>0</td>\n",
       "      <td>0</td>\n",
       "      <td>1</td>\n",
       "      <td>1</td>\n",
       "      <td>3</td>\n",
       "      <td>0</td>\n",
       "      <td>0</td>\n",
       "      <td>0</td>\n",
       "      <td>1</td>\n",
       "      <td>...</td>\n",
       "      <td>1</td>\n",
       "      <td>0</td>\n",
       "      <td>1</td>\n",
       "      <td>1</td>\n",
       "      <td>0</td>\n",
       "      <td>0</td>\n",
       "      <td>1</td>\n",
       "      <td>0</td>\n",
       "      <td>1</td>\n",
       "      <td>1</td>\n",
       "    </tr>\n",
       "  </tbody>\n",
       "</table>\n",
       "<p>5 rows × 77 columns</p>\n",
       "</div>"
      ],
      "text/plain": [
       "            ALBANY PARK  ARCHER HEIGHTS  ARMOUR SQUARE  ASHBURN  \\\n",
       "2000-01-01            0               0              0        0   \n",
       "2000-01-02            0               0              0        0   \n",
       "2000-01-03            0               0              0        4   \n",
       "2000-01-04            0               0              0        0   \n",
       "2000-01-05            0               0              0        1   \n",
       "\n",
       "            AUBURN GRESHAM  AUSTIN  AVALON PARK  AVONDALE  BELMONT CRAGIN  \\\n",
       "2000-01-01               0       1            0         0               0   \n",
       "2000-01-02               0       0            0         0               0   \n",
       "2000-01-03               1       4            1         1               1   \n",
       "2000-01-04               1       4            1         0               0   \n",
       "2000-01-05               1       3            0         0               0   \n",
       "\n",
       "            BEVERLY    ...     WASHINGTON HEIGHTS  WASHINGTON PARK  \\\n",
       "2000-01-01        0    ...                      0                0   \n",
       "2000-01-02        2    ...                      0                0   \n",
       "2000-01-03        0    ...                      1                0   \n",
       "2000-01-04        0    ...                      3                0   \n",
       "2000-01-05        1    ...                      1                0   \n",
       "\n",
       "            WEST ELSDON  WEST ENGLEWOOD  WEST GARFIELD PARK  WEST LAWN  \\\n",
       "2000-01-01            0               0                   0          0   \n",
       "2000-01-02            0               0                   0          0   \n",
       "2000-01-03            0               0                   0          0   \n",
       "2000-01-04            0               1                   0          0   \n",
       "2000-01-05            1               1                   0          0   \n",
       "\n",
       "            WEST PULLMAN  WEST RIDGE  WEST TOWN  WOODLAWN  \n",
       "2000-01-01             0           0          0         0  \n",
       "2000-01-02             0           1          0         0  \n",
       "2000-01-03             2           1          2         2  \n",
       "2000-01-04             0           0          1         1  \n",
       "2000-01-05             1           0          1         1  \n",
       "\n",
       "[5 rows x 77 columns]"
      ]
     },
     "execution_count": 3,
     "metadata": {},
     "output_type": "execute_result"
    }
   ],
   "source": [
    "flood_comm_df['Created Date'] = pd.to_datetime(flood_comm_df['Created Date'])\n",
    "flood_comm_df = flood_comm_df.set_index(pd.DatetimeIndex(flood_comm_df['Created Date']))\n",
    "flood_comm_df = flood_comm_df[flood_comm_df.columns.values[1:]]\n",
    "flood_comm_df.head()"
   ]
  },
  {
   "cell_type": "code",
   "execution_count": 4,
   "metadata": {
    "collapsed": false
   },
   "outputs": [
    {
     "data": {
      "text/plain": [
       "2000-01-01     5\n",
       "2000-01-02     3\n",
       "2000-01-03    56\n",
       "2000-01-04    34\n",
       "2000-01-05    34\n",
       "dtype: int64"
      ]
     },
     "execution_count": 4,
     "metadata": {},
     "output_type": "execute_result"
    }
   ],
   "source": [
    "# Get the sum for each day, plot over time\n",
    "flood_comm_sum = flood_comm_df.sum(axis=1)\n",
    "flood_comm_sum.head()"
   ]
  },
  {
   "cell_type": "code",
   "execution_count": 5,
   "metadata": {
    "collapsed": false
   },
   "outputs": [
    {
     "data": {
      "text/plain": [
       "<matplotlib.axes._subplots.AxesSubplot at 0x9c93550>"
      ]
     },
     "execution_count": 5,
     "metadata": {},
     "output_type": "execute_result"
    },
    {
     "data": {
      "image/png": "[encoded data removed]",
      "text/plain": [
       "<matplotlib.figure.Figure at 0x9cb1ba8>"
      ]
     },
     "metadata": {},
     "output_type": "display_data"
    }
   ],
   "source": [
    "plt.rcParams[\"figure.figsize\"] = [15, 5]\n",
    "flood_comm_sum.plot()"
   ]
  },
  {
   "cell_type": "code",
   "execution_count": 6,
   "metadata": {
    "collapsed": false
   },
   "outputs": [
    {
     "data": {
      "text/plain": [
       "2000-01-01     2\n",
       "2000-01-02     3\n",
       "2000-01-03    46\n",
       "2000-01-04    30\n",
       "2000-01-05    22\n",
       "dtype: int64"
      ]
     },
     "execution_count": 6,
     "metadata": {},
     "output_type": "execute_result"
    }
   ],
   "source": [
    "wib_comm_df = pd.read_csv('311_data/wib_calls_311_comm.csv')\n",
    "wib_comm_df['Created Date'] = pd.to_datetime(wib_comm_df['Created Date'])\n",
    "wib_comm_df = wib_comm_df.set_index(pd.DatetimeIndex(wib_comm_df['Created Date']))\n",
    "wib_comm_df = wib_comm_df[wib_comm_df.columns.values[1:]]\n",
    "wib_comm_sum = wib_comm_df.sum(axis=1)\n",
    "wib_comm_sum.head()"
   ]
  },
  {
   "cell_type": "code",
   "execution_count": 7,
   "metadata": {
    "collapsed": false
   },
   "outputs": [
    {
     "data": {
      "text/plain": [
       "2000-01-01     3\n",
       "2000-01-03    10\n",
       "2000-01-04     4\n",
       "2000-01-05    12\n",
       "2000-01-06     8\n",
       "dtype: int64"
      ]
     },
     "execution_count": 7,
     "metadata": {},
     "output_type": "execute_result"
    }
   ],
   "source": [
    "wos_comm_df = pd.read_csv('311_data/wos_calls_311_comm.csv')\n",
    "wos_comm_df['Created Date'] = pd.to_datetime(wos_comm_df['Created Date'])\n",
    "wos_comm_df = wos_comm_df.set_index(pd.DatetimeIndex(wos_comm_df['Created Date']))\n",
    "wos_comm_df = wos_comm_df[wos_comm_df.columns.values[1:]]\n",
    "wos_comm_sum = wos_comm_df.sum(axis=1)\n",
    "wos_comm_sum.head()"
   ]
  },
  {
   "cell_type": "markdown",
   "metadata": {},
   "source": [
    "## Plots Over Time\n",
    "\n",
    "From looking at the plot of calls about street vs basement flooding, it looks like people call about street flooding more consistently, but when basement flooding calls happen they're typically in much more severe spikes."
   ]
  },
  {
   "cell_type": "code",
   "execution_count": 8,
   "metadata": {
    "collapsed": false
   },
   "outputs": [
    {
     "data": {
      "text/plain": [
       "<matplotlib.axes._subplots.AxesSubplot at 0xab88d30>"
      ]
     },
     "execution_count": 8,
     "metadata": {},
     "output_type": "execute_result"
    },
    {
     "data": {
      "image/png": "[encoded data removed]",
      "text/plain": [
       "<matplotlib.figure.Figure at 0xab62710>"
      ]
     },
     "metadata": {},
     "output_type": "display_data"
    }
   ],
   "source": [
    "combined_calls = pd.DataFrame()\n",
    "combined_calls['Water in Basement'] = wib_comm_sum\n",
    "combined_calls['Water in Street'] = wos_comm_sum\n",
    "combined_calls.plot()"
   ]
  },
  {
   "cell_type": "code",
   "execution_count": null,
   "metadata": {
    "collapsed": true
   },
   "outputs": [],
   "source": []
  }
 ],
 "metadata": {
  "kernelspec": {
   "display_name": "Python 3",
   "language": "python",
   "name": "python3"
  },
  "language_info": {
   "codemirror_mode": {
    "name": "ipython",
    "version": 3
   },
   "file_extension": ".py",
   "mimetype": "text/x-python",
   "name": "python",
   "nbconvert_exporter": "python",
   "pygments_lexer": "ipython3",
   "version": "3.5.1"
  }
 },
 "nbformat": 4,
 "nbformat_minor": 0
}
