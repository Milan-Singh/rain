{
 "cells": [
  {
   "cell_type": "code",
   "execution_count": 1,
   "metadata": {
    "collapsed": true
   },
   "outputs": [],
   "source": [
    "from __future__ import division, print_function, unicode_literals\n",
    "\n",
    "import numpy as np\n",
    "import pandas as pd\n",
    "import matplotlib.pyplot as plt\n",
    "import seaborn as sns\n",
    "%matplotlib inline"
   ]
  },
  {
   "cell_type": "code",
   "execution_count": 2,
   "metadata": {
    "collapsed": false
   },
   "outputs": [
    {
     "data": {
      "text/html": [
       "<div>\n",
       "<table border=\"1\" class=\"dataframe\">\n",
       "  <thead>\n",
       "    <tr style=\"text-align: right;\">\n",
       "      <th></th>\n",
       "      <th>zipCode</th>\n",
       "      <th>approvedForFemaAssistance</th>\n",
       "      <th>totalApprovedIhpAmount</th>\n",
       "    </tr>\n",
       "  </thead>\n",
       "  <tbody>\n",
       "    <tr>\n",
       "      <th>0</th>\n",
       "      <td>60637</td>\n",
       "      <td>0.0</td>\n",
       "      <td>0.0</td>\n",
       "    </tr>\n",
       "    <tr>\n",
       "      <th>1</th>\n",
       "      <td>60641</td>\n",
       "      <td>0.0</td>\n",
       "      <td>0.0</td>\n",
       "    </tr>\n",
       "    <tr>\n",
       "      <th>2</th>\n",
       "      <td>60628</td>\n",
       "      <td>1.0</td>\n",
       "      <td>1888.0</td>\n",
       "    </tr>\n",
       "    <tr>\n",
       "      <th>3</th>\n",
       "      <td>60468</td>\n",
       "      <td>0.0</td>\n",
       "      <td>0.0</td>\n",
       "    </tr>\n",
       "    <tr>\n",
       "      <th>4</th>\n",
       "      <td>60613</td>\n",
       "      <td>3.0</td>\n",
       "      <td>20496.0</td>\n",
       "    </tr>\n",
       "  </tbody>\n",
       "</table>\n",
       "</div>"
      ],
      "text/plain": [
       "  zipCode  approvedForFemaAssistance  totalApprovedIhpAmount\n",
       "0   60637                        0.0                     0.0\n",
       "1   60641                        0.0                     0.0\n",
       "2   60628                        1.0                  1888.0\n",
       "3   60468                        0.0                     0.0\n",
       "4   60613                        3.0                 20496.0"
      ]
     },
     "execution_count": 2,
     "metadata": {},
     "output_type": "execute_result"
    }
   ],
   "source": [
    "housing_owners = pd.read_csv('fema_data/chi_housing_assistance_owners.csv')\n",
    "housing_owners['zipCode'] = housing_owners['zipCode'].fillna(0).astype(int).astype(str)\n",
    "housing_renters = pd.read_csv('fema_data/chi_housing_assistance_renters.csv')\n",
    "housing_renters['zipCode'] = housing_renters['zipCode'].fillna(0).astype(int).astype(str)\n",
    "combined_fema_df = pd.concat([housing_owners[['zipCode', 'approvedForFemaAssistance', 'totalApprovedIhpAmount']],\n",
    "                              housing_renters[['zipCode', 'approvedForFemaAssistance', 'totalApprovedIhpAmount']]])\n",
    "combined_fema_df.head()"
   ]
  },
  {
   "cell_type": "code",
   "execution_count": 3,
   "metadata": {
    "collapsed": false
   },
   "outputs": [
    {
     "data": {
      "text/html": [
       "<div>\n",
       "<table border=\"1\" class=\"dataframe\">\n",
       "  <thead>\n",
       "    <tr style=\"text-align: right;\">\n",
       "      <th></th>\n",
       "      <th>zipCode</th>\n",
       "      <th>totalApprovedIhpAmount</th>\n",
       "      <th>approvedForFemaAssistance</th>\n",
       "    </tr>\n",
       "  </thead>\n",
       "  <tbody>\n",
       "    <tr>\n",
       "      <th>1</th>\n",
       "      <td>60020</td>\n",
       "      <td>1532.0</td>\n",
       "      <td>1.0</td>\n",
       "    </tr>\n",
       "    <tr>\n",
       "      <th>2</th>\n",
       "      <td>60104</td>\n",
       "      <td>4953.0</td>\n",
       "      <td>2.0</td>\n",
       "    </tr>\n",
       "    <tr>\n",
       "      <th>3</th>\n",
       "      <td>60131</td>\n",
       "      <td>0.0</td>\n",
       "      <td>0.0</td>\n",
       "    </tr>\n",
       "    <tr>\n",
       "      <th>4</th>\n",
       "      <td>60155</td>\n",
       "      <td>0.0</td>\n",
       "      <td>0.0</td>\n",
       "    </tr>\n",
       "    <tr>\n",
       "      <th>5</th>\n",
       "      <td>60290</td>\n",
       "      <td>6769.0</td>\n",
       "      <td>4.0</td>\n",
       "    </tr>\n",
       "  </tbody>\n",
       "</table>\n",
       "</div>"
      ],
      "text/plain": [
       "  zipCode  totalApprovedIhpAmount  approvedForFemaAssistance\n",
       "1   60020                  1532.0                        1.0\n",
       "2   60104                  4953.0                        2.0\n",
       "3   60131                     0.0                        0.0\n",
       "4   60155                     0.0                        0.0\n",
       "5   60290                  6769.0                        4.0"
      ]
     },
     "execution_count": 3,
     "metadata": {},
     "output_type": "execute_result"
    }
   ],
   "source": [
    "combined_fema_zips = pd.DataFrame(combined_fema_df.groupby(['zipCode']).agg({'approvedForFemaAssistance': 'sum',\n",
    "                                                                             'totalApprovedIhpAmount': 'sum'})).reset_index()\n",
    "combined_fema_zips = combined_fema_zips.dropna()\n",
    "combined_fema_zips.head()"
   ]
  },
  {
   "cell_type": "code",
   "execution_count": 4,
   "metadata": {
    "collapsed": false
   },
   "outputs": [
    {
     "data": {
      "text/html": [
       "<div>\n",
       "<table border=\"1\" class=\"dataframe\">\n",
       "  <thead>\n",
       "    <tr style=\"text-align: right;\">\n",
       "      <th></th>\n",
       "      <th>Zip Code</th>\n",
       "      <th>Count Calls</th>\n",
       "    </tr>\n",
       "  </thead>\n",
       "  <tbody>\n",
       "    <tr>\n",
       "      <th>26</th>\n",
       "      <td>60628</td>\n",
       "      <td>6893</td>\n",
       "    </tr>\n",
       "    <tr>\n",
       "      <th>18</th>\n",
       "      <td>60619</td>\n",
       "      <td>6575</td>\n",
       "    </tr>\n",
       "    <tr>\n",
       "      <th>27</th>\n",
       "      <td>60629</td>\n",
       "      <td>6215</td>\n",
       "    </tr>\n",
       "    <tr>\n",
       "      <th>16</th>\n",
       "      <td>60617</td>\n",
       "      <td>5771</td>\n",
       "    </tr>\n",
       "    <tr>\n",
       "      <th>19</th>\n",
       "      <td>60620</td>\n",
       "      <td>5518</td>\n",
       "    </tr>\n",
       "  </tbody>\n",
       "</table>\n",
       "</div>"
      ],
      "text/plain": [
       "   Zip Code  Count Calls\n",
       "26    60628         6893\n",
       "18    60619         6575\n",
       "27    60629         6215\n",
       "16    60617         5771\n",
       "19    60620         5518"
      ]
     },
     "execution_count": 4,
     "metadata": {},
     "output_type": "execute_result"
    }
   ],
   "source": [
    "wib_07_df = pd.read_csv('311_data/wib_calls_311_zip.csv')\n",
    "wib_07_df['Created Date'] = pd.to_datetime(wib_07_df['Created Date'])\n",
    "wib_07_df = wib_07_df.set_index(wib_07_df['Created Date'])\n",
    "wib_07_df = wib_07_df['2007-01-01':][wib_07_df.columns.values[2:]]\n",
    "wib_07_stack = pd.DataFrame(wib_07_df.stack()).reset_index()\n",
    "wib_07_stack = wib_07_stack.rename(columns={'level_0':'Created Date','level_1':'Zip Code',0:'Count Calls'})\n",
    "wib_07_sum = wib_07_stack.groupby(['Zip Code'])['Count Calls'].sum()\n",
    "wib_07_sum = wib_07_sum.reset_index()\n",
    "wib_07_sum = wib_07_sum.sort_values(by='Count Calls',ascending=False)\n",
    "wib_07_sum.head()"
   ]
  },
  {
   "cell_type": "code",
   "execution_count": 5,
   "metadata": {
    "collapsed": false
   },
   "outputs": [
    {
     "data": {
      "text/html": [
       "<div>\n",
       "<table border=\"1\" class=\"dataframe\">\n",
       "  <thead>\n",
       "    <tr style=\"text-align: right;\">\n",
       "      <th></th>\n",
       "      <th>zipCode</th>\n",
       "      <th>totalApprovedIhpAmount</th>\n",
       "      <th>approvedForFemaAssistance</th>\n",
       "    </tr>\n",
       "  </thead>\n",
       "  <tbody>\n",
       "    <tr>\n",
       "      <th>11</th>\n",
       "      <td>60601</td>\n",
       "      <td>0.0</td>\n",
       "      <td>0.0</td>\n",
       "    </tr>\n",
       "    <tr>\n",
       "      <th>12</th>\n",
       "      <td>60604</td>\n",
       "      <td>4079.0</td>\n",
       "      <td>2.0</td>\n",
       "    </tr>\n",
       "    <tr>\n",
       "      <th>13</th>\n",
       "      <td>60605</td>\n",
       "      <td>150.0</td>\n",
       "      <td>1.0</td>\n",
       "    </tr>\n",
       "    <tr>\n",
       "      <th>14</th>\n",
       "      <td>60606</td>\n",
       "      <td>2829.0</td>\n",
       "      <td>1.0</td>\n",
       "    </tr>\n",
       "    <tr>\n",
       "      <th>15</th>\n",
       "      <td>60607</td>\n",
       "      <td>164883.0</td>\n",
       "      <td>90.0</td>\n",
       "    </tr>\n",
       "  </tbody>\n",
       "</table>\n",
       "</div>"
      ],
      "text/plain": [
       "   zipCode  totalApprovedIhpAmount  approvedForFemaAssistance\n",
       "11   60601                     0.0                        0.0\n",
       "12   60604                  4079.0                        2.0\n",
       "13   60605                   150.0                        1.0\n",
       "14   60606                  2829.0                        1.0\n",
       "15   60607                164883.0                       90.0"
      ]
     },
     "execution_count": 5,
     "metadata": {},
     "output_type": "execute_result"
    }
   ],
   "source": [
    "wib_07_zips = wib_07_sum['Zip Code'].unique()\n",
    "fema_zip_df = combined_fema_zips.loc[combined_fema_zips['zipCode'].isin(wib_07_zips)].copy()\n",
    "fema_zip_df.head()"
   ]
  },
  {
   "cell_type": "code",
   "execution_count": 6,
   "metadata": {
    "collapsed": false
   },
   "outputs": [
    {
     "data": {
      "text/plain": [
       "<matplotlib.axes._subplots.AxesSubplot at 0x9c3f7f0>"
      ]
     },
     "execution_count": 6,
     "metadata": {},
     "output_type": "execute_result"
    },
    {
     "data": {
      "image/png": "[encoded data removed]",
      "text/plain": [
       "<matplotlib.figure.Figure at 0x9bf0ef0>"
      ]
     },
     "metadata": {},
     "output_type": "display_data"
    }
   ],
   "source": [
    "plt.rcParams[\"figure.figsize\"] = [15, 5]\n",
    "fema_wib_zip = pd.DataFrame()\n",
    "fema_wib_zip[['Zip Code', 'FEMA Approved', 'FEMA Claims Total']] = fema_zip_df.copy()\n",
    "fema_wib_zip = fema_wib_zip.merge(wib_07_sum, on='Zip Code')\n",
    "fema_wib_zip.plot(title='FEMA Totals and FOIA Scatter Plot', x='Count Calls', y='FEMA Claims Total', kind='scatter')"
   ]
  },
  {
   "cell_type": "code",
   "execution_count": 7,
   "metadata": {
    "collapsed": false
   },
   "outputs": [
    {
     "data": {
      "text/plain": [
       "<matplotlib.axes._subplots.AxesSubplot at 0x9bf05c0>"
      ]
     },
     "execution_count": 7,
     "metadata": {},
     "output_type": "execute_result"
    },
    {
     "data": {
      "image/png": "[encoded data removed]",
      "text/plain": [
       "<matplotlib.figure.Figure at 0x4640780>"
      ]
     },
     "metadata": {},
     "output_type": "display_data"
    }
   ],
   "source": [
    "# Total dollar amount of FEMA claims generally seems to line up with the number of approved claims by zip\n",
    "fema_wib_zip.plot(title='FEMA and FOIA Data Scatter Plot', x='FEMA Approved', y='FEMA Claims Total', kind='scatter')"
   ]
  },
  {
   "cell_type": "code",
   "execution_count": 8,
   "metadata": {
    "collapsed": false
   },
   "outputs": [
    {
     "data": {
      "text/plain": [
       "<matplotlib.axes._subplots.AxesSubplot at 0xa31bc88>"
      ]
     },
     "execution_count": 8,
     "metadata": {},
     "output_type": "execute_result"
    },
    {
     "data": {
      "image/png": "[encoded data removed]",
      "text/plain": [
       "<matplotlib.figure.Figure at 0xa322dd8>"
      ]
     },
     "metadata": {},
     "output_type": "display_data"
    }
   ],
   "source": [
    "fema_zips_by_total = fema_wib_zip.sort_values(by='FEMA Claims Total', ascending=False)[:20].copy()\n",
    "fema_zips_by_total.plot(kind='bar', x='Zip Code', y='FEMA Claims Total')"
   ]
  },
  {
   "cell_type": "code",
   "execution_count": 9,
   "metadata": {
    "collapsed": false
   },
   "outputs": [
    {
     "data": {
      "text/plain": [
       "<matplotlib.axes._subplots.AxesSubplot at 0xa3bc710>"
      ]
     },
     "execution_count": 9,
     "metadata": {},
     "output_type": "execute_result"
    },
    {
     "data": {
      "image/png": "[encoded data removed]",
      "text/plain": [
       "<matplotlib.figure.Figure at 0x9ddf710>"
      ]
     },
     "metadata": {},
     "output_type": "display_data"
    }
   ],
   "source": [
    "fema_zips_by_approved = fema_wib_zip.sort_values(by='FEMA Approved', ascending=False)[:20].copy()\n",
    "fema_zips_by_approved.plot(kind='bar', x='Zip Code', y='FEMA Approved')"
   ]
  },
  {
   "cell_type": "code",
   "execution_count": null,
   "metadata": {
    "collapsed": true
   },
   "outputs": [],
   "source": []
  }
 ],
 "metadata": {
  "kernelspec": {
   "display_name": "Python 3",
   "language": "python",
   "name": "python3"
  },
  "language_info": {
   "codemirror_mode": {
    "name": "ipython",
    "version": 3
   },
   "file_extension": ".py",
   "mimetype": "text/x-python",
   "name": "python",
   "nbconvert_exporter": "python",
   "pygments_lexer": "ipython3",
   "version": "3.5.1"
  }
 },
 "nbformat": 4,
 "nbformat_minor": 1
}
