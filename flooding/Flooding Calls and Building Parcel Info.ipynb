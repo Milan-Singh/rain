{
 "cells": [
  {
   "cell_type": "code",
   "execution_count": 1,
   "metadata": {
    "collapsed": true
   },
   "outputs": [],
   "source": [
    "from __future__ import division, print_function, unicode_literals\n",
    "\n",
    "import numpy as np\n",
    "import pandas as pd\n",
    "import matplotlib.pyplot as plt\n",
    "import seaborn as sns\n",
    "%matplotlib inline"
   ]
  },
  {
   "cell_type": "markdown",
   "metadata": {},
   "source": [
    "### Parcel Data with Basement Flooding Calls\n",
    "\n",
    "Aggregated to community area, [parcel data from Cook County](http://cookviewer1.cookcountyil.gov/jsviewer/mapviewer.html) can be compared with community area level counts of basement flooding calls. Overall, it seems there's a moderate correlation mostly with mean parcel value for an area and number of basement flooding 311 calls."
   ]
  },
  {
   "cell_type": "code",
   "execution_count": 2,
   "metadata": {
    "collapsed": false
   },
   "outputs": [
    {
     "data": {
      "text/html": [
       "<div>\n",
       "<table border=\"1\" class=\"dataframe\">\n",
       "  <thead>\n",
       "    <tr style=\"text-align: right;\">\n",
       "      <th></th>\n",
       "      <th>Community Area</th>\n",
       "      <th>Count Calls</th>\n",
       "    </tr>\n",
       "  </thead>\n",
       "  <tbody>\n",
       "    <tr>\n",
       "      <th>0</th>\n",
       "      <td>ALBANY PARK</td>\n",
       "      <td>1949</td>\n",
       "    </tr>\n",
       "    <tr>\n",
       "      <th>1</th>\n",
       "      <td>ARCHER HEIGHTS</td>\n",
       "      <td>720</td>\n",
       "    </tr>\n",
       "    <tr>\n",
       "      <th>2</th>\n",
       "      <td>ARMOUR SQUARE</td>\n",
       "      <td>216</td>\n",
       "    </tr>\n",
       "    <tr>\n",
       "      <th>3</th>\n",
       "      <td>ASHBURN</td>\n",
       "      <td>4115</td>\n",
       "    </tr>\n",
       "    <tr>\n",
       "      <th>4</th>\n",
       "      <td>AUBURN GRESHAM</td>\n",
       "      <td>5565</td>\n",
       "    </tr>\n",
       "  </tbody>\n",
       "</table>\n",
       "</div>"
      ],
      "text/plain": [
       "   Community Area Count Calls\n",
       "0     ALBANY PARK        1949\n",
       "1  ARCHER HEIGHTS         720\n",
       "2   ARMOUR SQUARE         216\n",
       "3         ASHBURN        4115\n",
       "4  AUBURN GRESHAM        5565"
      ]
     },
     "execution_count": 2,
     "metadata": {},
     "output_type": "execute_result"
    }
   ],
   "source": [
    "flood_comm_df = pd.read_csv('311_data/wib_calls_311_comm.csv')\n",
    "flood_comm_stack_df = pd.DataFrame(flood_comm_df.stack()).reset_index()\n",
    "flood_comm_stack_df = flood_comm_stack_df.rename(columns={'level_0':'Date','level_1':'Community Area',0:'Count Calls'})\n",
    "flood_comm_totals = pd.DataFrame(flood_comm_stack_df.groupby(['Community Area'])['Count Calls'].sum()).reset_index()\n",
    "flood_comm_totals.head()"
   ]
  },
  {
   "cell_type": "code",
   "execution_count": 3,
   "metadata": {
    "collapsed": false
   },
   "outputs": [
    {
     "data": {
      "text/html": [
       "<div>\n",
       "<table border=\"1\" class=\"dataframe\">\n",
       "  <thead>\n",
       "    <tr style=\"text-align: right;\">\n",
       "      <th></th>\n",
       "      <th>Community Area</th>\n",
       "      <th>MeanBldgAge</th>\n",
       "      <th>ParcelCount</th>\n",
       "      <th>MeanBldgValue</th>\n",
       "    </tr>\n",
       "  </thead>\n",
       "  <tbody>\n",
       "    <tr>\n",
       "      <th>0</th>\n",
       "      <td>ALBANY PARK</td>\n",
       "      <td>88.012670</td>\n",
       "      <td>6314</td>\n",
       "      <td>31204.790624</td>\n",
       "    </tr>\n",
       "    <tr>\n",
       "      <th>1</th>\n",
       "      <td>ARCHER HEIGHTS</td>\n",
       "      <td>71.006517</td>\n",
       "      <td>2762</td>\n",
       "      <td>14332.396452</td>\n",
       "    </tr>\n",
       "    <tr>\n",
       "      <th>2</th>\n",
       "      <td>ARMOUR SQUARE</td>\n",
       "      <td>64.962375</td>\n",
       "      <td>1701</td>\n",
       "      <td>32358.594944</td>\n",
       "    </tr>\n",
       "    <tr>\n",
       "      <th>3</th>\n",
       "      <td>ASHBURN</td>\n",
       "      <td>58.554936</td>\n",
       "      <td>12369</td>\n",
       "      <td>12046.872100</td>\n",
       "    </tr>\n",
       "    <tr>\n",
       "      <th>4</th>\n",
       "      <td>AUBURN GRESHAM</td>\n",
       "      <td>83.526665</td>\n",
       "      <td>11457</td>\n",
       "      <td>11237.561404</td>\n",
       "    </tr>\n",
       "  </tbody>\n",
       "</table>\n",
       "</div>"
      ],
      "text/plain": [
       "   Community Area  MeanBldgAge  ParcelCount  MeanBldgValue\n",
       "0     ALBANY PARK    88.012670         6314   31204.790624\n",
       "1  ARCHER HEIGHTS    71.006517         2762   14332.396452\n",
       "2   ARMOUR SQUARE    64.962375         1701   32358.594944\n",
       "3         ASHBURN    58.554936        12369   12046.872100\n",
       "4  AUBURN GRESHAM    83.526665        11457   11237.561404"
      ]
     },
     "execution_count": 3,
     "metadata": {},
     "output_type": "execute_result"
    }
   ],
   "source": [
    "parcel_comm_df = pd.read_csv('parcel_data/res_parcel_stats_by_comm.csv')\n",
    "parcel_comm_df = parcel_comm_df.rename(columns={'CommunityArea': 'Community Area'})\n",
    "parcel_comm_df = parcel_comm_df[['Community Area', 'MeanBldgAge', 'ParcelCount', 'MeanBldgValue']]\n",
    "parcel_comm_df.head()"
   ]
  },
  {
   "cell_type": "code",
   "execution_count": 4,
   "metadata": {
    "collapsed": false
   },
   "outputs": [
    {
     "data": {
      "text/html": [
       "<div>\n",
       "<table border=\"1\" class=\"dataframe\">\n",
       "  <thead>\n",
       "    <tr style=\"text-align: right;\">\n",
       "      <th></th>\n",
       "      <th>Community Area</th>\n",
       "      <th>Count Calls</th>\n",
       "      <th>MeanBldgAge</th>\n",
       "      <th>ParcelCount</th>\n",
       "      <th>MeanBldgValue</th>\n",
       "    </tr>\n",
       "  </thead>\n",
       "  <tbody>\n",
       "    <tr>\n",
       "      <th>0</th>\n",
       "      <td>ALBANY PARK</td>\n",
       "      <td>1949</td>\n",
       "      <td>88.012670</td>\n",
       "      <td>6314</td>\n",
       "      <td>31204.790624</td>\n",
       "    </tr>\n",
       "    <tr>\n",
       "      <th>1</th>\n",
       "      <td>ARCHER HEIGHTS</td>\n",
       "      <td>720</td>\n",
       "      <td>71.006517</td>\n",
       "      <td>2762</td>\n",
       "      <td>14332.396452</td>\n",
       "    </tr>\n",
       "    <tr>\n",
       "      <th>2</th>\n",
       "      <td>ARMOUR SQUARE</td>\n",
       "      <td>216</td>\n",
       "      <td>64.962375</td>\n",
       "      <td>1701</td>\n",
       "      <td>32358.594944</td>\n",
       "    </tr>\n",
       "    <tr>\n",
       "      <th>3</th>\n",
       "      <td>ASHBURN</td>\n",
       "      <td>4115</td>\n",
       "      <td>58.554936</td>\n",
       "      <td>12369</td>\n",
       "      <td>12046.872100</td>\n",
       "    </tr>\n",
       "    <tr>\n",
       "      <th>4</th>\n",
       "      <td>AUBURN GRESHAM</td>\n",
       "      <td>5565</td>\n",
       "      <td>83.526665</td>\n",
       "      <td>11457</td>\n",
       "      <td>11237.561404</td>\n",
       "    </tr>\n",
       "  </tbody>\n",
       "</table>\n",
       "</div>"
      ],
      "text/plain": [
       "   Community Area  Count Calls  MeanBldgAge  ParcelCount  MeanBldgValue\n",
       "0     ALBANY PARK         1949    88.012670         6314   31204.790624\n",
       "1  ARCHER HEIGHTS          720    71.006517         2762   14332.396452\n",
       "2   ARMOUR SQUARE          216    64.962375         1701   32358.594944\n",
       "3         ASHBURN         4115    58.554936        12369   12046.872100\n",
       "4  AUBURN GRESHAM         5565    83.526665        11457   11237.561404"
      ]
     },
     "execution_count": 4,
     "metadata": {},
     "output_type": "execute_result"
    }
   ],
   "source": [
    "flood_parcel_df = flood_comm_totals.merge(parcel_comm_df, on='Community Area')\n",
    "flood_parcel_df['Count Calls'] = flood_parcel_df['Count Calls'].astype(int)\n",
    "flood_parcel_df.head()"
   ]
  },
  {
   "cell_type": "code",
   "execution_count": 5,
   "metadata": {
    "collapsed": false
   },
   "outputs": [
    {
     "data": {
      "text/plain": [
       "<matplotlib.axes._subplots.AxesSubplot at 0xa560198>"
      ]
     },
     "execution_count": 5,
     "metadata": {},
     "output_type": "execute_result"
    },
    {
     "data": {
      "image/png": "[encoded data removed]",
      "text/plain": [
       "<matplotlib.figure.Figure at 0x9deaf98>"
      ]
     },
     "metadata": {},
     "output_type": "display_data"
    }
   ],
   "source": [
    "# The Loop, Near North Side, and Lincoln Park are outliers, so removing them\n",
    "flood_parcel_sub = flood_parcel_df.loc[~flood_parcel_df['Community Area'].isin(['LOOP', 'NEAR NORTH SIDE', 'LINCOLN PARK'])].copy()\n",
    "flood_parcel_sub.plot(title='Flooding Calls v Mean Parcel Value', kind='scatter', x='MeanBldgValue', y='Count Calls')"
   ]
  },
  {
   "cell_type": "code",
   "execution_count": 6,
   "metadata": {
    "collapsed": false
   },
   "outputs": [
    {
     "data": {
      "text/html": [
       "<div>\n",
       "<table border=\"1\" class=\"dataframe\">\n",
       "  <thead>\n",
       "    <tr style=\"text-align: right;\">\n",
       "      <th></th>\n",
       "      <th>Count Calls</th>\n",
       "      <th>MeanBldgAge</th>\n",
       "      <th>ParcelCount</th>\n",
       "      <th>MeanBldgValue</th>\n",
       "    </tr>\n",
       "  </thead>\n",
       "  <tbody>\n",
       "    <tr>\n",
       "      <th>Count Calls</th>\n",
       "      <td>1.000000</td>\n",
       "      <td>0.201429</td>\n",
       "      <td>0.742777</td>\n",
       "      <td>-0.376962</td>\n",
       "    </tr>\n",
       "    <tr>\n",
       "      <th>MeanBldgAge</th>\n",
       "      <td>0.201429</td>\n",
       "      <td>1.000000</td>\n",
       "      <td>0.187132</td>\n",
       "      <td>-0.380951</td>\n",
       "    </tr>\n",
       "    <tr>\n",
       "      <th>ParcelCount</th>\n",
       "      <td>0.742777</td>\n",
       "      <td>0.187132</td>\n",
       "      <td>1.000000</td>\n",
       "      <td>-0.168567</td>\n",
       "    </tr>\n",
       "    <tr>\n",
       "      <th>MeanBldgValue</th>\n",
       "      <td>-0.376962</td>\n",
       "      <td>-0.380951</td>\n",
       "      <td>-0.168567</td>\n",
       "      <td>1.000000</td>\n",
       "    </tr>\n",
       "  </tbody>\n",
       "</table>\n",
       "</div>"
      ],
      "text/plain": [
       "               Count Calls  MeanBldgAge  ParcelCount  MeanBldgValue\n",
       "Count Calls       1.000000     0.201429     0.742777      -0.376962\n",
       "MeanBldgAge       0.201429     1.000000     0.187132      -0.380951\n",
       "ParcelCount       0.742777     0.187132     1.000000      -0.168567\n",
       "MeanBldgValue    -0.376962    -0.380951    -0.168567       1.000000"
      ]
     },
     "execution_count": 6,
     "metadata": {},
     "output_type": "execute_result"
    }
   ],
   "source": [
    "flood_parcel_sub.corr()"
   ]
  },
  {
   "cell_type": "markdown",
   "metadata": {
    "collapsed": true
   },
   "source": [
    "### Next Steps\n",
    "\n",
    "The correlation to mean building value is modest, but community area seems like too high a level of aggregation to actually capture any disparities. Could potentially aggregate by parcels within a given radius of the geocoded point for a given call on an address block."
   ]
  },
  {
   "cell_type": "code",
   "execution_count": null,
   "metadata": {
    "collapsed": true
   },
   "outputs": [],
   "source": []
  }
 ],
 "metadata": {
  "kernelspec": {
   "display_name": "Python 3",
   "language": "python",
   "name": "python3"
  },
  "language_info": {
   "codemirror_mode": {
    "name": "ipython",
    "version": 3
   },
   "file_extension": ".py",
   "mimetype": "text/x-python",
   "name": "python",
   "nbconvert_exporter": "python",
   "pygments_lexer": "ipython3",
   "version": "3.5.1"
  }
 },
 "nbformat": 4,
 "nbformat_minor": 1
}
