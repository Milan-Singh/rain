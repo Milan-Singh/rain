{
 "cells": [
  {
   "cell_type": "code",
   "execution_count": 1,
   "metadata": {
    "collapsed": true
   },
   "outputs": [],
   "source": [
    "from __future__ import division, print_function, unicode_literals\n",
    "\n",
    "import numpy as np\n",
    "import pandas as pd\n",
    "import matplotlib.pyplot as plt\n",
    "import seaborn as sns\n",
    "%matplotlib inline"
   ]
  },
  {
   "cell_type": "code",
   "execution_count": 2,
   "metadata": {
    "collapsed": false
   },
   "outputs": [
    {
     "data": {
      "text/html": [
       "<div>\n",
       "<table border=\"1\" class=\"dataframe\">\n",
       "  <thead>\n",
       "    <tr style=\"text-align: right;\">\n",
       "      <th></th>\n",
       "      <th>Created Date</th>\n",
       "      <th>ALBANY PARK</th>\n",
       "      <th>ARCHER HEIGHTS</th>\n",
       "      <th>ARMOUR SQUARE</th>\n",
       "      <th>ASHBURN</th>\n",
       "      <th>AUBURN GRESHAM</th>\n",
       "      <th>AUSTIN</th>\n",
       "      <th>AVALON PARK</th>\n",
       "      <th>AVONDALE</th>\n",
       "      <th>BELMONT CRAGIN</th>\n",
       "      <th>...</th>\n",
       "      <th>WASHINGTON HEIGHTS</th>\n",
       "      <th>WASHINGTON PARK</th>\n",
       "      <th>WEST ELSDON</th>\n",
       "      <th>WEST ENGLEWOOD</th>\n",
       "      <th>WEST GARFIELD PARK</th>\n",
       "      <th>WEST LAWN</th>\n",
       "      <th>WEST PULLMAN</th>\n",
       "      <th>WEST RIDGE</th>\n",
       "      <th>WEST TOWN</th>\n",
       "      <th>WOODLAWN</th>\n",
       "    </tr>\n",
       "  </thead>\n",
       "  <tbody>\n",
       "    <tr>\n",
       "      <th>0</th>\n",
       "      <td>2000-01-01</td>\n",
       "      <td>0</td>\n",
       "      <td>0</td>\n",
       "      <td>0</td>\n",
       "      <td>0</td>\n",
       "      <td>0</td>\n",
       "      <td>1</td>\n",
       "      <td>0</td>\n",
       "      <td>0</td>\n",
       "      <td>0</td>\n",
       "      <td>...</td>\n",
       "      <td>0</td>\n",
       "      <td>0</td>\n",
       "      <td>0</td>\n",
       "      <td>0</td>\n",
       "      <td>0</td>\n",
       "      <td>0</td>\n",
       "      <td>0</td>\n",
       "      <td>0</td>\n",
       "      <td>0</td>\n",
       "      <td>0</td>\n",
       "    </tr>\n",
       "    <tr>\n",
       "      <th>1</th>\n",
       "      <td>2000-01-02</td>\n",
       "      <td>0</td>\n",
       "      <td>0</td>\n",
       "      <td>0</td>\n",
       "      <td>0</td>\n",
       "      <td>0</td>\n",
       "      <td>0</td>\n",
       "      <td>0</td>\n",
       "      <td>0</td>\n",
       "      <td>0</td>\n",
       "      <td>...</td>\n",
       "      <td>0</td>\n",
       "      <td>0</td>\n",
       "      <td>0</td>\n",
       "      <td>0</td>\n",
       "      <td>0</td>\n",
       "      <td>0</td>\n",
       "      <td>0</td>\n",
       "      <td>1</td>\n",
       "      <td>0</td>\n",
       "      <td>0</td>\n",
       "    </tr>\n",
       "    <tr>\n",
       "      <th>2</th>\n",
       "      <td>2000-01-03</td>\n",
       "      <td>0</td>\n",
       "      <td>0</td>\n",
       "      <td>0</td>\n",
       "      <td>4</td>\n",
       "      <td>1</td>\n",
       "      <td>4</td>\n",
       "      <td>1</td>\n",
       "      <td>1</td>\n",
       "      <td>1</td>\n",
       "      <td>...</td>\n",
       "      <td>1</td>\n",
       "      <td>0</td>\n",
       "      <td>0</td>\n",
       "      <td>0</td>\n",
       "      <td>0</td>\n",
       "      <td>0</td>\n",
       "      <td>2</td>\n",
       "      <td>1</td>\n",
       "      <td>2</td>\n",
       "      <td>2</td>\n",
       "    </tr>\n",
       "    <tr>\n",
       "      <th>3</th>\n",
       "      <td>2000-01-04</td>\n",
       "      <td>0</td>\n",
       "      <td>0</td>\n",
       "      <td>0</td>\n",
       "      <td>0</td>\n",
       "      <td>1</td>\n",
       "      <td>4</td>\n",
       "      <td>1</td>\n",
       "      <td>0</td>\n",
       "      <td>0</td>\n",
       "      <td>...</td>\n",
       "      <td>3</td>\n",
       "      <td>0</td>\n",
       "      <td>0</td>\n",
       "      <td>1</td>\n",
       "      <td>0</td>\n",
       "      <td>0</td>\n",
       "      <td>0</td>\n",
       "      <td>0</td>\n",
       "      <td>1</td>\n",
       "      <td>1</td>\n",
       "    </tr>\n",
       "    <tr>\n",
       "      <th>4</th>\n",
       "      <td>2000-01-05</td>\n",
       "      <td>0</td>\n",
       "      <td>0</td>\n",
       "      <td>0</td>\n",
       "      <td>1</td>\n",
       "      <td>1</td>\n",
       "      <td>3</td>\n",
       "      <td>0</td>\n",
       "      <td>0</td>\n",
       "      <td>0</td>\n",
       "      <td>...</td>\n",
       "      <td>1</td>\n",
       "      <td>0</td>\n",
       "      <td>1</td>\n",
       "      <td>1</td>\n",
       "      <td>0</td>\n",
       "      <td>0</td>\n",
       "      <td>1</td>\n",
       "      <td>0</td>\n",
       "      <td>1</td>\n",
       "      <td>1</td>\n",
       "    </tr>\n",
       "  </tbody>\n",
       "</table>\n",
       "<p>5 rows × 78 columns</p>\n",
       "</div>"
      ],
      "text/plain": [
       "  Created Date  ALBANY PARK  ARCHER HEIGHTS  ARMOUR SQUARE  ASHBURN  \\\n",
       "0   2000-01-01            0               0              0        0   \n",
       "1   2000-01-02            0               0              0        0   \n",
       "2   2000-01-03            0               0              0        4   \n",
       "3   2000-01-04            0               0              0        0   \n",
       "4   2000-01-05            0               0              0        1   \n",
       "\n",
       "   AUBURN GRESHAM  AUSTIN  AVALON PARK  AVONDALE  BELMONT CRAGIN    ...     \\\n",
       "0               0       1            0         0               0    ...      \n",
       "1               0       0            0         0               0    ...      \n",
       "2               1       4            1         1               1    ...      \n",
       "3               1       4            1         0               0    ...      \n",
       "4               1       3            0         0               0    ...      \n",
       "\n",
       "   WASHINGTON HEIGHTS  WASHINGTON PARK  WEST ELSDON  WEST ENGLEWOOD  \\\n",
       "0                   0                0            0               0   \n",
       "1                   0                0            0               0   \n",
       "2                   1                0            0               0   \n",
       "3                   3                0            0               1   \n",
       "4                   1                0            1               1   \n",
       "\n",
       "   WEST GARFIELD PARK  WEST LAWN  WEST PULLMAN  WEST RIDGE  WEST TOWN  \\\n",
       "0                   0          0             0           0          0   \n",
       "1                   0          0             0           1          0   \n",
       "2                   0          0             2           1          2   \n",
       "3                   0          0             0           0          1   \n",
       "4                   0          0             1           0          1   \n",
       "\n",
       "   WOODLAWN  \n",
       "0         0  \n",
       "1         0  \n",
       "2         2  \n",
       "3         1  \n",
       "4         1  \n",
       "\n",
       "[5 rows x 78 columns]"
      ]
     },
     "execution_count": 2,
     "metadata": {},
     "output_type": "execute_result"
    }
   ],
   "source": [
    "flood_comm_df = pd.read_csv('311_data/flood_calls_311_comm.csv')\n",
    "flood_comm_df.head()"
   ]
  },
  {
   "cell_type": "code",
   "execution_count": 3,
   "metadata": {
    "collapsed": false
   },
   "outputs": [
    {
     "data": {
      "text/html": [
       "<div>\n",
       "<table border=\"1\" class=\"dataframe\">\n",
       "  <thead>\n",
       "    <tr style=\"text-align: right;\">\n",
       "      <th></th>\n",
       "      <th>ALBANY PARK</th>\n",
       "      <th>ARCHER HEIGHTS</th>\n",
       "      <th>ARMOUR SQUARE</th>\n",
       "      <th>ASHBURN</th>\n",
       "      <th>AUBURN GRESHAM</th>\n",
       "      <th>AUSTIN</th>\n",
       "      <th>AVALON PARK</th>\n",
       "      <th>AVONDALE</th>\n",
       "      <th>BELMONT CRAGIN</th>\n",
       "      <th>BEVERLY</th>\n",
       "      <th>...</th>\n",
       "      <th>WASHINGTON HEIGHTS</th>\n",
       "      <th>WASHINGTON PARK</th>\n",
       "      <th>WEST ELSDON</th>\n",
       "      <th>WEST ENGLEWOOD</th>\n",
       "      <th>WEST GARFIELD PARK</th>\n",
       "      <th>WEST LAWN</th>\n",
       "      <th>WEST PULLMAN</th>\n",
       "      <th>WEST RIDGE</th>\n",
       "      <th>WEST TOWN</th>\n",
       "      <th>WOODLAWN</th>\n",
       "    </tr>\n",
       "  </thead>\n",
       "  <tbody>\n",
       "    <tr>\n",
       "      <th>2000-01-01</th>\n",
       "      <td>0</td>\n",
       "      <td>0</td>\n",
       "      <td>0</td>\n",
       "      <td>0</td>\n",
       "      <td>0</td>\n",
       "      <td>1</td>\n",
       "      <td>0</td>\n",
       "      <td>0</td>\n",
       "      <td>0</td>\n",
       "      <td>0</td>\n",
       "      <td>...</td>\n",
       "      <td>0</td>\n",
       "      <td>0</td>\n",
       "      <td>0</td>\n",
       "      <td>0</td>\n",
       "      <td>0</td>\n",
       "      <td>0</td>\n",
       "      <td>0</td>\n",
       "      <td>0</td>\n",
       "      <td>0</td>\n",
       "      <td>0</td>\n",
       "    </tr>\n",
       "    <tr>\n",
       "      <th>2000-01-02</th>\n",
       "      <td>0</td>\n",
       "      <td>0</td>\n",
       "      <td>0</td>\n",
       "      <td>0</td>\n",
       "      <td>0</td>\n",
       "      <td>0</td>\n",
       "      <td>0</td>\n",
       "      <td>0</td>\n",
       "      <td>0</td>\n",
       "      <td>2</td>\n",
       "      <td>...</td>\n",
       "      <td>0</td>\n",
       "      <td>0</td>\n",
       "      <td>0</td>\n",
       "      <td>0</td>\n",
       "      <td>0</td>\n",
       "      <td>0</td>\n",
       "      <td>0</td>\n",
       "      <td>1</td>\n",
       "      <td>0</td>\n",
       "      <td>0</td>\n",
       "    </tr>\n",
       "    <tr>\n",
       "      <th>2000-01-03</th>\n",
       "      <td>0</td>\n",
       "      <td>0</td>\n",
       "      <td>0</td>\n",
       "      <td>4</td>\n",
       "      <td>1</td>\n",
       "      <td>4</td>\n",
       "      <td>1</td>\n",
       "      <td>1</td>\n",
       "      <td>1</td>\n",
       "      <td>0</td>\n",
       "      <td>...</td>\n",
       "      <td>1</td>\n",
       "      <td>0</td>\n",
       "      <td>0</td>\n",
       "      <td>0</td>\n",
       "      <td>0</td>\n",
       "      <td>0</td>\n",
       "      <td>2</td>\n",
       "      <td>1</td>\n",
       "      <td>2</td>\n",
       "      <td>2</td>\n",
       "    </tr>\n",
       "    <tr>\n",
       "      <th>2000-01-04</th>\n",
       "      <td>0</td>\n",
       "      <td>0</td>\n",
       "      <td>0</td>\n",
       "      <td>0</td>\n",
       "      <td>1</td>\n",
       "      <td>4</td>\n",
       "      <td>1</td>\n",
       "      <td>0</td>\n",
       "      <td>0</td>\n",
       "      <td>0</td>\n",
       "      <td>...</td>\n",
       "      <td>3</td>\n",
       "      <td>0</td>\n",
       "      <td>0</td>\n",
       "      <td>1</td>\n",
       "      <td>0</td>\n",
       "      <td>0</td>\n",
       "      <td>0</td>\n",
       "      <td>0</td>\n",
       "      <td>1</td>\n",
       "      <td>1</td>\n",
       "    </tr>\n",
       "    <tr>\n",
       "      <th>2000-01-05</th>\n",
       "      <td>0</td>\n",
       "      <td>0</td>\n",
       "      <td>0</td>\n",
       "      <td>1</td>\n",
       "      <td>1</td>\n",
       "      <td>3</td>\n",
       "      <td>0</td>\n",
       "      <td>0</td>\n",
       "      <td>0</td>\n",
       "      <td>1</td>\n",
       "      <td>...</td>\n",
       "      <td>1</td>\n",
       "      <td>0</td>\n",
       "      <td>1</td>\n",
       "      <td>1</td>\n",
       "      <td>0</td>\n",
       "      <td>0</td>\n",
       "      <td>1</td>\n",
       "      <td>0</td>\n",
       "      <td>1</td>\n",
       "      <td>1</td>\n",
       "    </tr>\n",
       "  </tbody>\n",
       "</table>\n",
       "<p>5 rows × 77 columns</p>\n",
       "</div>"
      ],
      "text/plain": [
       "            ALBANY PARK  ARCHER HEIGHTS  ARMOUR SQUARE  ASHBURN  \\\n",
       "2000-01-01            0               0              0        0   \n",
       "2000-01-02            0               0              0        0   \n",
       "2000-01-03            0               0              0        4   \n",
       "2000-01-04            0               0              0        0   \n",
       "2000-01-05            0               0              0        1   \n",
       "\n",
       "            AUBURN GRESHAM  AUSTIN  AVALON PARK  AVONDALE  BELMONT CRAGIN  \\\n",
       "2000-01-01               0       1            0         0               0   \n",
       "2000-01-02               0       0            0         0               0   \n",
       "2000-01-03               1       4            1         1               1   \n",
       "2000-01-04               1       4            1         0               0   \n",
       "2000-01-05               1       3            0         0               0   \n",
       "\n",
       "            BEVERLY    ...     WASHINGTON HEIGHTS  WASHINGTON PARK  \\\n",
       "2000-01-01        0    ...                      0                0   \n",
       "2000-01-02        2    ...                      0                0   \n",
       "2000-01-03        0    ...                      1                0   \n",
       "2000-01-04        0    ...                      3                0   \n",
       "2000-01-05        1    ...                      1                0   \n",
       "\n",
       "            WEST ELSDON  WEST ENGLEWOOD  WEST GARFIELD PARK  WEST LAWN  \\\n",
       "2000-01-01            0               0                   0          0   \n",
       "2000-01-02            0               0                   0          0   \n",
       "2000-01-03            0               0                   0          0   \n",
       "2000-01-04            0               1                   0          0   \n",
       "2000-01-05            1               1                   0          0   \n",
       "\n",
       "            WEST PULLMAN  WEST RIDGE  WEST TOWN  WOODLAWN  \n",
       "2000-01-01             0           0          0         0  \n",
       "2000-01-02             0           1          0         0  \n",
       "2000-01-03             2           1          2         2  \n",
       "2000-01-04             0           0          1         1  \n",
       "2000-01-05             1           0          1         1  \n",
       "\n",
       "[5 rows x 77 columns]"
      ]
     },
     "execution_count": 3,
     "metadata": {},
     "output_type": "execute_result"
    }
   ],
   "source": [
    "flood_comm_df['Created Date'] = pd.to_datetime(flood_comm_df['Created Date'])\n",
    "flood_comm_df = flood_comm_df.set_index(pd.DatetimeIndex(flood_comm_df['Created Date']))\n",
    "flood_comm_df = flood_comm_df[flood_comm_df.columns.values[1:]]\n",
    "flood_comm_df.head()"
   ]
  },
  {
   "cell_type": "code",
   "execution_count": 4,
   "metadata": {
    "collapsed": false
   },
   "outputs": [
    {
     "data": {
      "text/plain": [
       "2000-01-01  ALBANY PARK       0\n",
       "            ARCHER HEIGHTS    0\n",
       "            ARMOUR SQUARE     0\n",
       "            ASHBURN           0\n",
       "            AUBURN GRESHAM    0\n",
       "dtype: int64"
      ]
     },
     "execution_count": 4,
     "metadata": {},
     "output_type": "execute_result"
    }
   ],
   "source": [
    "flood_comm_stack = flood_comm_df.stack()\n",
    "flood_comm_stack.head()"
   ]
  },
  {
   "cell_type": "code",
   "execution_count": 5,
   "metadata": {
    "collapsed": false
   },
   "outputs": [
    {
     "data": {
      "text/html": [
       "<div>\n",
       "<table border=\"1\" class=\"dataframe\">\n",
       "  <thead>\n",
       "    <tr style=\"text-align: right;\">\n",
       "      <th></th>\n",
       "      <th>level_0</th>\n",
       "      <th>level_1</th>\n",
       "      <th>0</th>\n",
       "    </tr>\n",
       "  </thead>\n",
       "  <tbody>\n",
       "    <tr>\n",
       "      <th>0</th>\n",
       "      <td>2000-01-01</td>\n",
       "      <td>ALBANY PARK</td>\n",
       "      <td>0</td>\n",
       "    </tr>\n",
       "    <tr>\n",
       "      <th>1</th>\n",
       "      <td>2000-01-01</td>\n",
       "      <td>ARCHER HEIGHTS</td>\n",
       "      <td>0</td>\n",
       "    </tr>\n",
       "    <tr>\n",
       "      <th>2</th>\n",
       "      <td>2000-01-01</td>\n",
       "      <td>ARMOUR SQUARE</td>\n",
       "      <td>0</td>\n",
       "    </tr>\n",
       "    <tr>\n",
       "      <th>3</th>\n",
       "      <td>2000-01-01</td>\n",
       "      <td>ASHBURN</td>\n",
       "      <td>0</td>\n",
       "    </tr>\n",
       "    <tr>\n",
       "      <th>4</th>\n",
       "      <td>2000-01-01</td>\n",
       "      <td>AUBURN GRESHAM</td>\n",
       "      <td>0</td>\n",
       "    </tr>\n",
       "  </tbody>\n",
       "</table>\n",
       "</div>"
      ],
      "text/plain": [
       "     level_0         level_1  0\n",
       "0 2000-01-01     ALBANY PARK  0\n",
       "1 2000-01-01  ARCHER HEIGHTS  0\n",
       "2 2000-01-01   ARMOUR SQUARE  0\n",
       "3 2000-01-01         ASHBURN  0\n",
       "4 2000-01-01  AUBURN GRESHAM  0"
      ]
     },
     "execution_count": 5,
     "metadata": {},
     "output_type": "execute_result"
    }
   ],
   "source": [
    "flood_comm_stack_df = pd.DataFrame(flood_comm_stack).reset_index()\n",
    "flood_comm_stack_df.head()"
   ]
  },
  {
   "cell_type": "code",
   "execution_count": 6,
   "metadata": {
    "collapsed": false
   },
   "outputs": [
    {
     "data": {
      "text/plain": [
       "Community Area\n",
       "ALBANY PARK       4632\n",
       "ARCHER HEIGHTS    1288\n",
       "ARMOUR SQUARE      488\n",
       "ASHBURN           6955\n",
       "AUBURN GRESHAM    9186\n",
       "Name: Count Calls, dtype: int64"
      ]
     },
     "execution_count": 6,
     "metadata": {},
     "output_type": "execute_result"
    }
   ],
   "source": [
    "flood_comm_stack_df = flood_comm_stack_df.rename(columns={'level_0':'Date','level_1':'Community Area',0:'Count Calls'})\n",
    "flood_comm_totals = flood_comm_stack_df.groupby(['Community Area'])['Count Calls'].sum()\n",
    "flood_comm_totals.head()"
   ]
  },
  {
   "cell_type": "code",
   "execution_count": 7,
   "metadata": {
    "collapsed": false
   },
   "outputs": [
    {
     "data": {
      "text/html": [
       "<div>\n",
       "<table border=\"1\" class=\"dataframe\">\n",
       "  <thead>\n",
       "    <tr style=\"text-align: right;\">\n",
       "      <th></th>\n",
       "      <th>Community Area</th>\n",
       "      <th>Count Calls</th>\n",
       "    </tr>\n",
       "  </thead>\n",
       "  <tbody>\n",
       "    <tr>\n",
       "      <th>0</th>\n",
       "      <td>ALBANY PARK</td>\n",
       "      <td>4632</td>\n",
       "    </tr>\n",
       "    <tr>\n",
       "      <th>1</th>\n",
       "      <td>ARCHER HEIGHTS</td>\n",
       "      <td>1288</td>\n",
       "    </tr>\n",
       "    <tr>\n",
       "      <th>2</th>\n",
       "      <td>ARMOUR SQUARE</td>\n",
       "      <td>488</td>\n",
       "    </tr>\n",
       "    <tr>\n",
       "      <th>3</th>\n",
       "      <td>ASHBURN</td>\n",
       "      <td>6955</td>\n",
       "    </tr>\n",
       "    <tr>\n",
       "      <th>4</th>\n",
       "      <td>AUBURN GRESHAM</td>\n",
       "      <td>9186</td>\n",
       "    </tr>\n",
       "  </tbody>\n",
       "</table>\n",
       "</div>"
      ],
      "text/plain": [
       "   Community Area  Count Calls\n",
       "0     ALBANY PARK         4632\n",
       "1  ARCHER HEIGHTS         1288\n",
       "2   ARMOUR SQUARE          488\n",
       "3         ASHBURN         6955\n",
       "4  AUBURN GRESHAM         9186"
      ]
     },
     "execution_count": 7,
     "metadata": {},
     "output_type": "execute_result"
    }
   ],
   "source": [
    "flood_comm_sum = flood_comm_totals.reset_index()\n",
    "flood_comm_sum.head()"
   ]
  },
  {
   "cell_type": "markdown",
   "metadata": {},
   "source": [
    "## Total Calls by Community Area\n",
    "\n",
    "In the [WBEZ article and CNT analysis](http://www.heatofthemoment.org/features/flood/) of neighborhood flooding, they used zip code as the primary identifier of geography. While the relied on additional data sources, 311 calls seemed to factor into their analysis. Totaling all of the water in street and basement 311 calls by community area gives Austin as the top area by a significant margin, and it's worth noting that Austin is essentially split into three zip codes, which may have resulted in it not seeming to have as much flooding activity as it does in reality.\n",
    "\n",
    "Will look at zip code to see if the numbers are similar to WBEZ's for 2009-2015 by zip code"
   ]
  },
  {
   "cell_type": "code",
   "execution_count": 8,
   "metadata": {
    "collapsed": false
   },
   "outputs": [
    {
     "data": {
      "text/plain": [
       "<matplotlib.axes._subplots.AxesSubplot at 0x9e5ce80>"
      ]
     },
     "execution_count": 8,
     "metadata": {},
     "output_type": "execute_result"
    },
    {
     "data": {
      "image/png": "[encoded data removed]",
      "text/plain": [
       "<matplotlib.figure.Figure at 0x9e44978>"
      ]
     },
     "metadata": {},
     "output_type": "display_data"
    }
   ],
   "source": [
    "flood_comm_top = flood_comm_sum.sort_values(by='Count Calls', ascending=False)[:20]\n",
    "flood_comm_top.plot(kind='bar',x='Community Area',y='Count Calls')"
   ]
  },
  {
   "cell_type": "code",
   "execution_count": 9,
   "metadata": {
    "collapsed": false
   },
   "outputs": [
    {
     "data": {
      "text/plain": [
       "<matplotlib.axes._subplots.AxesSubplot at 0xb67c470>"
      ]
     },
     "execution_count": 9,
     "metadata": {},
     "output_type": "execute_result"
    },
    {
     "data": {
      "image/png": "[encoded data removed]",
      "text/plain": [
       "<matplotlib.figure.Figure at 0xb60c4e0>"
      ]
     },
     "metadata": {},
     "output_type": "display_data"
    }
   ],
   "source": [
    "# WBEZ zip data\n",
    "wbez_zip = pd.read_csv('wbez_flood_311_zip.csv')\n",
    "wbez_zip_top = wbez_zip.sort_values(by='number_of_311_calls',ascending=False)[:20]\n",
    "wbez_zip_top.plot(kind='bar',x='zip_code',y='number_of_311_calls')"
   ]
  },
  {
   "cell_type": "code",
   "execution_count": 12,
   "metadata": {
    "collapsed": false
   },
   "outputs": [
    {
     "data": {
      "text/html": [
       "<div>\n",
       "<table border=\"1\" class=\"dataframe\">\n",
       "  <thead>\n",
       "    <tr style=\"text-align: right;\">\n",
       "      <th></th>\n",
       "      <th>Zip Code</th>\n",
       "      <th>Count Calls</th>\n",
       "    </tr>\n",
       "  </thead>\n",
       "  <tbody>\n",
       "    <tr>\n",
       "      <th>0</th>\n",
       "      <td>60601</td>\n",
       "      <td>68</td>\n",
       "    </tr>\n",
       "    <tr>\n",
       "      <th>1</th>\n",
       "      <td>60602</td>\n",
       "      <td>42</td>\n",
       "    </tr>\n",
       "    <tr>\n",
       "      <th>2</th>\n",
       "      <td>60603</td>\n",
       "      <td>54</td>\n",
       "    </tr>\n",
       "    <tr>\n",
       "      <th>3</th>\n",
       "      <td>60604</td>\n",
       "      <td>89</td>\n",
       "    </tr>\n",
       "    <tr>\n",
       "      <th>4</th>\n",
       "      <td>60605</td>\n",
       "      <td>158</td>\n",
       "    </tr>\n",
       "  </tbody>\n",
       "</table>\n",
       "</div>"
      ],
      "text/plain": [
       "  Zip Code  Count Calls\n",
       "0    60601           68\n",
       "1    60602           42\n",
       "2    60603           54\n",
       "3    60604           89\n",
       "4    60605          158"
      ]
     },
     "execution_count": 12,
     "metadata": {},
     "output_type": "execute_result"
    }
   ],
   "source": [
    "flood_zip_df = pd.read_csv('311_data/flood_calls_311_zip.csv')\n",
    "flood_zip_df['Created Date'] = pd.to_datetime(flood_zip_df['Created Date'])\n",
    "flood_zip_df = flood_zip_df.set_index(pd.DatetimeIndex(flood_zip_df['Created Date']))\n",
    "# Setting to same time frame as WBEZ\n",
    "flood_zip_df = flood_zip_df['2009-01-01':'2015-12-30']\n",
    "flood_zip_df = flood_zip_df[flood_zip_df.columns.values[1:]]\n",
    "flood_zip_stack = pd.DataFrame(flood_zip_df.stack()).reset_index()\n",
    "flood_zip_stack = flood_zip_stack.rename(columns={'level_0':'Created Date','level_1':'Zip Code',0:'Count Calls'})\n",
    "flood_zip_sum = flood_zip_stack.groupby(['Zip Code'])['Count Calls'].sum()\n",
    "flood_zip_sum = flood_zip_sum.reset_index()\n",
    "flood_zip_sum.head()"
   ]
  },
  {
   "cell_type": "code",
   "execution_count": 13,
   "metadata": {
    "collapsed": false
   },
   "outputs": [
    {
     "data": {
      "text/plain": [
       "<matplotlib.axes._subplots.AxesSubplot at 0xcecd470>"
      ]
     },
     "execution_count": 13,
     "metadata": {},
     "output_type": "execute_result"
    },
    {
     "data": {
      "image/png": "[encoded data removed]",
      "text/plain": [
       "<matplotlib.figure.Figure at 0xcea0908>"
      ]
     },
     "metadata": {},
     "output_type": "display_data"
    }
   ],
   "source": [
    "flood_zip_top = flood_zip_sum.sort_values(by='Count Calls', ascending=False)[:20]\n",
    "flood_zip_top.plot(kind='bar',x='Zip Code',y='Count Calls')"
   ]
  },
  {
   "cell_type": "markdown",
   "metadata": {},
   "source": [
    "## Zip Code Data Comparison - WBEZ, Current Data\n",
    "\n",
    "To make sure that the data is at least similar, plotting out both next to each other, and they seem to match up overall with some slight differences. Given that it relatively ensures we're working with the same data, we can plot out the same patterns by neighborhood and see if Austin is still overlooked (given that it is in the zip code breakdown)\n",
    "\n",
    "Data mostly matches up, can see it on map on [Gross Gatherings article](http://www.heatofthemoment.org/features/flood/)"
   ]
  },
  {
   "cell_type": "code",
   "execution_count": 16,
   "metadata": {
    "collapsed": false
   },
   "outputs": [
    {
     "data": {
      "text/plain": [
       "<matplotlib.axes._subplots.AxesSubplot at 0xbda90b8>"
      ]
     },
     "execution_count": 16,
     "metadata": {},
     "output_type": "execute_result"
    },
    {
     "data": {
      "image/png": "[encoded data removed]",
      "text/plain": [
       "<matplotlib.figure.Figure at 0xd595a90>"
      ]
     },
     "metadata": {},
     "output_type": "display_data"
    }
   ],
   "source": [
    "fig, axs = plt.subplots(1,2)\n",
    "plt.rcParams[\"figure.figsize\"] = [15, 5]\n",
    "wbez_zip_top.plot(title='WBEZ Data', ax=axs[0], kind='bar',x='zip_code',y='number_of_311_calls')\n",
    "flood_zip_top.plot(title='FOIA Data', ax=axs[1], kind='bar',x='Zip Code',y='Count Calls')"
   ]
  },
  {
   "cell_type": "code",
   "execution_count": 17,
   "metadata": {
    "collapsed": false
   },
   "outputs": [
    {
     "data": {
      "text/html": [
       "<div>\n",
       "<table border=\"1\" class=\"dataframe\">\n",
       "  <thead>\n",
       "    <tr style=\"text-align: right;\">\n",
       "      <th></th>\n",
       "      <th>Community Area</th>\n",
       "      <th>Count Calls</th>\n",
       "    </tr>\n",
       "  </thead>\n",
       "  <tbody>\n",
       "    <tr>\n",
       "      <th>0</th>\n",
       "      <td>ALBANY PARK</td>\n",
       "      <td>1561</td>\n",
       "    </tr>\n",
       "    <tr>\n",
       "      <th>1</th>\n",
       "      <td>ARCHER HEIGHTS</td>\n",
       "      <td>556</td>\n",
       "    </tr>\n",
       "    <tr>\n",
       "      <th>2</th>\n",
       "      <td>ARMOUR SQUARE</td>\n",
       "      <td>191</td>\n",
       "    </tr>\n",
       "    <tr>\n",
       "      <th>3</th>\n",
       "      <td>ASHBURN</td>\n",
       "      <td>3139</td>\n",
       "    </tr>\n",
       "    <tr>\n",
       "      <th>4</th>\n",
       "      <td>AUBURN GRESHAM</td>\n",
       "      <td>3688</td>\n",
       "    </tr>\n",
       "  </tbody>\n",
       "</table>\n",
       "</div>"
      ],
      "text/plain": [
       "   Community Area  Count Calls\n",
       "0     ALBANY PARK         1561\n",
       "1  ARCHER HEIGHTS          556\n",
       "2   ARMOUR SQUARE          191\n",
       "3         ASHBURN         3139\n",
       "4  AUBURN GRESHAM         3688"
      ]
     },
     "execution_count": 17,
     "metadata": {},
     "output_type": "execute_result"
    }
   ],
   "source": [
    "flood_comm_time = flood_comm_stack_df.copy()\n",
    "flood_comm_time['Date'] = pd.to_datetime(flood_comm_time['Date'])\n",
    "flood_comm_time = flood_comm_time.set_index(pd.DatetimeIndex(flood_comm_time['Date']))\n",
    "flood_comm_time = flood_comm_time['2009-01-01':'2015-12-30']\n",
    "flood_comm_time_sum = flood_comm_time.groupby(['Community Area'])['Count Calls'].sum()\n",
    "flood_comm_time_sum = flood_comm_time_sum.reset_index()\n",
    "flood_comm_time_sum.head()"
   ]
  },
  {
   "cell_type": "markdown",
   "metadata": {},
   "source": [
    "## Community Area Breakdown for 2009-2015\n",
    "\n",
    "Looking at the period WBEZ reviewed calls for, it's clear that zip codes are missing a large part of the picture. In reality, Austin is far and away the community area with the most floods, not necessarily Chatham. While many areas seem to have significant problems with flooding, using zip codes as a proxy for neighborhoods in this case loses some of the concentration."
   ]
  },
  {
   "cell_type": "code",
   "execution_count": 18,
   "metadata": {
    "collapsed": false
   },
   "outputs": [
    {
     "data": {
      "text/plain": [
       "<matplotlib.axes._subplots.AxesSubplot at 0xbe9be10>"
      ]
     },
     "execution_count": 18,
     "metadata": {},
     "output_type": "execute_result"
    },
    {
     "data": {
      "image/png": "[encoded data removed]",
      "text/plain": [
       "<matplotlib.figure.Figure at 0xbde82b0>"
      ]
     },
     "metadata": {},
     "output_type": "display_data"
    }
   ],
   "source": [
    "flood_comm_time_top = flood_comm_time_sum.sort_values(by='Count Calls', ascending=False)[:20]\n",
    "flood_comm_time_top.plot(kind='bar',x='Community Area',y='Count Calls')"
   ]
  },
  {
   "cell_type": "code",
   "execution_count": null,
   "metadata": {
    "collapsed": true
   },
   "outputs": [],
   "source": []
  }
 ],
 "metadata": {
  "kernelspec": {
   "display_name": "Python 3",
   "language": "python",
   "name": "python3"
  },
  "language_info": {
   "codemirror_mode": {
    "name": "ipython",
    "version": 3
   },
   "file_extension": ".py",
   "mimetype": "text/x-python",
   "name": "python",
   "nbconvert_exporter": "python",
   "pygments_lexer": "ipython3",
   "version": "3.5.1"
  }
 },
 "nbformat": 4,
 "nbformat_minor": 0
}
