{
 "cells": [
  {
   "cell_type": "code",
   "execution_count": 72,
   "metadata": {
    "collapsed": true
   },
   "outputs": [],
   "source": [
    "from __future__ import division, print_function, unicode_literals\n",
    "\n",
    "import numpy as np\n",
    "import pandas as pd\n",
    "import matplotlib.pyplot as plt\n",
    "import matplotlib.patches as mpatches\n",
    "import seaborn as sns\n",
    "from datetime import datetime\n",
    "%matplotlib inline"
   ]
  },
  {
   "cell_type": "code",
   "execution_count": 8,
   "metadata": {
    "collapsed": false
   },
   "outputs": [
    {
     "data": {
      "text/html": [
       "<div>\n",
       "<table border=\"1\" class=\"dataframe\">\n",
       "  <thead>\n",
       "    <tr style=\"text-align: right;\">\n",
       "      <th></th>\n",
       "      <th>HOURLYPrecip</th>\n",
       "      <th>datetime</th>\n",
       "    </tr>\n",
       "  </thead>\n",
       "  <tbody>\n",
       "    <tr>\n",
       "      <th>2000-01-01 00:00:00</th>\n",
       "      <td>0.0</td>\n",
       "      <td>2000-01-01 00:00:00</td>\n",
       "    </tr>\n",
       "    <tr>\n",
       "      <th>2000-01-01 01:00:00</th>\n",
       "      <td>0.0</td>\n",
       "      <td>2000-01-01 01:00:00</td>\n",
       "    </tr>\n",
       "    <tr>\n",
       "      <th>2000-01-01 02:00:00</th>\n",
       "      <td>0.0</td>\n",
       "      <td>2000-01-01 02:00:00</td>\n",
       "    </tr>\n",
       "    <tr>\n",
       "      <th>2000-01-01 03:00:00</th>\n",
       "      <td>0.0</td>\n",
       "      <td>2000-01-01 03:00:00</td>\n",
       "    </tr>\n",
       "    <tr>\n",
       "      <th>2000-01-01 04:00:00</th>\n",
       "      <td>0.0</td>\n",
       "      <td>2000-01-01 04:00:00</td>\n",
       "    </tr>\n",
       "  </tbody>\n",
       "</table>\n",
       "</div>"
      ],
      "text/plain": [
       "                     HOURLYPrecip            datetime\n",
       "2000-01-01 00:00:00           0.0 2000-01-01 00:00:00\n",
       "2000-01-01 01:00:00           0.0 2000-01-01 01:00:00\n",
       "2000-01-01 02:00:00           0.0 2000-01-01 02:00:00\n",
       "2000-01-01 03:00:00           0.0 2000-01-01 03:00:00\n",
       "2000-01-01 04:00:00           0.0 2000-01-01 04:00:00"
      ]
     },
     "execution_count": 8,
     "metadata": {},
     "output_type": "execute_result"
    }
   ],
   "source": [
    "# Get precipitation since 2000\n",
    "rain_df = pd.read_csv('../n-year/notebooks/data/ohare_full_precip_hourly.csv')\n",
    "rain_df['datetime'] = rain_df['datetime'].apply(lambda x: datetime.strptime(x, '%Y-%m-%d %H:%M:%S'))\n",
    "rain_df = rain_df.set_index(pd.DatetimeIndex(rain_df['datetime']))\n",
    "rain_df = rain_df['2000-01-01':][['HOURLYPrecip', 'datetime']].copy()\n",
    "rain_df.head()"
   ]
  },
  {
   "cell_type": "code",
   "execution_count": 16,
   "metadata": {
    "collapsed": false
   },
   "outputs": [
    {
     "data": {
      "text/html": [
       "<div>\n",
       "<table border=\"1\" class=\"dataframe\">\n",
       "  <thead>\n",
       "    <tr style=\"text-align: right;\">\n",
       "      <th></th>\n",
       "      <th>HOURLYPrecip</th>\n",
       "    </tr>\n",
       "  </thead>\n",
       "  <tbody>\n",
       "    <tr>\n",
       "      <th>2000-01-01</th>\n",
       "      <td>0.00</td>\n",
       "    </tr>\n",
       "    <tr>\n",
       "      <th>2000-01-02</th>\n",
       "      <td>0.01</td>\n",
       "    </tr>\n",
       "    <tr>\n",
       "      <th>2000-01-03</th>\n",
       "      <td>0.24</td>\n",
       "    </tr>\n",
       "    <tr>\n",
       "      <th>2000-01-04</th>\n",
       "      <td>0.02</td>\n",
       "    </tr>\n",
       "    <tr>\n",
       "      <th>2000-01-05</th>\n",
       "      <td>0.00</td>\n",
       "    </tr>\n",
       "  </tbody>\n",
       "</table>\n",
       "</div>"
      ],
      "text/plain": [
       "            HOURLYPrecip\n",
       "2000-01-01          0.00\n",
       "2000-01-02          0.01\n",
       "2000-01-03          0.24\n",
       "2000-01-04          0.02\n",
       "2000-01-05          0.00"
      ]
     },
     "execution_count": 16,
     "metadata": {},
     "output_type": "execute_result"
    }
   ],
   "source": [
    "daily_rain = rain_df['HOURLYPrecip'].resample('1D').sum()\n",
    "daily_rain = pd.DataFrame(daily_rain)\n",
    "daily_rain.head()"
   ]
  },
  {
   "cell_type": "code",
   "execution_count": 17,
   "metadata": {
    "collapsed": false
   },
   "outputs": [
    {
     "data": {
      "text/html": [
       "<div>\n",
       "<table border=\"1\" class=\"dataframe\">\n",
       "  <thead>\n",
       "    <tr style=\"text-align: right;\">\n",
       "      <th></th>\n",
       "      <th>Created Date</th>\n",
       "      <th>ALBANY PARK</th>\n",
       "      <th>ARCHER HEIGHTS</th>\n",
       "      <th>ARMOUR SQUARE</th>\n",
       "      <th>ASHBURN</th>\n",
       "      <th>AUBURN GRESHAM</th>\n",
       "      <th>AUSTIN</th>\n",
       "      <th>AVALON PARK</th>\n",
       "      <th>AVONDALE</th>\n",
       "      <th>BELMONT CRAGIN</th>\n",
       "      <th>...</th>\n",
       "      <th>WASHINGTON HEIGHTS</th>\n",
       "      <th>WASHINGTON PARK</th>\n",
       "      <th>WEST ELSDON</th>\n",
       "      <th>WEST ENGLEWOOD</th>\n",
       "      <th>WEST GARFIELD PARK</th>\n",
       "      <th>WEST LAWN</th>\n",
       "      <th>WEST PULLMAN</th>\n",
       "      <th>WEST RIDGE</th>\n",
       "      <th>WEST TOWN</th>\n",
       "      <th>WOODLAWN</th>\n",
       "    </tr>\n",
       "  </thead>\n",
       "  <tbody>\n",
       "    <tr>\n",
       "      <th>0</th>\n",
       "      <td>2000-01-01</td>\n",
       "      <td>0</td>\n",
       "      <td>0</td>\n",
       "      <td>0</td>\n",
       "      <td>0</td>\n",
       "      <td>0</td>\n",
       "      <td>1</td>\n",
       "      <td>0</td>\n",
       "      <td>0</td>\n",
       "      <td>0</td>\n",
       "      <td>...</td>\n",
       "      <td>0</td>\n",
       "      <td>0</td>\n",
       "      <td>0</td>\n",
       "      <td>0</td>\n",
       "      <td>0</td>\n",
       "      <td>0</td>\n",
       "      <td>0</td>\n",
       "      <td>0</td>\n",
       "      <td>0</td>\n",
       "      <td>0</td>\n",
       "    </tr>\n",
       "    <tr>\n",
       "      <th>1</th>\n",
       "      <td>2000-01-02</td>\n",
       "      <td>0</td>\n",
       "      <td>0</td>\n",
       "      <td>0</td>\n",
       "      <td>0</td>\n",
       "      <td>0</td>\n",
       "      <td>0</td>\n",
       "      <td>0</td>\n",
       "      <td>0</td>\n",
       "      <td>0</td>\n",
       "      <td>...</td>\n",
       "      <td>0</td>\n",
       "      <td>0</td>\n",
       "      <td>0</td>\n",
       "      <td>0</td>\n",
       "      <td>0</td>\n",
       "      <td>0</td>\n",
       "      <td>0</td>\n",
       "      <td>1</td>\n",
       "      <td>0</td>\n",
       "      <td>0</td>\n",
       "    </tr>\n",
       "    <tr>\n",
       "      <th>2</th>\n",
       "      <td>2000-01-03</td>\n",
       "      <td>0</td>\n",
       "      <td>0</td>\n",
       "      <td>0</td>\n",
       "      <td>4</td>\n",
       "      <td>1</td>\n",
       "      <td>3</td>\n",
       "      <td>1</td>\n",
       "      <td>1</td>\n",
       "      <td>0</td>\n",
       "      <td>...</td>\n",
       "      <td>1</td>\n",
       "      <td>0</td>\n",
       "      <td>0</td>\n",
       "      <td>0</td>\n",
       "      <td>0</td>\n",
       "      <td>0</td>\n",
       "      <td>2</td>\n",
       "      <td>1</td>\n",
       "      <td>2</td>\n",
       "      <td>2</td>\n",
       "    </tr>\n",
       "    <tr>\n",
       "      <th>3</th>\n",
       "      <td>2000-01-04</td>\n",
       "      <td>0</td>\n",
       "      <td>0</td>\n",
       "      <td>0</td>\n",
       "      <td>0</td>\n",
       "      <td>1</td>\n",
       "      <td>4</td>\n",
       "      <td>1</td>\n",
       "      <td>0</td>\n",
       "      <td>0</td>\n",
       "      <td>...</td>\n",
       "      <td>3</td>\n",
       "      <td>0</td>\n",
       "      <td>0</td>\n",
       "      <td>1</td>\n",
       "      <td>0</td>\n",
       "      <td>0</td>\n",
       "      <td>0</td>\n",
       "      <td>0</td>\n",
       "      <td>1</td>\n",
       "      <td>0</td>\n",
       "    </tr>\n",
       "    <tr>\n",
       "      <th>4</th>\n",
       "      <td>2000-01-05</td>\n",
       "      <td>0</td>\n",
       "      <td>0</td>\n",
       "      <td>0</td>\n",
       "      <td>1</td>\n",
       "      <td>1</td>\n",
       "      <td>3</td>\n",
       "      <td>0</td>\n",
       "      <td>0</td>\n",
       "      <td>0</td>\n",
       "      <td>...</td>\n",
       "      <td>1</td>\n",
       "      <td>0</td>\n",
       "      <td>0</td>\n",
       "      <td>0</td>\n",
       "      <td>0</td>\n",
       "      <td>0</td>\n",
       "      <td>1</td>\n",
       "      <td>0</td>\n",
       "      <td>1</td>\n",
       "      <td>1</td>\n",
       "    </tr>\n",
       "  </tbody>\n",
       "</table>\n",
       "<p>5 rows × 78 columns</p>\n",
       "</div>"
      ],
      "text/plain": [
       "  Created Date  ALBANY PARK  ARCHER HEIGHTS  ARMOUR SQUARE  ASHBURN  \\\n",
       "0   2000-01-01            0               0              0        0   \n",
       "1   2000-01-02            0               0              0        0   \n",
       "2   2000-01-03            0               0              0        4   \n",
       "3   2000-01-04            0               0              0        0   \n",
       "4   2000-01-05            0               0              0        1   \n",
       "\n",
       "   AUBURN GRESHAM  AUSTIN  AVALON PARK  AVONDALE  BELMONT CRAGIN    ...     \\\n",
       "0               0       1            0         0               0    ...      \n",
       "1               0       0            0         0               0    ...      \n",
       "2               1       3            1         1               0    ...      \n",
       "3               1       4            1         0               0    ...      \n",
       "4               1       3            0         0               0    ...      \n",
       "\n",
       "   WASHINGTON HEIGHTS  WASHINGTON PARK  WEST ELSDON  WEST ENGLEWOOD  \\\n",
       "0                   0                0            0               0   \n",
       "1                   0                0            0               0   \n",
       "2                   1                0            0               0   \n",
       "3                   3                0            0               1   \n",
       "4                   1                0            0               0   \n",
       "\n",
       "   WEST GARFIELD PARK  WEST LAWN  WEST PULLMAN  WEST RIDGE  WEST TOWN  \\\n",
       "0                   0          0             0           0          0   \n",
       "1                   0          0             0           1          0   \n",
       "2                   0          0             2           1          2   \n",
       "3                   0          0             0           0          1   \n",
       "4                   0          0             1           0          1   \n",
       "\n",
       "   WOODLAWN  \n",
       "0         0  \n",
       "1         0  \n",
       "2         2  \n",
       "3         0  \n",
       "4         1  \n",
       "\n",
       "[5 rows x 78 columns]"
      ]
     },
     "execution_count": 17,
     "metadata": {},
     "output_type": "execute_result"
    }
   ],
   "source": [
    "wib_df = pd.read_csv('311_data/wib_calls_311_comm.csv')\n",
    "wib_df.head()"
   ]
  },
  {
   "cell_type": "code",
   "execution_count": 32,
   "metadata": {
    "collapsed": false
   },
   "outputs": [
    {
     "data": {
      "text/html": [
       "<div>\n",
       "<table border=\"1\" class=\"dataframe\">\n",
       "  <thead>\n",
       "    <tr style=\"text-align: right;\">\n",
       "      <th></th>\n",
       "      <th>WIB_Calls</th>\n",
       "    </tr>\n",
       "    <tr>\n",
       "      <th>Created Date</th>\n",
       "      <th></th>\n",
       "    </tr>\n",
       "  </thead>\n",
       "  <tbody>\n",
       "    <tr>\n",
       "      <th>2000-01-01</th>\n",
       "      <td>2</td>\n",
       "    </tr>\n",
       "    <tr>\n",
       "      <th>2000-01-02</th>\n",
       "      <td>3</td>\n",
       "    </tr>\n",
       "    <tr>\n",
       "      <th>2000-01-03</th>\n",
       "      <td>46</td>\n",
       "    </tr>\n",
       "    <tr>\n",
       "      <th>2000-01-04</th>\n",
       "      <td>30</td>\n",
       "    </tr>\n",
       "    <tr>\n",
       "      <th>2000-01-05</th>\n",
       "      <td>22</td>\n",
       "    </tr>\n",
       "  </tbody>\n",
       "</table>\n",
       "</div>"
      ],
      "text/plain": [
       "              WIB_Calls\n",
       "Created Date           \n",
       "2000-01-01            2\n",
       "2000-01-02            3\n",
       "2000-01-03           46\n",
       "2000-01-04           30\n",
       "2000-01-05           22"
      ]
     },
     "execution_count": 32,
     "metadata": {},
     "output_type": "execute_result"
    }
   ],
   "source": [
    "wib_df = pd.read_csv('311_data/wib_calls_311_comm.csv')\n",
    "wib_df['WIB_Calls'] = wib_df[wib_df.columns.values[1:]].sum(axis=1)\n",
    "wib_sum = wib_df[['Created Date', 'WIB_Calls']].copy()\n",
    "wib_sum['Created Date'] = pd.to_datetime(wib_sum['Created Date'])\n",
    "wib_sum = wib_sum.set_index(wib_sum['Created Date'])\n",
    "wib_sum = wib_sum[['WIB_Calls']]\n",
    "wib_sum.head()"
   ]
  },
  {
   "cell_type": "code",
   "execution_count": 40,
   "metadata": {
    "collapsed": false
   },
   "outputs": [
    {
     "data": {
      "text/html": [
       "<div>\n",
       "<table border=\"1\" class=\"dataframe\">\n",
       "  <thead>\n",
       "    <tr style=\"text-align: right;\">\n",
       "      <th></th>\n",
       "      <th>HOURLYPrecip</th>\n",
       "      <th>WIB_Calls</th>\n",
       "    </tr>\n",
       "  </thead>\n",
       "  <tbody>\n",
       "    <tr>\n",
       "      <th>2000-01-01</th>\n",
       "      <td>0.00</td>\n",
       "      <td>2.0</td>\n",
       "    </tr>\n",
       "    <tr>\n",
       "      <th>2000-01-02</th>\n",
       "      <td>0.01</td>\n",
       "      <td>3.0</td>\n",
       "    </tr>\n",
       "    <tr>\n",
       "      <th>2000-01-03</th>\n",
       "      <td>0.24</td>\n",
       "      <td>46.0</td>\n",
       "    </tr>\n",
       "    <tr>\n",
       "      <th>2000-01-04</th>\n",
       "      <td>0.02</td>\n",
       "      <td>30.0</td>\n",
       "    </tr>\n",
       "    <tr>\n",
       "      <th>2000-01-05</th>\n",
       "      <td>0.00</td>\n",
       "      <td>22.0</td>\n",
       "    </tr>\n",
       "  </tbody>\n",
       "</table>\n",
       "</div>"
      ],
      "text/plain": [
       "            HOURLYPrecip  WIB_Calls\n",
       "2000-01-01          0.00        2.0\n",
       "2000-01-02          0.01        3.0\n",
       "2000-01-03          0.24       46.0\n",
       "2000-01-04          0.02       30.0\n",
       "2000-01-05          0.00       22.0"
      ]
     },
     "execution_count": 40,
     "metadata": {},
     "output_type": "execute_result"
    }
   ],
   "source": [
    "rain_wib = daily_rain.copy()\n",
    "rain_wib['WIB_Calls'] = wib_sum['WIB_Calls']\n",
    "rain_wib.head()"
   ]
  },
  {
   "cell_type": "markdown",
   "metadata": {},
   "source": [
    "#### Rain and Flooding Notes\n",
    "\n",
    "* Doesn't seem to be a one to one relationship between the two, clear imbalances\n",
    "* Would be worth looking more into what is actually causing the worst ones"
   ]
  },
  {
   "cell_type": "code",
   "execution_count": 76,
   "metadata": {
    "collapsed": false
   },
   "outputs": [
    {
     "data": {
      "image/png": "[encoded data removed]",
      "text/plain": [
       "<matplotlib.figure.Figure at 0x1aa29b70>"
      ]
     },
     "metadata": {},
     "output_type": "display_data"
    }
   ],
   "source": [
    "plt.rcParams[\"figure.figsize\"] = [15, 5]\n",
    "fix, ax = plt.subplots()\n",
    "rain_plot = rain_wib['HOURLYPrecip'].plot(ax=ax, style='blue', label='Daily Precipitation')\n",
    "wib_plot = rain_wib['WIB_Calls'].plot(ax=ax, style='red', secondary_y=True, label='WIB Calls')\n",
    "\n",
    "rain_patch = mpatches.Patch(color='blue', label='Daily Precipitation')\n",
    "wib_patch = mpatches.Patch(color='red', label='Basement Flooding Calls')\n",
    "plt.legend(handles=[rain_patch, wib_patch])\n",
    "plt.title(\"Precipitation and Basement Flooding Over Time\")\n",
    "plt.show()"
   ]
  },
  {
   "cell_type": "code",
   "execution_count": null,
   "metadata": {
    "collapsed": true
   },
   "outputs": [],
   "source": []
  }
 ],
 "metadata": {
  "kernelspec": {
   "display_name": "Python 3",
   "language": "python",
   "name": "python3"
  },
  "language_info": {
   "codemirror_mode": {
    "name": "ipython",
    "version": 3
   },
   "file_extension": ".py",
   "mimetype": "text/x-python",
   "name": "python",
   "nbconvert_exporter": "python",
   "pygments_lexer": "ipython3",
   "version": "3.5.1"
  }
 },
 "nbformat": 4,
 "nbformat_minor": 1
}
