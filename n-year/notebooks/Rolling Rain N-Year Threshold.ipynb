{
 "cells": [
  {
   "cell_type": "code",
   "execution_count": 1,
   "metadata": {
    "collapsed": true
   },
   "outputs": [],
   "source": [
    "from __future__ import absolute_import, division, print_function, unicode_literals\n",
    "\n",
    "import numpy as np\n",
    "import pandas as pd\n",
    "import matplotlib.pyplot as plt\n",
    "import seaborn as sns\n",
    "%matplotlib inline"
   ]
  },
  {
   "cell_type": "code",
   "execution_count": 2,
   "metadata": {
    "collapsed": false
   },
   "outputs": [
    {
     "name": "stdout",
     "output_type": "stream",
     "text": [
      "DateTime        datetime64[ns]\n",
      "STATION                 object\n",
      "STATION_NAME            object\n",
      "DATE                    object\n",
      "HOURLYPrecip           float64\n",
      "DAILYPrecip            float64\n",
      "dtype: object\n"
     ]
    },
    {
     "data": {
      "text/html": [
       "<div>\n",
       "<table border=\"1\" class=\"dataframe\">\n",
       "  <thead>\n",
       "    <tr style=\"text-align: right;\">\n",
       "      <th></th>\n",
       "      <th>DateTime</th>\n",
       "      <th>STATION</th>\n",
       "      <th>STATION_NAME</th>\n",
       "      <th>DATE</th>\n",
       "      <th>HOURLYPrecip</th>\n",
       "      <th>DAILYPrecip</th>\n",
       "    </tr>\n",
       "  </thead>\n",
       "  <tbody>\n",
       "    <tr>\n",
       "      <th>2013-08-01 00:51:00</th>\n",
       "      <td>2013-08-01 00:51:00</td>\n",
       "      <td>WBAN:94846</td>\n",
       "      <td>CHICAGO OHARE INTERNATIONAL AIRPORT IL US</td>\n",
       "      <td>2013-08-01 00:51:00</td>\n",
       "      <td>0.0</td>\n",
       "      <td>0.0</td>\n",
       "    </tr>\n",
       "    <tr>\n",
       "      <th>2013-08-01 01:51:00</th>\n",
       "      <td>2013-08-01 01:51:00</td>\n",
       "      <td>WBAN:94846</td>\n",
       "      <td>CHICAGO OHARE INTERNATIONAL AIRPORT IL US</td>\n",
       "      <td>2013-08-01 01:51:00</td>\n",
       "      <td>0.0</td>\n",
       "      <td>0.0</td>\n",
       "    </tr>\n",
       "    <tr>\n",
       "      <th>2013-08-01 02:51:00</th>\n",
       "      <td>2013-08-01 02:51:00</td>\n",
       "      <td>WBAN:94846</td>\n",
       "      <td>CHICAGO OHARE INTERNATIONAL AIRPORT IL US</td>\n",
       "      <td>2013-08-01 02:51:00</td>\n",
       "      <td>0.0</td>\n",
       "      <td>0.0</td>\n",
       "    </tr>\n",
       "    <tr>\n",
       "      <th>2013-08-01 03:51:00</th>\n",
       "      <td>2013-08-01 03:51:00</td>\n",
       "      <td>WBAN:94846</td>\n",
       "      <td>CHICAGO OHARE INTERNATIONAL AIRPORT IL US</td>\n",
       "      <td>2013-08-01 03:51:00</td>\n",
       "      <td>0.0</td>\n",
       "      <td>0.0</td>\n",
       "    </tr>\n",
       "    <tr>\n",
       "      <th>2013-08-01 04:51:00</th>\n",
       "      <td>2013-08-01 04:51:00</td>\n",
       "      <td>WBAN:94846</td>\n",
       "      <td>CHICAGO OHARE INTERNATIONAL AIRPORT IL US</td>\n",
       "      <td>2013-08-01 04:51:00</td>\n",
       "      <td>0.0</td>\n",
       "      <td>0.0</td>\n",
       "    </tr>\n",
       "  </tbody>\n",
       "</table>\n",
       "</div>"
      ],
      "text/plain": [
       "                               DateTime     STATION  \\\n",
       "2013-08-01 00:51:00 2013-08-01 00:51:00  WBAN:94846   \n",
       "2013-08-01 01:51:00 2013-08-01 01:51:00  WBAN:94846   \n",
       "2013-08-01 02:51:00 2013-08-01 02:51:00  WBAN:94846   \n",
       "2013-08-01 03:51:00 2013-08-01 03:51:00  WBAN:94846   \n",
       "2013-08-01 04:51:00 2013-08-01 04:51:00  WBAN:94846   \n",
       "\n",
       "                                                  STATION_NAME  \\\n",
       "2013-08-01 00:51:00  CHICAGO OHARE INTERNATIONAL AIRPORT IL US   \n",
       "2013-08-01 01:51:00  CHICAGO OHARE INTERNATIONAL AIRPORT IL US   \n",
       "2013-08-01 02:51:00  CHICAGO OHARE INTERNATIONAL AIRPORT IL US   \n",
       "2013-08-01 03:51:00  CHICAGO OHARE INTERNATIONAL AIRPORT IL US   \n",
       "2013-08-01 04:51:00  CHICAGO OHARE INTERNATIONAL AIRPORT IL US   \n",
       "\n",
       "                                    DATE  HOURLYPrecip  DAILYPrecip  \n",
       "2013-08-01 00:51:00  2013-08-01 00:51:00           0.0          0.0  \n",
       "2013-08-01 01:51:00  2013-08-01 01:51:00           0.0          0.0  \n",
       "2013-08-01 02:51:00  2013-08-01 02:51:00           0.0          0.0  \n",
       "2013-08-01 03:51:00  2013-08-01 03:51:00           0.0          0.0  \n",
       "2013-08-01 04:51:00  2013-08-01 04:51:00           0.0          0.0  "
      ]
     },
     "execution_count": 2,
     "metadata": {},
     "output_type": "execute_result"
    }
   ],
   "source": [
    "# Loading in hourly rain data from CSV, parsing the timestamp, and adding it as an index so it's more useful\n",
    "\n",
    "rain_df = pd.read_csv('data/chicago_rain_hourly.csv')\n",
    "rain_df['DateTime'] = pd.to_datetime(rain_df['DateTime'])\n",
    "rain_df = rain_df.set_index(pd.DatetimeIndex(rain_df['DateTime']))\n",
    "print(rain_df.dtypes)\n",
    "rain_df.head()"
   ]
  },
  {
   "cell_type": "code",
   "execution_count": 3,
   "metadata": {
    "collapsed": false
   },
   "outputs": [
    {
     "name": "stdout",
     "output_type": "stream",
     "text": [
      "26615\n"
     ]
    },
    {
     "data": {
      "text/plain": [
       "2013-08-01 00:00:00    0.0\n",
       "2013-08-01 01:00:00    0.0\n",
       "2013-08-01 02:00:00    0.0\n",
       "2013-08-01 03:00:00    0.0\n",
       "2013-08-01 04:00:00    0.0\n",
       "Freq: H, Name: HOURLYPrecip, dtype: float64"
      ]
     },
     "execution_count": 3,
     "metadata": {},
     "output_type": "execute_result"
    }
   ],
   "source": [
    "# Resampling the dataframe into one hour increments, accessing max because accumulation listed more often than hourly (i.e. \n",
    "# every 15 minutes) is the total precipitation since the hour began\n",
    "# Description: http://www1.ncdc.noaa.gov/pub/data/cdo/documentation/LCD_documentation.pdf\n",
    "\n",
    "chi_rain_series = rain_df['HOURLYPrecip'].resample('1H').max()\n",
    "print(chi_rain_series.count())\n",
    "chi_rain_series.head()"
   ]
  },
  {
   "cell_type": "markdown",
   "metadata": {},
   "source": [
    "### N-Year Metrics\n",
    "\n",
    "Using rolling time series in pandas to find n-year events. First looking at some for 6 hour interval.\n",
    "\n",
    "The rolling sum here calculates the sum of observations over a given number of observations over time. Since each observation here is an hour, the window we provide is a number of hours. Each row is then the sum of observations over that number of hours.\n",
    "\n",
    "If we had the following rows:\n",
    "\n",
    "* 1pm: 2\n",
    "* 2pm: 3\n",
    "* 3pm: 1\n",
    "* 4pm: 5\n",
    "\n",
    "And we calculate the rolling sum with a window of 2 hours, the results will be:\n",
    "\n",
    "* 1pm: NaN (because we only have one observation at this point)\n",
    "* 2pm: 5\n",
    "* 3pm: 4\n",
    "* 4pm: 6\n",
    "\n",
    "Details of the specific cutoffs for each level of n-year storm can be found here: [Rainfall Frequency Information Illinois](http://www.isws.illinois.edu/atmos/statecli/RF/rf.htm)"
   ]
  },
  {
   "cell_type": "code",
   "execution_count": 4,
   "metadata": {
    "collapsed": false
   },
   "outputs": [
    {
     "data": {
      "text/plain": [
       "<matplotlib.axes._subplots.AxesSubplot at 0xa695d68>"
      ]
     },
     "execution_count": 4,
     "metadata": {},
     "output_type": "execute_result"
    },
    {
     "data": {
      "image/png": "[encoded data removed]",
      "text/plain": [
       "<matplotlib.figure.Figure at 0x8d970b8>"
      ]
     },
     "metadata": {},
     "output_type": "display_data"
    }
   ],
   "source": [
    "roll_6_hr = chi_rain_series.rolling(window=6)\n",
    "roll_6_hr.sum().plot()"
   ]
  },
  {
   "cell_type": "markdown",
   "metadata": {},
   "source": [
    "##### Notes on Initial Results \n",
    "\n",
    "Because it's looking for a count of intervals, the initial counts of events returned could include more than one event per storm. For example, if one storm lasted 8 hours from 1pm to 9pm and rained relatively consistently throughout at a 5-year event level and we're looking for 6 hour intervals, it could count for as many as 3 events."
   ]
  },
  {
   "cell_type": "code",
   "execution_count": 5,
   "metadata": {
    "collapsed": false
   },
   "outputs": [
    {
     "name": "stdout",
     "output_type": "stream",
     "text": [
      "For 6-hour intervals\n",
      "4 1-year events for Northeast Illinois\n",
      "8 2-year events for Northeast Illinois\n",
      "0 5-year events for Northeast Illinois\n",
      "0 10-year events for Northeast Illinois\n",
      "0 25-year events for Northeast Illinois\n",
      "0 50-year events for Northeast Illinois\n",
      "0 100-year events for Northeast Illinois\n"
     ]
    }
   ],
   "source": [
    "roll_6 = pd.DataFrame(roll_6_hr.sum())\n",
    "\n",
    "print('For 6-hour intervals')\n",
    "print('{} 1-year events for Northeast Illinois'.format(len(roll_6[(roll_6['HOURLYPrecip'] >= 1.88) & \n",
    "                                                                  (roll_6['HOURLYPrecip'] < 2.28)])))\n",
    "print('{} 2-year events for Northeast Illinois'.format(len(roll_6[(roll_6['HOURLYPrecip'] >= 2.28) &\n",
    "                                                                  (roll_6['HOURLYPrecip'] < 2.85)])))\n",
    "print('{} 5-year events for Northeast Illinois'.format(len(roll_6[(roll_6['HOURLYPrecip'] >= 2.85) &\n",
    "                                                                  (roll_6['HOURLYPrecip'] < 3.35)])))\n",
    "print('{} 10-year events for Northeast Illinois'.format(len(roll_6[(roll_6['HOURLYPrecip'] >= 3.35) &\n",
    "                                                                   (roll_6['HOURLYPrecip'] < 4.13)])))\n",
    "print('{} 25-year events for Northeast Illinois'.format(len(roll_6[(roll_6['HOURLYPrecip'] >= 4.13) & \n",
    "                                                                   (roll_6['HOURLYPrecip'] < 4.90)])))\n",
    "print('{} 50-year events for Northeast Illinois'.format(len(roll_6[(roll_6['HOURLYPrecip'] >= 4.90) &\n",
    "                                                                   (roll_6['HOURLYPrecip'] < 5.69)])))\n",
    "print('{} 100-year events for Northeast Illinois'.format(len(roll_6[roll_6['HOURLYPrecip'] >= 5.69])))"
   ]
  },
  {
   "cell_type": "code",
   "execution_count": 6,
   "metadata": {
    "collapsed": false
   },
   "outputs": [
    {
     "name": "stdout",
     "output_type": "stream",
     "text": [
      "2 days with 1-year events in Northeast Illinois\n"
     ]
    },
    {
     "data": {
      "text/html": [
       "<div>\n",
       "<table border=\"1\" class=\"dataframe\">\n",
       "  <thead>\n",
       "    <tr style=\"text-align: right;\">\n",
       "      <th></th>\n",
       "      <th>HOURLYPrecip</th>\n",
       "    </tr>\n",
       "  </thead>\n",
       "  <tbody>\n",
       "    <tr>\n",
       "      <th>2014-08-04 19:00:00</th>\n",
       "      <td>2.21</td>\n",
       "    </tr>\n",
       "    <tr>\n",
       "      <th>2015-06-15 18:00:00</th>\n",
       "      <td>2.00</td>\n",
       "    </tr>\n",
       "    <tr>\n",
       "      <th>2015-06-15 19:00:00</th>\n",
       "      <td>2.07</td>\n",
       "    </tr>\n",
       "    <tr>\n",
       "      <th>2015-06-15 20:00:00</th>\n",
       "      <td>2.09</td>\n",
       "    </tr>\n",
       "  </tbody>\n",
       "</table>\n",
       "</div>"
      ],
      "text/plain": [
       "                     HOURLYPrecip\n",
       "2014-08-04 19:00:00          2.21\n",
       "2015-06-15 18:00:00          2.00\n",
       "2015-06-15 19:00:00          2.07\n",
       "2015-06-15 20:00:00          2.09"
      ]
     },
     "execution_count": 6,
     "metadata": {},
     "output_type": "execute_result"
    }
   ],
   "source": [
    "roll_6_1yr = roll_6[(roll_6['HOURLYPrecip'] >= 1.88) & (roll_6['HOURLYPrecip'] < 2.28)]\n",
    "print('{} days with 1-year events in Northeast Illinois'.format(len(roll_6_1yr.groupby(roll_6_1yr.index.date))))\n",
    "roll_6_1yr"
   ]
  },
  {
   "cell_type": "code",
   "execution_count": 7,
   "metadata": {
    "collapsed": false
   },
   "outputs": [
    {
     "name": "stdout",
     "output_type": "stream",
     "text": [
      "3 days with 2-year events in Northeast Illinois\n"
     ]
    },
    {
     "data": {
      "text/html": [
       "<div>\n",
       "<table border=\"1\" class=\"dataframe\">\n",
       "  <thead>\n",
       "    <tr style=\"text-align: right;\">\n",
       "      <th></th>\n",
       "      <th>HOURLYPrecip</th>\n",
       "    </tr>\n",
       "  </thead>\n",
       "  <tbody>\n",
       "    <tr>\n",
       "      <th>2014-06-30 21:00:00</th>\n",
       "      <td>2.50</td>\n",
       "    </tr>\n",
       "    <tr>\n",
       "      <th>2014-06-30 22:00:00</th>\n",
       "      <td>2.64</td>\n",
       "    </tr>\n",
       "    <tr>\n",
       "      <th>2014-06-30 23:00:00</th>\n",
       "      <td>2.28</td>\n",
       "    </tr>\n",
       "    <tr>\n",
       "      <th>2014-08-04 20:00:00</th>\n",
       "      <td>2.67</td>\n",
       "    </tr>\n",
       "    <tr>\n",
       "      <th>2014-08-04 21:00:00</th>\n",
       "      <td>2.69</td>\n",
       "    </tr>\n",
       "    <tr>\n",
       "      <th>2014-08-04 22:00:00</th>\n",
       "      <td>2.77</td>\n",
       "    </tr>\n",
       "    <tr>\n",
       "      <th>2014-08-04 23:00:00</th>\n",
       "      <td>2.77</td>\n",
       "    </tr>\n",
       "    <tr>\n",
       "      <th>2014-08-05 00:00:00</th>\n",
       "      <td>2.51</td>\n",
       "    </tr>\n",
       "  </tbody>\n",
       "</table>\n",
       "</div>"
      ],
      "text/plain": [
       "                     HOURLYPrecip\n",
       "2014-06-30 21:00:00          2.50\n",
       "2014-06-30 22:00:00          2.64\n",
       "2014-06-30 23:00:00          2.28\n",
       "2014-08-04 20:00:00          2.67\n",
       "2014-08-04 21:00:00          2.69\n",
       "2014-08-04 22:00:00          2.77\n",
       "2014-08-04 23:00:00          2.77\n",
       "2014-08-05 00:00:00          2.51"
      ]
     },
     "execution_count": 7,
     "metadata": {},
     "output_type": "execute_result"
    }
   ],
   "source": [
    "# Many of these are from the same days, but over slightly different intervals as mentioned before\n",
    "roll_6_2yr = roll_6[(roll_6['HOURLYPrecip'] >= 2.28) & (roll_6['HOURLYPrecip'] < 2.85)]\n",
    "print('{} days with 2-year events in Northeast Illinois'.format(len(roll_6_2yr.groupby(roll_6_2yr.index.date))))\n",
    "roll_6_2yr"
   ]
  },
  {
   "cell_type": "code",
   "execution_count": 8,
   "metadata": {
    "collapsed": true
   },
   "outputs": [],
   "source": [
    "# Helper function taking the series, window, and list of cutoffs to make this quicker, returns the subset\n",
    "def rolling_results(rain_series, window, rain_cutoffs):\n",
    "    window_df = pd.DataFrame(rain_series.rolling(window=window).sum())\n",
    "    print('For {}-hour intervals'.format(window))\n",
    "    print('{} 1-year events for Northeast Illinois'.format(len(window_df[(window_df['HOURLYPrecip'] >= rain_cutoffs[0]) & \n",
    "                                                                         (window_df['HOURLYPrecip'] < rain_cutoffs[1])])))\n",
    "    print('{} 2-year events for Northeast Illinois'.format(len(window_df[(window_df['HOURLYPrecip'] >= rain_cutoffs[1]) & \n",
    "                                                                         (window_df['HOURLYPrecip'] < rain_cutoffs[2])])))\n",
    "    print('{} 5-year events for Northeast Illinois'.format(len(window_df[(window_df['HOURLYPrecip'] >= rain_cutoffs[2]) & \n",
    "                                                                         (window_df['HOURLYPrecip'] < rain_cutoffs[3])])))\n",
    "    print('{} 10-year events for Northeast Illinois'.format(len(window_df[(window_df['HOURLYPrecip'] >= rain_cutoffs[3]) & \n",
    "                                                                         (window_df['HOURLYPrecip'] < rain_cutoffs[4])])))\n",
    "    print('{} 25-year events for Northeast Illinois'.format(len(window_df[(window_df['HOURLYPrecip'] >= rain_cutoffs[4]) & \n",
    "                                                                          (window_df['HOURLYPrecip'] < rain_cutoffs[5])])))\n",
    "    print('{} 50-year events for Northeast Illinois'.format(len(window_df[(window_df['HOURLYPrecip'] >= rain_cutoffs[5]) & \n",
    "                                                                          (window_df['HOURLYPrecip'] < rain_cutoffs[6])])))\n",
    "    print('{} 100-year events for Northeast Illinois'.format(len(window_df[window_df['HOURLYPrecip'] >= rain_cutoffs[6]])))\n",
    "    \n",
    "# Gets the subset of the dataframe for the given cutoff index (i.e. 5 year is the third, so cutoff_index would be 3)\n",
    "def rolling_subset(rain_series, window, rain_cutoffs, cutoff_index):\n",
    "    window_df = pd.DataFrame(rain_series.rolling(window=window).sum())\n",
    "    if cutoff_index <= 6:\n",
    "        return window_df[(window_df['HOURLYPrecip'] >= rain_cutoffs[cutoff_index - 1]) & (roll_6['HOURLYPrecip'] < 2.85)]\n",
    "    if cutoff_index == 7:\n",
    "        return window_df[window_df['HOURLYPrecip'] >= rain_cutoffs[cutoff_index -1]]"
   ]
  },
  {
   "cell_type": "code",
   "execution_count": 9,
   "metadata": {
    "collapsed": false
   },
   "outputs": [
    {
     "name": "stdout",
     "output_type": "stream",
     "text": [
      "For 12-hour intervals\n",
      "10 1-year events for Northeast Illinois\n",
      "18 2-year events for Northeast Illinois\n",
      "0 5-year events for Northeast Illinois\n",
      "0 10-year events for Northeast Illinois\n",
      "0 25-year events for Northeast Illinois\n",
      "0 50-year events for Northeast Illinois\n",
      "0 100-year events for Northeast Illinois\n"
     ]
    }
   ],
   "source": [
    "cutoffs_12hr = [2.18, 2.64, 3.31, 3.89, 4.79, 5.6, 6.59]\n",
    "rolling_results(chi_rain_series, 12, cutoffs_12hr)"
   ]
  },
  {
   "cell_type": "code",
   "execution_count": 10,
   "metadata": {
    "collapsed": false
   },
   "outputs": [
    {
     "name": "stdout",
     "output_type": "stream",
     "text": [
      "5 days with 2-year events for 12 hrs in Northeast Illinois\n"
     ]
    },
    {
     "data": {
      "text/html": [
       "<div>\n",
       "<table border=\"1\" class=\"dataframe\">\n",
       "  <thead>\n",
       "    <tr style=\"text-align: right;\">\n",
       "      <th></th>\n",
       "      <th>HOURLYPrecip</th>\n",
       "    </tr>\n",
       "  </thead>\n",
       "  <tbody>\n",
       "    <tr>\n",
       "      <th>2014-06-30 22:00:00</th>\n",
       "      <td>2.64</td>\n",
       "    </tr>\n",
       "    <tr>\n",
       "      <th>2014-06-30 23:00:00</th>\n",
       "      <td>2.68</td>\n",
       "    </tr>\n",
       "    <tr>\n",
       "      <th>2014-07-01 00:00:00</th>\n",
       "      <td>2.68</td>\n",
       "    </tr>\n",
       "    <tr>\n",
       "      <th>2014-07-01 01:00:00</th>\n",
       "      <td>2.68</td>\n",
       "    </tr>\n",
       "    <tr>\n",
       "      <th>2014-07-01 02:00:00</th>\n",
       "      <td>2.68</td>\n",
       "    </tr>\n",
       "    <tr>\n",
       "      <th>2014-07-01 03:00:00</th>\n",
       "      <td>2.68</td>\n",
       "    </tr>\n",
       "    <tr>\n",
       "      <th>2014-07-01 04:00:00</th>\n",
       "      <td>2.68</td>\n",
       "    </tr>\n",
       "    <tr>\n",
       "      <th>2014-08-04 20:00:00</th>\n",
       "      <td>2.67</td>\n",
       "    </tr>\n",
       "    <tr>\n",
       "      <th>2014-08-04 21:00:00</th>\n",
       "      <td>2.70</td>\n",
       "    </tr>\n",
       "    <tr>\n",
       "      <th>2014-08-04 22:00:00</th>\n",
       "      <td>2.78</td>\n",
       "    </tr>\n",
       "    <tr>\n",
       "      <th>2014-08-04 23:00:00</th>\n",
       "      <td>2.87</td>\n",
       "    </tr>\n",
       "    <tr>\n",
       "      <th>2014-08-05 00:00:00</th>\n",
       "      <td>2.87</td>\n",
       "    </tr>\n",
       "    <tr>\n",
       "      <th>2014-08-05 01:00:00</th>\n",
       "      <td>2.87</td>\n",
       "    </tr>\n",
       "    <tr>\n",
       "      <th>2014-08-05 02:00:00</th>\n",
       "      <td>2.87</td>\n",
       "    </tr>\n",
       "    <tr>\n",
       "      <th>2014-08-05 03:00:00</th>\n",
       "      <td>2.86</td>\n",
       "    </tr>\n",
       "    <tr>\n",
       "      <th>2014-08-05 04:00:00</th>\n",
       "      <td>2.86</td>\n",
       "    </tr>\n",
       "    <tr>\n",
       "      <th>2014-08-05 05:00:00</th>\n",
       "      <td>2.77</td>\n",
       "    </tr>\n",
       "    <tr>\n",
       "      <th>2015-06-15 18:00:00</th>\n",
       "      <td>2.70</td>\n",
       "    </tr>\n",
       "  </tbody>\n",
       "</table>\n",
       "</div>"
      ],
      "text/plain": [
       "                     HOURLYPrecip\n",
       "2014-06-30 22:00:00          2.64\n",
       "2014-06-30 23:00:00          2.68\n",
       "2014-07-01 00:00:00          2.68\n",
       "2014-07-01 01:00:00          2.68\n",
       "2014-07-01 02:00:00          2.68\n",
       "2014-07-01 03:00:00          2.68\n",
       "2014-07-01 04:00:00          2.68\n",
       "2014-08-04 20:00:00          2.67\n",
       "2014-08-04 21:00:00          2.70\n",
       "2014-08-04 22:00:00          2.78\n",
       "2014-08-04 23:00:00          2.87\n",
       "2014-08-05 00:00:00          2.87\n",
       "2014-08-05 01:00:00          2.87\n",
       "2014-08-05 02:00:00          2.87\n",
       "2014-08-05 03:00:00          2.86\n",
       "2014-08-05 04:00:00          2.86\n",
       "2014-08-05 05:00:00          2.77\n",
       "2015-06-15 18:00:00          2.70"
      ]
     },
     "execution_count": 10,
     "metadata": {},
     "output_type": "execute_result"
    }
   ],
   "source": [
    "roll_12_2yr = rolling_subset(chi_rain_series, 12, cutoffs_12hr, 2)\n",
    "print('{} days with 2-year events for 12 hrs in Northeast Illinois'.format(len(roll_12_2yr.groupby(roll_12_2yr.index.date))))\n",
    "roll_12_2yr"
   ]
  },
  {
   "cell_type": "code",
   "execution_count": 11,
   "metadata": {
    "collapsed": false
   },
   "outputs": [
    {
     "name": "stdout",
     "output_type": "stream",
     "text": [
      "For 24-hour intervals\n",
      "61 1-year events for Northeast Illinois\n",
      "0 2-year events for Northeast Illinois\n",
      "0 5-year events for Northeast Illinois\n",
      "0 10-year events for Northeast Illinois\n",
      "0 25-year events for Northeast Illinois\n",
      "0 50-year events for Northeast Illinois\n",
      "0 100-year events for Northeast Illinois\n"
     ]
    }
   ],
   "source": [
    "cutoffs_24hr = [2.51, 3.04, 3.80, 4.47, 5.51, 6.46, 7.58]\n",
    "rolling_results(chi_rain_series, 24, cutoffs_24hr)"
   ]
  },
  {
   "cell_type": "code",
   "execution_count": 12,
   "metadata": {
    "collapsed": false
   },
   "outputs": [
    {
     "name": "stdout",
     "output_type": "stream",
     "text": [
      "7 days with 1-year events for 24 hrs in Northeast Illinois\n"
     ]
    }
   ],
   "source": [
    "roll_24_1yr = rolling_subset(chi_rain_series, 24, cutoffs_24hr, 1)\n",
    "print('{} days with 1-year events for 24 hrs in Northeast Illinois'.format(len(roll_24_1yr.groupby(roll_24_1yr.index.date))))"
   ]
  },
  {
   "cell_type": "code",
   "execution_count": 13,
   "metadata": {
    "collapsed": false
   },
   "outputs": [
    {
     "name": "stdout",
     "output_type": "stream",
     "text": [
      "For 48-hour intervals\n",
      "150 1-year events for Northeast Illinois\n",
      "7 2-year events for Northeast Illinois\n",
      "0 5-year events for Northeast Illinois\n",
      "0 10-year events for Northeast Illinois\n",
      "0 25-year events for Northeast Illinois\n",
      "0 50-year events for Northeast Illinois\n",
      "0 100-year events for Northeast Illinois\n"
     ]
    }
   ],
   "source": [
    "cutoffs_48hr = [2.70, 3.30, 4.09, 4.81, 5.88, 6.84, 8.16]\n",
    "rolling_results(chi_rain_series, 48, cutoffs_48hr)"
   ]
  },
  {
   "cell_type": "code",
   "execution_count": 14,
   "metadata": {
    "collapsed": false
   },
   "outputs": [
    {
     "name": "stdout",
     "output_type": "stream",
     "text": [
      "13 days with 1-year events for 48 hrs in Northeast Illinois\n"
     ]
    }
   ],
   "source": [
    "roll_48_1yr = rolling_subset(chi_rain_series, 48, cutoffs_48hr, 1)\n",
    "print('{} days with 1-year events for 48 hrs in Northeast Illinois'.format(len(roll_48_1yr.groupby(roll_48_1yr.index.date))))"
   ]
  },
  {
   "cell_type": "markdown",
   "metadata": {
    "collapsed": true
   },
   "source": [
    "**Note:** Because the rolling window pulls from the same overlapping period multiple times, it makes sense that longer time periods have higher amounts of events at the lower end of the spectrum. They're pulling from the same incidents more times than the shorter intervals can"
   ]
  },
  {
   "cell_type": "code",
   "execution_count": null,
   "metadata": {
    "collapsed": true
   },
   "outputs": [],
   "source": []
  }
 ],
 "metadata": {
  "kernelspec": {
   "display_name": "Python 3",
   "language": "python",
   "name": "python3"
  },
  "language_info": {
   "codemirror_mode": {
    "name": "ipython",
    "version": 3
   },
   "file_extension": ".py",
   "mimetype": "text/x-python",
   "name": "python",
   "nbconvert_exporter": "python",
   "pygments_lexer": "ipython3",
   "version": "3.5.1"
  }
 },
 "nbformat": 4,
 "nbformat_minor": 0
}
