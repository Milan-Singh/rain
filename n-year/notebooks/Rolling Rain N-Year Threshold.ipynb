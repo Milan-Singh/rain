{
 "cells": [
  {
   "cell_type": "code",
   "execution_count": 1,
   "metadata": {
    "collapsed": true
   },
   "outputs": [],
   "source": [
    "from __future__ import absolute_import, division, print_function, unicode_literals\n",
    "\n",
    "import numpy as np\n",
    "import pandas as pd\n",
    "import matplotlib.pyplot as plt\n",
    "import seaborn as sns\n",
    "%matplotlib inline"
   ]
  },
  {
   "cell_type": "code",
   "execution_count": 3,
   "metadata": {
    "collapsed": false
   },
   "outputs": [
    {
     "name": "stdout",
     "output_type": "stream",
     "text": [
      "Unnamed: 0                          int64\n",
      "datetime                   datetime64[ns]\n",
      "dewpoint_fahrenheit               float64\n",
      "drybulb_fahrenheit                float64\n",
      "hourly_precip                     float64\n",
      "id                                  int64\n",
      "latitude                          float64\n",
      "longitude                         float64\n",
      "old_station_type                   object\n",
      "relative_humidity                 float64\n",
      "report_type                        object\n",
      "sealevel_pressure                 float64\n",
      "sky_condition                      object\n",
      "sky_condition_top                  object\n",
      "station_pressure                  float64\n",
      "station_type                      float64\n",
      "visibility                        float64\n",
      "wban_code                           int64\n",
      "weather_types                      object\n",
      "wetbulb_fahrenheit                float64\n",
      "wind_direction                     object\n",
      "wind_direction_cardinal            object\n",
      "wind_speed                        float64\n",
      "call_sign                          object\n",
      "dtype: object\n"
     ]
    },
    {
     "name": "stderr",
     "output_type": "stream",
     "text": [
      "C:\\Python35\\lib\\site-packages\\IPython\\core\\interactiveshell.py:2723: DtypeWarning: Columns (8) have mixed types. Specify dtype option on import or set low_memory=False.\n",
      "  interactivity=interactivity, compiler=compiler, result=result)\n"
     ]
    },
    {
     "data": {
      "text/html": [
       "<div>\n",
       "<table border=\"1\" class=\"dataframe\">\n",
       "  <thead>\n",
       "    <tr style=\"text-align: right;\">\n",
       "      <th></th>\n",
       "      <th>Unnamed: 0</th>\n",
       "      <th>datetime</th>\n",
       "      <th>dewpoint_fahrenheit</th>\n",
       "      <th>drybulb_fahrenheit</th>\n",
       "      <th>hourly_precip</th>\n",
       "      <th>id</th>\n",
       "      <th>latitude</th>\n",
       "      <th>longitude</th>\n",
       "      <th>old_station_type</th>\n",
       "      <th>relative_humidity</th>\n",
       "      <th>...</th>\n",
       "      <th>station_pressure</th>\n",
       "      <th>station_type</th>\n",
       "      <th>visibility</th>\n",
       "      <th>wban_code</th>\n",
       "      <th>weather_types</th>\n",
       "      <th>wetbulb_fahrenheit</th>\n",
       "      <th>wind_direction</th>\n",
       "      <th>wind_direction_cardinal</th>\n",
       "      <th>wind_speed</th>\n",
       "      <th>call_sign</th>\n",
       "    </tr>\n",
       "  </thead>\n",
       "  <tbody>\n",
       "    <tr>\n",
       "      <th>2016-08-16 22:51:00</th>\n",
       "      <td>0</td>\n",
       "      <td>2016-08-16 22:51:00</td>\n",
       "      <td>65.0</td>\n",
       "      <td>74.0</td>\n",
       "      <td>0.0</td>\n",
       "      <td>398063571</td>\n",
       "      <td>NaN</td>\n",
       "      <td>NaN</td>\n",
       "      <td>NaN</td>\n",
       "      <td>74.0</td>\n",
       "      <td>...</td>\n",
       "      <td>29.37</td>\n",
       "      <td>11.0</td>\n",
       "      <td>10.0</td>\n",
       "      <td>94846</td>\n",
       "      <td>NaN</td>\n",
       "      <td>68.0</td>\n",
       "      <td>200</td>\n",
       "      <td>SSW</td>\n",
       "      <td>7.0</td>\n",
       "      <td>KORD</td>\n",
       "    </tr>\n",
       "    <tr>\n",
       "      <th>2016-08-16 21:51:00</th>\n",
       "      <td>1</td>\n",
       "      <td>2016-08-16 21:51:00</td>\n",
       "      <td>64.0</td>\n",
       "      <td>74.0</td>\n",
       "      <td>0.0</td>\n",
       "      <td>397933331</td>\n",
       "      <td>NaN</td>\n",
       "      <td>NaN</td>\n",
       "      <td>NaN</td>\n",
       "      <td>71.0</td>\n",
       "      <td>...</td>\n",
       "      <td>29.36</td>\n",
       "      <td>11.0</td>\n",
       "      <td>10.0</td>\n",
       "      <td>94846</td>\n",
       "      <td>NaN</td>\n",
       "      <td>68.0</td>\n",
       "      <td>200</td>\n",
       "      <td>SSW</td>\n",
       "      <td>5.0</td>\n",
       "      <td>KORD</td>\n",
       "    </tr>\n",
       "    <tr>\n",
       "      <th>2016-08-16 20:51:00</th>\n",
       "      <td>2</td>\n",
       "      <td>2016-08-16 20:51:00</td>\n",
       "      <td>64.0</td>\n",
       "      <td>76.0</td>\n",
       "      <td>0.0</td>\n",
       "      <td>397986035</td>\n",
       "      <td>NaN</td>\n",
       "      <td>NaN</td>\n",
       "      <td>NaN</td>\n",
       "      <td>67.0</td>\n",
       "      <td>...</td>\n",
       "      <td>29.35</td>\n",
       "      <td>11.0</td>\n",
       "      <td>10.0</td>\n",
       "      <td>94846</td>\n",
       "      <td>NaN</td>\n",
       "      <td>68.0</td>\n",
       "      <td>220</td>\n",
       "      <td>SW</td>\n",
       "      <td>3.0</td>\n",
       "      <td>KORD</td>\n",
       "    </tr>\n",
       "    <tr>\n",
       "      <th>2016-08-16 19:51:00</th>\n",
       "      <td>3</td>\n",
       "      <td>2016-08-16 19:51:00</td>\n",
       "      <td>64.0</td>\n",
       "      <td>78.0</td>\n",
       "      <td>0.0</td>\n",
       "      <td>398003060</td>\n",
       "      <td>NaN</td>\n",
       "      <td>NaN</td>\n",
       "      <td>NaN</td>\n",
       "      <td>62.0</td>\n",
       "      <td>...</td>\n",
       "      <td>29.34</td>\n",
       "      <td>11.0</td>\n",
       "      <td>10.0</td>\n",
       "      <td>94846</td>\n",
       "      <td>NaN</td>\n",
       "      <td>69.0</td>\n",
       "      <td>NaN</td>\n",
       "      <td>NaN</td>\n",
       "      <td>0.0</td>\n",
       "      <td>KORD</td>\n",
       "    </tr>\n",
       "    <tr>\n",
       "      <th>2016-08-16 18:51:00</th>\n",
       "      <td>4</td>\n",
       "      <td>2016-08-16 18:51:00</td>\n",
       "      <td>65.0</td>\n",
       "      <td>76.0</td>\n",
       "      <td>0.0</td>\n",
       "      <td>397972638</td>\n",
       "      <td>NaN</td>\n",
       "      <td>NaN</td>\n",
       "      <td>NaN</td>\n",
       "      <td>69.0</td>\n",
       "      <td>...</td>\n",
       "      <td>29.32</td>\n",
       "      <td>11.0</td>\n",
       "      <td>10.0</td>\n",
       "      <td>94846</td>\n",
       "      <td>NaN</td>\n",
       "      <td>69.0</td>\n",
       "      <td>160</td>\n",
       "      <td>SSE</td>\n",
       "      <td>6.0</td>\n",
       "      <td>KORD</td>\n",
       "    </tr>\n",
       "  </tbody>\n",
       "</table>\n",
       "<p>5 rows × 24 columns</p>\n",
       "</div>"
      ],
      "text/plain": [
       "                     Unnamed: 0            datetime  dewpoint_fahrenheit  \\\n",
       "2016-08-16 22:51:00           0 2016-08-16 22:51:00                 65.0   \n",
       "2016-08-16 21:51:00           1 2016-08-16 21:51:00                 64.0   \n",
       "2016-08-16 20:51:00           2 2016-08-16 20:51:00                 64.0   \n",
       "2016-08-16 19:51:00           3 2016-08-16 19:51:00                 64.0   \n",
       "2016-08-16 18:51:00           4 2016-08-16 18:51:00                 65.0   \n",
       "\n",
       "                     drybulb_fahrenheit  hourly_precip         id  latitude  \\\n",
       "2016-08-16 22:51:00                74.0            0.0  398063571       NaN   \n",
       "2016-08-16 21:51:00                74.0            0.0  397933331       NaN   \n",
       "2016-08-16 20:51:00                76.0            0.0  397986035       NaN   \n",
       "2016-08-16 19:51:00                78.0            0.0  398003060       NaN   \n",
       "2016-08-16 18:51:00                76.0            0.0  397972638       NaN   \n",
       "\n",
       "                     longitude old_station_type  relative_humidity    ...      \\\n",
       "2016-08-16 22:51:00        NaN              NaN               74.0    ...       \n",
       "2016-08-16 21:51:00        NaN              NaN               71.0    ...       \n",
       "2016-08-16 20:51:00        NaN              NaN               67.0    ...       \n",
       "2016-08-16 19:51:00        NaN              NaN               62.0    ...       \n",
       "2016-08-16 18:51:00        NaN              NaN               69.0    ...       \n",
       "\n",
       "                    station_pressure  station_type visibility wban_code  \\\n",
       "2016-08-16 22:51:00            29.37          11.0       10.0     94846   \n",
       "2016-08-16 21:51:00            29.36          11.0       10.0     94846   \n",
       "2016-08-16 20:51:00            29.35          11.0       10.0     94846   \n",
       "2016-08-16 19:51:00            29.34          11.0       10.0     94846   \n",
       "2016-08-16 18:51:00            29.32          11.0       10.0     94846   \n",
       "\n",
       "                     weather_types  wetbulb_fahrenheit  wind_direction  \\\n",
       "2016-08-16 22:51:00            NaN                68.0             200   \n",
       "2016-08-16 21:51:00            NaN                68.0             200   \n",
       "2016-08-16 20:51:00            NaN                68.0             220   \n",
       "2016-08-16 19:51:00            NaN                69.0             NaN   \n",
       "2016-08-16 18:51:00            NaN                69.0             160   \n",
       "\n",
       "                     wind_direction_cardinal wind_speed  call_sign  \n",
       "2016-08-16 22:51:00                      SSW        7.0       KORD  \n",
       "2016-08-16 21:51:00                      SSW        5.0       KORD  \n",
       "2016-08-16 20:51:00                       SW        3.0       KORD  \n",
       "2016-08-16 19:51:00                      NaN        0.0       KORD  \n",
       "2016-08-16 18:51:00                      SSE        6.0       KORD  \n",
       "\n",
       "[5 rows x 24 columns]"
      ]
     },
     "execution_count": 3,
     "metadata": {},
     "output_type": "execute_result"
    }
   ],
   "source": [
    "# Loading in hourly rain data from CSV, parsing the timestamp, and adding it as an index so it's more useful\n",
    "\n",
    "rain_df = pd.read_csv('data/ohare_hourly_observations.csv')\n",
    "rain_df['datetime'] = pd.to_datetime(rain_df['datetime'])\n",
    "rain_df = rain_df.set_index(pd.DatetimeIndex(rain_df['datetime']))\n",
    "print(rain_df.dtypes)\n",
    "rain_df.head()"
   ]
  },
  {
   "cell_type": "code",
   "execution_count": 4,
   "metadata": {
    "collapsed": false
   },
   "outputs": [
    {
     "name": "stdout",
     "output_type": "stream",
     "text": [
      "150104\n"
     ]
    },
    {
     "data": {
      "text/plain": [
       "1996-08-01 00:00:00    0.0\n",
       "1996-08-01 01:00:00    0.0\n",
       "1996-08-01 02:00:00    0.0\n",
       "1996-08-01 03:00:00    0.0\n",
       "1996-08-01 04:00:00    0.0\n",
       "Freq: H, Name: hourly_precip, dtype: float64"
      ]
     },
     "execution_count": 4,
     "metadata": {},
     "output_type": "execute_result"
    }
   ],
   "source": [
    "# Resampling the dataframe into one hour increments, accessing max because accumulation listed more often than hourly (i.e. \n",
    "# every 15 minutes) is the total precipitation since the hour began\n",
    "# Description: http://www1.ncdc.noaa.gov/pub/data/cdo/documentation/LCD_documentation.pdf\n",
    "\n",
    "chi_rain_series = rain_df['hourly_precip'].resample('1H').max()\n",
    "print(chi_rain_series.count())\n",
    "chi_rain_series.head()"
   ]
  },
  {
   "cell_type": "markdown",
   "metadata": {},
   "source": [
    "### N-Year Metrics\n",
    "\n",
    "Using rolling time series in pandas to find n-year events. First looking at some for 6 hour interval.\n",
    "\n",
    "The rolling sum here calculates the sum of observations over a given number of observations over time. Since each observation here is an hour, the window we provide is a number of hours. Each row is then the sum of observations over that number of hours.\n",
    "\n",
    "If we had the following rows:\n",
    "\n",
    "* 1pm: 2\n",
    "* 2pm: 3\n",
    "* 3pm: 1\n",
    "* 4pm: 5\n",
    "\n",
    "And we calculate the rolling sum with a window of 2 hours, the results will be:\n",
    "\n",
    "* 1pm: NaN (because we only have one observation at this point)\n",
    "* 2pm: 5\n",
    "* 3pm: 4\n",
    "* 4pm: 6\n",
    "\n",
    "Details of the specific cutoffs for each level of n-year storm can be found here: [Rainfall Frequency Information Illinois](http://www.isws.illinois.edu/atmos/statecli/RF/rf.htm)"
   ]
  },
  {
   "cell_type": "code",
   "execution_count": 5,
   "metadata": {
    "collapsed": false
   },
   "outputs": [
    {
     "data": {
      "text/plain": [
       "<matplotlib.axes._subplots.AxesSubplot at 0xa2adcf8>"
      ]
     },
     "execution_count": 5,
     "metadata": {},
     "output_type": "execute_result"
    },
    {
     "data": {
      "image/png": "[encoded data removed]",
      "text/plain": [
       "<matplotlib.figure.Figure at 0xdd79198>"
      ]
     },
     "metadata": {},
     "output_type": "display_data"
    }
   ],
   "source": [
    "roll_6_hr = chi_rain_series.rolling(window=6)\n",
    "roll_6_hr.sum().plot()"
   ]
  },
  {
   "cell_type": "markdown",
   "metadata": {},
   "source": [
    "##### Notes on Initial Results \n",
    "\n",
    "Because it's looking for a count of intervals, the initial counts of events returned could include more than one event per storm. For example, if one storm lasted 8 hours from 1pm to 9pm and rained relatively consistently throughout at a 5-year event level and we're looking for 6 hour intervals, it could count for as many as 3 events."
   ]
  },
  {
   "cell_type": "code",
   "execution_count": 6,
   "metadata": {
    "collapsed": false
   },
   "outputs": [
    {
     "name": "stdout",
     "output_type": "stream",
     "text": [
      "For 6-hour intervals\n",
      "39 1-year events for Northeast Illinois\n",
      "19 2-year events for Northeast Illinois\n",
      "13 5-year events for Northeast Illinois\n",
      "8 10-year events for Northeast Illinois\n",
      "9 25-year events for Northeast Illinois\n",
      "2 50-year events for Northeast Illinois\n",
      "9 100-year events for Northeast Illinois\n"
     ]
    }
   ],
   "source": [
    "roll_6 = pd.DataFrame(roll_6_hr.sum())\n",
    "\n",
    "print('For 6-hour intervals')\n",
    "print('{} 1-year events for Northeast Illinois'.format(len(roll_6[(roll_6['hourly_precip'] >= 1.88) & \n",
    "                                                                  (roll_6['hourly_precip'] < 2.28)])))\n",
    "print('{} 2-year events for Northeast Illinois'.format(len(roll_6[(roll_6['hourly_precip'] >= 2.28) &\n",
    "                                                                  (roll_6['hourly_precip'] < 2.85)])))\n",
    "print('{} 5-year events for Northeast Illinois'.format(len(roll_6[(roll_6['hourly_precip'] >= 2.85) &\n",
    "                                                                  (roll_6['hourly_precip'] < 3.35)])))\n",
    "print('{} 10-year events for Northeast Illinois'.format(len(roll_6[(roll_6['hourly_precip'] >= 3.35) &\n",
    "                                                                   (roll_6['hourly_precip'] < 4.13)])))\n",
    "print('{} 25-year events for Northeast Illinois'.format(len(roll_6[(roll_6['hourly_precip'] >= 4.13) & \n",
    "                                                                   (roll_6['hourly_precip'] < 4.90)])))\n",
    "print('{} 50-year events for Northeast Illinois'.format(len(roll_6[(roll_6['hourly_precip'] >= 4.90) &\n",
    "                                                                   (roll_6['hourly_precip'] < 5.69)])))\n",
    "print('{} 100-year events for Northeast Illinois'.format(len(roll_6[roll_6['hourly_precip'] >= 5.69])))"
   ]
  },
  {
   "cell_type": "code",
   "execution_count": 7,
   "metadata": {
    "collapsed": false
   },
   "outputs": [
    {
     "name": "stdout",
     "output_type": "stream",
     "text": [
      "18 days with 1-year events in Northeast Illinois\n"
     ]
    },
    {
     "data": {
      "text/html": [
       "<div>\n",
       "<table border=\"1\" class=\"dataframe\">\n",
       "  <thead>\n",
       "    <tr style=\"text-align: right;\">\n",
       "      <th></th>\n",
       "      <th>hourly_precip</th>\n",
       "    </tr>\n",
       "  </thead>\n",
       "  <tbody>\n",
       "    <tr>\n",
       "      <th>1997-02-21 04:00:00</th>\n",
       "      <td>1.910</td>\n",
       "    </tr>\n",
       "    <tr>\n",
       "      <th>1997-02-21 05:00:00</th>\n",
       "      <td>2.100</td>\n",
       "    </tr>\n",
       "    <tr>\n",
       "      <th>2001-08-30 20:00:00</th>\n",
       "      <td>2.130</td>\n",
       "    </tr>\n",
       "    <tr>\n",
       "      <th>2001-08-31 02:00:00</th>\n",
       "      <td>2.190</td>\n",
       "    </tr>\n",
       "    <tr>\n",
       "      <th>2001-10-13 20:00:00</th>\n",
       "      <td>1.970</td>\n",
       "    </tr>\n",
       "    <tr>\n",
       "      <th>2002-07-09 01:00:00</th>\n",
       "      <td>2.080</td>\n",
       "    </tr>\n",
       "    <tr>\n",
       "      <th>2002-07-09 02:00:00</th>\n",
       "      <td>2.085</td>\n",
       "    </tr>\n",
       "    <tr>\n",
       "      <th>2002-07-09 03:00:00</th>\n",
       "      <td>2.085</td>\n",
       "    </tr>\n",
       "    <tr>\n",
       "      <th>2002-07-09 04:00:00</th>\n",
       "      <td>2.085</td>\n",
       "    </tr>\n",
       "    <tr>\n",
       "      <th>2002-07-09 05:00:00</th>\n",
       "      <td>2.085</td>\n",
       "    </tr>\n",
       "    <tr>\n",
       "      <th>2002-08-13 17:00:00</th>\n",
       "      <td>2.175</td>\n",
       "    </tr>\n",
       "    <tr>\n",
       "      <th>2002-08-22 01:00:00</th>\n",
       "      <td>1.975</td>\n",
       "    </tr>\n",
       "    <tr>\n",
       "      <th>2003-08-01 15:00:00</th>\n",
       "      <td>2.055</td>\n",
       "    </tr>\n",
       "    <tr>\n",
       "      <th>2003-08-01 16:00:00</th>\n",
       "      <td>2.175</td>\n",
       "    </tr>\n",
       "    <tr>\n",
       "      <th>2003-08-01 17:00:00</th>\n",
       "      <td>2.180</td>\n",
       "    </tr>\n",
       "    <tr>\n",
       "      <th>2003-08-01 18:00:00</th>\n",
       "      <td>2.175</td>\n",
       "    </tr>\n",
       "    <tr>\n",
       "      <th>2003-08-01 19:00:00</th>\n",
       "      <td>2.175</td>\n",
       "    </tr>\n",
       "    <tr>\n",
       "      <th>2007-08-23 18:00:00</th>\n",
       "      <td>1.905</td>\n",
       "    </tr>\n",
       "    <tr>\n",
       "      <th>2007-08-23 19:00:00</th>\n",
       "      <td>1.910</td>\n",
       "    </tr>\n",
       "    <tr>\n",
       "      <th>2008-08-04 22:00:00</th>\n",
       "      <td>2.140</td>\n",
       "    </tr>\n",
       "    <tr>\n",
       "      <th>2008-08-04 23:00:00</th>\n",
       "      <td>2.145</td>\n",
       "    </tr>\n",
       "    <tr>\n",
       "      <th>2008-09-04 18:00:00</th>\n",
       "      <td>1.910</td>\n",
       "    </tr>\n",
       "    <tr>\n",
       "      <th>2008-09-04 19:00:00</th>\n",
       "      <td>1.940</td>\n",
       "    </tr>\n",
       "    <tr>\n",
       "      <th>2008-09-04 20:00:00</th>\n",
       "      <td>1.880</td>\n",
       "    </tr>\n",
       "    <tr>\n",
       "      <th>2008-09-13 03:00:00</th>\n",
       "      <td>2.220</td>\n",
       "    </tr>\n",
       "    <tr>\n",
       "      <th>2008-09-13 13:00:00</th>\n",
       "      <td>1.970</td>\n",
       "    </tr>\n",
       "    <tr>\n",
       "      <th>2009-06-19 11:00:00</th>\n",
       "      <td>2.160</td>\n",
       "    </tr>\n",
       "    <tr>\n",
       "      <th>2009-06-19 12:00:00</th>\n",
       "      <td>2.170</td>\n",
       "    </tr>\n",
       "    <tr>\n",
       "      <th>2009-06-19 13:00:00</th>\n",
       "      <td>2.170</td>\n",
       "    </tr>\n",
       "    <tr>\n",
       "      <th>2009-06-19 14:00:00</th>\n",
       "      <td>2.090</td>\n",
       "    </tr>\n",
       "    <tr>\n",
       "      <th>2011-05-29 13:00:00</th>\n",
       "      <td>1.885</td>\n",
       "    </tr>\n",
       "    <tr>\n",
       "      <th>2011-05-29 14:00:00</th>\n",
       "      <td>1.885</td>\n",
       "    </tr>\n",
       "    <tr>\n",
       "      <th>2011-05-29 15:00:00</th>\n",
       "      <td>1.880</td>\n",
       "    </tr>\n",
       "    <tr>\n",
       "      <th>2013-04-18 02:00:00</th>\n",
       "      <td>2.070</td>\n",
       "    </tr>\n",
       "    <tr>\n",
       "      <th>2013-04-18 08:00:00</th>\n",
       "      <td>1.970</td>\n",
       "    </tr>\n",
       "    <tr>\n",
       "      <th>2014-06-30 21:00:00</th>\n",
       "      <td>2.095</td>\n",
       "    </tr>\n",
       "    <tr>\n",
       "      <th>2014-06-30 22:00:00</th>\n",
       "      <td>2.230</td>\n",
       "    </tr>\n",
       "    <tr>\n",
       "      <th>2014-08-04 19:00:00</th>\n",
       "      <td>2.220</td>\n",
       "    </tr>\n",
       "    <tr>\n",
       "      <th>2015-02-01 22:00:00</th>\n",
       "      <td>1.955</td>\n",
       "    </tr>\n",
       "  </tbody>\n",
       "</table>\n",
       "</div>"
      ],
      "text/plain": [
       "                     hourly_precip\n",
       "1997-02-21 04:00:00          1.910\n",
       "1997-02-21 05:00:00          2.100\n",
       "2001-08-30 20:00:00          2.130\n",
       "2001-08-31 02:00:00          2.190\n",
       "2001-10-13 20:00:00          1.970\n",
       "2002-07-09 01:00:00          2.080\n",
       "2002-07-09 02:00:00          2.085\n",
       "2002-07-09 03:00:00          2.085\n",
       "2002-07-09 04:00:00          2.085\n",
       "2002-07-09 05:00:00          2.085\n",
       "2002-08-13 17:00:00          2.175\n",
       "2002-08-22 01:00:00          1.975\n",
       "2003-08-01 15:00:00          2.055\n",
       "2003-08-01 16:00:00          2.175\n",
       "2003-08-01 17:00:00          2.180\n",
       "2003-08-01 18:00:00          2.175\n",
       "2003-08-01 19:00:00          2.175\n",
       "2007-08-23 18:00:00          1.905\n",
       "2007-08-23 19:00:00          1.910\n",
       "2008-08-04 22:00:00          2.140\n",
       "2008-08-04 23:00:00          2.145\n",
       "2008-09-04 18:00:00          1.910\n",
       "2008-09-04 19:00:00          1.940\n",
       "2008-09-04 20:00:00          1.880\n",
       "2008-09-13 03:00:00          2.220\n",
       "2008-09-13 13:00:00          1.970\n",
       "2009-06-19 11:00:00          2.160\n",
       "2009-06-19 12:00:00          2.170\n",
       "2009-06-19 13:00:00          2.170\n",
       "2009-06-19 14:00:00          2.090\n",
       "2011-05-29 13:00:00          1.885\n",
       "2011-05-29 14:00:00          1.885\n",
       "2011-05-29 15:00:00          1.880\n",
       "2013-04-18 02:00:00          2.070\n",
       "2013-04-18 08:00:00          1.970\n",
       "2014-06-30 21:00:00          2.095\n",
       "2014-06-30 22:00:00          2.230\n",
       "2014-08-04 19:00:00          2.220\n",
       "2015-02-01 22:00:00          1.955"
      ]
     },
     "execution_count": 7,
     "metadata": {},
     "output_type": "execute_result"
    }
   ],
   "source": [
    "roll_6_1yr = roll_6[(roll_6['hourly_precip'] >= 1.88) & (roll_6['hourly_precip'] < 2.28)]\n",
    "print('{} days with 1-year events in Northeast Illinois'.format(len(roll_6_1yr.groupby(roll_6_1yr.index.date))))\n",
    "roll_6_1yr"
   ]
  },
  {
   "cell_type": "code",
   "execution_count": 8,
   "metadata": {
    "collapsed": false
   },
   "outputs": [
    {
     "name": "stdout",
     "output_type": "stream",
     "text": [
      "11 days with 2-year events in Northeast Illinois\n"
     ]
    },
    {
     "data": {
      "text/html": [
       "<div>\n",
       "<table border=\"1\" class=\"dataframe\">\n",
       "  <thead>\n",
       "    <tr style=\"text-align: right;\">\n",
       "      <th></th>\n",
       "      <th>hourly_precip</th>\n",
       "    </tr>\n",
       "  </thead>\n",
       "  <tbody>\n",
       "    <tr>\n",
       "      <th>2001-10-13 15:00:00</th>\n",
       "      <td>2.740</td>\n",
       "    </tr>\n",
       "    <tr>\n",
       "      <th>2001-10-13 19:00:00</th>\n",
       "      <td>2.540</td>\n",
       "    </tr>\n",
       "    <tr>\n",
       "      <th>2002-08-13 18:00:00</th>\n",
       "      <td>2.365</td>\n",
       "    </tr>\n",
       "    <tr>\n",
       "      <th>2002-08-22 07:00:00</th>\n",
       "      <td>2.410</td>\n",
       "    </tr>\n",
       "    <tr>\n",
       "      <th>2008-09-13 04:00:00</th>\n",
       "      <td>2.490</td>\n",
       "    </tr>\n",
       "    <tr>\n",
       "      <th>2008-09-13 11:00:00</th>\n",
       "      <td>2.720</td>\n",
       "    </tr>\n",
       "    <tr>\n",
       "      <th>2010-07-23 23:00:00</th>\n",
       "      <td>2.535</td>\n",
       "    </tr>\n",
       "    <tr>\n",
       "      <th>2010-07-24 06:00:00</th>\n",
       "      <td>2.730</td>\n",
       "    </tr>\n",
       "    <tr>\n",
       "      <th>2010-07-24 07:00:00</th>\n",
       "      <td>2.550</td>\n",
       "    </tr>\n",
       "    <tr>\n",
       "      <th>2011-07-23 00:00:00</th>\n",
       "      <td>2.630</td>\n",
       "    </tr>\n",
       "    <tr>\n",
       "      <th>2013-04-18 03:00:00</th>\n",
       "      <td>2.840</td>\n",
       "    </tr>\n",
       "    <tr>\n",
       "      <th>2013-04-18 05:00:00</th>\n",
       "      <td>2.690</td>\n",
       "    </tr>\n",
       "    <tr>\n",
       "      <th>2013-04-18 07:00:00</th>\n",
       "      <td>2.770</td>\n",
       "    </tr>\n",
       "    <tr>\n",
       "      <th>2014-08-04 20:00:00</th>\n",
       "      <td>2.565</td>\n",
       "    </tr>\n",
       "    <tr>\n",
       "      <th>2014-08-04 21:00:00</th>\n",
       "      <td>2.585</td>\n",
       "    </tr>\n",
       "    <tr>\n",
       "      <th>2014-08-04 22:00:00</th>\n",
       "      <td>2.660</td>\n",
       "    </tr>\n",
       "    <tr>\n",
       "      <th>2014-08-04 23:00:00</th>\n",
       "      <td>2.570</td>\n",
       "    </tr>\n",
       "    <tr>\n",
       "      <th>2014-08-05 00:00:00</th>\n",
       "      <td>2.315</td>\n",
       "    </tr>\n",
       "    <tr>\n",
       "      <th>2015-02-02 15:00:00</th>\n",
       "      <td>2.610</td>\n",
       "    </tr>\n",
       "  </tbody>\n",
       "</table>\n",
       "</div>"
      ],
      "text/plain": [
       "                     hourly_precip\n",
       "2001-10-13 15:00:00          2.740\n",
       "2001-10-13 19:00:00          2.540\n",
       "2002-08-13 18:00:00          2.365\n",
       "2002-08-22 07:00:00          2.410\n",
       "2008-09-13 04:00:00          2.490\n",
       "2008-09-13 11:00:00          2.720\n",
       "2010-07-23 23:00:00          2.535\n",
       "2010-07-24 06:00:00          2.730\n",
       "2010-07-24 07:00:00          2.550\n",
       "2011-07-23 00:00:00          2.630\n",
       "2013-04-18 03:00:00          2.840\n",
       "2013-04-18 05:00:00          2.690\n",
       "2013-04-18 07:00:00          2.770\n",
       "2014-08-04 20:00:00          2.565\n",
       "2014-08-04 21:00:00          2.585\n",
       "2014-08-04 22:00:00          2.660\n",
       "2014-08-04 23:00:00          2.570\n",
       "2014-08-05 00:00:00          2.315\n",
       "2015-02-02 15:00:00          2.610"
      ]
     },
     "execution_count": 8,
     "metadata": {},
     "output_type": "execute_result"
    }
   ],
   "source": [
    "# Many of these are from the same days, but over slightly different intervals as mentioned before\n",
    "roll_6_2yr = roll_6[(roll_6['hourly_precip'] >= 2.28) & (roll_6['hourly_precip'] < 2.85)]\n",
    "print('{} days with 2-year events in Northeast Illinois'.format(len(roll_6_2yr.groupby(roll_6_2yr.index.date))))\n",
    "roll_6_2yr"
   ]
  },
  {
   "cell_type": "code",
   "execution_count": 9,
   "metadata": {
    "collapsed": true
   },
   "outputs": [],
   "source": [
    "# Helper function taking the series, window, and list of cutoffs to make this quicker, returns the subset\n",
    "def rolling_results(rain_series, window, rain_cutoffs):\n",
    "    window_df = pd.DataFrame(rain_series.rolling(window=window).sum())\n",
    "    print('For {}-hour intervals'.format(window))\n",
    "    print('{} 1-year events for Northeast Illinois'.format(len(window_df[(window_df['hourly_precip'] >= rain_cutoffs[0]) & \n",
    "                                                                         (window_df['hourly_precip'] < rain_cutoffs[1])])))\n",
    "    print('{} 2-year events for Northeast Illinois'.format(len(window_df[(window_df['hourly_precip'] >= rain_cutoffs[1]) & \n",
    "                                                                         (window_df['hourly_precip'] < rain_cutoffs[2])])))\n",
    "    print('{} 5-year events for Northeast Illinois'.format(len(window_df[(window_df['hourly_precip'] >= rain_cutoffs[2]) & \n",
    "                                                                         (window_df['hourly_precip'] < rain_cutoffs[3])])))\n",
    "    print('{} 10-year events for Northeast Illinois'.format(len(window_df[(window_df['hourly_precip'] >= rain_cutoffs[3]) & \n",
    "                                                                         (window_df['hourly_precip'] < rain_cutoffs[4])])))\n",
    "    print('{} 25-year events for Northeast Illinois'.format(len(window_df[(window_df['hourly_precip'] >= rain_cutoffs[4]) & \n",
    "                                                                          (window_df['hourly_precip'] < rain_cutoffs[5])])))\n",
    "    print('{} 50-year events for Northeast Illinois'.format(len(window_df[(window_df['hourly_precip'] >= rain_cutoffs[5]) & \n",
    "                                                                          (window_df['hourly_precip'] < rain_cutoffs[6])])))\n",
    "    print('{} 100-year events for Northeast Illinois'.format(len(window_df[window_df['hourly_precip'] >= rain_cutoffs[6]])))\n",
    "    \n",
    "# Gets the subset of the dataframe for the given cutoff index (i.e. 5 year is the third, so cutoff_index would be 3)\n",
    "def rolling_subset(rain_series, window, rain_cutoffs, cutoff_index):\n",
    "    window_df = pd.DataFrame(rain_series.rolling(window=window).sum())\n",
    "    if cutoff_index <= 6:\n",
    "        return window_df[(window_df['hourly_precip'] >= rain_cutoffs[cutoff_index - 1]) & (roll_6['hourly_precip'] < 2.85)]\n",
    "    if cutoff_index == 7:\n",
    "        return window_df[window_df['hourly_precip'] >= rain_cutoffs[cutoff_index -1]]"
   ]
  },
  {
   "cell_type": "code",
   "execution_count": 10,
   "metadata": {
    "collapsed": false
   },
   "outputs": [
    {
     "name": "stdout",
     "output_type": "stream",
     "text": [
      "For 12-hour intervals\n",
      "58 1-year events for Northeast Illinois\n",
      "24 2-year events for Northeast Illinois\n",
      "28 5-year events for Northeast Illinois\n",
      "25 10-year events for Northeast Illinois\n",
      "7 25-year events for Northeast Illinois\n",
      "11 50-year events for Northeast Illinois\n",
      "21 100-year events for Northeast Illinois\n"
     ]
    }
   ],
   "source": [
    "cutoffs_12hr = [2.18, 2.64, 3.31, 3.89, 4.79, 5.6, 6.59]\n",
    "rolling_results(chi_rain_series, 12, cutoffs_12hr)"
   ]
  },
  {
   "cell_type": "code",
   "execution_count": 11,
   "metadata": {
    "collapsed": false
   },
   "outputs": [
    {
     "name": "stdout",
     "output_type": "stream",
     "text": [
      "14 days with 2-year events for 12 hrs in Northeast Illinois\n"
     ]
    }
   ],
   "source": [
    "roll_12_2yr = rolling_subset(chi_rain_series, 12, cutoffs_12hr, 2)\n",
    "print('{} days with 2-year events for 12 hrs in Northeast Illinois'.format(len(roll_12_2yr.groupby(roll_12_2yr.index.date))))"
   ]
  },
  {
   "cell_type": "code",
   "execution_count": 12,
   "metadata": {
    "collapsed": false
   },
   "outputs": [
    {
     "name": "stdout",
     "output_type": "stream",
     "text": [
      "For 24-hour intervals\n",
      "87 1-year events for Northeast Illinois\n",
      "52 2-year events for Northeast Illinois\n",
      "62 5-year events for Northeast Illinois\n",
      "20 10-year events for Northeast Illinois\n",
      "24 25-year events for Northeast Illinois\n",
      "29 50-year events for Northeast Illinois\n",
      "30 100-year events for Northeast Illinois\n"
     ]
    }
   ],
   "source": [
    "cutoffs_24hr = [2.51, 3.04, 3.80, 4.47, 5.51, 6.46, 7.58]\n",
    "rolling_results(chi_rain_series, 24, cutoffs_24hr)"
   ]
  },
  {
   "cell_type": "code",
   "execution_count": 13,
   "metadata": {
    "collapsed": false
   },
   "outputs": [
    {
     "name": "stdout",
     "output_type": "stream",
     "text": [
      "33 days with 1-year events for 24 hrs in Northeast Illinois\n"
     ]
    }
   ],
   "source": [
    "roll_24_1yr = rolling_subset(chi_rain_series, 24, cutoffs_24hr, 1)\n",
    "print('{} days with 1-year events for 24 hrs in Northeast Illinois'.format(len(roll_24_1yr.groupby(roll_24_1yr.index.date))))"
   ]
  },
  {
   "cell_type": "code",
   "execution_count": 14,
   "metadata": {
    "collapsed": false
   },
   "outputs": [
    {
     "name": "stdout",
     "output_type": "stream",
     "text": [
      "For 48-hour intervals\n",
      "199 1-year events for Northeast Illinois\n",
      "114 2-year events for Northeast Illinois\n",
      "123 5-year events for Northeast Illinois\n",
      "43 10-year events for Northeast Illinois\n",
      "47 25-year events for Northeast Illinois\n",
      "41 50-year events for Northeast Illinois\n",
      "90 100-year events for Northeast Illinois\n"
     ]
    }
   ],
   "source": [
    "cutoffs_48hr = [2.70, 3.30, 4.09, 4.81, 5.88, 6.84, 8.16]\n",
    "rolling_results(chi_rain_series, 48, cutoffs_48hr)"
   ]
  },
  {
   "cell_type": "code",
   "execution_count": 15,
   "metadata": {
    "collapsed": false
   },
   "outputs": [
    {
     "name": "stdout",
     "output_type": "stream",
     "text": [
      "50 days with 1-year events for 48 hrs in Northeast Illinois\n"
     ]
    }
   ],
   "source": [
    "roll_48_1yr = rolling_subset(chi_rain_series, 48, cutoffs_48hr, 1)\n",
    "print('{} days with 1-year events for 48 hrs in Northeast Illinois'.format(len(roll_48_1yr.groupby(roll_48_1yr.index.date))))"
   ]
  },
  {
   "cell_type": "markdown",
   "metadata": {
    "collapsed": true
   },
   "source": [
    "**Note:** Because the rolling window pulls from the same overlapping period multiple times, it makes sense that longer time periods have higher amounts of events at the lower end of the spectrum. They're pulling from the same incidents more times than the shorter intervals can"
   ]
  },
  {
   "cell_type": "code",
   "execution_count": null,
   "metadata": {
    "collapsed": true
   },
   "outputs": [],
   "source": []
  }
 ],
 "metadata": {
  "kernelspec": {
   "display_name": "Python 3",
   "language": "python",
   "name": "python3"
  },
  "language_info": {
   "codemirror_mode": {
    "name": "ipython",
    "version": 3
   },
   "file_extension": ".py",
   "mimetype": "text/x-python",
   "name": "python",
   "nbconvert_exporter": "python",
   "pygments_lexer": "ipython3",
   "version": "3.5.1"
  }
 },
 "nbformat": 4,
 "nbformat_minor": 0
}
