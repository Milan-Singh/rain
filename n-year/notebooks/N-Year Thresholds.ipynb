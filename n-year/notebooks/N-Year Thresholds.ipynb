{
 "cells": [
  {
   "cell_type": "markdown",
   "metadata": {},
   "source": [
    "# N-Year Thresholds\n",
    "The N-Year thresholds, which are defined by Bulletin 70, describe how much precipitation must fall in a given time frame to be classified as an n-year storm.  In this notebook, I take a look at the thresholds themselves"
   ]
  },
  {
   "cell_type": "code",
   "execution_count": 1,
   "metadata": {
    "collapsed": true
   },
   "outputs": [],
   "source": [
    "from __future__ import absolute_import, division, print_function, unicode_literals\n",
    "\n",
    "import pandas as pd\n",
    "from datetime import datetime, timedelta\n",
    "import operator\n",
    "import matplotlib.pyplot as plt\n",
    "from collections import namedtuple\n",
    "%matplotlib inline"
   ]
  },
  {
   "cell_type": "code",
   "execution_count": 2,
   "metadata": {
    "collapsed": false,
    "scrolled": true
   },
   "outputs": [
    {
     "data": {
      "text/html": [
       "<div>\n",
       "<table border=\"1\" class=\"dataframe\">\n",
       "  <thead>\n",
       "    <tr style=\"text-align: right;\">\n",
       "      <th></th>\n",
       "      <th>1-year</th>\n",
       "      <th>2-year</th>\n",
       "      <th>5-year</th>\n",
       "      <th>10-year</th>\n",
       "      <th>25-year</th>\n",
       "      <th>50-year</th>\n",
       "      <th>100-year</th>\n",
       "    </tr>\n",
       "    <tr>\n",
       "      <th>Duration</th>\n",
       "      <th></th>\n",
       "      <th></th>\n",
       "      <th></th>\n",
       "      <th></th>\n",
       "      <th></th>\n",
       "      <th></th>\n",
       "      <th></th>\n",
       "    </tr>\n",
       "  </thead>\n",
       "  <tbody>\n",
       "    <tr>\n",
       "      <th>5-min</th>\n",
       "      <td>0.30</td>\n",
       "      <td>0.36</td>\n",
       "      <td>0.46</td>\n",
       "      <td>0.54</td>\n",
       "      <td>0.66</td>\n",
       "      <td>0.78</td>\n",
       "      <td>0.91</td>\n",
       "    </tr>\n",
       "    <tr>\n",
       "      <th>10-min</th>\n",
       "      <td>0.55</td>\n",
       "      <td>0.67</td>\n",
       "      <td>0.84</td>\n",
       "      <td>0.98</td>\n",
       "      <td>1.21</td>\n",
       "      <td>1.42</td>\n",
       "      <td>1.67</td>\n",
       "    </tr>\n",
       "    <tr>\n",
       "      <th>15-min</th>\n",
       "      <td>0.68</td>\n",
       "      <td>0.82</td>\n",
       "      <td>1.03</td>\n",
       "      <td>1.21</td>\n",
       "      <td>1.49</td>\n",
       "      <td>1.75</td>\n",
       "      <td>2.05</td>\n",
       "    </tr>\n",
       "    <tr>\n",
       "      <th>30-min</th>\n",
       "      <td>0.93</td>\n",
       "      <td>1.12</td>\n",
       "      <td>1.41</td>\n",
       "      <td>1.65</td>\n",
       "      <td>2.04</td>\n",
       "      <td>2.39</td>\n",
       "      <td>2.80</td>\n",
       "    </tr>\n",
       "    <tr>\n",
       "      <th>1-hr</th>\n",
       "      <td>1.18</td>\n",
       "      <td>1.43</td>\n",
       "      <td>1.79</td>\n",
       "      <td>2.10</td>\n",
       "      <td>2.59</td>\n",
       "      <td>3.04</td>\n",
       "      <td>3.56</td>\n",
       "    </tr>\n",
       "    <tr>\n",
       "      <th>2-hr</th>\n",
       "      <td>1.48</td>\n",
       "      <td>1.79</td>\n",
       "      <td>2.24</td>\n",
       "      <td>2.64</td>\n",
       "      <td>3.25</td>\n",
       "      <td>3.82</td>\n",
       "      <td>4.47</td>\n",
       "    </tr>\n",
       "    <tr>\n",
       "      <th>3-hr</th>\n",
       "      <td>1.60</td>\n",
       "      <td>1.94</td>\n",
       "      <td>2.43</td>\n",
       "      <td>2.86</td>\n",
       "      <td>3.53</td>\n",
       "      <td>4.14</td>\n",
       "      <td>4.85</td>\n",
       "    </tr>\n",
       "    <tr>\n",
       "      <th>6-hr</th>\n",
       "      <td>1.88</td>\n",
       "      <td>2.28</td>\n",
       "      <td>2.85</td>\n",
       "      <td>3.35</td>\n",
       "      <td>4.13</td>\n",
       "      <td>4.85</td>\n",
       "      <td>5.68</td>\n",
       "    </tr>\n",
       "    <tr>\n",
       "      <th>12-hr</th>\n",
       "      <td>2.18</td>\n",
       "      <td>2.64</td>\n",
       "      <td>3.31</td>\n",
       "      <td>3.89</td>\n",
       "      <td>4.79</td>\n",
       "      <td>5.62</td>\n",
       "      <td>6.59</td>\n",
       "    </tr>\n",
       "    <tr>\n",
       "      <th>18-hr</th>\n",
       "      <td>2.30</td>\n",
       "      <td>2.79</td>\n",
       "      <td>3.50</td>\n",
       "      <td>4.11</td>\n",
       "      <td>5.06</td>\n",
       "      <td>5.95</td>\n",
       "      <td>6.97</td>\n",
       "    </tr>\n",
       "    <tr>\n",
       "      <th>24-hr</th>\n",
       "      <td>2.51</td>\n",
       "      <td>3.04</td>\n",
       "      <td>3.80</td>\n",
       "      <td>4.47</td>\n",
       "      <td>5.51</td>\n",
       "      <td>6.46</td>\n",
       "      <td>7.58</td>\n",
       "    </tr>\n",
       "    <tr>\n",
       "      <th>48-hr</th>\n",
       "      <td>2.70</td>\n",
       "      <td>3.30</td>\n",
       "      <td>4.09</td>\n",
       "      <td>4.81</td>\n",
       "      <td>5.88</td>\n",
       "      <td>6.84</td>\n",
       "      <td>8.16</td>\n",
       "    </tr>\n",
       "    <tr>\n",
       "      <th>72-hr</th>\n",
       "      <td>2.93</td>\n",
       "      <td>3.55</td>\n",
       "      <td>4.44</td>\n",
       "      <td>5.18</td>\n",
       "      <td>6.32</td>\n",
       "      <td>7.41</td>\n",
       "      <td>8.78</td>\n",
       "    </tr>\n",
       "    <tr>\n",
       "      <th>5-day</th>\n",
       "      <td>3.25</td>\n",
       "      <td>3.93</td>\n",
       "      <td>4.91</td>\n",
       "      <td>5.70</td>\n",
       "      <td>6.93</td>\n",
       "      <td>8.04</td>\n",
       "      <td>9.96</td>\n",
       "    </tr>\n",
       "    <tr>\n",
       "      <th>10-day</th>\n",
       "      <td>4.12</td>\n",
       "      <td>4.95</td>\n",
       "      <td>6.04</td>\n",
       "      <td>6.89</td>\n",
       "      <td>8.18</td>\n",
       "      <td>9.38</td>\n",
       "      <td>11.14</td>\n",
       "    </tr>\n",
       "  </tbody>\n",
       "</table>\n",
       "</div>"
      ],
      "text/plain": [
       "          1-year  2-year  5-year  10-year  25-year  50-year  100-year\n",
       "Duration                                                             \n",
       "5-min       0.30    0.36    0.46     0.54     0.66     0.78      0.91\n",
       "10-min      0.55    0.67    0.84     0.98     1.21     1.42      1.67\n",
       "15-min      0.68    0.82    1.03     1.21     1.49     1.75      2.05\n",
       "30-min      0.93    1.12    1.41     1.65     2.04     2.39      2.80\n",
       "1-hr        1.18    1.43    1.79     2.10     2.59     3.04      3.56\n",
       "2-hr        1.48    1.79    2.24     2.64     3.25     3.82      4.47\n",
       "3-hr        1.60    1.94    2.43     2.86     3.53     4.14      4.85\n",
       "6-hr        1.88    2.28    2.85     3.35     4.13     4.85      5.68\n",
       "12-hr       2.18    2.64    3.31     3.89     4.79     5.62      6.59\n",
       "18-hr       2.30    2.79    3.50     4.11     5.06     5.95      6.97\n",
       "24-hr       2.51    3.04    3.80     4.47     5.51     6.46      7.58\n",
       "48-hr       2.70    3.30    4.09     4.81     5.88     6.84      8.16\n",
       "72-hr       2.93    3.55    4.44     5.18     6.32     7.41      8.78\n",
       "5-day       3.25    3.93    4.91     5.70     6.93     8.04      9.96\n",
       "10-day      4.12    4.95    6.04     6.89     8.18     9.38     11.14"
      ]
     },
     "execution_count": 2,
     "metadata": {},
     "output_type": "execute_result"
    }
   ],
   "source": [
    "# N-Year Storm variables\n",
    "# These define the thresholds laid out by bulletin 70, and transfer mins and days to hours\n",
    "n_year_threshes = pd.read_csv('../../n-year/notebooks/data/n_year_definitions.csv')\n",
    "n_year_threshes = n_year_threshes.set_index('Duration')\n",
    "dur_str_to_hours = {\n",
    "    '5-min':0.0833,\n",
    "    '10-min':0.1667,\n",
    "    '15-min':15/60.0,\n",
    "    '30-min':0.5,\n",
    "    '1-hr':1.0,\n",
    "    '2-hr':2.0,\n",
    "    '3-hr':3.0,\n",
    "    '6-hr':6.0,\n",
    "    '12-hr':12.0,\n",
    "    '18-hr':18.0,\n",
    "    '24-hr':24.0,\n",
    "    '48-hr':48.0,\n",
    "    '72-hr':72.0,\n",
    "    '5-day':5*24.0,\n",
    "    '10-day':10*24.0\n",
    "}\n",
    "n_s = [int(x.replace('-year','')) for x in reversed(list(n_year_threshes.columns.values))]\n",
    "duration_strs = sorted(dur_str_to_hours.items(), key=operator.itemgetter(1), reverse=False)\n",
    "n_year_threshes = n_year_threshes.iloc[::-1]\n",
    "n_year_threshes"
   ]
  },
  {
   "cell_type": "code",
   "execution_count": 3,
   "metadata": {
    "collapsed": false
   },
   "outputs": [
    {
     "data": {
      "text/plain": [
       "<matplotlib.axes._subplots.AxesSubplot at 0x7e88b38>"
      ]
     },
     "execution_count": 3,
     "metadata": {},
     "output_type": "execute_result"
    },
    {
     "data": {
      "image/png": "[encoded data removed]",
      "text/plain": [
       "<matplotlib.figure.Figure at 0x7e88438>"
      ]
     },
     "metadata": {},
     "output_type": "display_data"
    }
   ],
   "source": [
    "n_year_threshes.transpose().loc[['1-year', '10-year', '100-year']].plot(kind='bar', title='Rainfall durations for n-year storms')"
   ]
  },
  {
   "cell_type": "code",
   "execution_count": 4,
   "metadata": {
    "collapsed": false
   },
   "outputs": [
    {
     "data": {
      "text/plain": [
       "<matplotlib.axes._subplots.AxesSubplot at 0x867ee10>"
      ]
     },
     "execution_count": 4,
     "metadata": {},
     "output_type": "execute_result"
    },
    {
     "data": {
      "image/png": "[encoded data removed]",
      "text/plain": [
       "<matplotlib.figure.Figure at 0x842aa58>"
      ]
     },
     "metadata": {},
     "output_type": "display_data"
    }
   ],
   "source": [
    "n_year_threshes[['1-year', '10-year', '100-year']].plot(kind='bar', title='How much rainfaill it takes for n-years given duration')"
   ]
  },
  {
   "cell_type": "code",
   "execution_count": 5,
   "metadata": {
    "collapsed": false
   },
   "outputs": [
    {
     "data": {
      "text/html": [
       "<div>\n",
       "<table border=\"1\" class=\"dataframe\">\n",
       "  <thead>\n",
       "    <tr style=\"text-align: right;\">\n",
       "      <th></th>\n",
       "      <th>1-year</th>\n",
       "      <th>2-year</th>\n",
       "      <th>5-year</th>\n",
       "      <th>10-year</th>\n",
       "      <th>25-year</th>\n",
       "      <th>50-year</th>\n",
       "      <th>100-year</th>\n",
       "    </tr>\n",
       "    <tr>\n",
       "      <th>hours_duration</th>\n",
       "      <th></th>\n",
       "      <th></th>\n",
       "      <th></th>\n",
       "      <th></th>\n",
       "      <th></th>\n",
       "      <th></th>\n",
       "      <th></th>\n",
       "    </tr>\n",
       "  </thead>\n",
       "  <tbody>\n",
       "    <tr>\n",
       "      <th>0.0833</th>\n",
       "      <td>0.30</td>\n",
       "      <td>0.36</td>\n",
       "      <td>0.46</td>\n",
       "      <td>0.54</td>\n",
       "      <td>0.66</td>\n",
       "      <td>0.78</td>\n",
       "      <td>0.91</td>\n",
       "    </tr>\n",
       "    <tr>\n",
       "      <th>0.1667</th>\n",
       "      <td>0.55</td>\n",
       "      <td>0.67</td>\n",
       "      <td>0.84</td>\n",
       "      <td>0.98</td>\n",
       "      <td>1.21</td>\n",
       "      <td>1.42</td>\n",
       "      <td>1.67</td>\n",
       "    </tr>\n",
       "    <tr>\n",
       "      <th>0.2500</th>\n",
       "      <td>0.68</td>\n",
       "      <td>0.82</td>\n",
       "      <td>1.03</td>\n",
       "      <td>1.21</td>\n",
       "      <td>1.49</td>\n",
       "      <td>1.75</td>\n",
       "      <td>2.05</td>\n",
       "    </tr>\n",
       "    <tr>\n",
       "      <th>0.5000</th>\n",
       "      <td>0.93</td>\n",
       "      <td>1.12</td>\n",
       "      <td>1.41</td>\n",
       "      <td>1.65</td>\n",
       "      <td>2.04</td>\n",
       "      <td>2.39</td>\n",
       "      <td>2.80</td>\n",
       "    </tr>\n",
       "    <tr>\n",
       "      <th>1.0000</th>\n",
       "      <td>1.18</td>\n",
       "      <td>1.43</td>\n",
       "      <td>1.79</td>\n",
       "      <td>2.10</td>\n",
       "      <td>2.59</td>\n",
       "      <td>3.04</td>\n",
       "      <td>3.56</td>\n",
       "    </tr>\n",
       "  </tbody>\n",
       "</table>\n",
       "</div>"
      ],
      "text/plain": [
       "                1-year  2-year  5-year  10-year  25-year  50-year  100-year\n",
       "hours_duration                                                             \n",
       "0.0833            0.30    0.36    0.46     0.54     0.66     0.78      0.91\n",
       "0.1667            0.55    0.67    0.84     0.98     1.21     1.42      1.67\n",
       "0.2500            0.68    0.82    1.03     1.21     1.49     1.75      2.05\n",
       "0.5000            0.93    1.12    1.41     1.65     2.04     2.39      2.80\n",
       "1.0000            1.18    1.43    1.79     2.10     2.59     3.04      3.56"
      ]
     },
     "execution_count": 5,
     "metadata": {},
     "output_type": "execute_result"
    }
   ],
   "source": [
    "# Convert durations to hours, so that they make more sense on an axis\n",
    "n_year_threshes['duration'] = n_year_threshes.index.values\n",
    "def find_duration_hours(duration_str):\n",
    "    return dur_str_to_hours[duration_str]\n",
    "n_year_threshes['hours_duration'] = n_year_threshes['duration'].apply(find_duration_hours)\n",
    "n_year_threshes = n_year_threshes.drop('duration', 1)\n",
    "n_year_threshes = n_year_threshes.set_index('hours_duration')\n",
    "n_year_threshes.head()"
   ]
  },
  {
   "cell_type": "code",
   "execution_count": 6,
   "metadata": {
    "collapsed": false,
    "scrolled": false
   },
   "outputs": [
    {
     "data": {
      "text/plain": [
       "<matplotlib.axes._subplots.AxesSubplot at 0x8cca128>"
      ]
     },
     "execution_count": 6,
     "metadata": {},
     "output_type": "execute_result"
    },
    {
     "data": {
      "image/png": "[encoded data removed]",
      "text/plain": [
       "<matplotlib.figure.Figure at 0x8cd8e10>"
      ]
     },
     "metadata": {},
     "output_type": "display_data"
    }
   ],
   "source": [
    "n_year_threshes.plot(kind='line', title='Duration vs Inches for the N-Year Storm')"
   ]
  },
  {
   "cell_type": "markdown",
   "metadata": {},
   "source": [
    "### We know that 2 inches of rainfall in 10 days ain't bad, but in 1 hour is.  Let's take a look at that relationship, so that we can ask the question -- if we get n inches of rainfall, let's see how fast it must fall to be considered an n-year storm"
   ]
  },
  {
   "cell_type": "code",
   "execution_count": 7,
   "metadata": {
    "collapsed": false
   },
   "outputs": [],
   "source": [
    "# This method takes in a number of inches, and plots various durations and how they're classified as n-year storms\n",
    "# as a bar chart\n",
    "def inches_to_storm(inches):\n",
    "    ret_val = []\n",
    "    thresholds = n_year_threshes.transpose()\n",
    "    for storm in list(thresholds.index.values):\n",
    "        the_storm = thresholds.loc[storm]\n",
    "        storms_higher = the_storm.loc[the_storm > inches]\n",
    "        if len(storms_higher) == 0:\n",
    "            continue\n",
    "        upper_hours = the_storm.loc[the_storm >= inches].index[0]\n",
    "        upper_inches = the_storm.loc[the_storm >= inches].iloc[0]\n",
    "        try:\n",
    "            lower_hours = the_storm.loc[the_storm < inches].iloc[::-1].index[0]\n",
    "            lower_inches = the_storm.loc[the_storm < inches].iloc[::-1].iloc[0]\n",
    "        except:\n",
    "            lower_hours = 0\n",
    "            lower_inches = 0\n",
    "        percent_across = (inches-lower_inches) / (upper_inches - lower_inches)\n",
    "        duration = lower_hours + ((upper_hours - lower_hours) * percent_across)\n",
    "        ret_val.append({'storm': storm, 'hours': duration})\n",
    "    ret_val = pd.DataFrame(ret_val)\n",
    "    ret_val = ret_val.set_index('storm')\n",
    "    ret_val.plot(kind='bar', title='%s Inches over Duration to Classify the N-Year Storms' % str(inches))"
   ]
  },
  {
   "cell_type": "code",
   "execution_count": 8,
   "metadata": {
    "collapsed": false
   },
   "outputs": [
    {
     "data": {
      "image/png": "[encoded data removed]",
      "text/plain": [
       "<matplotlib.figure.Figure at 0x8cf0860>"
      ]
     },
     "metadata": {},
     "output_type": "display_data"
    }
   ],
   "source": [
    "inches_to_storm(3.2)"
   ]
  },
  {
   "cell_type": "code",
   "execution_count": null,
   "metadata": {
    "collapsed": true
   },
   "outputs": [],
   "source": []
  }
 ],
 "metadata": {
  "kernelspec": {
   "display_name": "Python 3",
   "language": "python",
   "name": "python3"
  },
  "language_info": {
   "codemirror_mode": {
    "name": "ipython",
    "version": 3
   },
   "file_extension": ".py",
   "mimetype": "text/x-python",
   "name": "python",
   "nbconvert_exporter": "python",
   "pygments_lexer": "ipython3",
   "version": "3.5.2"
  }
 },
 "nbformat": 4,
 "nbformat_minor": 1
}
