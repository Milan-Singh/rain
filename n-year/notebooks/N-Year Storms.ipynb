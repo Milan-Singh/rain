{
 "cells": [
  {
   "cell_type": "code",
   "execution_count": 139,
   "metadata": {
    "collapsed": true
   },
   "outputs": [],
   "source": [
    "from __future__ import absolute_import, division, print_function, unicode_literals\n",
    "\n",
    "import pandas as pd\n",
    "from datetime import datetime, timedelta\n",
    "import operator\n",
    "from collections import namedtuple\n",
    "%matplotlib notebook"
   ]
  },
  {
   "cell_type": "code",
   "execution_count": 140,
   "metadata": {
    "collapsed": false
   },
   "outputs": [
    {
     "data": {
      "text/plain": [
       "2016-08-28 19:00:00   NaN\n",
       "2016-08-28 20:00:00   NaN\n",
       "2016-08-28 21:00:00   NaN\n",
       "2016-08-28 22:00:00   NaN\n",
       "2016-08-28 23:00:00   NaN\n",
       "Freq: H, Name: HOURLYPrecip, dtype: float64"
      ]
     },
     "execution_count": 140,
     "metadata": {},
     "output_type": "execute_result"
    }
   ],
   "source": [
    "# The following code is adopted from Pat's Rolling Rain N-Year Threshold.pynb\n",
    "# Loading in hourly rain data from CSV, parsing the timestamp, and adding it as an index so it's more useful\n",
    "\n",
    "rain_df = pd.read_csv('data/ohare_hourly_20160929.csv')\n",
    "rain_df['datetime'] = pd.to_datetime(rain_df['datetime'])\n",
    "rain_df = rain_df.set_index(pd.DatetimeIndex(rain_df['datetime']))\n",
    "rain_df = rain_df['19700101':]\n",
    "chi_rain_series = rain_df['HOURLYPrecip'].resample('1H', label='right').max()\n",
    "chi_rain_series.tail()"
   ]
  },
  {
   "cell_type": "code",
   "execution_count": 141,
   "metadata": {
    "collapsed": false
   },
   "outputs": [
    {
     "data": {
      "text/html": [
       "<div>\n",
       "<table border=\"1\" class=\"dataframe\">\n",
       "  <thead>\n",
       "    <tr style=\"text-align: right;\">\n",
       "      <th></th>\n",
       "      <th>1-year</th>\n",
       "      <th>2-year</th>\n",
       "      <th>5-year</th>\n",
       "      <th>10-year</th>\n",
       "      <th>25-year</th>\n",
       "      <th>50-year</th>\n",
       "      <th>100-year</th>\n",
       "    </tr>\n",
       "    <tr>\n",
       "      <th>Duration</th>\n",
       "      <th></th>\n",
       "      <th></th>\n",
       "      <th></th>\n",
       "      <th></th>\n",
       "      <th></th>\n",
       "      <th></th>\n",
       "      <th></th>\n",
       "    </tr>\n",
       "  </thead>\n",
       "  <tbody>\n",
       "    <tr>\n",
       "      <th>10-day</th>\n",
       "      <td>4.12</td>\n",
       "      <td>4.95</td>\n",
       "      <td>6.04</td>\n",
       "      <td>6.89</td>\n",
       "      <td>8.18</td>\n",
       "      <td>9.38</td>\n",
       "      <td>11.14</td>\n",
       "    </tr>\n",
       "    <tr>\n",
       "      <th>5-day</th>\n",
       "      <td>3.25</td>\n",
       "      <td>3.93</td>\n",
       "      <td>4.91</td>\n",
       "      <td>5.70</td>\n",
       "      <td>6.93</td>\n",
       "      <td>8.04</td>\n",
       "      <td>9.96</td>\n",
       "    </tr>\n",
       "    <tr>\n",
       "      <th>72-hr</th>\n",
       "      <td>2.93</td>\n",
       "      <td>3.55</td>\n",
       "      <td>4.44</td>\n",
       "      <td>5.18</td>\n",
       "      <td>6.32</td>\n",
       "      <td>7.41</td>\n",
       "      <td>8.78</td>\n",
       "    </tr>\n",
       "    <tr>\n",
       "      <th>48-hr</th>\n",
       "      <td>2.70</td>\n",
       "      <td>3.30</td>\n",
       "      <td>4.09</td>\n",
       "      <td>4.81</td>\n",
       "      <td>5.88</td>\n",
       "      <td>6.84</td>\n",
       "      <td>8.16</td>\n",
       "    </tr>\n",
       "    <tr>\n",
       "      <th>24-hr</th>\n",
       "      <td>2.51</td>\n",
       "      <td>3.04</td>\n",
       "      <td>3.80</td>\n",
       "      <td>4.47</td>\n",
       "      <td>5.51</td>\n",
       "      <td>6.46</td>\n",
       "      <td>7.58</td>\n",
       "    </tr>\n",
       "    <tr>\n",
       "      <th>18-hr</th>\n",
       "      <td>2.30</td>\n",
       "      <td>2.79</td>\n",
       "      <td>3.50</td>\n",
       "      <td>4.11</td>\n",
       "      <td>5.06</td>\n",
       "      <td>5.95</td>\n",
       "      <td>6.97</td>\n",
       "    </tr>\n",
       "    <tr>\n",
       "      <th>12-hr</th>\n",
       "      <td>2.18</td>\n",
       "      <td>2.64</td>\n",
       "      <td>3.31</td>\n",
       "      <td>3.89</td>\n",
       "      <td>4.79</td>\n",
       "      <td>5.62</td>\n",
       "      <td>6.59</td>\n",
       "    </tr>\n",
       "    <tr>\n",
       "      <th>6-hr</th>\n",
       "      <td>1.88</td>\n",
       "      <td>2.28</td>\n",
       "      <td>2.85</td>\n",
       "      <td>3.35</td>\n",
       "      <td>4.13</td>\n",
       "      <td>4.85</td>\n",
       "      <td>5.68</td>\n",
       "    </tr>\n",
       "    <tr>\n",
       "      <th>3-hr</th>\n",
       "      <td>1.60</td>\n",
       "      <td>1.94</td>\n",
       "      <td>2.43</td>\n",
       "      <td>2.86</td>\n",
       "      <td>3.53</td>\n",
       "      <td>4.14</td>\n",
       "      <td>4.85</td>\n",
       "    </tr>\n",
       "    <tr>\n",
       "      <th>2-hr</th>\n",
       "      <td>1.48</td>\n",
       "      <td>1.79</td>\n",
       "      <td>2.24</td>\n",
       "      <td>2.64</td>\n",
       "      <td>3.25</td>\n",
       "      <td>3.82</td>\n",
       "      <td>4.47</td>\n",
       "    </tr>\n",
       "    <tr>\n",
       "      <th>1-hr</th>\n",
       "      <td>1.18</td>\n",
       "      <td>1.43</td>\n",
       "      <td>1.79</td>\n",
       "      <td>2.10</td>\n",
       "      <td>2.59</td>\n",
       "      <td>3.04</td>\n",
       "      <td>3.56</td>\n",
       "    </tr>\n",
       "    <tr>\n",
       "      <th>30-min</th>\n",
       "      <td>0.93</td>\n",
       "      <td>1.12</td>\n",
       "      <td>1.41</td>\n",
       "      <td>1.65</td>\n",
       "      <td>2.04</td>\n",
       "      <td>2.39</td>\n",
       "      <td>2.80</td>\n",
       "    </tr>\n",
       "    <tr>\n",
       "      <th>15-min</th>\n",
       "      <td>0.68</td>\n",
       "      <td>0.82</td>\n",
       "      <td>1.03</td>\n",
       "      <td>1.21</td>\n",
       "      <td>1.49</td>\n",
       "      <td>1.75</td>\n",
       "      <td>2.05</td>\n",
       "    </tr>\n",
       "    <tr>\n",
       "      <th>10-min</th>\n",
       "      <td>0.55</td>\n",
       "      <td>0.67</td>\n",
       "      <td>0.84</td>\n",
       "      <td>0.98</td>\n",
       "      <td>1.21</td>\n",
       "      <td>1.42</td>\n",
       "      <td>1.67</td>\n",
       "    </tr>\n",
       "    <tr>\n",
       "      <th>5-min</th>\n",
       "      <td>0.30</td>\n",
       "      <td>0.36</td>\n",
       "      <td>0.46</td>\n",
       "      <td>0.54</td>\n",
       "      <td>0.66</td>\n",
       "      <td>0.78</td>\n",
       "      <td>0.91</td>\n",
       "    </tr>\n",
       "  </tbody>\n",
       "</table>\n",
       "</div>"
      ],
      "text/plain": [
       "          1-year  2-year  5-year  10-year  25-year  50-year  100-year\n",
       "Duration                                                             \n",
       "10-day      4.12    4.95    6.04     6.89     8.18     9.38     11.14\n",
       "5-day       3.25    3.93    4.91     5.70     6.93     8.04      9.96\n",
       "72-hr       2.93    3.55    4.44     5.18     6.32     7.41      8.78\n",
       "48-hr       2.70    3.30    4.09     4.81     5.88     6.84      8.16\n",
       "24-hr       2.51    3.04    3.80     4.47     5.51     6.46      7.58\n",
       "18-hr       2.30    2.79    3.50     4.11     5.06     5.95      6.97\n",
       "12-hr       2.18    2.64    3.31     3.89     4.79     5.62      6.59\n",
       "6-hr        1.88    2.28    2.85     3.35     4.13     4.85      5.68\n",
       "3-hr        1.60    1.94    2.43     2.86     3.53     4.14      4.85\n",
       "2-hr        1.48    1.79    2.24     2.64     3.25     3.82      4.47\n",
       "1-hr        1.18    1.43    1.79     2.10     2.59     3.04      3.56\n",
       "30-min      0.93    1.12    1.41     1.65     2.04     2.39      2.80\n",
       "15-min      0.68    0.82    1.03     1.21     1.49     1.75      2.05\n",
       "10-min      0.55    0.67    0.84     0.98     1.21     1.42      1.67\n",
       "5-min       0.30    0.36    0.46     0.54     0.66     0.78      0.91"
      ]
     },
     "execution_count": 141,
     "metadata": {},
     "output_type": "execute_result"
    }
   ],
   "source": [
    "# N-Year Storm variables\n",
    "n_year_threshes = pd.read_csv('../../n-year/notebooks/data/n_year_definitions.csv')\n",
    "n_year_threshes = n_year_threshes.set_index('Duration')\n",
    "dur_str_to_hours = {\n",
    "    '5-min':5/60.0,\n",
    "    '10-min':10/60.0,\n",
    "    '15-min':15/60.0,\n",
    "    '30-min':0.5,\n",
    "    '1-hr':1.0,\n",
    "    '2-hr':2.0,\n",
    "    '3-hr':3.0,\n",
    "    '6-hr':6.0,\n",
    "    '12-hr':12.0,\n",
    "    '18-hr':18.0,\n",
    "    '24-hr':24.0,\n",
    "    '48-hr':48.0,\n",
    "    '72-hr':72.0,\n",
    "    '5-day':5*24.0,\n",
    "    '10-day':10*24.0\n",
    "}\n",
    "n_s = [int(x.replace('-year','')) for x in reversed(list(n_year_threshes.columns.values))]\n",
    "duration_strs = sorted(dur_str_to_hours.items(), key=operator.itemgetter(1), reverse=False)\n",
    "n_year_threshes"
   ]
  },
  {
   "cell_type": "code",
   "execution_count": 142,
   "metadata": {
    "collapsed": false
   },
   "outputs": [],
   "source": [
    "# Find n-year storms and store them in a data frame.  Note that there are overlapping storms in the result\n",
    "def find_n_year_storms(start_time, end_time, n):\n",
    "    n_index = n_s.index(n)\n",
    "    next_n = n_s[n_index-1] if n_index != 0 else None\n",
    "    storms = []\n",
    "\n",
    "    for duration_tuple in reversed(duration_strs):\n",
    "\n",
    "        duration_str = duration_tuple[0]\n",
    "        low_thresh = n_year_threshes.loc[duration_str, str(n) + '-year']\n",
    "        high_thresh = n_year_threshes.loc[duration_str, str(next_n) + '-year'] if next_n is not None else None\n",
    "        \n",
    "        duration = int(dur_str_to_hours[duration_str])\n",
    "        sub_series = chi_rain_series[start_time: end_time]\n",
    "        rolling = sub_series.rolling(window=int(duration), min_periods=0).sum()\n",
    "        \n",
    "        if high_thresh is not None:\n",
    "            event_endtimes = rolling[(rolling >= low_thresh) & (rolling < high_thresh)].sort_values(ascending=False)\n",
    "        else:\n",
    "            event_endtimes = rolling[(rolling >= low_thresh)].sort_values(ascending=False)\n",
    "        for index, event_endtime in event_endtimes.iteritems():\n",
    "            storms.append({'n': n, 'end_time': index, 'inches': event_endtime, 'duration_hrs': duration,\n",
    "                          'start_time': index - timedelta(hours=duration)})\n",
    "    return pd.DataFrame(storms)"
   ]
  },
  {
   "cell_type": "code",
   "execution_count": 143,
   "metadata": {
    "collapsed": false
   },
   "outputs": [
    {
     "data": {
      "text/html": [
       "<div>\n",
       "<table border=\"1\" class=\"dataframe\">\n",
       "  <thead>\n",
       "    <tr style=\"text-align: right;\">\n",
       "      <th></th>\n",
       "      <th>duration_hrs</th>\n",
       "      <th>end_time</th>\n",
       "      <th>inches</th>\n",
       "      <th>n</th>\n",
       "      <th>start_time</th>\n",
       "    </tr>\n",
       "  </thead>\n",
       "  <tbody>\n",
       "    <tr>\n",
       "      <th>0</th>\n",
       "      <td>240</td>\n",
       "      <td>1987-08-21 23:00:00</td>\n",
       "      <td>13.55</td>\n",
       "      <td>100</td>\n",
       "      <td>1987-08-11 23:00:00</td>\n",
       "    </tr>\n",
       "    <tr>\n",
       "      <th>1</th>\n",
       "      <td>240</td>\n",
       "      <td>1987-08-22 05:00:00</td>\n",
       "      <td>13.55</td>\n",
       "      <td>100</td>\n",
       "      <td>1987-08-12 05:00:00</td>\n",
       "    </tr>\n",
       "    <tr>\n",
       "      <th>2</th>\n",
       "      <td>240</td>\n",
       "      <td>1987-08-22 07:00:00</td>\n",
       "      <td>13.55</td>\n",
       "      <td>100</td>\n",
       "      <td>1987-08-12 07:00:00</td>\n",
       "    </tr>\n",
       "    <tr>\n",
       "      <th>3</th>\n",
       "      <td>240</td>\n",
       "      <td>1987-08-22 08:00:00</td>\n",
       "      <td>13.55</td>\n",
       "      <td>100</td>\n",
       "      <td>1987-08-12 08:00:00</td>\n",
       "    </tr>\n",
       "    <tr>\n",
       "      <th>4</th>\n",
       "      <td>240</td>\n",
       "      <td>1987-08-22 09:00:00</td>\n",
       "      <td>13.55</td>\n",
       "      <td>100</td>\n",
       "      <td>1987-08-12 09:00:00</td>\n",
       "    </tr>\n",
       "  </tbody>\n",
       "</table>\n",
       "</div>"
      ],
      "text/plain": [
       "   duration_hrs            end_time  inches    n          start_time\n",
       "0           240 1987-08-21 23:00:00   13.55  100 1987-08-11 23:00:00\n",
       "1           240 1987-08-22 05:00:00   13.55  100 1987-08-12 05:00:00\n",
       "2           240 1987-08-22 07:00:00   13.55  100 1987-08-12 07:00:00\n",
       "3           240 1987-08-22 08:00:00   13.55  100 1987-08-12 08:00:00\n",
       "4           240 1987-08-22 09:00:00   13.55  100 1987-08-12 09:00:00"
      ]
     },
     "execution_count": 143,
     "metadata": {},
     "output_type": "execute_result"
    }
   ],
   "source": [
    "# Find all of the n-year storms in the whole rainfall dataset\n",
    "n_year_storms_raw = find_n_year_storms(chi_rain_series.index[0], chi_rain_series.index[-1], 100)\n",
    "for n in n_s[1:]:\n",
    "    n_year_storms_raw = n_year_storms_raw.append(find_n_year_storms(chi_rain_series.index[0], chi_rain_series.index[-1], n))\n",
    "n_year_storms_raw.head()"
   ]
  },
  {
   "cell_type": "code",
   "execution_count": 144,
   "metadata": {
    "collapsed": false
   },
   "outputs": [
    {
     "data": {
      "text/plain": [
       "duration_hrs             int64\n",
       "end_time        datetime64[ns]\n",
       "inches                 float64\n",
       "n                        int64\n",
       "start_time      datetime64[ns]\n",
       "dtype: object"
      ]
     },
     "execution_count": 144,
     "metadata": {},
     "output_type": "execute_result"
    }
   ],
   "source": [
    "n_year_storms_raw.dtypes"
   ]
  },
  {
   "cell_type": "code",
   "execution_count": 145,
   "metadata": {
    "collapsed": false,
    "scrolled": true
   },
   "outputs": [
    {
     "data": {
      "text/html": [
       "<div>\n",
       "<table border=\"1\" class=\"dataframe\">\n",
       "  <thead>\n",
       "    <tr style=\"text-align: right;\">\n",
       "      <th></th>\n",
       "      <th>n</th>\n",
       "      <th>duration_hrs</th>\n",
       "      <th>start_time</th>\n",
       "      <th>end_time</th>\n",
       "      <th>inches</th>\n",
       "    </tr>\n",
       "  </thead>\n",
       "  <tbody>\n",
       "    <tr>\n",
       "      <th>0</th>\n",
       "      <td>100</td>\n",
       "      <td>240</td>\n",
       "      <td>1987-08-11 23:00:00</td>\n",
       "      <td>1987-08-21 23:00:00</td>\n",
       "      <td>13.55</td>\n",
       "    </tr>\n",
       "    <tr>\n",
       "      <th>1</th>\n",
       "      <td>100</td>\n",
       "      <td>240</td>\n",
       "      <td>1987-08-12 05:00:00</td>\n",
       "      <td>1987-08-22 05:00:00</td>\n",
       "      <td>13.55</td>\n",
       "    </tr>\n",
       "    <tr>\n",
       "      <th>2</th>\n",
       "      <td>100</td>\n",
       "      <td>240</td>\n",
       "      <td>1987-08-12 07:00:00</td>\n",
       "      <td>1987-08-22 07:00:00</td>\n",
       "      <td>13.55</td>\n",
       "    </tr>\n",
       "    <tr>\n",
       "      <th>3</th>\n",
       "      <td>100</td>\n",
       "      <td>240</td>\n",
       "      <td>1987-08-12 08:00:00</td>\n",
       "      <td>1987-08-22 08:00:00</td>\n",
       "      <td>13.55</td>\n",
       "    </tr>\n",
       "    <tr>\n",
       "      <th>4</th>\n",
       "      <td>100</td>\n",
       "      <td>240</td>\n",
       "      <td>1987-08-12 09:00:00</td>\n",
       "      <td>1987-08-22 09:00:00</td>\n",
       "      <td>13.55</td>\n",
       "    </tr>\n",
       "  </tbody>\n",
       "</table>\n",
       "</div>"
      ],
      "text/plain": [
       "     n  duration_hrs          start_time            end_time  inches\n",
       "0  100           240 1987-08-11 23:00:00 1987-08-21 23:00:00   13.55\n",
       "1  100           240 1987-08-12 05:00:00 1987-08-22 05:00:00   13.55\n",
       "2  100           240 1987-08-12 07:00:00 1987-08-22 07:00:00   13.55\n",
       "3  100           240 1987-08-12 08:00:00 1987-08-22 08:00:00   13.55\n",
       "4  100           240 1987-08-12 09:00:00 1987-08-22 09:00:00   13.55"
      ]
     },
     "execution_count": 145,
     "metadata": {},
     "output_type": "execute_result"
    }
   ],
   "source": [
    "# Re-order the dataframe to make it clearer\n",
    "n_year_storms_raw = n_year_storms_raw[['n', 'duration_hrs', 'start_time', 'end_time', 'inches']]\n",
    "n_year_storms_raw.head()"
   ]
  },
  {
   "cell_type": "markdown",
   "metadata": {},
   "source": [
    "##### Our dataframe now has many entries that overlap with each other.  Let's find unique events.  We will start with the highest\n",
    "##### n-year events and descend, because those are the ones we want to catch first"
   ]
  },
  {
   "cell_type": "code",
   "execution_count": 147,
   "metadata": {
    "collapsed": false
   },
   "outputs": [
    {
     "data": {
      "text/html": [
       "<div>\n",
       "<table border=\"1\" class=\"dataframe\">\n",
       "  <thead>\n",
       "    <tr style=\"text-align: right;\">\n",
       "      <th></th>\n",
       "      <th>n</th>\n",
       "      <th>duration_hrs</th>\n",
       "      <th>start_time</th>\n",
       "      <th>end_time</th>\n",
       "      <th>inches</th>\n",
       "    </tr>\n",
       "  </thead>\n",
       "  <tbody>\n",
       "    <tr>\n",
       "      <th>0</th>\n",
       "      <td>100</td>\n",
       "      <td>240</td>\n",
       "      <td>1987-08-11 23:00:00</td>\n",
       "      <td>1987-08-21 23:00:00</td>\n",
       "      <td>13.55</td>\n",
       "    </tr>\n",
       "  </tbody>\n",
       "</table>\n",
       "</div>"
      ],
      "text/plain": [
       "     n  duration_hrs          start_time            end_time  inches\n",
       "0  100           240 1987-08-11 23:00:00 1987-08-21 23:00:00   13.55"
      ]
     },
     "execution_count": 147,
     "metadata": {},
     "output_type": "execute_result"
    }
   ],
   "source": [
    "# unique_storms to hold storms that don't overlap with anything before it.\n",
    "unique_storms = pd.DataFrame(n_year_storms_raw[0:1])\n",
    "unique_storms.head()"
   ]
  },
  {
   "cell_type": "code",
   "execution_count": 148,
   "metadata": {
    "collapsed": false
   },
   "outputs": [
    {
     "data": {
      "text/plain": [
       "True"
      ]
     },
     "execution_count": 148,
     "metadata": {},
     "output_type": "execute_result"
    }
   ],
   "source": [
    "# This method takes in a start time and end time, and searches unique_storms to see if a storm with these times\n",
    "# overlaps with anything already in unique_storms.  Returns True if it overlaps with an existing storm\n",
    "def overlaps(start_time, end_time):\n",
    "    Range = namedtuple('Range', ['start', 'end'])\n",
    "    range_to_check = Range(start=start_time, end=end_time)\n",
    "    for index, row in unique_storms.iterrows():\n",
    "        date_range = Range(start=row['start_time'], end=row['end_time'])\n",
    "        latest_start = max(range_to_check.start, date_range.start)\n",
    "        earliest_end = min(range_to_check.end, date_range.end)\n",
    "        if  ((earliest_end - latest_start).days + 1) > 0:\n",
    "            return True\n",
    "    return False\n",
    "s = pd.to_datetime('1987-08-11 01:00:00')\n",
    "e = pd.to_datetime('1987-08-11 23:59:00')\n",
    "overlaps(s,e)"
   ]
  },
  {
   "cell_type": "code",
   "execution_count": 149,
   "metadata": {
    "collapsed": false
   },
   "outputs": [
    {
     "data": {
      "text/html": [
       "<div>\n",
       "<table border=\"1\" class=\"dataframe\">\n",
       "  <thead>\n",
       "    <tr style=\"text-align: right;\">\n",
       "      <th></th>\n",
       "      <th>n</th>\n",
       "      <th>duration_hrs</th>\n",
       "      <th>start_time</th>\n",
       "      <th>end_time</th>\n",
       "      <th>inches</th>\n",
       "    </tr>\n",
       "  </thead>\n",
       "  <tbody>\n",
       "    <tr>\n",
       "      <th>0</th>\n",
       "      <td>100</td>\n",
       "      <td>240</td>\n",
       "      <td>1987-08-11 23:00:00</td>\n",
       "      <td>1987-08-21 23:00:00</td>\n",
       "      <td>13.55</td>\n",
       "    </tr>\n",
       "    <tr>\n",
       "      <th>169</th>\n",
       "      <td>100</td>\n",
       "      <td>240</td>\n",
       "      <td>2008-09-04 13:00:00</td>\n",
       "      <td>2008-09-14 13:00:00</td>\n",
       "      <td>11.94</td>\n",
       "    </tr>\n",
       "    <tr>\n",
       "      <th>378</th>\n",
       "      <td>100</td>\n",
       "      <td>24</td>\n",
       "      <td>2011-07-22 08:00:00</td>\n",
       "      <td>2011-07-23 08:00:00</td>\n",
       "      <td>7.86</td>\n",
       "    </tr>\n",
       "    <tr>\n",
       "      <th>693</th>\n",
       "      <td>50</td>\n",
       "      <td>24</td>\n",
       "      <td>2010-07-23 16:00:00</td>\n",
       "      <td>2010-07-24 16:00:00</td>\n",
       "      <td>6.54</td>\n",
       "    </tr>\n",
       "    <tr>\n",
       "      <th>759</th>\n",
       "      <td>50</td>\n",
       "      <td>3</td>\n",
       "      <td>2001-08-30 21:00:00</td>\n",
       "      <td>2001-08-31 00:00:00</td>\n",
       "      <td>4.27</td>\n",
       "    </tr>\n",
       "  </tbody>\n",
       "</table>\n",
       "</div>"
      ],
      "text/plain": [
       "       n  duration_hrs          start_time            end_time  inches\n",
       "0    100           240 1987-08-11 23:00:00 1987-08-21 23:00:00   13.55\n",
       "169  100           240 2008-09-04 13:00:00 2008-09-14 13:00:00   11.94\n",
       "378  100            24 2011-07-22 08:00:00 2011-07-23 08:00:00    7.86\n",
       "693   50            24 2010-07-23 16:00:00 2010-07-24 16:00:00    6.54\n",
       "759   50             3 2001-08-30 21:00:00 2001-08-31 00:00:00    4.27"
      ]
     },
     "execution_count": 149,
     "metadata": {},
     "output_type": "execute_result"
    }
   ],
   "source": [
    "# Iterate through n_year_storms_raw and if an overlapping storm does not exist in unique_storms, then add it\n",
    "for index, storm in n_year_storms_raw.iterrows():\n",
    "    if not overlaps(storm['start_time'], storm['end_time']):\n",
    "        unique_storms = unique_storms.append(storm)\n",
    "unique_storms.head()"
   ]
  },
  {
   "cell_type": "code",
   "execution_count": 150,
   "metadata": {
    "collapsed": false
   },
   "outputs": [
    {
     "data": {
      "text/plain": [
       "1      36\n",
       "2      24\n",
       "5      11\n",
       "10      5\n",
       "25      2\n",
       "50      2\n",
       "100     3\n",
       "Name: n, dtype: int64"
      ]
     },
     "execution_count": 150,
     "metadata": {},
     "output_type": "execute_result"
    }
   ],
   "source": [
    "# How many of each n-year storm did we see?\n",
    "unique_storms['n'].value_counts().sort_index()"
   ]
  }
 ],
 "metadata": {
  "kernelspec": {
   "display_name": "Python 3",
   "language": "python",
   "name": "python3"
  },
  "language_info": {
   "codemirror_mode": {
    "name": "ipython",
    "version": 3
   },
   "file_extension": ".py",
   "mimetype": "text/x-python",
   "name": "python",
   "nbconvert_exporter": "python",
   "pygments_lexer": "ipython3",
   "version": "3.5.2"
  }
 },
 "nbformat": 4,
 "nbformat_minor": 1
}
