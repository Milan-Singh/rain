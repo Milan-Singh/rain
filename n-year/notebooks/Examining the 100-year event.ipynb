{
 "cells": [
  {
   "cell_type": "markdown",
   "metadata": {},
   "source": [
    "# Examining the 100-year storm\n",
    "### From past analysis, we've seen that there have been 3 100-year storms in the last 46 years.  This notebook takes a look at these 3 storms."
   ]
  },
  {
   "cell_type": "code",
   "execution_count": 49,
   "metadata": {
    "collapsed": false
   },
   "outputs": [],
   "source": [
    "from __future__ import absolute_import, division, print_function, unicode_literals\n",
    "import numpy as np\n",
    "from datetime import datetime, timedelta\n",
    "import pandas as pd\n",
    "import matplotlib.pyplot as plt\n",
    "import operator\n",
    "import seaborn as sns\n",
    "%matplotlib inline"
   ]
  },
  {
   "cell_type": "code",
   "execution_count": 3,
   "metadata": {
    "collapsed": false
   },
   "outputs": [
    {
     "data": {
      "text/html": [
       "<div>\n",
       "<table border=\"1\" class=\"dataframe\">\n",
       "  <thead>\n",
       "    <tr style=\"text-align: right;\">\n",
       "      <th></th>\n",
       "      <th>n</th>\n",
       "      <th>duration_hrs</th>\n",
       "      <th>start_time</th>\n",
       "      <th>end_time</th>\n",
       "      <th>inches</th>\n",
       "      <th>year</th>\n",
       "    </tr>\n",
       "  </thead>\n",
       "  <tbody>\n",
       "    <tr>\n",
       "      <th>0</th>\n",
       "      <td>100</td>\n",
       "      <td>240</td>\n",
       "      <td>1987-08-11 23:00:00</td>\n",
       "      <td>1987-08-21 23:00:00</td>\n",
       "      <td>13.55</td>\n",
       "      <td>1987</td>\n",
       "    </tr>\n",
       "    <tr>\n",
       "      <th>1</th>\n",
       "      <td>100</td>\n",
       "      <td>240</td>\n",
       "      <td>2008-09-04 13:00:00</td>\n",
       "      <td>2008-09-14 13:00:00</td>\n",
       "      <td>11.94</td>\n",
       "      <td>2008</td>\n",
       "    </tr>\n",
       "    <tr>\n",
       "      <th>2</th>\n",
       "      <td>100</td>\n",
       "      <td>24</td>\n",
       "      <td>2011-07-22 08:00:00</td>\n",
       "      <td>2011-07-23 08:00:00</td>\n",
       "      <td>7.86</td>\n",
       "      <td>2011</td>\n",
       "    </tr>\n",
       "    <tr>\n",
       "      <th>3</th>\n",
       "      <td>50</td>\n",
       "      <td>24</td>\n",
       "      <td>2010-07-23 16:00:00</td>\n",
       "      <td>2010-07-24 16:00:00</td>\n",
       "      <td>6.54</td>\n",
       "      <td>2010</td>\n",
       "    </tr>\n",
       "    <tr>\n",
       "      <th>4</th>\n",
       "      <td>50</td>\n",
       "      <td>3</td>\n",
       "      <td>2001-08-30 21:00:00</td>\n",
       "      <td>2001-08-31 00:00:00</td>\n",
       "      <td>4.27</td>\n",
       "      <td>2001</td>\n",
       "    </tr>\n",
       "  </tbody>\n",
       "</table>\n",
       "</div>"
      ],
      "text/plain": [
       "     n  duration_hrs          start_time            end_time  inches  year\n",
       "0  100           240 1987-08-11 23:00:00 1987-08-21 23:00:00   13.55  1987\n",
       "1  100           240 2008-09-04 13:00:00 2008-09-14 13:00:00   11.94  2008\n",
       "2  100            24 2011-07-22 08:00:00 2011-07-23 08:00:00    7.86  2011\n",
       "3   50            24 2010-07-23 16:00:00 2010-07-24 16:00:00    6.54  2010\n",
       "4   50             3 2001-08-30 21:00:00 2001-08-31 00:00:00    4.27  2001"
      ]
     },
     "execution_count": 3,
     "metadata": {},
     "output_type": "execute_result"
    }
   ],
   "source": [
    "n_year_storms = pd.read_csv('data/n_year_storms_ohare_noaa.csv')\n",
    "n_year_storms['start_time'] = pd.to_datetime(n_year_storms['start_time'])\n",
    "n_year_storms['end_time'] = pd.to_datetime(n_year_storms['end_time'])\n",
    "n_year_storms.head()"
   ]
  },
  {
   "cell_type": "code",
   "execution_count": 4,
   "metadata": {
    "collapsed": false
   },
   "outputs": [
    {
     "data": {
      "text/html": [
       "<div>\n",
       "<table border=\"1\" class=\"dataframe\">\n",
       "  <thead>\n",
       "    <tr style=\"text-align: right;\">\n",
       "      <th></th>\n",
       "      <th>n</th>\n",
       "      <th>duration_hrs</th>\n",
       "      <th>start_time</th>\n",
       "      <th>end_time</th>\n",
       "      <th>inches</th>\n",
       "      <th>year</th>\n",
       "    </tr>\n",
       "  </thead>\n",
       "  <tbody>\n",
       "    <tr>\n",
       "      <th>0</th>\n",
       "      <td>100</td>\n",
       "      <td>240</td>\n",
       "      <td>1987-08-11 23:00:00</td>\n",
       "      <td>1987-08-21 23:00:00</td>\n",
       "      <td>13.55</td>\n",
       "      <td>1987</td>\n",
       "    </tr>\n",
       "    <tr>\n",
       "      <th>1</th>\n",
       "      <td>100</td>\n",
       "      <td>240</td>\n",
       "      <td>2008-09-04 13:00:00</td>\n",
       "      <td>2008-09-14 13:00:00</td>\n",
       "      <td>11.94</td>\n",
       "      <td>2008</td>\n",
       "    </tr>\n",
       "    <tr>\n",
       "      <th>2</th>\n",
       "      <td>100</td>\n",
       "      <td>24</td>\n",
       "      <td>2011-07-22 08:00:00</td>\n",
       "      <td>2011-07-23 08:00:00</td>\n",
       "      <td>7.86</td>\n",
       "      <td>2011</td>\n",
       "    </tr>\n",
       "  </tbody>\n",
       "</table>\n",
       "</div>"
      ],
      "text/plain": [
       "     n  duration_hrs          start_time            end_time  inches  year\n",
       "0  100           240 1987-08-11 23:00:00 1987-08-21 23:00:00   13.55  1987\n",
       "1  100           240 2008-09-04 13:00:00 2008-09-14 13:00:00   11.94  2008\n",
       "2  100            24 2011-07-22 08:00:00 2011-07-23 08:00:00    7.86  2011"
      ]
     },
     "execution_count": 4,
     "metadata": {},
     "output_type": "execute_result"
    }
   ],
   "source": [
    "year_event_100 = n_year_storms[n_year_storms['n'] == 100]\n",
    "year_event_100"
   ]
  },
  {
   "cell_type": "code",
   "execution_count": 5,
   "metadata": {
    "collapsed": false
   },
   "outputs": [
    {
     "data": {
      "text/plain": [
       "1970-01-01 04:00:00    0.0\n",
       "1970-01-01 05:00:00    0.0\n",
       "1970-01-01 06:00:00    0.0\n",
       "1970-01-01 07:00:00    0.0\n",
       "1970-01-01 08:00:00    0.0\n",
       "Freq: H, Name: HOURLYPrecip, dtype: float64"
      ]
     },
     "execution_count": 5,
     "metadata": {},
     "output_type": "execute_result"
    }
   ],
   "source": [
    "rain_df = pd.read_csv('data/ohare_hourly_20160929.csv')\n",
    "rain_df['datetime'] = pd.to_datetime(rain_df['datetime'])\n",
    "rain_df = rain_df.set_index(pd.DatetimeIndex(rain_df['datetime']))\n",
    "rain_df = rain_df['19700101':]\n",
    "chi_rain_series = rain_df['HOURLYPrecip'].resample('1H', label='right').max().fillna(0)\n",
    "chi_rain_series.head()"
   ]
  },
  {
   "cell_type": "code",
   "execution_count": 44,
   "metadata": {
    "collapsed": false
   },
   "outputs": [
    {
     "data": {
      "text/html": [
       "<div>\n",
       "<table border=\"1\" class=\"dataframe\">\n",
       "  <thead>\n",
       "    <tr style=\"text-align: right;\">\n",
       "      <th></th>\n",
       "      <th>1-year</th>\n",
       "      <th>2-year</th>\n",
       "      <th>5-year</th>\n",
       "      <th>10-year</th>\n",
       "      <th>25-year</th>\n",
       "      <th>50-year</th>\n",
       "      <th>100-year</th>\n",
       "    </tr>\n",
       "    <tr>\n",
       "      <th>Duration</th>\n",
       "      <th></th>\n",
       "      <th></th>\n",
       "      <th></th>\n",
       "      <th></th>\n",
       "      <th></th>\n",
       "      <th></th>\n",
       "      <th></th>\n",
       "    </tr>\n",
       "  </thead>\n",
       "  <tbody>\n",
       "    <tr>\n",
       "      <th>10-day</th>\n",
       "      <td>4.12</td>\n",
       "      <td>4.95</td>\n",
       "      <td>6.04</td>\n",
       "      <td>6.89</td>\n",
       "      <td>8.18</td>\n",
       "      <td>9.38</td>\n",
       "      <td>11.14</td>\n",
       "    </tr>\n",
       "    <tr>\n",
       "      <th>5-day</th>\n",
       "      <td>3.25</td>\n",
       "      <td>3.93</td>\n",
       "      <td>4.91</td>\n",
       "      <td>5.70</td>\n",
       "      <td>6.93</td>\n",
       "      <td>8.04</td>\n",
       "      <td>9.96</td>\n",
       "    </tr>\n",
       "    <tr>\n",
       "      <th>72-hr</th>\n",
       "      <td>2.93</td>\n",
       "      <td>3.55</td>\n",
       "      <td>4.44</td>\n",
       "      <td>5.18</td>\n",
       "      <td>6.32</td>\n",
       "      <td>7.41</td>\n",
       "      <td>8.78</td>\n",
       "    </tr>\n",
       "    <tr>\n",
       "      <th>48-hr</th>\n",
       "      <td>2.70</td>\n",
       "      <td>3.30</td>\n",
       "      <td>4.09</td>\n",
       "      <td>4.81</td>\n",
       "      <td>5.88</td>\n",
       "      <td>6.84</td>\n",
       "      <td>8.16</td>\n",
       "    </tr>\n",
       "    <tr>\n",
       "      <th>24-hr</th>\n",
       "      <td>2.51</td>\n",
       "      <td>3.04</td>\n",
       "      <td>3.80</td>\n",
       "      <td>4.47</td>\n",
       "      <td>5.51</td>\n",
       "      <td>6.46</td>\n",
       "      <td>7.58</td>\n",
       "    </tr>\n",
       "    <tr>\n",
       "      <th>18-hr</th>\n",
       "      <td>2.30</td>\n",
       "      <td>2.79</td>\n",
       "      <td>3.50</td>\n",
       "      <td>4.11</td>\n",
       "      <td>5.06</td>\n",
       "      <td>5.95</td>\n",
       "      <td>6.97</td>\n",
       "    </tr>\n",
       "    <tr>\n",
       "      <th>12-hr</th>\n",
       "      <td>2.18</td>\n",
       "      <td>2.64</td>\n",
       "      <td>3.31</td>\n",
       "      <td>3.89</td>\n",
       "      <td>4.79</td>\n",
       "      <td>5.62</td>\n",
       "      <td>6.59</td>\n",
       "    </tr>\n",
       "    <tr>\n",
       "      <th>6-hr</th>\n",
       "      <td>1.88</td>\n",
       "      <td>2.28</td>\n",
       "      <td>2.85</td>\n",
       "      <td>3.35</td>\n",
       "      <td>4.13</td>\n",
       "      <td>4.85</td>\n",
       "      <td>5.68</td>\n",
       "    </tr>\n",
       "    <tr>\n",
       "      <th>3-hr</th>\n",
       "      <td>1.60</td>\n",
       "      <td>1.94</td>\n",
       "      <td>2.43</td>\n",
       "      <td>2.86</td>\n",
       "      <td>3.53</td>\n",
       "      <td>4.14</td>\n",
       "      <td>4.85</td>\n",
       "    </tr>\n",
       "    <tr>\n",
       "      <th>2-hr</th>\n",
       "      <td>1.48</td>\n",
       "      <td>1.79</td>\n",
       "      <td>2.24</td>\n",
       "      <td>2.64</td>\n",
       "      <td>3.25</td>\n",
       "      <td>3.82</td>\n",
       "      <td>4.47</td>\n",
       "    </tr>\n",
       "    <tr>\n",
       "      <th>1-hr</th>\n",
       "      <td>1.18</td>\n",
       "      <td>1.43</td>\n",
       "      <td>1.79</td>\n",
       "      <td>2.10</td>\n",
       "      <td>2.59</td>\n",
       "      <td>3.04</td>\n",
       "      <td>3.56</td>\n",
       "    </tr>\n",
       "    <tr>\n",
       "      <th>30-min</th>\n",
       "      <td>0.93</td>\n",
       "      <td>1.12</td>\n",
       "      <td>1.41</td>\n",
       "      <td>1.65</td>\n",
       "      <td>2.04</td>\n",
       "      <td>2.39</td>\n",
       "      <td>2.80</td>\n",
       "    </tr>\n",
       "    <tr>\n",
       "      <th>15-min</th>\n",
       "      <td>0.68</td>\n",
       "      <td>0.82</td>\n",
       "      <td>1.03</td>\n",
       "      <td>1.21</td>\n",
       "      <td>1.49</td>\n",
       "      <td>1.75</td>\n",
       "      <td>2.05</td>\n",
       "    </tr>\n",
       "    <tr>\n",
       "      <th>10-min</th>\n",
       "      <td>0.55</td>\n",
       "      <td>0.67</td>\n",
       "      <td>0.84</td>\n",
       "      <td>0.98</td>\n",
       "      <td>1.21</td>\n",
       "      <td>1.42</td>\n",
       "      <td>1.67</td>\n",
       "    </tr>\n",
       "    <tr>\n",
       "      <th>5-min</th>\n",
       "      <td>0.30</td>\n",
       "      <td>0.36</td>\n",
       "      <td>0.46</td>\n",
       "      <td>0.54</td>\n",
       "      <td>0.66</td>\n",
       "      <td>0.78</td>\n",
       "      <td>0.91</td>\n",
       "    </tr>\n",
       "  </tbody>\n",
       "</table>\n",
       "</div>"
      ],
      "text/plain": [
       "          1-year  2-year  5-year  10-year  25-year  50-year  100-year\n",
       "Duration                                                             \n",
       "10-day      4.12    4.95    6.04     6.89     8.18     9.38     11.14\n",
       "5-day       3.25    3.93    4.91     5.70     6.93     8.04      9.96\n",
       "72-hr       2.93    3.55    4.44     5.18     6.32     7.41      8.78\n",
       "48-hr       2.70    3.30    4.09     4.81     5.88     6.84      8.16\n",
       "24-hr       2.51    3.04    3.80     4.47     5.51     6.46      7.58\n",
       "18-hr       2.30    2.79    3.50     4.11     5.06     5.95      6.97\n",
       "12-hr       2.18    2.64    3.31     3.89     4.79     5.62      6.59\n",
       "6-hr        1.88    2.28    2.85     3.35     4.13     4.85      5.68\n",
       "3-hr        1.60    1.94    2.43     2.86     3.53     4.14      4.85\n",
       "2-hr        1.48    1.79    2.24     2.64     3.25     3.82      4.47\n",
       "1-hr        1.18    1.43    1.79     2.10     2.59     3.04      3.56\n",
       "30-min      0.93    1.12    1.41     1.65     2.04     2.39      2.80\n",
       "15-min      0.68    0.82    1.03     1.21     1.49     1.75      2.05\n",
       "10-min      0.55    0.67    0.84     0.98     1.21     1.42      1.67\n",
       "5-min       0.30    0.36    0.46     0.54     0.66     0.78      0.91"
      ]
     },
     "execution_count": 44,
     "metadata": {},
     "output_type": "execute_result"
    }
   ],
   "source": [
    "# N-Year Storm variables\n",
    "# These define the thresholds laid out by bulletin 70, and transfer mins and days to hours\n",
    "n_year_threshes = pd.read_csv('../../n-year/notebooks/data/n_year_definitions.csv')\n",
    "n_year_threshes = n_year_threshes.set_index('Duration')\n",
    "dur_str_to_hours = {\n",
    "    '5-min':5/60.0,\n",
    "    '10-min':10/60.0,\n",
    "    '15-min':15/60.0,\n",
    "    '30-min':0.5,\n",
    "    '1-hr':1.0,\n",
    "    '2-hr':2.0,\n",
    "    '3-hr':3.0,\n",
    "    '6-hr':6.0,\n",
    "    '12-hr':12.0,\n",
    "    '18-hr':18.0,\n",
    "    '24-hr':24.0,\n",
    "    '48-hr':48.0,\n",
    "    '72-hr':72.0,\n",
    "    '5-day':5*24.0,\n",
    "    '10-day':10*24.0\n",
    "}\n",
    "n_s = [int(x.replace('-year','')) for x in reversed(list(n_year_threshes.columns.values))]\n",
    "duration_strs = sorted(dur_str_to_hours.items(), key=operator.itemgetter(1), reverse=False)\n",
    "n_year_threshes"
   ]
  },
  {
   "cell_type": "code",
   "execution_count": 56,
   "metadata": {
    "collapsed": false
   },
   "outputs": [],
   "source": [
    "# Find n-year storms and store them in a data frame.  Note that there are overlapping storms in the result\n",
    "def find_n_year_storms(start_time_str, end_time_str, n):\n",
    "    start_time = pd.to_datetime(start_time_str)\n",
    "    end_time = pd.to_datetime(end_time_str)\n",
    "    n_index = n_s.index(n)\n",
    "    next_n = n_s[n_index-1] if n_index != 0 else None\n",
    "    storms = []\n",
    "\n",
    "    for duration_tuple in duration_strs:\n",
    "\n",
    "        duration_str = duration_tuple[0]\n",
    "        low_thresh = n_year_threshes.loc[duration_str, str(n) + '-year']\n",
    "        high_thresh = n_year_threshes.loc[duration_str, str(next_n) + '-year'] if next_n is not None else None\n",
    "        \n",
    "        duration = int(dur_str_to_hours[duration_str])\n",
    "        sub_series = chi_rain_series[start_time: end_time]\n",
    "        rolling = sub_series.rolling(window=int(duration), min_periods=0).sum()\n",
    "        \n",
    "        if high_thresh is not None:\n",
    "            event_endtimes = rolling[(rolling >= low_thresh) & (rolling < high_thresh)].sort_values(ascending=False)\n",
    "        else:\n",
    "            event_endtimes = rolling[(rolling >= low_thresh)].sort_values(ascending=False)\n",
    "        for index, event_endtime in event_endtimes.iteritems():\n",
    "            this_start_time = index - timedelta(hours=duration)\n",
    "            if this_start_time < start_time:\n",
    "                continue\n",
    "            storms.append({'n': n, 'end_time': index, 'inches': event_endtime, 'duration_hrs': duration,\n",
    "                          'start_time': this_start_time})\n",
    "    return pd.DataFrame(storms)"
   ]
  },
  {
   "cell_type": "markdown",
   "metadata": {},
   "source": [
    "## Storm 1 -> August, 1987"
   ]
  },
  {
   "cell_type": "code",
   "execution_count": 30,
   "metadata": {
    "collapsed": false,
    "scrolled": true
   },
   "outputs": [
    {
     "data": {
      "text/plain": [
       "<matplotlib.axes._subplots.AxesSubplot at 0x114136320>"
      ]
     },
     "execution_count": 30,
     "metadata": {},
     "output_type": "execute_result"
    },
    {
     "data": {
      "image/png": "[encoded data removed]",
      "text/plain": [
       "<matplotlib.figure.Figure at 0x11413b908>"
      ]
     },
     "metadata": {},
     "output_type": "display_data"
    }
   ],
   "source": [
    "storm1 = chi_rain_series['1987-08-11 23:00:00':'1987-08-21 23:00:00']\n",
    "storm1.cumsum().plot(title=\"Cumulative rainfall over 1987 100-year storm\")"
   ]
  },
  {
   "cell_type": "code",
   "execution_count": 31,
   "metadata": {
    "collapsed": false
   },
   "outputs": [
    {
     "data": {
      "text/plain": [
       "Timestamp('1987-08-13 22:00:00')"
      ]
     },
     "execution_count": 31,
     "metadata": {},
     "output_type": "execute_result"
    }
   ],
   "source": [
    "# The rainfall starts at...\n",
    "storm1[storm1 > 0].index[0]"
   ]
  },
  {
   "cell_type": "code",
   "execution_count": 33,
   "metadata": {
    "collapsed": false
   },
   "outputs": [
    {
     "data": {
      "text/plain": [
       "1987-08-13 22:00:00    1.36\n",
       "1987-08-13 23:00:00    1.15\n",
       "1987-08-14 00:00:00    0.12\n",
       "1987-08-14 01:00:00    0.23\n",
       "1987-08-14 02:00:00    1.15\n",
       "Freq: H, Name: HOURLYPrecip, dtype: float64"
      ]
     },
     "execution_count": 33,
     "metadata": {},
     "output_type": "execute_result"
    }
   ],
   "source": [
    "storm1 = storm1['1987-08-13 22:00:00':]\n",
    "storm1.head()"
   ]
  },
  {
   "cell_type": "code",
   "execution_count": 63,
   "metadata": {
    "collapsed": false
   },
   "outputs": [
    {
     "data": {
      "text/plain": [
       "1987-08-13 22:00:00    0.100369\n",
       "1987-08-13 23:00:00    0.185240\n",
       "1987-08-14 00:00:00    0.194096\n",
       "1987-08-14 01:00:00    0.211070\n",
       "1987-08-14 02:00:00    0.295941\n",
       "1987-08-14 03:00:00    0.439114\n",
       "1987-08-14 04:00:00    0.439852\n",
       "1987-08-14 05:00:00    0.439852\n",
       "1987-08-14 06:00:00    0.439852\n",
       "1987-08-14 07:00:00    0.440590\n",
       "1987-08-14 08:00:00    0.568266\n",
       "1987-08-14 09:00:00    0.616236\n",
       "1987-08-14 10:00:00    0.661255\n",
       "1987-08-14 11:00:00    0.661255\n",
       "1987-08-14 12:00:00    0.676015\n",
       "1987-08-14 13:00:00    0.680443\n",
       "1987-08-14 14:00:00    0.680443\n",
       "1987-08-14 15:00:00    0.690037\n",
       "1987-08-14 16:00:00    0.690037\n",
       "1987-08-14 17:00:00    0.690037\n",
       "1987-08-14 18:00:00    0.690037\n",
       "1987-08-14 19:00:00    0.690037\n",
       "1987-08-14 20:00:00    0.690037\n",
       "1987-08-14 21:00:00    0.690037\n",
       "1987-08-14 22:00:00    0.690037\n",
       "1987-08-14 23:00:00    0.690037\n",
       "1987-08-15 00:00:00    0.690037\n",
       "1987-08-15 01:00:00    0.690037\n",
       "1987-08-15 02:00:00    0.690037\n",
       "1987-08-15 03:00:00    0.690037\n",
       "                         ...   \n",
       "1987-08-20 18:00:00    0.968266\n",
       "1987-08-20 19:00:00    0.968266\n",
       "1987-08-20 20:00:00    0.968266\n",
       "1987-08-20 21:00:00    0.968266\n",
       "1987-08-20 22:00:00    0.968266\n",
       "1987-08-20 23:00:00    0.968266\n",
       "1987-08-21 00:00:00    0.968266\n",
       "1987-08-21 01:00:00    0.968266\n",
       "1987-08-21 02:00:00    0.968266\n",
       "1987-08-21 03:00:00    0.968266\n",
       "1987-08-21 04:00:00    0.968266\n",
       "1987-08-21 05:00:00    0.969004\n",
       "1987-08-21 06:00:00    0.972694\n",
       "1987-08-21 07:00:00    0.972694\n",
       "1987-08-21 08:00:00    0.980074\n",
       "1987-08-21 09:00:00    0.980074\n",
       "1987-08-21 10:00:00    0.980074\n",
       "1987-08-21 11:00:00    1.000000\n",
       "1987-08-21 12:00:00    1.000000\n",
       "1987-08-21 13:00:00    1.000000\n",
       "1987-08-21 14:00:00    1.000000\n",
       "1987-08-21 15:00:00    1.000000\n",
       "1987-08-21 16:00:00    1.000000\n",
       "1987-08-21 17:00:00    1.000000\n",
       "1987-08-21 18:00:00    1.000000\n",
       "1987-08-21 19:00:00    1.000000\n",
       "1987-08-21 20:00:00    1.000000\n",
       "1987-08-21 21:00:00    1.000000\n",
       "1987-08-21 22:00:00    1.000000\n",
       "1987-08-21 23:00:00    1.000000\n",
       "Freq: H, Name: HOURLYPrecip, dtype: float64"
      ]
     },
     "execution_count": 63,
     "metadata": {},
     "output_type": "execute_result"
    }
   ],
   "source": [
    "# There are two periods of drastic rise in rain.  Print out the percent of the storm that has fallen hourly\n",
    "storm1.cumsum()/storm1.sum()"
   ]
  },
  {
   "cell_type": "code",
   "execution_count": 64,
   "metadata": {
    "collapsed": false
   },
   "outputs": [
    {
     "data": {
      "text/html": [
       "<div>\n",
       "<table border=\"1\" class=\"dataframe\">\n",
       "  <thead>\n",
       "    <tr style=\"text-align: right;\">\n",
       "      <th></th>\n",
       "      <th>duration_hrs</th>\n",
       "      <th>end_time</th>\n",
       "      <th>inches</th>\n",
       "      <th>n</th>\n",
       "      <th>start_time</th>\n",
       "    </tr>\n",
       "  </thead>\n",
       "  <tbody>\n",
       "    <tr>\n",
       "      <th>0</th>\n",
       "      <td>12</td>\n",
       "      <td>1987-08-14 10:00:00</td>\n",
       "      <td>7.6</td>\n",
       "      <td>100</td>\n",
       "      <td>1987-08-13 22:00:00</td>\n",
       "    </tr>\n",
       "  </tbody>\n",
       "</table>\n",
       "</div>"
      ],
      "text/plain": [
       "   duration_hrs            end_time  inches    n          start_time\n",
       "0            12 1987-08-14 10:00:00     7.6  100 1987-08-13 22:00:00"
      ]
     },
     "execution_count": 64,
     "metadata": {},
     "output_type": "execute_result"
    }
   ],
   "source": [
    "# Looking for an n-year storm in the small period of drastic increase #1\n",
    "find_n_year_storms('1987-08-13 22:00:00', '1987-08-14 10:00:00', 100)"
   ]
  },
  {
   "cell_type": "code",
   "execution_count": 37,
   "metadata": {
    "collapsed": false
   },
   "outputs": [
    {
     "data": {
      "text/plain": [
       "1987-08-13 22:00:00    0.100369\n",
       "1987-08-13 23:00:00    0.185240\n",
       "1987-08-14 00:00:00    0.194096\n",
       "1987-08-14 01:00:00    0.211070\n",
       "1987-08-14 02:00:00    0.295941\n",
       "1987-08-14 03:00:00    0.439114\n",
       "1987-08-14 04:00:00    0.439852\n",
       "1987-08-14 05:00:00    0.439852\n",
       "1987-08-14 06:00:00    0.439852\n",
       "1987-08-14 07:00:00    0.440590\n",
       "1987-08-14 08:00:00    0.568266\n",
       "1987-08-14 09:00:00    0.616236\n",
       "1987-08-14 10:00:00    0.661255\n",
       "1987-08-14 11:00:00    0.661255\n",
       "1987-08-14 12:00:00    0.676015\n",
       "1987-08-14 13:00:00    0.680443\n",
       "1987-08-14 14:00:00    0.680443\n",
       "1987-08-14 15:00:00    0.690037\n",
       "1987-08-14 16:00:00    0.690037\n",
       "1987-08-14 17:00:00    0.690037\n",
       "1987-08-14 18:00:00    0.690037\n",
       "1987-08-14 19:00:00    0.690037\n",
       "1987-08-14 20:00:00    0.690037\n",
       "1987-08-14 21:00:00    0.690037\n",
       "1987-08-14 22:00:00    0.690037\n",
       "1987-08-14 23:00:00    0.690037\n",
       "1987-08-15 00:00:00    0.690037\n",
       "1987-08-15 01:00:00    0.690037\n",
       "1987-08-15 02:00:00    0.690037\n",
       "1987-08-15 03:00:00    0.690037\n",
       "                         ...   \n",
       "1987-08-20 18:00:00    0.968266\n",
       "1987-08-20 19:00:00    0.968266\n",
       "1987-08-20 20:00:00    0.968266\n",
       "1987-08-20 21:00:00    0.968266\n",
       "1987-08-20 22:00:00    0.968266\n",
       "1987-08-20 23:00:00    0.968266\n",
       "1987-08-21 00:00:00    0.968266\n",
       "1987-08-21 01:00:00    0.968266\n",
       "1987-08-21 02:00:00    0.968266\n",
       "1987-08-21 03:00:00    0.968266\n",
       "1987-08-21 04:00:00    0.968266\n",
       "1987-08-21 05:00:00    0.969004\n",
       "1987-08-21 06:00:00    0.972694\n",
       "1987-08-21 07:00:00    0.972694\n",
       "1987-08-21 08:00:00    0.980074\n",
       "1987-08-21 09:00:00    0.980074\n",
       "1987-08-21 10:00:00    0.980074\n",
       "1987-08-21 11:00:00    1.000000\n",
       "1987-08-21 12:00:00    1.000000\n",
       "1987-08-21 13:00:00    1.000000\n",
       "1987-08-21 14:00:00    1.000000\n",
       "1987-08-21 15:00:00    1.000000\n",
       "1987-08-21 16:00:00    1.000000\n",
       "1987-08-21 17:00:00    1.000000\n",
       "1987-08-21 18:00:00    1.000000\n",
       "1987-08-21 19:00:00    1.000000\n",
       "1987-08-21 20:00:00    1.000000\n",
       "1987-08-21 21:00:00    1.000000\n",
       "1987-08-21 22:00:00    1.000000\n",
       "1987-08-21 23:00:00    1.000000\n",
       "Freq: H, Name: HOURLYPrecip, dtype: float64"
      ]
     },
     "execution_count": 37,
     "metadata": {},
     "output_type": "execute_result"
    }
   ],
   "source": [
    "storm1.cumsum()/storm1.sum()"
   ]
  },
  {
   "cell_type": "code",
   "execution_count": 67,
   "metadata": {
    "collapsed": false
   },
   "outputs": [
    {
     "data": {
      "text/plain": [
       "1987-08-16 12:00:00    0.000000\n",
       "1987-08-16 13:00:00    0.000000\n",
       "1987-08-16 14:00:00    0.002214\n",
       "1987-08-16 15:00:00    0.002214\n",
       "1987-08-16 16:00:00    0.002214\n",
       "1987-08-16 17:00:00    0.002214\n",
       "1987-08-16 18:00:00    0.002214\n",
       "1987-08-16 19:00:00    0.002214\n",
       "1987-08-16 20:00:00    0.002214\n",
       "1987-08-16 21:00:00    0.002214\n",
       "1987-08-16 22:00:00    0.112915\n",
       "1987-08-16 23:00:00    0.201476\n",
       "1987-08-17 00:00:00    0.205166\n",
       "1987-08-17 01:00:00    0.205166\n",
       "1987-08-17 02:00:00    0.205166\n",
       "1987-08-17 03:00:00    0.205166\n",
       "1987-08-17 04:00:00    0.205166\n",
       "1987-08-17 05:00:00    0.205166\n",
       "1987-08-17 06:00:00    0.205166\n",
       "1987-08-17 07:00:00    0.205166\n",
       "1987-08-17 08:00:00    0.205166\n",
       "1987-08-17 09:00:00    0.205166\n",
       "1987-08-17 10:00:00    0.205166\n",
       "1987-08-17 11:00:00    0.205166\n",
       "1987-08-17 12:00:00    0.205166\n",
       "1987-08-17 13:00:00    0.205166\n",
       "1987-08-17 14:00:00    0.205166\n",
       "1987-08-17 15:00:00    0.205166\n",
       "1987-08-17 16:00:00    0.205166\n",
       "1987-08-17 17:00:00    0.205166\n",
       "                         ...   \n",
       "1987-08-20 18:00:00    0.225830\n",
       "1987-08-20 19:00:00    0.225830\n",
       "1987-08-20 20:00:00    0.225830\n",
       "1987-08-20 21:00:00    0.225830\n",
       "1987-08-20 22:00:00    0.225830\n",
       "1987-08-20 23:00:00    0.225830\n",
       "1987-08-21 00:00:00    0.225830\n",
       "1987-08-21 01:00:00    0.225830\n",
       "1987-08-21 02:00:00    0.225830\n",
       "1987-08-21 03:00:00    0.225830\n",
       "1987-08-21 04:00:00    0.225830\n",
       "1987-08-21 05:00:00    0.226568\n",
       "1987-08-21 06:00:00    0.230258\n",
       "1987-08-21 07:00:00    0.230258\n",
       "1987-08-21 08:00:00    0.237638\n",
       "1987-08-21 09:00:00    0.237638\n",
       "1987-08-21 10:00:00    0.237638\n",
       "1987-08-21 11:00:00    0.257565\n",
       "1987-08-21 12:00:00    0.257565\n",
       "1987-08-21 13:00:00    0.257565\n",
       "1987-08-21 14:00:00    0.257565\n",
       "1987-08-21 15:00:00    0.257565\n",
       "1987-08-21 16:00:00    0.257565\n",
       "1987-08-21 17:00:00    0.257565\n",
       "1987-08-21 18:00:00    0.257565\n",
       "1987-08-21 19:00:00    0.257565\n",
       "1987-08-21 20:00:00    0.257565\n",
       "1987-08-21 21:00:00    0.257565\n",
       "1987-08-21 22:00:00    0.257565\n",
       "1987-08-21 23:00:00    0.257565\n",
       "Freq: H, Name: HOURLYPrecip, dtype: float64"
      ]
     },
     "execution_count": 67,
     "metadata": {},
     "output_type": "execute_result"
    }
   ],
   "source": [
    "# Let's look for the second jump in precip\n",
    "storm1['1987-08-16 12:00:00':].cumsum()/storm1.sum()"
   ]
  },
  {
   "cell_type": "code",
   "execution_count": 71,
   "metadata": {
    "collapsed": false
   },
   "outputs": [
    {
     "data": {
      "text/html": [
       "<div>\n",
       "<table border=\"1\" class=\"dataframe\">\n",
       "  <thead>\n",
       "    <tr style=\"text-align: right;\">\n",
       "      <th></th>\n",
       "      <th>duration_hrs</th>\n",
       "      <th>end_time</th>\n",
       "      <th>inches</th>\n",
       "      <th>n</th>\n",
       "      <th>start_time</th>\n",
       "    </tr>\n",
       "  </thead>\n",
       "  <tbody>\n",
       "    <tr>\n",
       "      <th>0</th>\n",
       "      <td>2</td>\n",
       "      <td>1987-08-16 23:00:00</td>\n",
       "      <td>2.7</td>\n",
       "      <td>10</td>\n",
       "      <td>1987-08-16 21:00:00</td>\n",
       "    </tr>\n",
       "  </tbody>\n",
       "</table>\n",
       "</div>"
      ],
      "text/plain": [
       "   duration_hrs            end_time  inches   n          start_time\n",
       "0             2 1987-08-16 23:00:00     2.7  10 1987-08-16 21:00:00"
      ]
     },
     "execution_count": 71,
     "metadata": {},
     "output_type": "execute_result"
    }
   ],
   "source": [
    "# Looking for an n-year storm in the small period of drastic increase #2\n",
    "find_n_year_storms('1987-08-16 20:00:00', '1987-08-17 00:00:00', 10)"
   ]
  },
  {
   "cell_type": "code",
   "execution_count": null,
   "metadata": {
    "collapsed": true
   },
   "outputs": [],
   "source": []
  },
  {
   "cell_type": "code",
   "execution_count": null,
   "metadata": {
    "collapsed": true
   },
   "outputs": [],
   "source": []
  },
  {
   "cell_type": "code",
   "execution_count": null,
   "metadata": {
    "collapsed": true
   },
   "outputs": [],
   "source": []
  },
  {
   "cell_type": "code",
   "execution_count": null,
   "metadata": {
    "collapsed": true
   },
   "outputs": [],
   "source": []
  },
  {
   "cell_type": "code",
   "execution_count": 21,
   "metadata": {
    "collapsed": false
   },
   "outputs": [
    {
     "data": {
      "text/plain": [
       "1987-08-11 23:00:00     0.00\n",
       "1987-08-12 00:00:00     0.00\n",
       "1987-08-12 01:00:00     0.00\n",
       "1987-08-12 02:00:00     0.00\n",
       "1987-08-12 03:00:00     0.00\n",
       "1987-08-12 04:00:00     0.00\n",
       "1987-08-12 05:00:00     0.00\n",
       "1987-08-12 06:00:00     0.00\n",
       "1987-08-12 07:00:00     0.00\n",
       "1987-08-12 08:00:00     0.00\n",
       "1987-08-12 09:00:00     0.00\n",
       "1987-08-12 10:00:00     0.00\n",
       "1987-08-12 11:00:00     0.00\n",
       "1987-08-12 12:00:00     0.00\n",
       "1987-08-12 13:00:00     0.00\n",
       "1987-08-12 14:00:00     0.00\n",
       "1987-08-12 15:00:00     0.00\n",
       "1987-08-12 16:00:00     0.00\n",
       "1987-08-12 17:00:00     0.00\n",
       "1987-08-12 18:00:00     0.00\n",
       "1987-08-12 19:00:00     0.00\n",
       "1987-08-12 20:00:00     0.00\n",
       "1987-08-12 21:00:00     0.00\n",
       "1987-08-12 22:00:00     0.00\n",
       "1987-08-12 23:00:00     0.00\n",
       "1987-08-13 00:00:00     0.00\n",
       "1987-08-13 01:00:00     0.00\n",
       "1987-08-13 02:00:00     0.00\n",
       "1987-08-13 03:00:00     0.00\n",
       "1987-08-13 04:00:00     0.00\n",
       "                       ...  \n",
       "1987-08-20 18:00:00    13.12\n",
       "1987-08-20 19:00:00    13.12\n",
       "1987-08-20 20:00:00    13.12\n",
       "1987-08-20 21:00:00    13.12\n",
       "1987-08-20 22:00:00    13.12\n",
       "1987-08-20 23:00:00    13.12\n",
       "1987-08-21 00:00:00    13.12\n",
       "1987-08-21 01:00:00    13.12\n",
       "1987-08-21 02:00:00    13.12\n",
       "1987-08-21 03:00:00    13.12\n",
       "1987-08-21 04:00:00    13.12\n",
       "1987-08-21 05:00:00    13.13\n",
       "1987-08-21 06:00:00    13.18\n",
       "1987-08-21 07:00:00    13.18\n",
       "1987-08-21 08:00:00    13.28\n",
       "1987-08-21 09:00:00    13.28\n",
       "1987-08-21 10:00:00    13.28\n",
       "1987-08-21 11:00:00    13.55\n",
       "1987-08-21 12:00:00    13.55\n",
       "1987-08-21 13:00:00    13.55\n",
       "1987-08-21 14:00:00    13.55\n",
       "1987-08-21 15:00:00    13.55\n",
       "1987-08-21 16:00:00    13.55\n",
       "1987-08-21 17:00:00    13.55\n",
       "1987-08-21 18:00:00    13.55\n",
       "1987-08-21 19:00:00    13.55\n",
       "1987-08-21 20:00:00    13.55\n",
       "1987-08-21 21:00:00    13.55\n",
       "1987-08-21 22:00:00    13.55\n",
       "1987-08-21 23:00:00    13.55\n",
       "Freq: H, Name: HOURLYPrecip, dtype: float64"
      ]
     },
     "execution_count": 21,
     "metadata": {},
     "output_type": "execute_result"
    }
   ],
   "source": [
    "chi_rain_series['1987-08-11 23:00:00':'1987-08-21 23:00:00'].cumsum()"
   ]
  },
  {
   "cell_type": "code",
   "execution_count": null,
   "metadata": {
    "collapsed": true
   },
   "outputs": [],
   "source": []
  },
  {
   "cell_type": "code",
   "execution_count": null,
   "metadata": {
    "collapsed": true
   },
   "outputs": [],
   "source": []
  },
  {
   "cell_type": "code",
   "execution_count": 16,
   "metadata": {
    "collapsed": false
   },
   "outputs": [
    {
     "data": {
      "text/plain": [
       "<matplotlib.axes._subplots.AxesSubplot at 0x118e60160>"
      ]
     },
     "execution_count": 16,
     "metadata": {},
     "output_type": "execute_result"
    },
    {
     "data": {
      "image/png": "[encoded data removed]",
      "text/plain": [
       "<matplotlib.figure.Figure at 0x1118110b8>"
      ]
     },
     "metadata": {},
     "output_type": "display_data"
    }
   ],
   "source": [
    "chi_rain_series['2008-09-04 13:00:00':'2008-09-14 13:00:00'].cumsum().plot(title=\"Cumulative rainfall over 2008 100-year storm\")"
   ]
  },
  {
   "cell_type": "code",
   "execution_count": 17,
   "metadata": {
    "collapsed": false
   },
   "outputs": [
    {
     "data": {
      "text/plain": [
       "<matplotlib.axes._subplots.AxesSubplot at 0x111ce47f0>"
      ]
     },
     "execution_count": 17,
     "metadata": {},
     "output_type": "execute_result"
    },
    {
     "data": {
      "image/png": "[encoded data removed]",
      "text/plain": [
       "<matplotlib.figure.Figure at 0x111ce6a90>"
      ]
     },
     "metadata": {},
     "output_type": "display_data"
    }
   ],
   "source": [
    "chi_rain_series['2011-07-22 08:00:00':'2011-07-23 08:00:00'].cumsum().plot(title=\"Cumulative rainfall over 2011 100-year storm\")"
   ]
  },
  {
   "cell_type": "markdown",
   "metadata": {},
   "source": [
    "## Interestingly, all of the 100-year storms are marked with a drastic period of a few hours which really makes it the big one.\n",
    "\n",
    "### Let's examine the 50-years to look for the same trend"
   ]
  },
  {
   "cell_type": "code",
   "execution_count": 18,
   "metadata": {
    "collapsed": false
   },
   "outputs": [
    {
     "data": {
      "text/plain": [
       "<matplotlib.axes._subplots.AxesSubplot at 0x111fbc5c0>"
      ]
     },
     "execution_count": 18,
     "metadata": {},
     "output_type": "execute_result"
    },
    {
     "data": {
      "image/png": "[encoded data removed]",
      "text/plain": [
       "<matplotlib.figure.Figure at 0x11181c320>"
      ]
     },
     "metadata": {},
     "output_type": "display_data"
    }
   ],
   "source": [
    "chi_rain_series['2010-07-23 16:00:00':'2010-07-24 16:00:00'].cumsum().plot(title=\"Cumulative rainfall over 2010 50-year storm\")"
   ]
  },
  {
   "cell_type": "code",
   "execution_count": null,
   "metadata": {
    "collapsed": true
   },
   "outputs": [],
   "source": []
  },
  {
   "cell_type": "code",
   "execution_count": null,
   "metadata": {
    "collapsed": true
   },
   "outputs": [],
   "source": []
  },
  {
   "cell_type": "code",
   "execution_count": null,
   "metadata": {
    "collapsed": true
   },
   "outputs": [],
   "source": []
  },
  {
   "cell_type": "code",
   "execution_count": null,
   "metadata": {
    "collapsed": true
   },
   "outputs": [],
   "source": []
  },
  {
   "cell_type": "code",
   "execution_count": null,
   "metadata": {
    "collapsed": true
   },
   "outputs": [],
   "source": []
  },
  {
   "cell_type": "code",
   "execution_count": 2,
   "metadata": {
    "collapsed": false
   },
   "outputs": [
    {
     "name": "stdout",
     "output_type": "stream",
     "text": [
      "Unnamed: 0                          int64\n",
      "datetime                   datetime64[ns]\n",
      "dewpoint_fahrenheit               float64\n",
      "drybulb_fahrenheit                float64\n",
      "hourly_precip                     float64\n",
      "id                                  int64\n",
      "latitude                          float64\n",
      "longitude                         float64\n",
      "old_station_type                   object\n",
      "relative_humidity                 float64\n",
      "report_type                        object\n",
      "sealevel_pressure                 float64\n",
      "sky_condition                      object\n",
      "sky_condition_top                  object\n",
      "station_pressure                  float64\n",
      "station_type                      float64\n",
      "visibility                        float64\n",
      "wban_code                           int64\n",
      "weather_types                      object\n",
      "wetbulb_fahrenheit                float64\n",
      "wind_direction                     object\n",
      "wind_direction_cardinal            object\n",
      "wind_speed                        float64\n",
      "call_sign                          object\n",
      "dtype: object\n"
     ]
    },
    {
     "name": "stderr",
     "output_type": "stream",
     "text": [
      "d:\\data_science_projects\\chicagorain\\virtualenvs\\nyear-venv\\lib\\site-packages\\IPython\\core\\interactiveshell.py:2717: DtypeWarning: Columns (8) have mixed types. Specify dtype option on import or set low_memory=False.\n",
      "  interactivity=interactivity, compiler=compiler, result=result)\n"
     ]
    },
    {
     "data": {
      "text/html": [
       "<div>\n",
       "<table border=\"1\" class=\"dataframe\">\n",
       "  <thead>\n",
       "    <tr style=\"text-align: right;\">\n",
       "      <th></th>\n",
       "      <th>Unnamed: 0</th>\n",
       "      <th>datetime</th>\n",
       "      <th>dewpoint_fahrenheit</th>\n",
       "      <th>drybulb_fahrenheit</th>\n",
       "      <th>hourly_precip</th>\n",
       "      <th>id</th>\n",
       "      <th>latitude</th>\n",
       "      <th>longitude</th>\n",
       "      <th>old_station_type</th>\n",
       "      <th>relative_humidity</th>\n",
       "      <th>...</th>\n",
       "      <th>station_pressure</th>\n",
       "      <th>station_type</th>\n",
       "      <th>visibility</th>\n",
       "      <th>wban_code</th>\n",
       "      <th>weather_types</th>\n",
       "      <th>wetbulb_fahrenheit</th>\n",
       "      <th>wind_direction</th>\n",
       "      <th>wind_direction_cardinal</th>\n",
       "      <th>wind_speed</th>\n",
       "      <th>call_sign</th>\n",
       "    </tr>\n",
       "  </thead>\n",
       "  <tbody>\n",
       "    <tr>\n",
       "      <th>2016-08-16 22:51:00</th>\n",
       "      <td>0</td>\n",
       "      <td>2016-08-16 22:51:00</td>\n",
       "      <td>65.0</td>\n",
       "      <td>74.0</td>\n",
       "      <td>0.0</td>\n",
       "      <td>398063571</td>\n",
       "      <td>NaN</td>\n",
       "      <td>NaN</td>\n",
       "      <td>NaN</td>\n",
       "      <td>74.0</td>\n",
       "      <td>...</td>\n",
       "      <td>29.37</td>\n",
       "      <td>11.0</td>\n",
       "      <td>10.0</td>\n",
       "      <td>94846</td>\n",
       "      <td>NaN</td>\n",
       "      <td>68.0</td>\n",
       "      <td>200</td>\n",
       "      <td>SSW</td>\n",
       "      <td>7.0</td>\n",
       "      <td>KORD</td>\n",
       "    </tr>\n",
       "    <tr>\n",
       "      <th>2016-08-16 21:51:00</th>\n",
       "      <td>1</td>\n",
       "      <td>2016-08-16 21:51:00</td>\n",
       "      <td>64.0</td>\n",
       "      <td>74.0</td>\n",
       "      <td>0.0</td>\n",
       "      <td>397933331</td>\n",
       "      <td>NaN</td>\n",
       "      <td>NaN</td>\n",
       "      <td>NaN</td>\n",
       "      <td>71.0</td>\n",
       "      <td>...</td>\n",
       "      <td>29.36</td>\n",
       "      <td>11.0</td>\n",
       "      <td>10.0</td>\n",
       "      <td>94846</td>\n",
       "      <td>NaN</td>\n",
       "      <td>68.0</td>\n",
       "      <td>200</td>\n",
       "      <td>SSW</td>\n",
       "      <td>5.0</td>\n",
       "      <td>KORD</td>\n",
       "    </tr>\n",
       "    <tr>\n",
       "      <th>2016-08-16 20:51:00</th>\n",
       "      <td>2</td>\n",
       "      <td>2016-08-16 20:51:00</td>\n",
       "      <td>64.0</td>\n",
       "      <td>76.0</td>\n",
       "      <td>0.0</td>\n",
       "      <td>397986035</td>\n",
       "      <td>NaN</td>\n",
       "      <td>NaN</td>\n",
       "      <td>NaN</td>\n",
       "      <td>67.0</td>\n",
       "      <td>...</td>\n",
       "      <td>29.35</td>\n",
       "      <td>11.0</td>\n",
       "      <td>10.0</td>\n",
       "      <td>94846</td>\n",
       "      <td>NaN</td>\n",
       "      <td>68.0</td>\n",
       "      <td>220</td>\n",
       "      <td>SW</td>\n",
       "      <td>3.0</td>\n",
       "      <td>KORD</td>\n",
       "    </tr>\n",
       "    <tr>\n",
       "      <th>2016-08-16 19:51:00</th>\n",
       "      <td>3</td>\n",
       "      <td>2016-08-16 19:51:00</td>\n",
       "      <td>64.0</td>\n",
       "      <td>78.0</td>\n",
       "      <td>0.0</td>\n",
       "      <td>398003060</td>\n",
       "      <td>NaN</td>\n",
       "      <td>NaN</td>\n",
       "      <td>NaN</td>\n",
       "      <td>62.0</td>\n",
       "      <td>...</td>\n",
       "      <td>29.34</td>\n",
       "      <td>11.0</td>\n",
       "      <td>10.0</td>\n",
       "      <td>94846</td>\n",
       "      <td>NaN</td>\n",
       "      <td>69.0</td>\n",
       "      <td>NaN</td>\n",
       "      <td>NaN</td>\n",
       "      <td>0.0</td>\n",
       "      <td>KORD</td>\n",
       "    </tr>\n",
       "    <tr>\n",
       "      <th>2016-08-16 18:51:00</th>\n",
       "      <td>4</td>\n",
       "      <td>2016-08-16 18:51:00</td>\n",
       "      <td>65.0</td>\n",
       "      <td>76.0</td>\n",
       "      <td>0.0</td>\n",
       "      <td>397972638</td>\n",
       "      <td>NaN</td>\n",
       "      <td>NaN</td>\n",
       "      <td>NaN</td>\n",
       "      <td>69.0</td>\n",
       "      <td>...</td>\n",
       "      <td>29.32</td>\n",
       "      <td>11.0</td>\n",
       "      <td>10.0</td>\n",
       "      <td>94846</td>\n",
       "      <td>NaN</td>\n",
       "      <td>69.0</td>\n",
       "      <td>160</td>\n",
       "      <td>SSE</td>\n",
       "      <td>6.0</td>\n",
       "      <td>KORD</td>\n",
       "    </tr>\n",
       "  </tbody>\n",
       "</table>\n",
       "<p>5 rows × 24 columns</p>\n",
       "</div>"
      ],
      "text/plain": [
       "                     Unnamed: 0            datetime  dewpoint_fahrenheit  \\\n",
       "2016-08-16 22:51:00           0 2016-08-16 22:51:00                 65.0   \n",
       "2016-08-16 21:51:00           1 2016-08-16 21:51:00                 64.0   \n",
       "2016-08-16 20:51:00           2 2016-08-16 20:51:00                 64.0   \n",
       "2016-08-16 19:51:00           3 2016-08-16 19:51:00                 64.0   \n",
       "2016-08-16 18:51:00           4 2016-08-16 18:51:00                 65.0   \n",
       "\n",
       "                     drybulb_fahrenheit  hourly_precip         id  latitude  \\\n",
       "2016-08-16 22:51:00                74.0            0.0  398063571       NaN   \n",
       "2016-08-16 21:51:00                74.0            0.0  397933331       NaN   \n",
       "2016-08-16 20:51:00                76.0            0.0  397986035       NaN   \n",
       "2016-08-16 19:51:00                78.0            0.0  398003060       NaN   \n",
       "2016-08-16 18:51:00                76.0            0.0  397972638       NaN   \n",
       "\n",
       "                     longitude old_station_type  relative_humidity    ...      \\\n",
       "2016-08-16 22:51:00        NaN              NaN               74.0    ...       \n",
       "2016-08-16 21:51:00        NaN              NaN               71.0    ...       \n",
       "2016-08-16 20:51:00        NaN              NaN               67.0    ...       \n",
       "2016-08-16 19:51:00        NaN              NaN               62.0    ...       \n",
       "2016-08-16 18:51:00        NaN              NaN               69.0    ...       \n",
       "\n",
       "                    station_pressure  station_type visibility wban_code  \\\n",
       "2016-08-16 22:51:00            29.37          11.0       10.0     94846   \n",
       "2016-08-16 21:51:00            29.36          11.0       10.0     94846   \n",
       "2016-08-16 20:51:00            29.35          11.0       10.0     94846   \n",
       "2016-08-16 19:51:00            29.34          11.0       10.0     94846   \n",
       "2016-08-16 18:51:00            29.32          11.0       10.0     94846   \n",
       "\n",
       "                     weather_types  wetbulb_fahrenheit  wind_direction  \\\n",
       "2016-08-16 22:51:00            NaN                68.0             200   \n",
       "2016-08-16 21:51:00            NaN                68.0             200   \n",
       "2016-08-16 20:51:00            NaN                68.0             220   \n",
       "2016-08-16 19:51:00            NaN                69.0             NaN   \n",
       "2016-08-16 18:51:00            NaN                69.0             160   \n",
       "\n",
       "                     wind_direction_cardinal wind_speed  call_sign  \n",
       "2016-08-16 22:51:00                      SSW        7.0       KORD  \n",
       "2016-08-16 21:51:00                      SSW        5.0       KORD  \n",
       "2016-08-16 20:51:00                       SW        3.0       KORD  \n",
       "2016-08-16 19:51:00                      NaN        0.0       KORD  \n",
       "2016-08-16 18:51:00                      SSE        6.0       KORD  \n",
       "\n",
       "[5 rows x 24 columns]"
      ]
     },
     "execution_count": 2,
     "metadata": {},
     "output_type": "execute_result"
    }
   ],
   "source": [
    "# The following code is copied verbatim from @pjsier Rolling Rain N-Year Threshold.pynb\n",
    "# Loading in hourly rain data from CSV, parsing the timestamp, and adding it as an index so it's more useful\n",
    "\n",
    "rain_df = pd.read_csv('data/ohare_hourly_observations.csv')\n",
    "rain_df['datetime'] = pd.to_datetime(rain_df['datetime'])\n",
    "rain_df = rain_df.set_index(pd.DatetimeIndex(rain_df['datetime']))\n",
    "print(rain_df.dtypes)\n",
    "rain_df.head()"
   ]
  },
  {
   "cell_type": "code",
   "execution_count": 3,
   "metadata": {
    "collapsed": false
   },
   "outputs": [],
   "source": [
    "chi_rain_series = rain_df['hourly_precip'].resample('1H').max()"
   ]
  },
  {
   "cell_type": "code",
   "execution_count": 4,
   "metadata": {
    "collapsed": true
   },
   "outputs": [],
   "source": [
    "# This is where I break with @pjsier"
   ]
  },
  {
   "cell_type": "code",
   "execution_count": 5,
   "metadata": {
    "collapsed": false
   },
   "outputs": [],
   "source": [
    "# I am assuming here that a single hour cannot be part of more than one storm in the event_endtimes list.\n",
    "# Therefore, I am looping through the list and throwing out any storms that include hours from heavier storms in the\n",
    "# same block of time.=\n",
    "def get_storms_without_overlap(event_endtimes, hours):\n",
    "    times_taken = []\n",
    "    ret_val = []\n",
    "    for i in range(len(event_endtimes)):\n",
    "        timestamp = event_endtimes.iloc[i].name\n",
    "        times_here = []\n",
    "        for h in range(hours):\n",
    "            times_here.append(timestamp - pd.DateOffset(hours=h))\n",
    "        if not bool(set(times_here) & set(times_taken)):\n",
    "            times_taken.extend(times_here)\n",
    "            ret_val.append({'start': timestamp - pd.DateOffset(hours=hours), 'end': timestamp, 'inches': event_endtimes.iloc[i]['hourly_precip']})\n",
    "    return ret_val"
   ]
  },
  {
   "cell_type": "code",
   "execution_count": 6,
   "metadata": {
    "collapsed": false
   },
   "outputs": [
    {
     "name": "stdout",
     "output_type": "stream",
     "text": [
      "\tSTART\t\t\tEND\t\t\tINCHES\n",
      "Across 240 hours\n",
      "\t2015-01-25 02:00:00\t2015-02-04 02:00:00\t13.765 inches\n",
      "\t2008-09-04 12:00:00\t2008-09-14 12:00:00\t12.06 inches\n",
      "Across 120 hours\n",
      "\t2015-01-30 18:00:00\t2015-02-04 18:00:00\t13.515 inches\n",
      "Across 72 hours\n",
      "\t2015-01-31 18:00:00\t2015-02-03 18:00:00\t13.48 inches\n",
      "Across 48 hours\n",
      "\t2015-01-31 11:00:00\t2015-02-02 11:00:00\t13.385 inches\n",
      "\t2011-07-21 12:00:00\t2011-07-23 12:00:00\t8.45 inches\n",
      "\t2008-09-12 14:00:00\t2008-09-14 14:00:00\t8.365 inches\n",
      "Across 24 hours\n",
      "\t2015-02-01 10:00:00\t2015-02-02 10:00:00\t12.78 inches\n",
      "\t2011-07-22 07:00:00\t2011-07-23 07:00:00\t8.22 inches\n",
      "Across 18 hours\n",
      "\t2015-02-01 16:00:00\t2015-02-02 10:00:00\t12.375 inches\n",
      "\t2011-07-22 08:00:00\t2011-07-23 02:00:00\t7.29 inches\n",
      "Across 12 hours\n",
      "\t2015-02-01 22:00:00\t2015-02-02 10:00:00\t10.42 inches\n",
      "\t2011-07-22 22:00:00\t2011-07-23 10:00:00\t6.935 inches\n",
      "Across 6 hours\n",
      "\t2015-02-02 04:00:00\t2015-02-02 10:00:00\t9.655 inches\n",
      "\t2011-07-22 22:00:00\t2011-07-23 04:00:00\t6.915 inches\n",
      "Across 3 hours\n",
      "\t2015-02-02 07:00:00\t2015-02-02 10:00:00\t8.36 inches\n",
      "\t2011-07-22 23:00:00\t2011-07-23 02:00:00\t6.79 inches\n",
      "Across 2 hours\n",
      "\t2015-02-02 07:00:00\t2015-02-02 09:00:00\t5.76 inches\n",
      "\t2011-07-22 23:00:00\t2011-07-23 01:00:00\t5.61 inches\n"
     ]
    }
   ],
   "source": [
    "# Find the 100 year event.  First, define the storm as based in Illinois Bulletin 70 as the number of inches\n",
    "# of precipition that falls over a given span of straight hours.\n",
    "_100_year_storm_milestones = [{'hours': 240, 'inches': 11.14}, {'hours':120, 'inches': 9.96},\n",
    "                              {'hours': 72, 'inches': 8.78}, {'hours': 48, 'inches': 8.16}, {'hours': 24, 'inches': 7.58},\n",
    "                             {'hours': 18, 'inches': 6.97}, {'hours': 12, 'inches': 6.59}, {'hours': 6, 'inches': 5.68},\n",
    "                             {'hours': 3, 'inches': 4.9}, {'hours': 2, 'inches': 4.47}, {'hours': 1, 'inches': 3.51}]\n",
    "all_storms = []\n",
    "print(\"\\tSTART\\t\\t\\tEND\\t\\t\\tINCHES\")\n",
    "for storm_hours in _100_year_storm_milestones:\n",
    "    rolling = pd.DataFrame(chi_rain_series.rolling(window=storm_hours['hours']).sum())\n",
    "    event_endtimes = rolling[(rolling['hourly_precip'] >= storm_hours['inches'])]\n",
    "    event_endtimes = event_endtimes.sort_values(by='hourly_precip', ascending=False)\n",
    "    storms = get_storms_without_overlap(event_endtimes, storm_hours['hours'])\n",
    "\n",
    "    if len(storms) > 0:\n",
    "        print(\"Across %s hours\" % storm_hours['hours'])\n",
    "        for storm in storms:\n",
    "            print('\\t%s\\t%s\\t%s inches' % (storm['start'], storm['end'], storm['inches']))\n",
    "        all_storms.extend(storms)"
   ]
  },
  {
   "cell_type": "code",
   "execution_count": 7,
   "metadata": {
    "collapsed": true
   },
   "outputs": [],
   "source": [
    "# Analysis Questions\n",
    "# 1/25/2015 - 2/4/2015 - Worst storm by far in quantity, but Jan-Feb -- is it snow?\n",
    "# 9/4/2008 - 9/14/2008 - This only appeared on the 10-day event, so it must've been well distributed across the days?\n",
    "# 7/21/2011 - 7/23/2011 - Very heavy summer storm!"
   ]
  },
  {
   "cell_type": "code",
   "execution_count": 8,
   "metadata": {
    "collapsed": false
   },
   "outputs": [
    {
     "data": {
      "text/plain": [
       "2011-07-20 00:00:00    0.00\n",
       "2011-07-20 01:00:00    0.00\n",
       "2011-07-20 02:00:00    0.02\n",
       "2011-07-20 03:00:00    0.00\n",
       "2011-07-20 04:00:00    0.00\n",
       "Freq: H, Name: hourly_precip, dtype: float64"
      ]
     },
     "execution_count": 8,
     "metadata": {},
     "output_type": "execute_result"
    }
   ],
   "source": [
    "# Examining the storm from 7/21-2011 - 7/23/2011\n",
    "import datetime\n",
    "july_2011_storm = chi_rain_series.loc[(chi_rain_series.index >= datetime.datetime(2011,7,20)) & (chi_rain_series.index <= datetime.datetime(2011,7,24))]\n",
    "july_2011_storm.head()"
   ]
  },
  {
   "cell_type": "code",
   "execution_count": 9,
   "metadata": {
    "collapsed": false
   },
   "outputs": [
    {
     "data": {
      "text/plain": [
       "<matplotlib.axes._subplots.AxesSubplot at 0x9bd47f0>"
      ]
     },
     "execution_count": 9,
     "metadata": {},
     "output_type": "execute_result"
    },
    {
     "data": {
      "image/png": "[encoded data removed]",
      "text/plain": [
       "<matplotlib.figure.Figure at 0xd636940>"
      ]
     },
     "metadata": {},
     "output_type": "display_data"
    }
   ],
   "source": [
    "july_2011_storm.plot()"
   ]
  },
  {
   "cell_type": "code",
   "execution_count": 10,
   "metadata": {
    "collapsed": false
   },
   "outputs": [
    {
     "data": {
      "text/plain": [
       "2011-07-20 00:00:00    0.00\n",
       "2011-07-20 01:00:00    0.00\n",
       "2011-07-20 02:00:00    0.02\n",
       "2011-07-20 03:00:00    0.02\n",
       "2011-07-20 04:00:00    0.02\n",
       "Freq: H, Name: hourly_precip, dtype: float64"
      ]
     },
     "execution_count": 10,
     "metadata": {},
     "output_type": "execute_result"
    }
   ],
   "source": [
    "# Let's take a look at the cumulative buildup of the storm over time\n",
    "cumulative_rainj11 = pd.DataFrame(july_2011_storm).hourly_precip.cumsum()\n",
    "cumulative_rainj11.head()"
   ]
  },
  {
   "cell_type": "code",
   "execution_count": 11,
   "metadata": {
    "collapsed": false
   },
   "outputs": [
    {
     "data": {
      "text/plain": [
       "<matplotlib.axes._subplots.AxesSubplot at 0x9cb4ac8>"
      ]
     },
     "execution_count": 11,
     "metadata": {},
     "output_type": "execute_result"
    },
    {
     "data": {
      "image/png": "[encoded data removed]",
      "text/plain": [
       "<matplotlib.figure.Figure at 0xd6368d0>"
      ]
     },
     "metadata": {},
     "output_type": "display_data"
    }
   ],
   "source": [
    "cumulative_rainj11.plot()"
   ]
  },
  {
   "cell_type": "code",
   "execution_count": 12,
   "metadata": {
    "collapsed": false
   },
   "outputs": [
    {
     "data": {
      "text/plain": [
       "2011-07-22 21:00:00    1.530\n",
       "2011-07-22 22:00:00    1.530\n",
       "2011-07-22 23:00:00    1.590\n",
       "2011-07-23 00:00:00    4.160\n",
       "2011-07-23 01:00:00    7.200\n",
       "2011-07-23 02:00:00    8.380\n",
       "2011-07-23 03:00:00    8.440\n",
       "2011-07-23 04:00:00    8.445\n",
       "2011-07-23 05:00:00    8.445\n",
       "Freq: H, Name: hourly_precip, dtype: float64"
      ]
     },
     "execution_count": 12,
     "metadata": {},
     "output_type": "execute_result"
    }
   ],
   "source": [
    "cumulative_rainj11.loc[(cumulative_rainj11.index >= datetime.datetime(2011,7,22,21,0,0)) & (cumulative_rainj11.index <= datetime.datetime(2011,7,23,5,0,0))]"
   ]
  },
  {
   "cell_type": "code",
   "execution_count": 13,
   "metadata": {
    "collapsed": true
   },
   "outputs": [],
   "source": [
    "# We got a crazy, crazy downpour from about 11:00PM until 2:00AM.  That alone was a 100-year storm, where we got 6.79 inches\n",
    "# in 3 hours.  That would've been a 100-year storm if we'd have gotten that in 12 hours!"
   ]
  }
 ],
 "metadata": {
  "kernelspec": {
   "display_name": "Python 3",
   "language": "python",
   "name": "python3"
  },
  "language_info": {
   "codemirror_mode": {
    "name": "ipython",
    "version": 3
   },
   "file_extension": ".py",
   "mimetype": "text/x-python",
   "name": "python",
   "nbconvert_exporter": "python",
   "pygments_lexer": "ipython3",
   "version": "3.5.2"
  }
 },
 "nbformat": 4,
 "nbformat_minor": 1
}
