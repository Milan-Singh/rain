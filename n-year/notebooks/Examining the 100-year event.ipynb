{
 "cells": [
  {
   "cell_type": "code",
   "execution_count": 1,
   "metadata": {
    "collapsed": false
   },
   "outputs": [],
   "source": [
    "from __future__ import absolute_import, division, print_function, unicode_literals\n",
    "import numpy as np\n",
    "import pandas as pd\n",
    "import matplotlib.pyplot as plt\n",
    "import seaborn as sns\n",
    "%matplotlib inline"
   ]
  },
  {
   "cell_type": "code",
   "execution_count": 2,
   "metadata": {
    "collapsed": false
   },
   "outputs": [
    {
     "name": "stdout",
     "output_type": "stream",
     "text": [
      "Unnamed: 0                          int64\n",
      "datetime                   datetime64[ns]\n",
      "dewpoint_fahrenheit               float64\n",
      "drybulb_fahrenheit                float64\n",
      "hourly_precip                     float64\n",
      "id                                  int64\n",
      "latitude                          float64\n",
      "longitude                         float64\n",
      "old_station_type                   object\n",
      "relative_humidity                 float64\n",
      "report_type                        object\n",
      "sealevel_pressure                 float64\n",
      "sky_condition                      object\n",
      "sky_condition_top                  object\n",
      "station_pressure                  float64\n",
      "station_type                      float64\n",
      "visibility                        float64\n",
      "wban_code                           int64\n",
      "weather_types                      object\n",
      "wetbulb_fahrenheit                float64\n",
      "wind_direction                     object\n",
      "wind_direction_cardinal            object\n",
      "wind_speed                        float64\n",
      "call_sign                          object\n",
      "dtype: object\n"
     ]
    },
    {
     "name": "stderr",
     "output_type": "stream",
     "text": [
      "d:\\data_science_projects\\chicagorain\\virtualenvs\\nyear-venv\\lib\\site-packages\\IPython\\core\\interactiveshell.py:2717: DtypeWarning: Columns (8) have mixed types. Specify dtype option on import or set low_memory=False.\n",
      "  interactivity=interactivity, compiler=compiler, result=result)\n"
     ]
    },
    {
     "data": {
      "text/html": [
       "<div>\n",
       "<table border=\"1\" class=\"dataframe\">\n",
       "  <thead>\n",
       "    <tr style=\"text-align: right;\">\n",
       "      <th></th>\n",
       "      <th>Unnamed: 0</th>\n",
       "      <th>datetime</th>\n",
       "      <th>dewpoint_fahrenheit</th>\n",
       "      <th>drybulb_fahrenheit</th>\n",
       "      <th>hourly_precip</th>\n",
       "      <th>id</th>\n",
       "      <th>latitude</th>\n",
       "      <th>longitude</th>\n",
       "      <th>old_station_type</th>\n",
       "      <th>relative_humidity</th>\n",
       "      <th>...</th>\n",
       "      <th>station_pressure</th>\n",
       "      <th>station_type</th>\n",
       "      <th>visibility</th>\n",
       "      <th>wban_code</th>\n",
       "      <th>weather_types</th>\n",
       "      <th>wetbulb_fahrenheit</th>\n",
       "      <th>wind_direction</th>\n",
       "      <th>wind_direction_cardinal</th>\n",
       "      <th>wind_speed</th>\n",
       "      <th>call_sign</th>\n",
       "    </tr>\n",
       "  </thead>\n",
       "  <tbody>\n",
       "    <tr>\n",
       "      <th>2016-08-16 22:51:00</th>\n",
       "      <td>0</td>\n",
       "      <td>2016-08-16 22:51:00</td>\n",
       "      <td>65.0</td>\n",
       "      <td>74.0</td>\n",
       "      <td>0.0</td>\n",
       "      <td>398063571</td>\n",
       "      <td>NaN</td>\n",
       "      <td>NaN</td>\n",
       "      <td>NaN</td>\n",
       "      <td>74.0</td>\n",
       "      <td>...</td>\n",
       "      <td>29.37</td>\n",
       "      <td>11.0</td>\n",
       "      <td>10.0</td>\n",
       "      <td>94846</td>\n",
       "      <td>NaN</td>\n",
       "      <td>68.0</td>\n",
       "      <td>200</td>\n",
       "      <td>SSW</td>\n",
       "      <td>7.0</td>\n",
       "      <td>KORD</td>\n",
       "    </tr>\n",
       "    <tr>\n",
       "      <th>2016-08-16 21:51:00</th>\n",
       "      <td>1</td>\n",
       "      <td>2016-08-16 21:51:00</td>\n",
       "      <td>64.0</td>\n",
       "      <td>74.0</td>\n",
       "      <td>0.0</td>\n",
       "      <td>397933331</td>\n",
       "      <td>NaN</td>\n",
       "      <td>NaN</td>\n",
       "      <td>NaN</td>\n",
       "      <td>71.0</td>\n",
       "      <td>...</td>\n",
       "      <td>29.36</td>\n",
       "      <td>11.0</td>\n",
       "      <td>10.0</td>\n",
       "      <td>94846</td>\n",
       "      <td>NaN</td>\n",
       "      <td>68.0</td>\n",
       "      <td>200</td>\n",
       "      <td>SSW</td>\n",
       "      <td>5.0</td>\n",
       "      <td>KORD</td>\n",
       "    </tr>\n",
       "    <tr>\n",
       "      <th>2016-08-16 20:51:00</th>\n",
       "      <td>2</td>\n",
       "      <td>2016-08-16 20:51:00</td>\n",
       "      <td>64.0</td>\n",
       "      <td>76.0</td>\n",
       "      <td>0.0</td>\n",
       "      <td>397986035</td>\n",
       "      <td>NaN</td>\n",
       "      <td>NaN</td>\n",
       "      <td>NaN</td>\n",
       "      <td>67.0</td>\n",
       "      <td>...</td>\n",
       "      <td>29.35</td>\n",
       "      <td>11.0</td>\n",
       "      <td>10.0</td>\n",
       "      <td>94846</td>\n",
       "      <td>NaN</td>\n",
       "      <td>68.0</td>\n",
       "      <td>220</td>\n",
       "      <td>SW</td>\n",
       "      <td>3.0</td>\n",
       "      <td>KORD</td>\n",
       "    </tr>\n",
       "    <tr>\n",
       "      <th>2016-08-16 19:51:00</th>\n",
       "      <td>3</td>\n",
       "      <td>2016-08-16 19:51:00</td>\n",
       "      <td>64.0</td>\n",
       "      <td>78.0</td>\n",
       "      <td>0.0</td>\n",
       "      <td>398003060</td>\n",
       "      <td>NaN</td>\n",
       "      <td>NaN</td>\n",
       "      <td>NaN</td>\n",
       "      <td>62.0</td>\n",
       "      <td>...</td>\n",
       "      <td>29.34</td>\n",
       "      <td>11.0</td>\n",
       "      <td>10.0</td>\n",
       "      <td>94846</td>\n",
       "      <td>NaN</td>\n",
       "      <td>69.0</td>\n",
       "      <td>NaN</td>\n",
       "      <td>NaN</td>\n",
       "      <td>0.0</td>\n",
       "      <td>KORD</td>\n",
       "    </tr>\n",
       "    <tr>\n",
       "      <th>2016-08-16 18:51:00</th>\n",
       "      <td>4</td>\n",
       "      <td>2016-08-16 18:51:00</td>\n",
       "      <td>65.0</td>\n",
       "      <td>76.0</td>\n",
       "      <td>0.0</td>\n",
       "      <td>397972638</td>\n",
       "      <td>NaN</td>\n",
       "      <td>NaN</td>\n",
       "      <td>NaN</td>\n",
       "      <td>69.0</td>\n",
       "      <td>...</td>\n",
       "      <td>29.32</td>\n",
       "      <td>11.0</td>\n",
       "      <td>10.0</td>\n",
       "      <td>94846</td>\n",
       "      <td>NaN</td>\n",
       "      <td>69.0</td>\n",
       "      <td>160</td>\n",
       "      <td>SSE</td>\n",
       "      <td>6.0</td>\n",
       "      <td>KORD</td>\n",
       "    </tr>\n",
       "  </tbody>\n",
       "</table>\n",
       "<p>5 rows × 24 columns</p>\n",
       "</div>"
      ],
      "text/plain": [
       "                     Unnamed: 0            datetime  dewpoint_fahrenheit  \\\n",
       "2016-08-16 22:51:00           0 2016-08-16 22:51:00                 65.0   \n",
       "2016-08-16 21:51:00           1 2016-08-16 21:51:00                 64.0   \n",
       "2016-08-16 20:51:00           2 2016-08-16 20:51:00                 64.0   \n",
       "2016-08-16 19:51:00           3 2016-08-16 19:51:00                 64.0   \n",
       "2016-08-16 18:51:00           4 2016-08-16 18:51:00                 65.0   \n",
       "\n",
       "                     drybulb_fahrenheit  hourly_precip         id  latitude  \\\n",
       "2016-08-16 22:51:00                74.0            0.0  398063571       NaN   \n",
       "2016-08-16 21:51:00                74.0            0.0  397933331       NaN   \n",
       "2016-08-16 20:51:00                76.0            0.0  397986035       NaN   \n",
       "2016-08-16 19:51:00                78.0            0.0  398003060       NaN   \n",
       "2016-08-16 18:51:00                76.0            0.0  397972638       NaN   \n",
       "\n",
       "                     longitude old_station_type  relative_humidity    ...      \\\n",
       "2016-08-16 22:51:00        NaN              NaN               74.0    ...       \n",
       "2016-08-16 21:51:00        NaN              NaN               71.0    ...       \n",
       "2016-08-16 20:51:00        NaN              NaN               67.0    ...       \n",
       "2016-08-16 19:51:00        NaN              NaN               62.0    ...       \n",
       "2016-08-16 18:51:00        NaN              NaN               69.0    ...       \n",
       "\n",
       "                    station_pressure  station_type visibility wban_code  \\\n",
       "2016-08-16 22:51:00            29.37          11.0       10.0     94846   \n",
       "2016-08-16 21:51:00            29.36          11.0       10.0     94846   \n",
       "2016-08-16 20:51:00            29.35          11.0       10.0     94846   \n",
       "2016-08-16 19:51:00            29.34          11.0       10.0     94846   \n",
       "2016-08-16 18:51:00            29.32          11.0       10.0     94846   \n",
       "\n",
       "                     weather_types  wetbulb_fahrenheit  wind_direction  \\\n",
       "2016-08-16 22:51:00            NaN                68.0             200   \n",
       "2016-08-16 21:51:00            NaN                68.0             200   \n",
       "2016-08-16 20:51:00            NaN                68.0             220   \n",
       "2016-08-16 19:51:00            NaN                69.0             NaN   \n",
       "2016-08-16 18:51:00            NaN                69.0             160   \n",
       "\n",
       "                     wind_direction_cardinal wind_speed  call_sign  \n",
       "2016-08-16 22:51:00                      SSW        7.0       KORD  \n",
       "2016-08-16 21:51:00                      SSW        5.0       KORD  \n",
       "2016-08-16 20:51:00                       SW        3.0       KORD  \n",
       "2016-08-16 19:51:00                      NaN        0.0       KORD  \n",
       "2016-08-16 18:51:00                      SSE        6.0       KORD  \n",
       "\n",
       "[5 rows x 24 columns]"
      ]
     },
     "execution_count": 2,
     "metadata": {},
     "output_type": "execute_result"
    }
   ],
   "source": [
    "# The following code is copied verbatim from @pjsier Rolling Rain N-Year Threshold.pynb\n",
    "# Loading in hourly rain data from CSV, parsing the timestamp, and adding it as an index so it's more useful\n",
    "\n",
    "rain_df = pd.read_csv('data/ohare_hourly_observations.csv')\n",
    "rain_df['datetime'] = pd.to_datetime(rain_df['datetime'])\n",
    "rain_df = rain_df.set_index(pd.DatetimeIndex(rain_df['datetime']))\n",
    "print(rain_df.dtypes)\n",
    "rain_df.head()"
   ]
  },
  {
   "cell_type": "code",
   "execution_count": 3,
   "metadata": {
    "collapsed": false
   },
   "outputs": [],
   "source": [
    "chi_rain_series = rain_df['hourly_precip'].resample('1H').max()"
   ]
  },
  {
   "cell_type": "code",
   "execution_count": 4,
   "metadata": {
    "collapsed": true
   },
   "outputs": [],
   "source": [
    "# This is where I break with @pjsier"
   ]
  },
  {
   "cell_type": "code",
   "execution_count": 5,
   "metadata": {
    "collapsed": false
   },
   "outputs": [],
   "source": [
    "# I am assuming here that a single hour cannot be part of more than one storm in the event_endtimes list.\n",
    "# Therefore, I am looping through the list and throwing out any storms that include hours from heavier storms in the\n",
    "# same block of time.=\n",
    "def get_storms_without_overlap(event_endtimes, hours):\n",
    "    times_taken = []\n",
    "    ret_val = []\n",
    "    for i in range(len(event_endtimes)):\n",
    "        timestamp = event_endtimes.iloc[i].name\n",
    "        times_here = []\n",
    "        for h in range(hours):\n",
    "            times_here.append(timestamp - pd.DateOffset(hours=h))\n",
    "        if not bool(set(times_here) & set(times_taken)):\n",
    "            times_taken.extend(times_here)\n",
    "            ret_val.append({'start': timestamp - pd.DateOffset(hours=hours), 'end': timestamp, 'inches': event_endtimes.iloc[i]['hourly_precip']})\n",
    "    return ret_val"
   ]
  },
  {
   "cell_type": "code",
   "execution_count": 6,
   "metadata": {
    "collapsed": false
   },
   "outputs": [
    {
     "name": "stdout",
     "output_type": "stream",
     "text": [
      "\tSTART\t\t\tEND\t\t\tINCHES\n",
      "Across 240 hours\n",
      "\t2015-01-25 02:00:00\t2015-02-04 02:00:00\t13.765 inches\n",
      "\t2008-09-04 12:00:00\t2008-09-14 12:00:00\t12.06 inches\n",
      "Across 120 hours\n",
      "\t2015-01-30 18:00:00\t2015-02-04 18:00:00\t13.515 inches\n",
      "Across 72 hours\n",
      "\t2015-01-31 18:00:00\t2015-02-03 18:00:00\t13.48 inches\n",
      "Across 48 hours\n",
      "\t2015-01-31 11:00:00\t2015-02-02 11:00:00\t13.385 inches\n",
      "\t2011-07-21 12:00:00\t2011-07-23 12:00:00\t8.45 inches\n",
      "\t2008-09-12 14:00:00\t2008-09-14 14:00:00\t8.365 inches\n",
      "Across 24 hours\n",
      "\t2015-02-01 10:00:00\t2015-02-02 10:00:00\t12.78 inches\n",
      "\t2011-07-22 07:00:00\t2011-07-23 07:00:00\t8.22 inches\n",
      "Across 18 hours\n",
      "\t2015-02-01 16:00:00\t2015-02-02 10:00:00\t12.375 inches\n",
      "\t2011-07-22 08:00:00\t2011-07-23 02:00:00\t7.29 inches\n",
      "Across 12 hours\n",
      "\t2015-02-01 22:00:00\t2015-02-02 10:00:00\t10.42 inches\n",
      "\t2011-07-22 22:00:00\t2011-07-23 10:00:00\t6.935 inches\n",
      "Across 6 hours\n",
      "\t2015-02-02 04:00:00\t2015-02-02 10:00:00\t9.655 inches\n",
      "\t2011-07-22 22:00:00\t2011-07-23 04:00:00\t6.915 inches\n",
      "Across 3 hours\n",
      "\t2015-02-02 07:00:00\t2015-02-02 10:00:00\t8.36 inches\n",
      "\t2011-07-22 23:00:00\t2011-07-23 02:00:00\t6.79 inches\n",
      "Across 2 hours\n",
      "\t2015-02-02 07:00:00\t2015-02-02 09:00:00\t5.76 inches\n",
      "\t2011-07-22 23:00:00\t2011-07-23 01:00:00\t5.61 inches\n"
     ]
    }
   ],
   "source": [
    "# Find the 100 year event.  First, define the storm as based in Illinois Bulletin 70 as the number of inches\n",
    "# of precipition that falls over a given span of straight hours.\n",
    "_100_year_storm_milestones = [{'hours': 240, 'inches': 11.14}, {'hours':120, 'inches': 9.96},\n",
    "                              {'hours': 72, 'inches': 8.78}, {'hours': 48, 'inches': 8.16}, {'hours': 24, 'inches': 7.58},\n",
    "                             {'hours': 18, 'inches': 6.97}, {'hours': 12, 'inches': 6.59}, {'hours': 6, 'inches': 5.68},\n",
    "                             {'hours': 3, 'inches': 4.9}, {'hours': 2, 'inches': 4.47}, {'hours': 1, 'inches': 3.51}]\n",
    "all_storms = []\n",
    "print(\"\\tSTART\\t\\t\\tEND\\t\\t\\tINCHES\")\n",
    "for storm_hours in _100_year_storm_milestones:\n",
    "    rolling = pd.DataFrame(chi_rain_series.rolling(window=storm_hours['hours']).sum())\n",
    "    event_endtimes = rolling[(rolling['hourly_precip'] >= storm_hours['inches'])]\n",
    "    event_endtimes = event_endtimes.sort_values(by='hourly_precip', ascending=False)\n",
    "    storms = get_storms_without_overlap(event_endtimes, storm_hours['hours'])\n",
    "\n",
    "    if len(storms) > 0:\n",
    "        print(\"Across %s hours\" % storm_hours['hours'])\n",
    "        for storm in storms:\n",
    "            print('\\t%s\\t%s\\t%s inches' % (storm['start'], storm['end'], storm['inches']))\n",
    "        all_storms.extend(storms)"
   ]
  },
  {
   "cell_type": "code",
   "execution_count": 7,
   "metadata": {
    "collapsed": true
   },
   "outputs": [],
   "source": [
    "# Analysis Questions\n",
    "# 1/25/2015 - 2/4/2015 - Worst storm by far in quantity, but Jan-Feb -- is it snow?\n",
    "# 9/4/2008 - 9/14/2008 - This only appeared on the 10-day event, so it must've been well distributed across the days?\n",
    "# 7/21/2011 - 7/23/2011 - Very heavy summer storm!"
   ]
  },
  {
   "cell_type": "code",
   "execution_count": 8,
   "metadata": {
    "collapsed": false
   },
   "outputs": [
    {
     "data": {
      "text/plain": [
       "2011-07-20 00:00:00    0.00\n",
       "2011-07-20 01:00:00    0.00\n",
       "2011-07-20 02:00:00    0.02\n",
       "2011-07-20 03:00:00    0.00\n",
       "2011-07-20 04:00:00    0.00\n",
       "Freq: H, Name: hourly_precip, dtype: float64"
      ]
     },
     "execution_count": 8,
     "metadata": {},
     "output_type": "execute_result"
    }
   ],
   "source": [
    "# Examining the storm from 7/21-2011 - 7/23/2011\n",
    "import datetime\n",
    "july_2011_storm = chi_rain_series.loc[(chi_rain_series.index >= datetime.datetime(2011,7,20)) & (chi_rain_series.index <= datetime.datetime(2011,7,24))]\n",
    "july_2011_storm.head()"
   ]
  },
  {
   "cell_type": "code",
   "execution_count": 9,
   "metadata": {
    "collapsed": false
   },
   "outputs": [
    {
     "data": {
      "text/plain": [
       "<matplotlib.axes._subplots.AxesSubplot at 0x9bd47f0>"
      ]
     },
     "execution_count": 9,
     "metadata": {},
     "output_type": "execute_result"
    },
    {
     "data": {
      "image/png": "[encoded data removed]",
      "text/plain": [
       "<matplotlib.figure.Figure at 0xd636940>"
      ]
     },
     "metadata": {},
     "output_type": "display_data"
    }
   ],
   "source": [
    "july_2011_storm.plot()"
   ]
  },
  {
   "cell_type": "code",
   "execution_count": 10,
   "metadata": {
    "collapsed": false
   },
   "outputs": [
    {
     "data": {
      "text/plain": [
       "2011-07-20 00:00:00    0.00\n",
       "2011-07-20 01:00:00    0.00\n",
       "2011-07-20 02:00:00    0.02\n",
       "2011-07-20 03:00:00    0.02\n",
       "2011-07-20 04:00:00    0.02\n",
       "Freq: H, Name: hourly_precip, dtype: float64"
      ]
     },
     "execution_count": 10,
     "metadata": {},
     "output_type": "execute_result"
    }
   ],
   "source": [
    "# Let's take a look at the cumulative buildup of the storm over time\n",
    "cumulative_rainj11 = pd.DataFrame(july_2011_storm).hourly_precip.cumsum()\n",
    "cumulative_rainj11.head()"
   ]
  },
  {
   "cell_type": "code",
   "execution_count": 11,
   "metadata": {
    "collapsed": false
   },
   "outputs": [
    {
     "data": {
      "text/plain": [
       "<matplotlib.axes._subplots.AxesSubplot at 0x9cb4ac8>"
      ]
     },
     "execution_count": 11,
     "metadata": {},
     "output_type": "execute_result"
    },
    {
     "data": {
      "image/png": "[encoded data removed]",
      "text/plain": [
       "<matplotlib.figure.Figure at 0xd6368d0>"
      ]
     },
     "metadata": {},
     "output_type": "display_data"
    }
   ],
   "source": [
    "cumulative_rainj11.plot()"
   ]
  },
  {
   "cell_type": "code",
   "execution_count": 12,
   "metadata": {
    "collapsed": false
   },
   "outputs": [
    {
     "data": {
      "text/plain": [
       "2011-07-22 21:00:00    1.530\n",
       "2011-07-22 22:00:00    1.530\n",
       "2011-07-22 23:00:00    1.590\n",
       "2011-07-23 00:00:00    4.160\n",
       "2011-07-23 01:00:00    7.200\n",
       "2011-07-23 02:00:00    8.380\n",
       "2011-07-23 03:00:00    8.440\n",
       "2011-07-23 04:00:00    8.445\n",
       "2011-07-23 05:00:00    8.445\n",
       "Freq: H, Name: hourly_precip, dtype: float64"
      ]
     },
     "execution_count": 12,
     "metadata": {},
     "output_type": "execute_result"
    }
   ],
   "source": [
    "cumulative_rainj11.loc[(cumulative_rainj11.index >= datetime.datetime(2011,7,22,21,0,0)) & (cumulative_rainj11.index <= datetime.datetime(2011,7,23,5,0,0))]"
   ]
  },
  {
   "cell_type": "code",
   "execution_count": 13,
   "metadata": {
    "collapsed": true
   },
   "outputs": [],
   "source": [
    "# We got a crazy, crazy downpour from about 11:00PM until 2:00AM.  That alone was a 100-year storm, where we got 6.79 inches\n",
    "# in 3 hours.  That would've been a 100-year storm if we'd have gotten that in 12 hours!"
   ]
  }
 ],
 "metadata": {
  "kernelspec": {
   "display_name": "Python 3",
   "language": "python",
   "name": "python3"
  },
  "language_info": {
   "codemirror_mode": {
    "name": "ipython",
    "version": 3
   },
   "file_extension": ".py",
   "mimetype": "text/x-python",
   "name": "python",
   "nbconvert_exporter": "python",
   "pygments_lexer": "ipython3",
   "version": "3.5.2"
  }
 },
 "nbformat": 4,
 "nbformat_minor": 1
}
