{
 "cells": [
  {
   "cell_type": "code",
   "execution_count": 1,
   "metadata": {
    "collapsed": true
   },
   "outputs": [],
   "source": [
    "from __future__ import absolute_import, division, print_function, unicode_literals\n",
    "\n",
    "import pandas as pd\n",
    "from datetime import datetime, timedelta\n",
    "import operator\n",
    "import matplotlib.pyplot as plt\n",
    "from collections import namedtuple\n",
    "%matplotlib notebook"
   ]
  },
  {
   "cell_type": "code",
   "execution_count": 2,
   "metadata": {
    "collapsed": false
   },
   "outputs": [
    {
     "data": {
      "text/plain": [
       "1970-01-01 04:00:00    0.0\n",
       "1970-01-01 05:00:00    NaN\n",
       "1970-01-01 06:00:00    NaN\n",
       "1970-01-01 07:00:00    0.0\n",
       "1970-01-01 08:00:00    NaN\n",
       "Freq: H, Name: HOURLYPrecip, dtype: float64"
      ]
     },
     "execution_count": 2,
     "metadata": {},
     "output_type": "execute_result"
    }
   ],
   "source": [
    "rain_df = pd.read_csv('data/ohare_hourly_20160929.csv')\n",
    "rain_df['datetime'] = pd.to_datetime(rain_df['datetime'])\n",
    "rain_df = rain_df.set_index(pd.DatetimeIndex(rain_df['datetime']))\n",
    "rain_df = rain_df['19700101':]\n",
    "chi_rain_series = rain_df['HOURLYPrecip'].resample('1H', label='right').max()\n",
    "chi_rain_series.head()"
   ]
  },
  {
   "cell_type": "code",
   "execution_count": 3,
   "metadata": {
    "collapsed": true
   },
   "outputs": [],
   "source": [
    "# We're going to define a storm ending as when there are at least 12 hours of no rain.\n",
    "_hours_between_events = 12\n",
    "\n",
    "# Really only track precipitation > than this inches\n",
    "_measurable_precip = 0.04"
   ]
  },
  {
   "cell_type": "code",
   "execution_count": 4,
   "metadata": {
    "collapsed": false
   },
   "outputs": [
    {
     "data": {
      "text/html": [
       "<div>\n",
       "<table border=\"1\" class=\"dataframe\">\n",
       "  <thead>\n",
       "    <tr style=\"text-align: right;\">\n",
       "      <th></th>\n",
       "      <th>HOURLYPrecip</th>\n",
       "    </tr>\n",
       "  </thead>\n",
       "  <tbody>\n",
       "    <tr>\n",
       "      <th>2016-08-28 19:00:00</th>\n",
       "      <td>0.0</td>\n",
       "    </tr>\n",
       "    <tr>\n",
       "      <th>2016-08-28 20:00:00</th>\n",
       "      <td>0.0</td>\n",
       "    </tr>\n",
       "    <tr>\n",
       "      <th>2016-08-28 21:00:00</th>\n",
       "      <td>0.0</td>\n",
       "    </tr>\n",
       "    <tr>\n",
       "      <th>2016-08-28 22:00:00</th>\n",
       "      <td>0.0</td>\n",
       "    </tr>\n",
       "    <tr>\n",
       "      <th>2016-08-28 23:00:00</th>\n",
       "      <td>0.0</td>\n",
       "    </tr>\n",
       "  </tbody>\n",
       "</table>\n",
       "</div>"
      ],
      "text/plain": [
       "                     HOURLYPrecip\n",
       "2016-08-28 19:00:00           0.0\n",
       "2016-08-28 20:00:00           0.0\n",
       "2016-08-28 21:00:00           0.0\n",
       "2016-08-28 22:00:00           0.0\n",
       "2016-08-28 23:00:00           0.0"
      ]
     },
     "execution_count": 4,
     "metadata": {},
     "output_type": "execute_result"
    }
   ],
   "source": [
    "hourly_precip = pd.DataFrame(chi_rain_series).fillna(0)\n",
    "hourly_precip.tail()"
   ]
  },
  {
   "cell_type": "code",
   "execution_count": 5,
   "metadata": {
    "collapsed": true
   },
   "outputs": [],
   "source": [
    "hourly_precip.columns = ['hourly_precip']"
   ]
  },
  {
   "cell_type": "code",
   "execution_count": 6,
   "metadata": {
    "collapsed": false
   },
   "outputs": [
    {
     "data": {
      "text/html": [
       "<div>\n",
       "<table border=\"1\" class=\"dataframe\">\n",
       "  <thead>\n",
       "    <tr style=\"text-align: right;\">\n",
       "      <th></th>\n",
       "      <th>hourly_precip</th>\n",
       "      <th>end_time</th>\n",
       "      <th>start_time</th>\n",
       "    </tr>\n",
       "  </thead>\n",
       "  <tbody>\n",
       "    <tr>\n",
       "      <th>1970-01-01 04:00:00</th>\n",
       "      <td>0.0</td>\n",
       "      <td>1970-01-01 04:00:00</td>\n",
       "      <td>1970-01-01 03:00:00</td>\n",
       "    </tr>\n",
       "    <tr>\n",
       "      <th>1970-01-01 05:00:00</th>\n",
       "      <td>0.0</td>\n",
       "      <td>1970-01-01 05:00:00</td>\n",
       "      <td>1970-01-01 04:00:00</td>\n",
       "    </tr>\n",
       "    <tr>\n",
       "      <th>1970-01-01 06:00:00</th>\n",
       "      <td>0.0</td>\n",
       "      <td>1970-01-01 06:00:00</td>\n",
       "      <td>1970-01-01 05:00:00</td>\n",
       "    </tr>\n",
       "    <tr>\n",
       "      <th>1970-01-01 07:00:00</th>\n",
       "      <td>0.0</td>\n",
       "      <td>1970-01-01 07:00:00</td>\n",
       "      <td>1970-01-01 06:00:00</td>\n",
       "    </tr>\n",
       "    <tr>\n",
       "      <th>1970-01-01 08:00:00</th>\n",
       "      <td>0.0</td>\n",
       "      <td>1970-01-01 08:00:00</td>\n",
       "      <td>1970-01-01 07:00:00</td>\n",
       "    </tr>\n",
       "  </tbody>\n",
       "</table>\n",
       "</div>"
      ],
      "text/plain": [
       "                     hourly_precip            end_time          start_time\n",
       "1970-01-01 04:00:00            0.0 1970-01-01 04:00:00 1970-01-01 03:00:00\n",
       "1970-01-01 05:00:00            0.0 1970-01-01 05:00:00 1970-01-01 04:00:00\n",
       "1970-01-01 06:00:00            0.0 1970-01-01 06:00:00 1970-01-01 05:00:00\n",
       "1970-01-01 07:00:00            0.0 1970-01-01 07:00:00 1970-01-01 06:00:00\n",
       "1970-01-01 08:00:00            0.0 1970-01-01 08:00:00 1970-01-01 07:00:00"
      ]
     },
     "execution_count": 6,
     "metadata": {},
     "output_type": "execute_result"
    }
   ],
   "source": [
    "def subtract_one_hour(timestamp):\n",
    "    return timestamp - timedelta(hours=1)\n",
    "hourly_precip['end_time'] = hourly_precip.index.values\n",
    "hourly_precip['start_time'] =  hourly_precip['end_time'].apply(subtract_one_hour)\n",
    "hourly_precip.head()"
   ]
  },
  {
   "cell_type": "code",
   "execution_count": 7,
   "metadata": {
    "collapsed": false,
    "scrolled": false
   },
   "outputs": [
    {
     "data": {
      "text/html": [
       "<div>\n",
       "<table border=\"1\" class=\"dataframe\">\n",
       "  <thead>\n",
       "    <tr style=\"text-align: right;\">\n",
       "      <th></th>\n",
       "      <th>hourly_precip</th>\n",
       "      <th>end_time</th>\n",
       "      <th>start_time</th>\n",
       "      <th>rolling</th>\n",
       "      <th>rolling_prev</th>\n",
       "      <th>storm_start</th>\n",
       "    </tr>\n",
       "  </thead>\n",
       "  <tbody>\n",
       "    <tr>\n",
       "      <th>1970-01-01 04:00:00</th>\n",
       "      <td>0.0</td>\n",
       "      <td>1970-01-01 04:00:00</td>\n",
       "      <td>1970-01-01 03:00:00</td>\n",
       "      <td>0.0</td>\n",
       "      <td>0.0</td>\n",
       "      <td>False</td>\n",
       "    </tr>\n",
       "    <tr>\n",
       "      <th>1970-01-01 05:00:00</th>\n",
       "      <td>0.0</td>\n",
       "      <td>1970-01-01 05:00:00</td>\n",
       "      <td>1970-01-01 04:00:00</td>\n",
       "      <td>0.0</td>\n",
       "      <td>0.0</td>\n",
       "      <td>False</td>\n",
       "    </tr>\n",
       "    <tr>\n",
       "      <th>1970-01-01 06:00:00</th>\n",
       "      <td>0.0</td>\n",
       "      <td>1970-01-01 06:00:00</td>\n",
       "      <td>1970-01-01 05:00:00</td>\n",
       "      <td>0.0</td>\n",
       "      <td>0.0</td>\n",
       "      <td>False</td>\n",
       "    </tr>\n",
       "    <tr>\n",
       "      <th>1970-01-01 07:00:00</th>\n",
       "      <td>0.0</td>\n",
       "      <td>1970-01-01 07:00:00</td>\n",
       "      <td>1970-01-01 06:00:00</td>\n",
       "      <td>0.0</td>\n",
       "      <td>0.0</td>\n",
       "      <td>False</td>\n",
       "    </tr>\n",
       "    <tr>\n",
       "      <th>1970-01-01 08:00:00</th>\n",
       "      <td>0.0</td>\n",
       "      <td>1970-01-01 08:00:00</td>\n",
       "      <td>1970-01-01 07:00:00</td>\n",
       "      <td>0.0</td>\n",
       "      <td>0.0</td>\n",
       "      <td>False</td>\n",
       "    </tr>\n",
       "  </tbody>\n",
       "</table>\n",
       "</div>"
      ],
      "text/plain": [
       "                     hourly_precip            end_time          start_time  \\\n",
       "1970-01-01 04:00:00            0.0 1970-01-01 04:00:00 1970-01-01 03:00:00   \n",
       "1970-01-01 05:00:00            0.0 1970-01-01 05:00:00 1970-01-01 04:00:00   \n",
       "1970-01-01 06:00:00            0.0 1970-01-01 06:00:00 1970-01-01 05:00:00   \n",
       "1970-01-01 07:00:00            0.0 1970-01-01 07:00:00 1970-01-01 06:00:00   \n",
       "1970-01-01 08:00:00            0.0 1970-01-01 08:00:00 1970-01-01 07:00:00   \n",
       "\n",
       "                     rolling  rolling_prev storm_start  \n",
       "1970-01-01 04:00:00      0.0           0.0       False  \n",
       "1970-01-01 05:00:00      0.0           0.0       False  \n",
       "1970-01-01 06:00:00      0.0           0.0       False  \n",
       "1970-01-01 07:00:00      0.0           0.0       False  \n",
       "1970-01-01 08:00:00      0.0           0.0       False  "
      ]
     },
     "execution_count": 7,
     "metadata": {},
     "output_type": "execute_result"
    }
   ],
   "source": [
    "# Now try to figure out the start of storms.  These are rows in which precipitation is greater than\n",
    "# _measurable_precip and the previous rows rolling was zero.\n",
    "\n",
    "# 12 hours before this row\n",
    "hourly_precip['rolling'] = chi_rain_series.rolling(window=int(_hours_between_events), min_periods=0).sum().fillna(0).round(4)\n",
    "\n",
    "# See the rolling from the row in front\n",
    "hourly_precip['rolling_prev'] = hourly_precip['rolling'].shift().fillna(0)\n",
    "\n",
    "hourly_precip['storm_start'] = (hourly_precip['hourly_precip'] > _measurable_precip) & (hourly_precip['rolling_prev'] < _measurable_precip)\n",
    "\n",
    "hourly_precip.head()"
   ]
  },
  {
   "cell_type": "code",
   "execution_count": 8,
   "metadata": {
    "collapsed": false
   },
   "outputs": [
    {
     "name": "stderr",
     "output_type": "stream",
     "text": [
      "d:\\data_science_projects\\chicagorain\\virtualenvs\\nyear-venv\\lib\\site-packages\\ipykernel\\__main__.py:4: UserWarning: Boolean Series key will be reindexed to match DataFrame index.\n"
     ]
    },
    {
     "data": {
      "text/plain": [
       "Timestamp('1970-04-13 04:00:00')"
      ]
     },
     "execution_count": 8,
     "metadata": {},
     "output_type": "execute_result"
    }
   ],
   "source": [
    "# The end time will search the events dataframe for the first row after this one in which the previous 12 hours saw no\n",
    "# rain.  Then subtract 12.\n",
    "def find_endtime(timestamp):\n",
    "    row_marker = hourly_precip[timestamp:][hourly_precip['rolling'] < _measurable_precip].iloc[0]\n",
    "    return row_marker['start_time'] - timedelta(hours=(_hours_between_events-1))\n",
    "\n",
    "ts = pd.to_datetime('1970-04-13 04:00:00')\n",
    "find_endtime(ts)"
   ]
  },
  {
   "cell_type": "code",
   "execution_count": 10,
   "metadata": {
    "collapsed": false
   },
   "outputs": [
    {
     "data": {
      "text/html": [
       "<div>\n",
       "<table border=\"1\" class=\"dataframe\">\n",
       "  <thead>\n",
       "    <tr style=\"text-align: right;\">\n",
       "      <th></th>\n",
       "      <th>start_time</th>\n",
       "      <th>end_time</th>\n",
       "    </tr>\n",
       "  </thead>\n",
       "  <tbody>\n",
       "    <tr>\n",
       "      <th>1970-03-19 19:00:00</th>\n",
       "      <td>1970-03-19 18:00:00</td>\n",
       "      <td>1970-03-19 19:00:00</td>\n",
       "    </tr>\n",
       "    <tr>\n",
       "      <th>1970-03-25 22:00:00</th>\n",
       "      <td>1970-03-25 21:00:00</td>\n",
       "      <td>1970-03-25 22:00:00</td>\n",
       "    </tr>\n",
       "    <tr>\n",
       "      <th>1970-04-13 04:00:00</th>\n",
       "      <td>1970-04-13 03:00:00</td>\n",
       "      <td>1970-04-13 04:00:00</td>\n",
       "    </tr>\n",
       "    <tr>\n",
       "      <th>1970-04-16 04:00:00</th>\n",
       "      <td>1970-04-16 03:00:00</td>\n",
       "      <td>1970-04-16 04:00:00</td>\n",
       "    </tr>\n",
       "    <tr>\n",
       "      <th>1970-04-19 04:00:00</th>\n",
       "      <td>1970-04-19 03:00:00</td>\n",
       "      <td>1970-04-19 04:00:00</td>\n",
       "    </tr>\n",
       "  </tbody>\n",
       "</table>\n",
       "</div>"
      ],
      "text/plain": [
       "                             start_time            end_time\n",
       "1970-03-19 19:00:00 1970-03-19 18:00:00 1970-03-19 19:00:00\n",
       "1970-03-25 22:00:00 1970-03-25 21:00:00 1970-03-25 22:00:00\n",
       "1970-04-13 04:00:00 1970-04-13 03:00:00 1970-04-13 04:00:00\n",
       "1970-04-16 04:00:00 1970-04-16 03:00:00 1970-04-16 04:00:00\n",
       "1970-04-19 04:00:00 1970-04-19 03:00:00 1970-04-19 04:00:00"
      ]
     },
     "execution_count": 10,
     "metadata": {},
     "output_type": "execute_result"
    }
   ],
   "source": [
    "# events will now contain the actual events - which is based on rows where rain starts and stops over a duration\n",
    "events = pd.DataFrame(hourly_precip[hourly_precip['storm_start']][['start_time', 'end_time']])\n",
    "events.head()"
   ]
  },
  {
   "cell_type": "code",
   "execution_count": 11,
   "metadata": {
    "collapsed": false,
    "scrolled": false
   },
   "outputs": [
    {
     "name": "stderr",
     "output_type": "stream",
     "text": [
      "d:\\data_science_projects\\chicagorain\\virtualenvs\\nyear-venv\\lib\\site-packages\\ipykernel\\__main__.py:4: UserWarning: Boolean Series key will be reindexed to match DataFrame index.\n"
     ]
    },
    {
     "data": {
      "text/html": [
       "<div>\n",
       "<table border=\"1\" class=\"dataframe\">\n",
       "  <thead>\n",
       "    <tr style=\"text-align: right;\">\n",
       "      <th></th>\n",
       "      <th>hours_end_time</th>\n",
       "      <th>end_time</th>\n",
       "      <th>start_time</th>\n",
       "      <th>duration_hrs</th>\n",
       "    </tr>\n",
       "    <tr>\n",
       "      <th>start_time</th>\n",
       "      <th></th>\n",
       "      <th></th>\n",
       "      <th></th>\n",
       "      <th></th>\n",
       "    </tr>\n",
       "  </thead>\n",
       "  <tbody>\n",
       "    <tr>\n",
       "      <th>1970-03-19 18:00:00</th>\n",
       "      <td>1970-03-19 19:00:00</td>\n",
       "      <td>1970-03-19 22:00:00</td>\n",
       "      <td>1970-03-19 18:00:00</td>\n",
       "      <td>4.0</td>\n",
       "    </tr>\n",
       "    <tr>\n",
       "      <th>1970-03-25 21:00:00</th>\n",
       "      <td>1970-03-25 22:00:00</td>\n",
       "      <td>1970-03-26 07:00:00</td>\n",
       "      <td>1970-03-25 21:00:00</td>\n",
       "      <td>10.0</td>\n",
       "    </tr>\n",
       "    <tr>\n",
       "      <th>1970-04-13 03:00:00</th>\n",
       "      <td>1970-04-13 04:00:00</td>\n",
       "      <td>1970-04-13 04:00:00</td>\n",
       "      <td>1970-04-13 03:00:00</td>\n",
       "      <td>1.0</td>\n",
       "    </tr>\n",
       "    <tr>\n",
       "      <th>1970-04-16 03:00:00</th>\n",
       "      <td>1970-04-16 04:00:00</td>\n",
       "      <td>1970-04-16 04:00:00</td>\n",
       "      <td>1970-04-16 03:00:00</td>\n",
       "      <td>1.0</td>\n",
       "    </tr>\n",
       "    <tr>\n",
       "      <th>1970-04-19 03:00:00</th>\n",
       "      <td>1970-04-19 04:00:00</td>\n",
       "      <td>1970-04-19 10:00:00</td>\n",
       "      <td>1970-04-19 03:00:00</td>\n",
       "      <td>7.0</td>\n",
       "    </tr>\n",
       "  </tbody>\n",
       "</table>\n",
       "</div>"
      ],
      "text/plain": [
       "                         hours_end_time            end_time  \\\n",
       "start_time                                                    \n",
       "1970-03-19 18:00:00 1970-03-19 19:00:00 1970-03-19 22:00:00   \n",
       "1970-03-25 21:00:00 1970-03-25 22:00:00 1970-03-26 07:00:00   \n",
       "1970-04-13 03:00:00 1970-04-13 04:00:00 1970-04-13 04:00:00   \n",
       "1970-04-16 03:00:00 1970-04-16 04:00:00 1970-04-16 04:00:00   \n",
       "1970-04-19 03:00:00 1970-04-19 04:00:00 1970-04-19 10:00:00   \n",
       "\n",
       "                             start_time  duration_hrs  \n",
       "start_time                                             \n",
       "1970-03-19 18:00:00 1970-03-19 18:00:00           4.0  \n",
       "1970-03-25 21:00:00 1970-03-25 21:00:00          10.0  \n",
       "1970-04-13 03:00:00 1970-04-13 03:00:00           1.0  \n",
       "1970-04-16 03:00:00 1970-04-16 03:00:00           1.0  \n",
       "1970-04-19 03:00:00 1970-04-19 03:00:00           7.0  "
      ]
     },
     "execution_count": 11,
     "metadata": {},
     "output_type": "execute_result"
    }
   ],
   "source": [
    "events.columns = ['start_time', 'hours_end_time']\n",
    "events['end_time'] = events['hours_end_time'].apply(find_endtime)\n",
    "events.drop('hours_end_time', 1)\n",
    "events = events.set_index(['start_time'])\n",
    "events['start_time'] = events.index.values\n",
    "events['duration_hrs'] = (events['end_time'] - events['start_time']).astype('timedelta64[h]')\n",
    "events.head()"
   ]
  },
  {
   "cell_type": "code",
   "execution_count": 12,
   "metadata": {
    "collapsed": false
   },
   "outputs": [
    {
     "data": {
      "text/html": [
       "<div>\n",
       "<table border=\"1\" class=\"dataframe\">\n",
       "  <thead>\n",
       "    <tr style=\"text-align: right;\">\n",
       "      <th></th>\n",
       "      <th>hours_end_time</th>\n",
       "      <th>end_time</th>\n",
       "      <th>start_time</th>\n",
       "      <th>duration_hrs</th>\n",
       "      <th>total_precip</th>\n",
       "    </tr>\n",
       "    <tr>\n",
       "      <th>start_time</th>\n",
       "      <th></th>\n",
       "      <th></th>\n",
       "      <th></th>\n",
       "      <th></th>\n",
       "      <th></th>\n",
       "    </tr>\n",
       "  </thead>\n",
       "  <tbody>\n",
       "    <tr>\n",
       "      <th>1970-03-19 18:00:00</th>\n",
       "      <td>1970-03-19 19:00:00</td>\n",
       "      <td>1970-03-19 22:00:00</td>\n",
       "      <td>1970-03-19 18:00:00</td>\n",
       "      <td>4.0</td>\n",
       "      <td>0.18</td>\n",
       "    </tr>\n",
       "    <tr>\n",
       "      <th>1970-03-25 21:00:00</th>\n",
       "      <td>1970-03-25 22:00:00</td>\n",
       "      <td>1970-03-26 07:00:00</td>\n",
       "      <td>1970-03-25 21:00:00</td>\n",
       "      <td>10.0</td>\n",
       "      <td>0.27</td>\n",
       "    </tr>\n",
       "    <tr>\n",
       "      <th>1970-04-13 03:00:00</th>\n",
       "      <td>1970-04-13 04:00:00</td>\n",
       "      <td>1970-04-13 04:00:00</td>\n",
       "      <td>1970-04-13 03:00:00</td>\n",
       "      <td>1.0</td>\n",
       "      <td>0.24</td>\n",
       "    </tr>\n",
       "    <tr>\n",
       "      <th>1970-04-16 03:00:00</th>\n",
       "      <td>1970-04-16 04:00:00</td>\n",
       "      <td>1970-04-16 04:00:00</td>\n",
       "      <td>1970-04-16 03:00:00</td>\n",
       "      <td>1.0</td>\n",
       "      <td>0.06</td>\n",
       "    </tr>\n",
       "    <tr>\n",
       "      <th>1970-04-19 03:00:00</th>\n",
       "      <td>1970-04-19 04:00:00</td>\n",
       "      <td>1970-04-19 10:00:00</td>\n",
       "      <td>1970-04-19 03:00:00</td>\n",
       "      <td>7.0</td>\n",
       "      <td>0.29</td>\n",
       "    </tr>\n",
       "  </tbody>\n",
       "</table>\n",
       "</div>"
      ],
      "text/plain": [
       "                         hours_end_time            end_time  \\\n",
       "start_time                                                    \n",
       "1970-03-19 18:00:00 1970-03-19 19:00:00 1970-03-19 22:00:00   \n",
       "1970-03-25 21:00:00 1970-03-25 22:00:00 1970-03-26 07:00:00   \n",
       "1970-04-13 03:00:00 1970-04-13 04:00:00 1970-04-13 04:00:00   \n",
       "1970-04-16 03:00:00 1970-04-16 04:00:00 1970-04-16 04:00:00   \n",
       "1970-04-19 03:00:00 1970-04-19 04:00:00 1970-04-19 10:00:00   \n",
       "\n",
       "                             start_time  duration_hrs  total_precip  \n",
       "start_time                                                           \n",
       "1970-03-19 18:00:00 1970-03-19 18:00:00           4.0          0.18  \n",
       "1970-03-25 21:00:00 1970-03-25 21:00:00          10.0          0.27  \n",
       "1970-04-13 03:00:00 1970-04-13 03:00:00           1.0          0.24  \n",
       "1970-04-16 03:00:00 1970-04-16 03:00:00           1.0          0.06  \n",
       "1970-04-19 03:00:00 1970-04-19 03:00:00           7.0          0.29  "
      ]
     },
     "execution_count": 12,
     "metadata": {},
     "output_type": "execute_result"
    }
   ],
   "source": [
    "for index, event in events.iterrows():\n",
    "    events.loc[index, 'total_precip'] = hourly_precip[str(event['start_time']):str(event['end_time'])]['hourly_precip'].sum()\n",
    "events.head()"
   ]
  },
  {
   "cell_type": "code",
   "execution_count": 13,
   "metadata": {
    "collapsed": false
   },
   "outputs": [
    {
     "data": {
      "text/html": [
       "<div>\n",
       "<table border=\"1\" class=\"dataframe\">\n",
       "  <thead>\n",
       "    <tr style=\"text-align: right;\">\n",
       "      <th></th>\n",
       "      <th>start_time</th>\n",
       "      <th>end_time</th>\n",
       "      <th>duration_hrs</th>\n",
       "      <th>total_precip</th>\n",
       "    </tr>\n",
       "    <tr>\n",
       "      <th>start_time</th>\n",
       "      <th></th>\n",
       "      <th></th>\n",
       "      <th></th>\n",
       "      <th></th>\n",
       "    </tr>\n",
       "  </thead>\n",
       "  <tbody>\n",
       "    <tr>\n",
       "      <th>1970-03-19 18:00:00</th>\n",
       "      <td>1970-03-19 18:00:00</td>\n",
       "      <td>1970-03-19 22:00:00</td>\n",
       "      <td>4.0</td>\n",
       "      <td>0.18</td>\n",
       "    </tr>\n",
       "    <tr>\n",
       "      <th>1970-03-25 21:00:00</th>\n",
       "      <td>1970-03-25 21:00:00</td>\n",
       "      <td>1970-03-26 07:00:00</td>\n",
       "      <td>10.0</td>\n",
       "      <td>0.27</td>\n",
       "    </tr>\n",
       "    <tr>\n",
       "      <th>1970-04-13 03:00:00</th>\n",
       "      <td>1970-04-13 03:00:00</td>\n",
       "      <td>1970-04-13 04:00:00</td>\n",
       "      <td>1.0</td>\n",
       "      <td>0.24</td>\n",
       "    </tr>\n",
       "    <tr>\n",
       "      <th>1970-04-16 03:00:00</th>\n",
       "      <td>1970-04-16 03:00:00</td>\n",
       "      <td>1970-04-16 04:00:00</td>\n",
       "      <td>1.0</td>\n",
       "      <td>0.06</td>\n",
       "    </tr>\n",
       "    <tr>\n",
       "      <th>1970-04-19 03:00:00</th>\n",
       "      <td>1970-04-19 03:00:00</td>\n",
       "      <td>1970-04-19 10:00:00</td>\n",
       "      <td>7.0</td>\n",
       "      <td>0.29</td>\n",
       "    </tr>\n",
       "  </tbody>\n",
       "</table>\n",
       "</div>"
      ],
      "text/plain": [
       "                             start_time            end_time  duration_hrs  \\\n",
       "start_time                                                                  \n",
       "1970-03-19 18:00:00 1970-03-19 18:00:00 1970-03-19 22:00:00           4.0   \n",
       "1970-03-25 21:00:00 1970-03-25 21:00:00 1970-03-26 07:00:00          10.0   \n",
       "1970-04-13 03:00:00 1970-04-13 03:00:00 1970-04-13 04:00:00           1.0   \n",
       "1970-04-16 03:00:00 1970-04-16 03:00:00 1970-04-16 04:00:00           1.0   \n",
       "1970-04-19 03:00:00 1970-04-19 03:00:00 1970-04-19 10:00:00           7.0   \n",
       "\n",
       "                     total_precip  \n",
       "start_time                         \n",
       "1970-03-19 18:00:00          0.18  \n",
       "1970-03-25 21:00:00          0.27  \n",
       "1970-04-13 03:00:00          0.24  \n",
       "1970-04-16 03:00:00          0.06  \n",
       "1970-04-19 03:00:00          0.29  "
      ]
     },
     "execution_count": 13,
     "metadata": {},
     "output_type": "execute_result"
    }
   ],
   "source": [
    "events = events[['start_time', 'end_time', 'duration_hrs', 'total_precip']]\n",
    "events.head()"
   ]
  },
  {
   "cell_type": "code",
   "execution_count": 14,
   "metadata": {
    "collapsed": false
   },
   "outputs": [],
   "source": [
    "events.to_csv('data/rain_events_ohare.csv', index=False)"
   ]
  },
  {
   "cell_type": "code",
   "execution_count": null,
   "metadata": {
    "collapsed": true
   },
   "outputs": [],
   "source": []
  }
 ],
 "metadata": {
  "kernelspec": {
   "display_name": "Python 3",
   "language": "python",
   "name": "python3"
  },
  "language_info": {
   "codemirror_mode": {
    "name": "ipython",
    "version": 3
   },
   "file_extension": ".py",
   "mimetype": "text/x-python",
   "name": "python",
   "nbconvert_exporter": "python",
   "pygments_lexer": "ipython3",
   "version": "3.5.2"
  }
 },
 "nbformat": 4,
 "nbformat_minor": 1
}
